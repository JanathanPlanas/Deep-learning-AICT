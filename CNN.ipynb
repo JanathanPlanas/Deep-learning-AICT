{
  "cells": [
    {
      "cell_type": "code",
      "execution_count": 3,
      "metadata": {
        "colab": {
          "base_uri": "https://localhost:8080/",
          "height": 373
        },
        "id": "-8ujSQ6wR2RY",
        "outputId": "948eb85c-e337-439d-effc-92df413a02bd"
      },
      "outputs": [],
      "source": [
        "import numpy as np\n",
        "import warnings \n",
        "from Library.CnnModel import TorchDataset, CNNModel\n",
        "import torch.nn as nn\n",
        "warnings.filterwarnings('ignore')\n"
      ]
    },
    {
      "cell_type": "code",
      "execution_count": 4,
      "metadata": {
        "id": "VF-XyIjSR2Tw"
      },
      "outputs": [],
      "source": [
        "WIFI_1M = np.load(\"Data_\\WIFI.npy\")\n",
        "Clear = np.load(\"Data_\\Clear.npy\")\n",
        "LTE_1M = np.load(\"Data_\\LTE_1M.npy\")"
      ]
    },
    {
      "cell_type": "code",
      "execution_count": 5,
      "metadata": {},
      "outputs": [
        {
          "data": {
            "text/html": [
              "<div>\n",
              "<style scoped>\n",
              "    .dataframe tbody tr th:only-of-type {\n",
              "        vertical-align: middle;\n",
              "    }\n",
              "\n",
              "    .dataframe tbody tr th {\n",
              "        vertical-align: top;\n",
              "    }\n",
              "\n",
              "    .dataframe thead th {\n",
              "        text-align: right;\n",
              "    }\n",
              "</style>\n",
              "<table border=\"1\" class=\"dataframe\">\n",
              "  <thead>\n",
              "    <tr style=\"text-align: right;\">\n",
              "      <th></th>\n",
              "      <th>Signals</th>\n",
              "      <th>0</th>\n",
              "      <th>1</th>\n",
              "      <th>2</th>\n",
              "      <th>3</th>\n",
              "      <th>4</th>\n",
              "      <th>5</th>\n",
              "      <th>6</th>\n",
              "      <th>7</th>\n",
              "      <th>8</th>\n",
              "      <th>...</th>\n",
              "      <th>1991</th>\n",
              "      <th>1992</th>\n",
              "      <th>1993</th>\n",
              "      <th>1994</th>\n",
              "      <th>1995</th>\n",
              "      <th>1996</th>\n",
              "      <th>1997</th>\n",
              "      <th>1998</th>\n",
              "      <th>1999</th>\n",
              "      <th>Label</th>\n",
              "    </tr>\n",
              "  </thead>\n",
              "  <tbody>\n",
              "    <tr>\n",
              "      <th>0</th>\n",
              "      <td>CLEAR</td>\n",
              "      <td>0.000000</td>\n",
              "      <td>-0.000061</td>\n",
              "      <td>-0.000031</td>\n",
              "      <td>0.000031</td>\n",
              "      <td>-0.000061</td>\n",
              "      <td>-0.000031</td>\n",
              "      <td>0.000183</td>\n",
              "      <td>0.000000</td>\n",
              "      <td>0.000214</td>\n",
              "      <td>...</td>\n",
              "      <td>0.000092</td>\n",
              "      <td>0.000153</td>\n",
              "      <td>0.000122</td>\n",
              "      <td>0.000275</td>\n",
              "      <td>0.000305</td>\n",
              "      <td>0.000183</td>\n",
              "      <td>0.000061</td>\n",
              "      <td>0.000214</td>\n",
              "      <td>0.000092</td>\n",
              "      <td>0</td>\n",
              "    </tr>\n",
              "    <tr>\n",
              "      <th>1</th>\n",
              "      <td>CLEAR</td>\n",
              "      <td>0.000092</td>\n",
              "      <td>-0.000031</td>\n",
              "      <td>0.000183</td>\n",
              "      <td>0.000031</td>\n",
              "      <td>0.000336</td>\n",
              "      <td>0.000000</td>\n",
              "      <td>0.000000</td>\n",
              "      <td>-0.000244</td>\n",
              "      <td>0.000244</td>\n",
              "      <td>...</td>\n",
              "      <td>0.000305</td>\n",
              "      <td>0.000000</td>\n",
              "      <td>0.000336</td>\n",
              "      <td>0.000061</td>\n",
              "      <td>0.000183</td>\n",
              "      <td>0.000092</td>\n",
              "      <td>0.000061</td>\n",
              "      <td>0.000000</td>\n",
              "      <td>0.000000</td>\n",
              "      <td>0</td>\n",
              "    </tr>\n",
              "    <tr>\n",
              "      <th>2</th>\n",
              "      <td>CLEAR</td>\n",
              "      <td>-0.000092</td>\n",
              "      <td>0.000031</td>\n",
              "      <td>-0.000183</td>\n",
              "      <td>0.000031</td>\n",
              "      <td>-0.000031</td>\n",
              "      <td>0.000214</td>\n",
              "      <td>-0.000122</td>\n",
              "      <td>0.000244</td>\n",
              "      <td>-0.000305</td>\n",
              "      <td>...</td>\n",
              "      <td>0.000153</td>\n",
              "      <td>-0.000122</td>\n",
              "      <td>-0.000092</td>\n",
              "      <td>-0.000122</td>\n",
              "      <td>-0.000153</td>\n",
              "      <td>-0.000336</td>\n",
              "      <td>0.000153</td>\n",
              "      <td>-0.000366</td>\n",
              "      <td>-0.000183</td>\n",
              "      <td>0</td>\n",
              "    </tr>\n",
              "    <tr>\n",
              "      <th>3</th>\n",
              "      <td>CLEAR</td>\n",
              "      <td>-0.000244</td>\n",
              "      <td>-0.000031</td>\n",
              "      <td>-0.000031</td>\n",
              "      <td>-0.000031</td>\n",
              "      <td>-0.000244</td>\n",
              "      <td>0.000000</td>\n",
              "      <td>-0.000397</td>\n",
              "      <td>-0.000153</td>\n",
              "      <td>-0.000336</td>\n",
              "      <td>...</td>\n",
              "      <td>-0.000153</td>\n",
              "      <td>0.000061</td>\n",
              "      <td>0.000214</td>\n",
              "      <td>0.000153</td>\n",
              "      <td>0.000092</td>\n",
              "      <td>0.000000</td>\n",
              "      <td>-0.000061</td>\n",
              "      <td>-0.000031</td>\n",
              "      <td>-0.000031</td>\n",
              "      <td>0</td>\n",
              "    </tr>\n",
              "    <tr>\n",
              "      <th>4</th>\n",
              "      <td>CLEAR</td>\n",
              "      <td>0.000183</td>\n",
              "      <td>-0.000061</td>\n",
              "      <td>0.000000</td>\n",
              "      <td>-0.000122</td>\n",
              "      <td>0.000183</td>\n",
              "      <td>-0.000214</td>\n",
              "      <td>0.000000</td>\n",
              "      <td>-0.000183</td>\n",
              "      <td>0.000000</td>\n",
              "      <td>...</td>\n",
              "      <td>-0.000061</td>\n",
              "      <td>0.000061</td>\n",
              "      <td>-0.000214</td>\n",
              "      <td>0.000061</td>\n",
              "      <td>-0.000122</td>\n",
              "      <td>-0.000031</td>\n",
              "      <td>0.000061</td>\n",
              "      <td>0.000061</td>\n",
              "      <td>0.000031</td>\n",
              "      <td>0</td>\n",
              "    </tr>\n",
              "    <tr>\n",
              "      <th>...</th>\n",
              "      <td>...</td>\n",
              "      <td>...</td>\n",
              "      <td>...</td>\n",
              "      <td>...</td>\n",
              "      <td>...</td>\n",
              "      <td>...</td>\n",
              "      <td>...</td>\n",
              "      <td>...</td>\n",
              "      <td>...</td>\n",
              "      <td>...</td>\n",
              "      <td>...</td>\n",
              "      <td>...</td>\n",
              "      <td>...</td>\n",
              "      <td>...</td>\n",
              "      <td>...</td>\n",
              "      <td>...</td>\n",
              "      <td>...</td>\n",
              "      <td>...</td>\n",
              "      <td>...</td>\n",
              "      <td>...</td>\n",
              "      <td>...</td>\n",
              "    </tr>\n",
              "    <tr>\n",
              "      <th>299995</th>\n",
              "      <td>LTE</td>\n",
              "      <td>-0.000092</td>\n",
              "      <td>0.000153</td>\n",
              "      <td>0.000061</td>\n",
              "      <td>0.000244</td>\n",
              "      <td>0.000092</td>\n",
              "      <td>0.000275</td>\n",
              "      <td>0.000000</td>\n",
              "      <td>-0.000031</td>\n",
              "      <td>0.000061</td>\n",
              "      <td>...</td>\n",
              "      <td>0.000336</td>\n",
              "      <td>0.000122</td>\n",
              "      <td>0.000214</td>\n",
              "      <td>0.000061</td>\n",
              "      <td>0.000031</td>\n",
              "      <td>-0.000061</td>\n",
              "      <td>-0.000092</td>\n",
              "      <td>0.000061</td>\n",
              "      <td>0.000031</td>\n",
              "      <td>2</td>\n",
              "    </tr>\n",
              "    <tr>\n",
              "      <th>299996</th>\n",
              "      <td>LTE</td>\n",
              "      <td>-0.000061</td>\n",
              "      <td>0.000183</td>\n",
              "      <td>0.000031</td>\n",
              "      <td>0.000000</td>\n",
              "      <td>0.000122</td>\n",
              "      <td>-0.000061</td>\n",
              "      <td>0.000153</td>\n",
              "      <td>0.000061</td>\n",
              "      <td>0.000244</td>\n",
              "      <td>...</td>\n",
              "      <td>-0.000061</td>\n",
              "      <td>-0.000092</td>\n",
              "      <td>-0.000092</td>\n",
              "      <td>-0.000061</td>\n",
              "      <td>-0.000061</td>\n",
              "      <td>-0.000244</td>\n",
              "      <td>0.000336</td>\n",
              "      <td>-0.000214</td>\n",
              "      <td>0.000000</td>\n",
              "      <td>2</td>\n",
              "    </tr>\n",
              "    <tr>\n",
              "      <th>299997</th>\n",
              "      <td>LTE</td>\n",
              "      <td>0.000122</td>\n",
              "      <td>-0.000122</td>\n",
              "      <td>0.000153</td>\n",
              "      <td>0.000214</td>\n",
              "      <td>-0.000305</td>\n",
              "      <td>-0.000031</td>\n",
              "      <td>-0.000366</td>\n",
              "      <td>-0.000122</td>\n",
              "      <td>0.000031</td>\n",
              "      <td>...</td>\n",
              "      <td>0.000000</td>\n",
              "      <td>-0.000122</td>\n",
              "      <td>-0.000153</td>\n",
              "      <td>-0.000092</td>\n",
              "      <td>0.000122</td>\n",
              "      <td>-0.000031</td>\n",
              "      <td>0.000000</td>\n",
              "      <td>-0.000153</td>\n",
              "      <td>-0.000031</td>\n",
              "      <td>2</td>\n",
              "    </tr>\n",
              "    <tr>\n",
              "      <th>299998</th>\n",
              "      <td>LTE</td>\n",
              "      <td>-0.000305</td>\n",
              "      <td>0.000061</td>\n",
              "      <td>0.000000</td>\n",
              "      <td>-0.000092</td>\n",
              "      <td>0.000427</td>\n",
              "      <td>-0.000122</td>\n",
              "      <td>0.000000</td>\n",
              "      <td>0.000244</td>\n",
              "      <td>-0.000183</td>\n",
              "      <td>...</td>\n",
              "      <td>-0.000244</td>\n",
              "      <td>0.000153</td>\n",
              "      <td>-0.000214</td>\n",
              "      <td>0.000061</td>\n",
              "      <td>0.000031</td>\n",
              "      <td>0.000000</td>\n",
              "      <td>-0.000092</td>\n",
              "      <td>0.000275</td>\n",
              "      <td>0.000275</td>\n",
              "      <td>2</td>\n",
              "    </tr>\n",
              "    <tr>\n",
              "      <th>299999</th>\n",
              "      <td>LTE</td>\n",
              "      <td>0.000183</td>\n",
              "      <td>0.000214</td>\n",
              "      <td>0.000092</td>\n",
              "      <td>0.000000</td>\n",
              "      <td>-0.000031</td>\n",
              "      <td>-0.000153</td>\n",
              "      <td>-0.000031</td>\n",
              "      <td>-0.000153</td>\n",
              "      <td>-0.000061</td>\n",
              "      <td>...</td>\n",
              "      <td>0.000061</td>\n",
              "      <td>-0.000153</td>\n",
              "      <td>0.000031</td>\n",
              "      <td>-0.000092</td>\n",
              "      <td>0.000153</td>\n",
              "      <td>-0.000275</td>\n",
              "      <td>0.000061</td>\n",
              "      <td>-0.000305</td>\n",
              "      <td>0.000061</td>\n",
              "      <td>2</td>\n",
              "    </tr>\n",
              "  </tbody>\n",
              "</table>\n",
              "<p>300000 rows × 2002 columns</p>\n",
              "</div>"
            ],
            "text/plain": [
              "       Signals         0         1         2         3         4         5   \n",
              "0        CLEAR  0.000000 -0.000061 -0.000031  0.000031 -0.000061 -0.000031  \\\n",
              "1        CLEAR  0.000092 -0.000031  0.000183  0.000031  0.000336  0.000000   \n",
              "2        CLEAR -0.000092  0.000031 -0.000183  0.000031 -0.000031  0.000214   \n",
              "3        CLEAR -0.000244 -0.000031 -0.000031 -0.000031 -0.000244  0.000000   \n",
              "4        CLEAR  0.000183 -0.000061  0.000000 -0.000122  0.000183 -0.000214   \n",
              "...        ...       ...       ...       ...       ...       ...       ...   \n",
              "299995     LTE -0.000092  0.000153  0.000061  0.000244  0.000092  0.000275   \n",
              "299996     LTE -0.000061  0.000183  0.000031  0.000000  0.000122 -0.000061   \n",
              "299997     LTE  0.000122 -0.000122  0.000153  0.000214 -0.000305 -0.000031   \n",
              "299998     LTE -0.000305  0.000061  0.000000 -0.000092  0.000427 -0.000122   \n",
              "299999     LTE  0.000183  0.000214  0.000092  0.000000 -0.000031 -0.000153   \n",
              "\n",
              "               6         7         8  ...      1991      1992      1993   \n",
              "0       0.000183  0.000000  0.000214  ...  0.000092  0.000153  0.000122  \\\n",
              "1       0.000000 -0.000244  0.000244  ...  0.000305  0.000000  0.000336   \n",
              "2      -0.000122  0.000244 -0.000305  ...  0.000153 -0.000122 -0.000092   \n",
              "3      -0.000397 -0.000153 -0.000336  ... -0.000153  0.000061  0.000214   \n",
              "4       0.000000 -0.000183  0.000000  ... -0.000061  0.000061 -0.000214   \n",
              "...          ...       ...       ...  ...       ...       ...       ...   \n",
              "299995  0.000000 -0.000031  0.000061  ...  0.000336  0.000122  0.000214   \n",
              "299996  0.000153  0.000061  0.000244  ... -0.000061 -0.000092 -0.000092   \n",
              "299997 -0.000366 -0.000122  0.000031  ...  0.000000 -0.000122 -0.000153   \n",
              "299998  0.000000  0.000244 -0.000183  ... -0.000244  0.000153 -0.000214   \n",
              "299999 -0.000031 -0.000153 -0.000061  ...  0.000061 -0.000153  0.000031   \n",
              "\n",
              "            1994      1995      1996      1997      1998      1999  Label  \n",
              "0       0.000275  0.000305  0.000183  0.000061  0.000214  0.000092      0  \n",
              "1       0.000061  0.000183  0.000092  0.000061  0.000000  0.000000      0  \n",
              "2      -0.000122 -0.000153 -0.000336  0.000153 -0.000366 -0.000183      0  \n",
              "3       0.000153  0.000092  0.000000 -0.000061 -0.000031 -0.000031      0  \n",
              "4       0.000061 -0.000122 -0.000031  0.000061  0.000061  0.000031      0  \n",
              "...          ...       ...       ...       ...       ...       ...    ...  \n",
              "299995  0.000061  0.000031 -0.000061 -0.000092  0.000061  0.000031      2  \n",
              "299996 -0.000061 -0.000061 -0.000244  0.000336 -0.000214  0.000000      2  \n",
              "299997 -0.000092  0.000122 -0.000031  0.000000 -0.000153 -0.000031      2  \n",
              "299998  0.000061  0.000031  0.000000 -0.000092  0.000275  0.000275      2  \n",
              "299999 -0.000092  0.000153 -0.000275  0.000061 -0.000305  0.000061      2  \n",
              "\n",
              "[300000 rows x 2002 columns]"
            ]
          },
          "execution_count": 5,
          "metadata": {},
          "output_type": "execute_result"
        }
      ],
      "source": [
        "df= TorchDataset(Clear,WIFI_1M ,LTE_1M,\n",
        "                  reshape=True,\n",
        "                    sliced=100000000, \n",
        "                    values_reshaped= 2000) ; data = df.reshaped ;data"
      ]
    },
    {
      "cell_type": "code",
      "execution_count": 6,
      "metadata": {},
      "outputs": [
        {
          "name": "stdout",
          "output_type": "stream",
          "text": [
            "X_train: (217500, 2000)\n",
            "X_Test: (82500, 2000)\n",
            "y_train: (217500,)\n",
            "y_test: (82500,)\n"
          ]
        }
      ],
      "source": [
        "X_train, X_test, y_train, y_test = df.Spliting(data= data, random_state= 42, test_size = 0.275, shuffle = True)\n",
        "\n",
        "print(\"X_train:\", X_train.shape)\n",
        "print(\"X_Test:\", X_test.shape)\n",
        "print(\"y_train:\", y_train.shape)\n",
        "print(\"y_test:\", y_test.shape)\n"
      ]
    },
    {
      "cell_type": "code",
      "execution_count": 7,
      "metadata": {},
      "outputs": [
        {
          "data": {
            "text/plain": [
              "(torch.Size([512, 2000]), torch.Size([512]))"
            ]
          },
          "execution_count": 7,
          "metadata": {},
          "output_type": "execute_result"
        }
      ],
      "source": [
        "batch_size  = 512\n",
        "train_dataloader , test_dataloader = df.DataLoaders(batch_size=batch_size)\n",
        "X, y = next(iter(train_dataloader))\n",
        "X.shape, y.shape"
      ]
    },
    {
      "cell_type": "code",
      "execution_count": 8,
      "metadata": {},
      "outputs": [
        {
          "name": "stdout",
          "output_type": "stream",
          "text": [
            "Dataloaders: (<torch.utils.data.dataloader.DataLoader object at 0x000001EDEF70E3D0>, <torch.utils.data.dataloader.DataLoader object at 0x000001ED81B27090>)\n",
            "Length of train dataloader: 425 batches of 512\n",
            "Length of test dataloader: 162 batches of 512\n"
          ]
        }
      ],
      "source": [
        "print(f\"Dataloaders: {train_dataloader, test_dataloader}\") \n",
        "print(f\"Length of train dataloader: {len(train_dataloader)} batches of {batch_size}\")\n",
        "print(f\"Length of test dataloader: {len(test_dataloader)} batches of {batch_size}\")"
      ]
    },
    {
      "cell_type": "code",
      "execution_count": 9,
      "metadata": {},
      "outputs": [],
      "source": [
        "model = df.CNNModel"
      ]
    },
    {
      "cell_type": "code",
      "execution_count": 11,
      "metadata": {},
      "outputs": [
        {
          "data": {
            "text/plain": [
              "CNNModel(\n",
              "  (layer1): Sequential(\n",
              "    (0): Conv1d(2000, 512, kernel_size=(2,), stride=(1,), padding=(1,))\n",
              "    (1): BatchNorm1d(512, eps=1e-05, momentum=0.1, affine=True, track_running_stats=True)\n",
              "    (2): ReLU()\n",
              "    (3): Conv1d(512, 32, kernel_size=(2,), stride=(1,), padding=(1,))\n",
              "    (4): BatchNorm1d(32, eps=1e-05, momentum=0.1, affine=True, track_running_stats=True)\n",
              "    (5): ReLU()\n",
              "    (6): MaxPool1d(kernel_size=2, stride=2, padding=0, dilation=1, ceil_mode=False)\n",
              "  )\n",
              "  (layer2): Sequential(\n",
              "    (0): Conv1d(32, 64, kernel_size=(3,), stride=(1,), padding=(1,))\n",
              "    (1): BatchNorm1d(64, eps=1e-05, momentum=0.1, affine=True, track_running_stats=True)\n",
              "    (2): Tanh()\n",
              "    (3): Conv1d(64, 128, kernel_size=(2,), stride=(1,), padding=(1,))\n",
              "    (4): BatchNorm1d(128, eps=1e-05, momentum=0.1, affine=True, track_running_stats=True)\n",
              "    (5): Tanh()\n",
              "    (6): MaxPool1d(kernel_size=2, stride=2, padding=0, dilation=1, ceil_mode=False)\n",
              "  )\n",
              "  (layer3): Sequential(\n",
              "    (0): Conv1d(128, 256, kernel_size=(3,), stride=(1,), padding=(1,))\n",
              "    (1): BatchNorm1d(256, eps=1e-05, momentum=0.1, affine=True, track_running_stats=True)\n",
              "    (2): Tanh()\n",
              "    (3): Conv1d(256, 256, kernel_size=(2,), stride=(1,), padding=(1,))\n",
              "    (4): BatchNorm1d(256, eps=1e-05, momentum=0.1, affine=True, track_running_stats=True)\n",
              "    (5): Tanh()\n",
              "    (6): MaxPool1d(kernel_size=2, stride=2, padding=0, dilation=1, ceil_mode=False)\n",
              "  )\n",
              "  (classifier): Sequential(\n",
              "    (0): Linear(in_features=256, out_features=128, bias=True)\n",
              "    (1): BatchNorm1d(128, eps=1e-05, momentum=0.1, affine=True, track_running_stats=True)\n",
              "    (2): ReLU()\n",
              "    (3): Linear(in_features=128, out_features=64, bias=True)\n",
              "    (4): BatchNorm1d(64, eps=1e-05, momentum=0.1, affine=True, track_running_stats=True)\n",
              "    (5): ReLU()\n",
              "    (6): Linear(in_features=64, out_features=4, bias=True)\n",
              "    (7): LogSoftmax(dim=1)\n",
              "  )\n",
              ")"
            ]
          },
          "execution_count": 11,
          "metadata": {},
          "output_type": "execute_result"
        }
      ],
      "source": [
        "df.CNNModel"
      ]
    },
    {
      "cell_type": "code",
      "execution_count": 12,
      "metadata": {},
      "outputs": [],
      "source": [
        "from helper_functions import accuracy_fn\n",
        "import torch\n",
        "import torch.optim as optim\n",
        "import torch.nn as nn\n",
        "\n",
        "loss_fn = nn.CrossEntropyLoss()\n",
        "optimizer = torch.optim.SGD(model.parameters(), lr=0.0125)\n",
        "# device = 'cuda' if torch.cuda.is_available() else 'cpu'"
      ]
    },
    {
      "cell_type": "code",
      "execution_count": 13,
      "metadata": {},
      "outputs": [
        {
          "name": "stderr",
          "output_type": "stream",
          "text": [
            "  0%|          | 0/10 [00:00<?, ?it/s]"
          ]
        },
        {
          "name": "stdout",
          "output_type": "stream",
          "text": [
            "Epoch: 0\n",
            "---------\n",
            "Train loss: 1.20730 | Train accuracy: 56.02%\n"
          ]
        },
        {
          "name": "stderr",
          "output_type": "stream",
          "text": [
            " 10%|█         | 1/10 [06:01<54:14, 361.60s/it]"
          ]
        },
        {
          "name": "stdout",
          "output_type": "stream",
          "text": [
            "Test loss: 82.55949 | Test accuracy: 75.43%\n",
            "Epoch: 1\n",
            "---------\n",
            "Train loss: 0.97121 | Train accuracy: 78.30%\n"
          ]
        },
        {
          "name": "stderr",
          "output_type": "stream",
          "text": [
            " 20%|██        | 2/10 [12:34<50:41, 380.16s/it]"
          ]
        },
        {
          "name": "stdout",
          "output_type": "stream",
          "text": [
            "Test loss: 77.59394 | Test accuracy: 79.45%\n",
            "Epoch: 2\n",
            "---------\n",
            "Train loss: 0.92561 | Train accuracy: 82.42%\n"
          ]
        },
        {
          "name": "stderr",
          "output_type": "stream",
          "text": [
            " 30%|███       | 3/10 [18:40<43:33, 373.38s/it]"
          ]
        },
        {
          "name": "stdout",
          "output_type": "stream",
          "text": [
            "Test loss: 76.82889 | Test accuracy: 80.02%\n",
            "Epoch: 3\n",
            "---------\n",
            "Train loss: 0.89020 | Train accuracy: 85.94%\n"
          ]
        },
        {
          "name": "stderr",
          "output_type": "stream",
          "text": [
            " 40%|████      | 4/10 [24:27<36:18, 363.11s/it]"
          ]
        },
        {
          "name": "stdout",
          "output_type": "stream",
          "text": [
            "Test loss: 76.57837 | Test accuracy: 80.24%\n",
            "Epoch: 4\n",
            "---------\n",
            "Train loss: 0.86144 | Train accuracy: 88.72%\n"
          ]
        },
        {
          "name": "stderr",
          "output_type": "stream",
          "text": [
            " 50%|█████     | 5/10 [29:11<27:52, 334.56s/it]"
          ]
        },
        {
          "name": "stdout",
          "output_type": "stream",
          "text": [
            "Test loss: 76.70819 | Test accuracy: 79.98%\n",
            "Epoch: 5\n",
            "---------\n",
            "Train loss: 0.84132 | Train accuracy: 90.65%\n"
          ]
        },
        {
          "name": "stderr",
          "output_type": "stream",
          "text": [
            " 60%|██████    | 6/10 [33:28<20:32, 308.23s/it]"
          ]
        },
        {
          "name": "stdout",
          "output_type": "stream",
          "text": [
            "Test loss: 76.48472 | Test accuracy: 80.25%\n",
            "Epoch: 6\n",
            "---------\n",
            "Train loss: 0.82675 | Train accuracy: 92.06%\n"
          ]
        },
        {
          "name": "stderr",
          "output_type": "stream",
          "text": [
            " 70%|███████   | 7/10 [38:00<14:48, 296.23s/it]"
          ]
        },
        {
          "name": "stdout",
          "output_type": "stream",
          "text": [
            "Test loss: 76.21374 | Test accuracy: 80.61%\n",
            "Epoch: 7\n",
            "---------\n",
            "Train loss: 0.81623 | Train accuracy: 93.03%\n"
          ]
        },
        {
          "name": "stderr",
          "output_type": "stream",
          "text": [
            " 80%|████████  | 8/10 [42:06<09:20, 280.50s/it]"
          ]
        },
        {
          "name": "stdout",
          "output_type": "stream",
          "text": [
            "Test loss: 76.58245 | Test accuracy: 80.12%\n",
            "Epoch: 8\n",
            "---------\n",
            "Train loss: 0.80958 | Train accuracy: 93.64%\n"
          ]
        },
        {
          "name": "stderr",
          "output_type": "stream",
          "text": [
            " 90%|█████████ | 9/10 [46:11<04:29, 269.18s/it]"
          ]
        },
        {
          "name": "stdout",
          "output_type": "stream",
          "text": [
            "Test loss: 76.86064 | Test accuracy: 79.76%\n",
            "Epoch: 9\n",
            "---------\n",
            "Train loss: 0.80393 | Train accuracy: 94.18%\n"
          ]
        },
        {
          "name": "stderr",
          "output_type": "stream",
          "text": [
            "100%|██████████| 10/10 [50:01<00:00, 300.12s/it]"
          ]
        },
        {
          "name": "stdout",
          "output_type": "stream",
          "text": [
            "Test loss: 76.50309 | Test accuracy: 80.24%\n"
          ]
        },
        {
          "name": "stderr",
          "output_type": "stream",
          "text": [
            "\n"
          ]
        }
      ],
      "source": [
        "df.train_step(data_loader_train=train_dataloader,\n",
        "        data_loader_test = test_dataloader,\n",
        "                model=model, \n",
        "                loss_fn=loss_fn,\n",
        "                optimizer=optimizer,\n",
        "                accuracy_fn=accuracy_fn,\n",
        "                device=device,\n",
        "                epochs = 10)\n",
        "\n"
      ]
    },
    {
      "cell_type": "code",
      "execution_count": 14,
      "metadata": {},
      "outputs": [
        {
          "name": "stderr",
          "output_type": "stream",
          "text": [
            "Making predictions: 100%|██████████| 162/162 [00:14<00:00, 11.34it/s]\n"
          ]
        }
      ],
      "source": [
        "y_pred_tensor = df.Making_Predictions(data_loader=test_dataloader, model=model)\n",
        "y_pred_tensor"
      ]
    },
    {
      "cell_type": "code",
      "execution_count": 15,
      "metadata": {},
      "outputs": [
        {
          "data": {
            "image/png": "[encoded data removed]",
            "text/plain": [
              "<Figure size 1000x700 with 1 Axes>"
            ]
          },
          "metadata": {},
          "output_type": "display_data"
        }
      ],
      "source": [
        "from torchmetrics import ConfusionMatrix\n",
        "from mlxtend.plotting import plot_confusion_matrix\n",
        "\n",
        "class_names = ['CLEAR','WIFI','LTE']\n",
        "confmat = ConfusionMatrix(num_classes=3, task='multiclass')\n",
        "confmat_tensor = confmat(preds=y_pred_tensor,\n",
        "                         target= df.y_test )\n",
        "\n",
        "# 3. Plot the confusion matrix\n",
        "fig, ax = plot_confusion_matrix(\n",
        "    conf_mat=confmat_tensor.numpy(), # matplotlib likes working with NumPy \n",
        "    class_names=class_names, # turn the row and column labels into class names\n",
        "    figsize=(10, 7)\n",
        ");"
      ]
    },
    {
      "cell_type": "code",
      "execution_count": 16,
      "metadata": {},
      "outputs": [
        {
          "name": "stdout",
          "output_type": "stream",
          "text": [
            "              precision    recall  f1-score   support\n",
            "\n",
            "       CLEAR       0.70      0.76      0.73     27443\n",
            "        WIFI       0.73      0.66      0.69     27545\n",
            "         LTE       0.99      0.99      0.99     27512\n",
            "\n",
            "    accuracy                           0.80     82500\n",
            "   macro avg       0.80      0.80      0.80     82500\n",
            "weighted avg       0.80      0.80      0.80     82500\n",
            "\n"
          ]
        }
      ],
      "source": [
        "from sklearn.metrics import (accuracy_score, classification_report,\n",
        "                             confusion_matrix, f1_score, recall_score)\n",
        "\n",
        "\n",
        "print(classification_report(df.y_test, y_pred_tensor,target_names=class_names))"
      ]
    },
    {
      "cell_type": "code",
      "execution_count": null,
      "metadata": {},
      "outputs": [],
      "source": []
    }
  ],
  "metadata": {
    "accelerator": "GPU",
    "colab": {
      "gpuType": "T4",
      "provenance": []
    },
    "gpuClass": "standard",
    "kernelspec": {
      "display_name": "Python 3",
      "name": "python3"
    },
    "language_info": {
      "codemirror_mode": {
        "name": "ipython",
        "version": 3
      },
      "file_extension": ".py",
      "mimetype": "text/x-python",
      "name": "python",
      "nbconvert_exporter": "python",
      "pygments_lexer": "ipython3",
      "version": "3.11.3"
    },
    "widgets": {
      "application/vnd.jupyter.widget-state+json": {
        "0a62d9151857417caf9a761f0bd90c65": {
          "model_module": "@jupyter-widgets/controls",
          "model_module_version": "1.5.0",
          "model_name": "DescriptionStyleModel",
          "state": {
            "_model_module": "@jupyter-widgets/controls",
            "_model_module_version": "1.5.0",
            "_model_name": "DescriptionStyleModel",
            "_view_count": null,
            "_view_module": "@jupyter-widgets/base",
            "_view_module_version": "1.2.0",
            "_view_name": "StyleView",
            "description_width": ""
          }
        },
        "33d1fa774b0d4a1ea354fe98adac72ca": {
          "model_module": "@jupyter-widgets/controls",
          "model_module_version": "1.5.0",
          "model_name": "HTMLModel",
          "state": {
            "_dom_classes": [],
            "_model_module": "@jupyter-widgets/controls",
            "_model_module_version": "1.5.0",
            "_model_name": "HTMLModel",
            "_view_count": null,
            "_view_module": "@jupyter-widgets/controls",
            "_view_module_version": "1.5.0",
            "_view_name": "HTMLView",
            "description": "",
            "description_tooltip": null,
            "layout": "IPY_MODEL_afde1f81e6fc43af922c49cf86d3c78e",
            "placeholder": "​",
            "style": "IPY_MODEL_0a62d9151857417caf9a761f0bd90c65",
            "value": "  0%"
          }
        },
        "342b4ddc75ef49658cefaa09e994d459": {
          "model_module": "@jupyter-widgets/controls",
          "model_module_version": "1.5.0",
          "model_name": "HBoxModel",
          "state": {
            "_dom_classes": [],
            "_model_module": "@jupyter-widgets/controls",
            "_model_module_version": "1.5.0",
            "_model_name": "HBoxModel",
            "_view_count": null,
            "_view_module": "@jupyter-widgets/controls",
            "_view_module_version": "1.5.0",
            "_view_name": "HBoxView",
            "box_style": "",
            "children": [
              "IPY_MODEL_33d1fa774b0d4a1ea354fe98adac72ca",
              "IPY_MODEL_4a67128a85e146d5b6e283d5dc8380ba",
              "IPY_MODEL_cd820f483dc74ea889157a952ed1b896"
            ],
            "layout": "IPY_MODEL_b6e06b9d6cc0471a8ac8e3e7c0708122"
          }
        },
        "4a67128a85e146d5b6e283d5dc8380ba": {
          "model_module": "@jupyter-widgets/controls",
          "model_module_version": "1.5.0",
          "model_name": "FloatProgressModel",
          "state": {
            "_dom_classes": [],
            "_model_module": "@jupyter-widgets/controls",
            "_model_module_version": "1.5.0",
            "_model_name": "FloatProgressModel",
            "_view_count": null,
            "_view_module": "@jupyter-widgets/controls",
            "_view_module_version": "1.5.0",
            "_view_name": "ProgressView",
            "bar_style": "danger",
            "description": "",
            "description_tooltip": null,
            "layout": "IPY_MODEL_6704685882824dd7b85fa1835a4707ee",
            "max": 3,
            "min": 0,
            "orientation": "horizontal",
            "style": "IPY_MODEL_f6b18488aeb44ea481f046b9613b23d0",
            "value": 0
          }
        },
        "514616019b944bb5bed75436a4178a42": {
          "model_module": "@jupyter-widgets/base",
          "model_module_version": "1.2.0",
          "model_name": "LayoutModel",
          "state": {
            "_model_module": "@jupyter-widgets/base",
            "_model_module_version": "1.2.0",
            "_model_name": "LayoutModel",
            "_view_count": null,
            "_view_module": "@jupyter-widgets/base",
            "_view_module_version": "1.2.0",
            "_view_name": "LayoutView",
            "align_content": null,
            "align_items": null,
            "align_self": null,
            "border": null,
            "bottom": null,
            "display": null,
            "flex": null,
            "flex_flow": null,
            "grid_area": null,
            "grid_auto_columns": null,
            "grid_auto_flow": null,
            "grid_auto_rows": null,
            "grid_column": null,
            "grid_gap": null,
            "grid_row": null,
            "grid_template_areas": null,
            "grid_template_columns": null,
            "grid_template_rows": null,
            "height": null,
            "justify_content": null,
            "justify_items": null,
            "left": null,
            "margin": null,
            "max_height": null,
            "max_width": null,
            "min_height": null,
            "min_width": null,
            "object_fit": null,
            "object_position": null,
            "order": null,
            "overflow": null,
            "overflow_x": null,
            "overflow_y": null,
            "padding": null,
            "right": null,
            "top": null,
            "visibility": null,
            "width": null
          }
        },
        "6704685882824dd7b85fa1835a4707ee": {
          "model_module": "@jupyter-widgets/base",
          "model_module_version": "1.2.0",
          "model_name": "LayoutModel",
          "state": {
            "_model_module": "@jupyter-widgets/base",
            "_model_module_version": "1.2.0",
            "_model_name": "LayoutModel",
            "_view_count": null,
            "_view_module": "@jupyter-widgets/base",
            "_view_module_version": "1.2.0",
            "_view_name": "LayoutView",
            "align_content": null,
            "align_items": null,
            "align_self": null,
            "border": null,
            "bottom": null,
            "display": null,
            "flex": null,
            "flex_flow": null,
            "grid_area": null,
            "grid_auto_columns": null,
            "grid_auto_flow": null,
            "grid_auto_rows": null,
            "grid_column": null,
            "grid_gap": null,
            "grid_row": null,
            "grid_template_areas": null,
            "grid_template_columns": null,
            "grid_template_rows": null,
            "height": null,
            "justify_content": null,
            "justify_items": null,
            "left": null,
            "margin": null,
            "max_height": null,
            "max_width": null,
            "min_height": null,
            "min_width": null,
            "object_fit": null,
            "object_position": null,
            "order": null,
            "overflow": null,
            "overflow_x": null,
            "overflow_y": null,
            "padding": null,
            "right": null,
            "top": null,
            "visibility": null,
            "width": null
          }
        },
        "80fbb29ee98446cfa990e3d5c6007ff2": {
          "model_module": "@jupyter-widgets/controls",
          "model_module_version": "1.5.0",
          "model_name": "DescriptionStyleModel",
          "state": {
            "_model_module": "@jupyter-widgets/controls",
            "_model_module_version": "1.5.0",
            "_model_name": "DescriptionStyleModel",
            "_view_count": null,
            "_view_module": "@jupyter-widgets/base",
            "_view_module_version": "1.2.0",
            "_view_name": "StyleView",
            "description_width": ""
          }
        },
        "afde1f81e6fc43af922c49cf86d3c78e": {
          "model_module": "@jupyter-widgets/base",
          "model_module_version": "1.2.0",
          "model_name": "LayoutModel",
          "state": {
            "_model_module": "@jupyter-widgets/base",
            "_model_module_version": "1.2.0",
            "_model_name": "LayoutModel",
            "_view_count": null,
            "_view_module": "@jupyter-widgets/base",
            "_view_module_version": "1.2.0",
            "_view_name": "LayoutView",
            "align_content": null,
            "align_items": null,
            "align_self": null,
            "border": null,
            "bottom": null,
            "display": null,
            "flex": null,
            "flex_flow": null,
            "grid_area": null,
            "grid_auto_columns": null,
            "grid_auto_flow": null,
            "grid_auto_rows": null,
            "grid_column": null,
            "grid_gap": null,
            "grid_row": null,
            "grid_template_areas": null,
            "grid_template_columns": null,
            "grid_template_rows": null,
            "height": null,
            "justify_content": null,
            "justify_items": null,
            "left": null,
            "margin": null,
            "max_height": null,
            "max_width": null,
            "min_height": null,
            "min_width": null,
            "object_fit": null,
            "object_position": null,
            "order": null,
            "overflow": null,
            "overflow_x": null,
            "overflow_y": null,
            "padding": null,
            "right": null,
            "top": null,
            "visibility": null,
            "width": null
          }
        },
        "b6e06b9d6cc0471a8ac8e3e7c0708122": {
          "model_module": "@jupyter-widgets/base",
          "model_module_version": "1.2.0",
          "model_name": "LayoutModel",
          "state": {
            "_model_module": "@jupyter-widgets/base",
            "_model_module_version": "1.2.0",
            "_model_name": "LayoutModel",
            "_view_count": null,
            "_view_module": "@jupyter-widgets/base",
            "_view_module_version": "1.2.0",
            "_view_name": "LayoutView",
            "align_content": null,
            "align_items": null,
            "align_self": null,
            "border": null,
            "bottom": null,
            "display": null,
            "flex": null,
            "flex_flow": null,
            "grid_area": null,
            "grid_auto_columns": null,
            "grid_auto_flow": null,
            "grid_auto_rows": null,
            "grid_column": null,
            "grid_gap": null,
            "grid_row": null,
            "grid_template_areas": null,
            "grid_template_columns": null,
            "grid_template_rows": null,
            "height": null,
            "justify_content": null,
            "justify_items": null,
            "left": null,
            "margin": null,
            "max_height": null,
            "max_width": null,
            "min_height": null,
            "min_width": null,
            "object_fit": null,
            "object_position": null,
            "order": null,
            "overflow": null,
            "overflow_x": null,
            "overflow_y": null,
            "padding": null,
            "right": null,
            "top": null,
            "visibility": null,
            "width": null
          }
        },
        "cd820f483dc74ea889157a952ed1b896": {
          "model_module": "@jupyter-widgets/controls",
          "model_module_version": "1.5.0",
          "model_name": "HTMLModel",
          "state": {
            "_dom_classes": [],
            "_model_module": "@jupyter-widgets/controls",
            "_model_module_version": "1.5.0",
            "_model_name": "HTMLModel",
            "_view_count": null,
            "_view_module": "@jupyter-widgets/controls",
            "_view_module_version": "1.5.0",
            "_view_name": "HTMLView",
            "description": "",
            "description_tooltip": null,
            "layout": "IPY_MODEL_514616019b944bb5bed75436a4178a42",
            "placeholder": "​",
            "style": "IPY_MODEL_80fbb29ee98446cfa990e3d5c6007ff2",
            "value": " 0/3 [00:00&lt;?, ?it/s]"
          }
        },
        "f6b18488aeb44ea481f046b9613b23d0": {
          "model_module": "@jupyter-widgets/controls",
          "model_module_version": "1.5.0",
          "model_name": "ProgressStyleModel",
          "state": {
            "_model_module": "@jupyter-widgets/controls",
            "_model_module_version": "1.5.0",
            "_model_name": "ProgressStyleModel",
            "_view_count": null,
            "_view_module": "@jupyter-widgets/base",
            "_view_module_version": "1.2.0",
            "_view_name": "StyleView",
            "bar_color": null,
            "description_width": ""
          }
        }
      }
    }
  },
  "nbformat": 4,
  "nbformat_minor": 0
}
