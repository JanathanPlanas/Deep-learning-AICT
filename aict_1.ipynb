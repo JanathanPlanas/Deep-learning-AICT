{
 "cells": [
  {
   "attachments": {},
   "cell_type": "markdown",
   "metadata": {},
   "source": [
    "#             $$\\text{Gnu Radio Companion with Machine Learning} $$"
   ]
  },
  {
   "cell_type": "code",
   "execution_count": 20,
   "metadata": {},
   "outputs": [],
   "source": [
    "import pandas as pd\n",
    "import numpy as np\n",
    "import warnings \n",
    "from Library.metrics import metrics\n",
    "from Library.sinais__ import signal, concat_3 , concat_2\n",
    "from sklearn.neighbors import KNeighborsClassifier\n",
    "from Library.TrainTestSplit_ import TrainTestSplit \n",
    "from Library.Plots_model import Visualization ,RandomizedSearchCVWrapper\n",
    "from Library.metrics import metrics\n",
    "import category_encoders as ce\n",
    "warnings.filterwarnings('ignore')\n"
   ]
  },
  {
   "cell_type": "code",
   "execution_count": 25,
   "metadata": {},
   "outputs": [],
   "source": [
    "Clear = np.load(\"Data_\\Clear.npy\")\n",
    "WIFI_FLOOD = np.load(\"Data_\\WIFI_FLOOD.npy\")\n",
    "LTE_FLOOD = np.load(\"Data_\\LTE_FLOOD.bin.npy\")\n",
    "WIFI_300PING = np.load(\"Data_\\WIFI_PING300.npy\")\n",
    "LTE_300PING = np.load(\"Data_\\LTE_PING300.npy\")\n",
    "WIFI_1M = np.load(\"Data_\\WIFI_1M.npy\")\n",
    "LTE_1M = np.load(\"Data_\\LTE_1M.npy\")\n",
    "knn = KNeighborsClassifier(n_neighbors= 9,weights='distance', p=2)\n"
   ]
  },
  {
   "cell_type": "code",
   "execution_count": 4,
   "metadata": {},
   "outputs": [
    {
     "name": "stdout",
     "output_type": "stream",
     "text": [
      "<class 'pandas.core.frame.DataFrame'>\n",
      "RangeIndex: 400000 entries, 0 to 399999\n",
      "Data columns (total 1 columns):\n",
      " #   Column  Non-Null Count   Dtype    \n",
      "---  ------  --------------   -----    \n",
      " 0   0       400000 non-null  complex64\n",
      "dtypes: complex64(1)\n",
      "memory usage: 3.1 MB\n",
      "None\n"
     ]
    },
    {
     "data": {
      "text/html": [
       "<div>\n",
       "<style scoped>\n",
       "    .dataframe tbody tr th:only-of-type {\n",
       "        vertical-align: middle;\n",
       "    }\n",
       "\n",
       "    .dataframe tbody tr th {\n",
       "        vertical-align: top;\n",
       "    }\n",
       "\n",
       "    .dataframe thead th {\n",
       "        text-align: right;\n",
       "    }\n",
       "</style>\n",
       "<table border=\"1\" class=\"dataframe\">\n",
       "  <thead>\n",
       "    <tr style=\"text-align: right;\">\n",
       "      <th></th>\n",
       "      <th>WIFI_1M_Real</th>\n",
       "      <th>WIFI_1M_Imag</th>\n",
       "      <th>ID</th>\n",
       "    </tr>\n",
       "  </thead>\n",
       "  <tbody>\n",
       "    <tr>\n",
       "      <th>0</th>\n",
       "      <td>-0.000061</td>\n",
       "      <td>-0.000031</td>\n",
       "      <td>WIFI_1M</td>\n",
       "    </tr>\n",
       "    <tr>\n",
       "      <th>1</th>\n",
       "      <td>0.000092</td>\n",
       "      <td>0.000092</td>\n",
       "      <td>WIFI_1M</td>\n",
       "    </tr>\n",
       "    <tr>\n",
       "      <th>2</th>\n",
       "      <td>0.000031</td>\n",
       "      <td>0.000061</td>\n",
       "      <td>WIFI_1M</td>\n",
       "    </tr>\n",
       "    <tr>\n",
       "      <th>3</th>\n",
       "      <td>-0.000092</td>\n",
       "      <td>0.000122</td>\n",
       "      <td>WIFI_1M</td>\n",
       "    </tr>\n",
       "    <tr>\n",
       "      <th>4</th>\n",
       "      <td>-0.000183</td>\n",
       "      <td>0.000061</td>\n",
       "      <td>WIFI_1M</td>\n",
       "    </tr>\n",
       "    <tr>\n",
       "      <th>...</th>\n",
       "      <td>...</td>\n",
       "      <td>...</td>\n",
       "      <td>...</td>\n",
       "    </tr>\n",
       "    <tr>\n",
       "      <th>399995</th>\n",
       "      <td>-0.000519</td>\n",
       "      <td>-0.000488</td>\n",
       "      <td>WIFI_1M</td>\n",
       "    </tr>\n",
       "    <tr>\n",
       "      <th>399996</th>\n",
       "      <td>-0.000336</td>\n",
       "      <td>-0.000732</td>\n",
       "      <td>WIFI_1M</td>\n",
       "    </tr>\n",
       "    <tr>\n",
       "      <th>399997</th>\n",
       "      <td>-0.000336</td>\n",
       "      <td>-0.000732</td>\n",
       "      <td>WIFI_1M</td>\n",
       "    </tr>\n",
       "    <tr>\n",
       "      <th>399998</th>\n",
       "      <td>-0.000427</td>\n",
       "      <td>-0.000580</td>\n",
       "      <td>WIFI_1M</td>\n",
       "    </tr>\n",
       "    <tr>\n",
       "      <th>399999</th>\n",
       "      <td>-0.000549</td>\n",
       "      <td>-0.000580</td>\n",
       "      <td>WIFI_1M</td>\n",
       "    </tr>\n",
       "  </tbody>\n",
       "</table>\n",
       "<p>400000 rows × 3 columns</p>\n",
       "</div>"
      ],
      "text/plain": [
       "        WIFI_1M_Real  WIFI_1M_Imag       ID\n",
       "0          -0.000061     -0.000031  WIFI_1M\n",
       "1           0.000092      0.000092  WIFI_1M\n",
       "2           0.000031      0.000061  WIFI_1M\n",
       "3          -0.000092      0.000122  WIFI_1M\n",
       "4          -0.000183      0.000061  WIFI_1M\n",
       "...              ...           ...      ...\n",
       "399995     -0.000519     -0.000488  WIFI_1M\n",
       "399996     -0.000336     -0.000732  WIFI_1M\n",
       "399997     -0.000336     -0.000732  WIFI_1M\n",
       "399998     -0.000427     -0.000580  WIFI_1M\n",
       "399999     -0.000549     -0.000580  WIFI_1M\n",
       "\n",
       "[400000 rows x 3 columns]"
      ]
     },
     "execution_count": 4,
     "metadata": {},
     "output_type": "execute_result"
    }
   ],
   "source": [
    "\n",
    "WIFI_1M = (signal(data=WIFI_1M,slice = 400000, sinal = 'WIFI_1M',id = 'WIFI_1M'))\n",
    "WIFI_1M.info()\n",
    "WIFI_1M.to_pandas()\n",
    "WIFI_1M.database"
   ]
  },
  {
   "cell_type": "code",
   "execution_count": 5,
   "metadata": {},
   "outputs": [
    {
     "name": "stdout",
     "output_type": "stream",
     "text": [
      "<class 'pandas.core.frame.DataFrame'>\n",
      "RangeIndex: 400000 entries, 0 to 399999\n",
      "Data columns (total 1 columns):\n",
      " #   Column  Non-Null Count   Dtype    \n",
      "---  ------  --------------   -----    \n",
      " 0   0       400000 non-null  complex64\n",
      "dtypes: complex64(1)\n",
      "memory usage: 3.1 MB\n",
      "None\n"
     ]
    },
    {
     "data": {
      "text/html": [
       "<div>\n",
       "<style scoped>\n",
       "    .dataframe tbody tr th:only-of-type {\n",
       "        vertical-align: middle;\n",
       "    }\n",
       "\n",
       "    .dataframe tbody tr th {\n",
       "        vertical-align: top;\n",
       "    }\n",
       "\n",
       "    .dataframe thead th {\n",
       "        text-align: right;\n",
       "    }\n",
       "</style>\n",
       "<table border=\"1\" class=\"dataframe\">\n",
       "  <thead>\n",
       "    <tr style=\"text-align: right;\">\n",
       "      <th></th>\n",
       "      <th>Clear_Real</th>\n",
       "      <th>Clear_Imag</th>\n",
       "      <th>ID</th>\n",
       "    </tr>\n",
       "  </thead>\n",
       "  <tbody>\n",
       "    <tr>\n",
       "      <th>0</th>\n",
       "      <td>0.004425</td>\n",
       "      <td>0.006348</td>\n",
       "      <td>Clear</td>\n",
       "    </tr>\n",
       "    <tr>\n",
       "      <th>1</th>\n",
       "      <td>0.005676</td>\n",
       "      <td>0.006348</td>\n",
       "      <td>Clear</td>\n",
       "    </tr>\n",
       "    <tr>\n",
       "      <th>2</th>\n",
       "      <td>0.006317</td>\n",
       "      <td>0.007904</td>\n",
       "      <td>Clear</td>\n",
       "    </tr>\n",
       "    <tr>\n",
       "      <th>3</th>\n",
       "      <td>0.006562</td>\n",
       "      <td>0.008515</td>\n",
       "      <td>Clear</td>\n",
       "    </tr>\n",
       "    <tr>\n",
       "      <th>4</th>\n",
       "      <td>0.006745</td>\n",
       "      <td>0.009980</td>\n",
       "      <td>Clear</td>\n",
       "    </tr>\n",
       "    <tr>\n",
       "      <th>...</th>\n",
       "      <td>...</td>\n",
       "      <td>...</td>\n",
       "      <td>...</td>\n",
       "    </tr>\n",
       "    <tr>\n",
       "      <th>399995</th>\n",
       "      <td>0.000061</td>\n",
       "      <td>-0.000519</td>\n",
       "      <td>Clear</td>\n",
       "    </tr>\n",
       "    <tr>\n",
       "      <th>399996</th>\n",
       "      <td>-0.000031</td>\n",
       "      <td>-0.000732</td>\n",
       "      <td>Clear</td>\n",
       "    </tr>\n",
       "    <tr>\n",
       "      <th>399997</th>\n",
       "      <td>0.000031</td>\n",
       "      <td>-0.000641</td>\n",
       "      <td>Clear</td>\n",
       "    </tr>\n",
       "    <tr>\n",
       "      <th>399998</th>\n",
       "      <td>-0.000092</td>\n",
       "      <td>-0.000763</td>\n",
       "      <td>Clear</td>\n",
       "    </tr>\n",
       "    <tr>\n",
       "      <th>399999</th>\n",
       "      <td>0.000031</td>\n",
       "      <td>-0.000671</td>\n",
       "      <td>Clear</td>\n",
       "    </tr>\n",
       "  </tbody>\n",
       "</table>\n",
       "<p>400000 rows × 3 columns</p>\n",
       "</div>"
      ],
      "text/plain": [
       "        Clear_Real  Clear_Imag     ID\n",
       "0         0.004425    0.006348  Clear\n",
       "1         0.005676    0.006348  Clear\n",
       "2         0.006317    0.007904  Clear\n",
       "3         0.006562    0.008515  Clear\n",
       "4         0.006745    0.009980  Clear\n",
       "...            ...         ...    ...\n",
       "399995    0.000061   -0.000519  Clear\n",
       "399996   -0.000031   -0.000732  Clear\n",
       "399997    0.000031   -0.000641  Clear\n",
       "399998   -0.000092   -0.000763  Clear\n",
       "399999    0.000031   -0.000671  Clear\n",
       "\n",
       "[400000 rows x 3 columns]"
      ]
     },
     "execution_count": 5,
     "metadata": {},
     "output_type": "execute_result"
    }
   ],
   "source": [
    "CLEAR = (signal(data=Clear,slice = 400000, sinal = 'Clear', id = 'Clear'))\n",
    "CLEAR.info()\n",
    "CLEAR.to_pandas()\n",
    "CLEAR.database"
   ]
  },
  {
   "cell_type": "code",
   "execution_count": 6,
   "metadata": {},
   "outputs": [
    {
     "name": "stdout",
     "output_type": "stream",
     "text": [
      "<class 'pandas.core.frame.DataFrame'>\n",
      "RangeIndex: 400000 entries, 0 to 399999\n",
      "Data columns (total 1 columns):\n",
      " #   Column  Non-Null Count   Dtype    \n",
      "---  ------  --------------   -----    \n",
      " 0   0       400000 non-null  complex64\n",
      "dtypes: complex64(1)\n",
      "memory usage: 3.1 MB\n",
      "None\n"
     ]
    },
    {
     "data": {
      "text/html": [
       "<div>\n",
       "<style scoped>\n",
       "    .dataframe tbody tr th:only-of-type {\n",
       "        vertical-align: middle;\n",
       "    }\n",
       "\n",
       "    .dataframe tbody tr th {\n",
       "        vertical-align: top;\n",
       "    }\n",
       "\n",
       "    .dataframe thead th {\n",
       "        text-align: right;\n",
       "    }\n",
       "</style>\n",
       "<table border=\"1\" class=\"dataframe\">\n",
       "  <thead>\n",
       "    <tr style=\"text-align: right;\">\n",
       "      <th></th>\n",
       "      <th>LTE_1M_Real</th>\n",
       "      <th>LTE_1M_Imag</th>\n",
       "      <th>ID</th>\n",
       "    </tr>\n",
       "  </thead>\n",
       "  <tbody>\n",
       "    <tr>\n",
       "      <th>0</th>\n",
       "      <td>0.000244</td>\n",
       "      <td>0.000122</td>\n",
       "      <td>LTE_1M</td>\n",
       "    </tr>\n",
       "    <tr>\n",
       "      <th>1</th>\n",
       "      <td>0.000153</td>\n",
       "      <td>-0.000153</td>\n",
       "      <td>LTE_1M</td>\n",
       "    </tr>\n",
       "    <tr>\n",
       "      <th>2</th>\n",
       "      <td>-0.000153</td>\n",
       "      <td>-0.000153</td>\n",
       "      <td>LTE_1M</td>\n",
       "    </tr>\n",
       "    <tr>\n",
       "      <th>3</th>\n",
       "      <td>0.000000</td>\n",
       "      <td>0.000336</td>\n",
       "      <td>LTE_1M</td>\n",
       "    </tr>\n",
       "    <tr>\n",
       "      <th>4</th>\n",
       "      <td>0.000275</td>\n",
       "      <td>0.000305</td>\n",
       "      <td>LTE_1M</td>\n",
       "    </tr>\n",
       "    <tr>\n",
       "      <th>...</th>\n",
       "      <td>...</td>\n",
       "      <td>...</td>\n",
       "      <td>...</td>\n",
       "    </tr>\n",
       "    <tr>\n",
       "      <th>399995</th>\n",
       "      <td>-0.000122</td>\n",
       "      <td>-0.000336</td>\n",
       "      <td>LTE_1M</td>\n",
       "    </tr>\n",
       "    <tr>\n",
       "      <th>399996</th>\n",
       "      <td>0.000000</td>\n",
       "      <td>-0.000427</td>\n",
       "      <td>LTE_1M</td>\n",
       "    </tr>\n",
       "    <tr>\n",
       "      <th>399997</th>\n",
       "      <td>0.000183</td>\n",
       "      <td>-0.000214</td>\n",
       "      <td>LTE_1M</td>\n",
       "    </tr>\n",
       "    <tr>\n",
       "      <th>399998</th>\n",
       "      <td>0.000122</td>\n",
       "      <td>-0.000397</td>\n",
       "      <td>LTE_1M</td>\n",
       "    </tr>\n",
       "    <tr>\n",
       "      <th>399999</th>\n",
       "      <td>0.000244</td>\n",
       "      <td>-0.000366</td>\n",
       "      <td>LTE_1M</td>\n",
       "    </tr>\n",
       "  </tbody>\n",
       "</table>\n",
       "<p>400000 rows × 3 columns</p>\n",
       "</div>"
      ],
      "text/plain": [
       "        LTE_1M_Real  LTE_1M_Imag      ID\n",
       "0          0.000244     0.000122  LTE_1M\n",
       "1          0.000153    -0.000153  LTE_1M\n",
       "2         -0.000153    -0.000153  LTE_1M\n",
       "3          0.000000     0.000336  LTE_1M\n",
       "4          0.000275     0.000305  LTE_1M\n",
       "...             ...          ...     ...\n",
       "399995    -0.000122    -0.000336  LTE_1M\n",
       "399996     0.000000    -0.000427  LTE_1M\n",
       "399997     0.000183    -0.000214  LTE_1M\n",
       "399998     0.000122    -0.000397  LTE_1M\n",
       "399999     0.000244    -0.000366  LTE_1M\n",
       "\n",
       "[400000 rows x 3 columns]"
      ]
     },
     "execution_count": 6,
     "metadata": {},
     "output_type": "execute_result"
    }
   ],
   "source": [
    "LTE_1M = (signal(data=LTE_1M,slice = 400000, sinal = 'LTE_1M', id='LTE_1M'))\n",
    "LTE_1M.info()\n",
    "LTE_1M.to_pandas()\n",
    "LTE_1M.database"
   ]
  },
  {
   "cell_type": "code",
   "execution_count": 7,
   "metadata": {},
   "outputs": [
    {
     "name": "stdout",
     "output_type": "stream",
     "text": [
      "Concatenação efetuada\n",
      "<class 'pandas.core.frame.DataFrame'>\n",
      "RangeIndex: 1200000 entries, 0 to 1199999\n",
      "Data columns (total 4 columns):\n",
      " #   Column   Non-Null Count    Dtype  \n",
      "---  ------   --------------    -----  \n",
      " 0   Signals  1200000 non-null  object \n",
      " 1   Real     1200000 non-null  float32\n",
      " 2   Imag     1200000 non-null  float32\n",
      " 3   ID       1200000 non-null  object \n",
      "dtypes: float32(2), object(2)\n",
      "memory usage: 27.5+ MB\n"
     ]
    },
    {
     "data": {
      "text/html": [
       "<div>\n",
       "<style scoped>\n",
       "    .dataframe tbody tr th:only-of-type {\n",
       "        vertical-align: middle;\n",
       "    }\n",
       "\n",
       "    .dataframe tbody tr th {\n",
       "        vertical-align: top;\n",
       "    }\n",
       "\n",
       "    .dataframe thead th {\n",
       "        text-align: right;\n",
       "    }\n",
       "</style>\n",
       "<table border=\"1\" class=\"dataframe\">\n",
       "  <thead>\n",
       "    <tr style=\"text-align: right;\">\n",
       "      <th></th>\n",
       "      <th>Signals</th>\n",
       "      <th>Real</th>\n",
       "      <th>Imag</th>\n",
       "      <th>ID</th>\n",
       "    </tr>\n",
       "  </thead>\n",
       "  <tbody>\n",
       "    <tr>\n",
       "      <th>0</th>\n",
       "      <td>Clear</td>\n",
       "      <td>0.004425</td>\n",
       "      <td>0.006348</td>\n",
       "      <td>Clear</td>\n",
       "    </tr>\n",
       "    <tr>\n",
       "      <th>1</th>\n",
       "      <td>Clear</td>\n",
       "      <td>0.005676</td>\n",
       "      <td>0.006348</td>\n",
       "      <td>Clear</td>\n",
       "    </tr>\n",
       "    <tr>\n",
       "      <th>2</th>\n",
       "      <td>Clear</td>\n",
       "      <td>0.006317</td>\n",
       "      <td>0.007904</td>\n",
       "      <td>Clear</td>\n",
       "    </tr>\n",
       "    <tr>\n",
       "      <th>3</th>\n",
       "      <td>Clear</td>\n",
       "      <td>0.006562</td>\n",
       "      <td>0.008515</td>\n",
       "      <td>Clear</td>\n",
       "    </tr>\n",
       "    <tr>\n",
       "      <th>4</th>\n",
       "      <td>Clear</td>\n",
       "      <td>0.006745</td>\n",
       "      <td>0.009980</td>\n",
       "      <td>Clear</td>\n",
       "    </tr>\n",
       "    <tr>\n",
       "      <th>...</th>\n",
       "      <td>...</td>\n",
       "      <td>...</td>\n",
       "      <td>...</td>\n",
       "      <td>...</td>\n",
       "    </tr>\n",
       "    <tr>\n",
       "      <th>1199995</th>\n",
       "      <td>LTE_1M</td>\n",
       "      <td>-0.000122</td>\n",
       "      <td>-0.000336</td>\n",
       "      <td>LTE_1M</td>\n",
       "    </tr>\n",
       "    <tr>\n",
       "      <th>1199996</th>\n",
       "      <td>LTE_1M</td>\n",
       "      <td>0.000000</td>\n",
       "      <td>-0.000427</td>\n",
       "      <td>LTE_1M</td>\n",
       "    </tr>\n",
       "    <tr>\n",
       "      <th>1199997</th>\n",
       "      <td>LTE_1M</td>\n",
       "      <td>0.000183</td>\n",
       "      <td>-0.000214</td>\n",
       "      <td>LTE_1M</td>\n",
       "    </tr>\n",
       "    <tr>\n",
       "      <th>1199998</th>\n",
       "      <td>LTE_1M</td>\n",
       "      <td>0.000122</td>\n",
       "      <td>-0.000397</td>\n",
       "      <td>LTE_1M</td>\n",
       "    </tr>\n",
       "    <tr>\n",
       "      <th>1199999</th>\n",
       "      <td>LTE_1M</td>\n",
       "      <td>0.000244</td>\n",
       "      <td>-0.000366</td>\n",
       "      <td>LTE_1M</td>\n",
       "    </tr>\n",
       "  </tbody>\n",
       "</table>\n",
       "<p>1200000 rows × 4 columns</p>\n",
       "</div>"
      ],
      "text/plain": [
       "        Signals      Real      Imag      ID\n",
       "0         Clear  0.004425  0.006348   Clear\n",
       "1         Clear  0.005676  0.006348   Clear\n",
       "2         Clear  0.006317  0.007904   Clear\n",
       "3         Clear  0.006562  0.008515   Clear\n",
       "4         Clear  0.006745  0.009980   Clear\n",
       "...         ...       ...       ...     ...\n",
       "1199995  LTE_1M -0.000122 -0.000336  LTE_1M\n",
       "1199996  LTE_1M  0.000000 -0.000427  LTE_1M\n",
       "1199997  LTE_1M  0.000183 -0.000214  LTE_1M\n",
       "1199998  LTE_1M  0.000122 -0.000397  LTE_1M\n",
       "1199999  LTE_1M  0.000244 -0.000366  LTE_1M\n",
       "\n",
       "[1200000 rows x 4 columns]"
      ]
     },
     "execution_count": 7,
     "metadata": {},
     "output_type": "execute_result"
    }
   ],
   "source": [
    "uniao = concat_3(database1= CLEAR.database, database2=WIFI_1M.database,database3=LTE_1M.database ,sinal1 ='Clear',sinal2 = 'WIFI_1M',sinal3 = 'LTE_1M')\n",
    "uniao.merge()\n",
    "df = uniao.concat\n",
    "df.info()\n",
    "df"
   ]
  },
  {
   "cell_type": "code",
   "execution_count": 17,
   "metadata": {},
   "outputs": [
    {
     "name": "stdout",
     "output_type": "stream",
     "text": [
      "x_train:              Real      Imag\n",
      "597824  -0.002655 -0.004089\n",
      "790086  -0.000366 -0.000488\n",
      "1122075  0.000153 -0.000549\n",
      "78230   -0.001099 -0.009766\n",
      "421094  -0.016450 -0.023835\n",
      "...           ...       ...\n",
      "110268  -0.000732 -0.007263\n",
      "259178  -0.000061 -0.001770\n",
      "131932  -0.000641 -0.005951\n",
      "671155  -0.001282 -0.002014\n",
      "121958  -0.000610 -0.006317\n",
      "\n",
      "[870000 rows x 2 columns]\n",
      "y_train:              Real      Imag\n",
      "372605   0.000183 -0.000397\n",
      "551204  -0.004456 -0.006714\n",
      "240320  -0.000183 -0.001923\n",
      "1047361  0.000183 -0.001801\n",
      "555362  -0.004334 -0.006531\n",
      "...           ...       ...\n",
      "721659  -0.000824 -0.001282\n",
      "891325  -0.000275 -0.007935\n",
      "923073  -0.000275 -0.005799\n",
      "81362   -0.001160 -0.009735\n",
      "746478  -0.000763 -0.001129\n",
      "\n",
      "[330000 rows x 2 columns]\n",
      "x_test: 597824     WIFI_1M\n",
      "790086     WIFI_1M\n",
      "1122075     LTE_1M\n",
      "78230        Clear\n",
      "421094     WIFI_1M\n",
      "            ...   \n",
      "110268       Clear\n",
      "259178       Clear\n",
      "131932       Clear\n",
      "671155     WIFI_1M\n",
      "121958       Clear\n",
      "Name: ID, Length: 870000, dtype: object\n",
      "y_test: 372605       Clear\n",
      "551204     WIFI_1M\n",
      "240320       Clear\n",
      "1047361     LTE_1M\n",
      "555362     WIFI_1M\n",
      "            ...   \n",
      "721659     WIFI_1M\n",
      "891325      LTE_1M\n",
      "923073      LTE_1M\n",
      "81362        Clear\n",
      "746478     WIFI_1M\n",
      "Name: ID, Length: 330000, dtype: object\n"
     ]
    }
   ],
   "source": [
    "\n",
    "spliter = TrainTestSplit(data = df)\n",
    "# Acessando os conjuntos de treinamento e teste\n",
    "X_train, X_test, y_train, y_test =spliter.train_test_split( test_size=0.275, random_state=42)\n",
    "\n",
    "print(\"x_train:\", X_train)\n",
    "print(\"y_train:\", X_test)\n",
    "print(\"x_test:\", y_train)\n",
    "print(\"y_test:\", y_test)\n"
   ]
  },
  {
   "cell_type": "code",
   "execution_count": 18,
   "metadata": {},
   "outputs": [
    {
     "data": {
      "image/png": "[encoded data removed]",
      "text/plain": [
       "<Figure size 640x480 with 1 Axes>"
      ]
     },
     "metadata": {},
     "output_type": "display_data"
    }
   ],
   "source": [
    "# Criando um objeto Visualization\n",
    "from Library.Plots_model import Visualization\n",
    "vis = Visualization()\n",
    "\n",
    "\n",
    "# Plotando o gráfico de pizza\n",
    "vis.plot_pie(y_test) # Distruição de X_train"
   ]
  },
  {
   "cell_type": "code",
   "execution_count": 19,
   "metadata": {},
   "outputs": [
    {
     "name": "stdout",
     "output_type": "stream",
     "text": [
      "\n",
      " normalized.X_test: [[0.4251852  0.4284137 ]\n",
      " [0.35012347 0.35222673]\n",
      " [0.41925925 0.41001105]\n",
      " ...\n",
      " [0.41777778 0.36326832]\n",
      " [0.4034568  0.3157895 ]\n",
      " [0.40987656 0.41958043]]\n",
      "normalized.X_train [[0.36222327 0.423025  ]\n",
      " [0.39755064 0.46286294]\n",
      " [0.40555817 0.46218774]\n",
      " ...\n",
      " [0.39331135 0.4024308 ]\n",
      " [0.3834197  0.44598246]\n",
      " [0.39378238 0.3983795 ]]\n"
     ]
    }
   ],
   "source": [
    "from Library.Normalizing import Normalizing\n",
    "normalized = Normalizing(X_train=X_train, X_test= X_test)\n",
    "print(f\"\"\"\\n normalized.X_test: {normalized.X_test}\n",
    "normalized.X_train {normalized.X_train}\"\"\")"
   ]
  },
  {
   "cell_type": "code",
   "execution_count": 18,
   "metadata": {},
   "outputs": [
    {
     "data": {
      "text/html": [
       "<style>#sk-container-id-1 {color: black;background-color: white;}#sk-container-id-1 pre{padding: 0;}#sk-container-id-1 div.sk-toggleable {background-color: white;}#sk-container-id-1 label.sk-toggleable__label {cursor: pointer;display: block;width: 100%;margin-bottom: 0;padding: 0.3em;box-sizing: border-box;text-align: center;}#sk-container-id-1 label.sk-toggleable__label-arrow:before {content: \"▸\";float: left;margin-right: 0.25em;color: #696969;}#sk-container-id-1 label.sk-toggleable__label-arrow:hover:before {color: black;}#sk-container-id-1 div.sk-estimator:hover label.sk-toggleable__label-arrow:before {color: black;}#sk-container-id-1 div.sk-toggleable__content {max-height: 0;max-width: 0;overflow: hidden;text-align: left;background-color: #f0f8ff;}#sk-container-id-1 div.sk-toggleable__content pre {margin: 0.2em;color: black;border-radius: 0.25em;background-color: #f0f8ff;}#sk-container-id-1 input.sk-toggleable__control:checked~div.sk-toggleable__content {max-height: 200px;max-width: 100%;overflow: auto;}#sk-container-id-1 input.sk-toggleable__control:checked~label.sk-toggleable__label-arrow:before {content: \"▾\";}#sk-container-id-1 div.sk-estimator input.sk-toggleable__control:checked~label.sk-toggleable__label {background-color: #d4ebff;}#sk-container-id-1 div.sk-label input.sk-toggleable__control:checked~label.sk-toggleable__label {background-color: #d4ebff;}#sk-container-id-1 input.sk-hidden--visually {border: 0;clip: rect(1px 1px 1px 1px);clip: rect(1px, 1px, 1px, 1px);height: 1px;margin: -1px;overflow: hidden;padding: 0;position: absolute;width: 1px;}#sk-container-id-1 div.sk-estimator {font-family: monospace;background-color: #f0f8ff;border: 1px dotted black;border-radius: 0.25em;box-sizing: border-box;margin-bottom: 0.5em;}#sk-container-id-1 div.sk-estimator:hover {background-color: #d4ebff;}#sk-container-id-1 div.sk-parallel-item::after {content: \"\";width: 100%;border-bottom: 1px solid gray;flex-grow: 1;}#sk-container-id-1 div.sk-label:hover label.sk-toggleable__label {background-color: #d4ebff;}#sk-container-id-1 div.sk-serial::before {content: \"\";position: absolute;border-left: 1px solid gray;box-sizing: border-box;top: 0;bottom: 0;left: 50%;z-index: 0;}#sk-container-id-1 div.sk-serial {display: flex;flex-direction: column;align-items: center;background-color: white;padding-right: 0.2em;padding-left: 0.2em;position: relative;}#sk-container-id-1 div.sk-item {position: relative;z-index: 1;}#sk-container-id-1 div.sk-parallel {display: flex;align-items: stretch;justify-content: center;background-color: white;position: relative;}#sk-container-id-1 div.sk-item::before, #sk-container-id-1 div.sk-parallel-item::before {content: \"\";position: absolute;border-left: 1px solid gray;box-sizing: border-box;top: 0;bottom: 0;left: 50%;z-index: -1;}#sk-container-id-1 div.sk-parallel-item {display: flex;flex-direction: column;z-index: 1;position: relative;background-color: white;}#sk-container-id-1 div.sk-parallel-item:first-child::after {align-self: flex-end;width: 50%;}#sk-container-id-1 div.sk-parallel-item:last-child::after {align-self: flex-start;width: 50%;}#sk-container-id-1 div.sk-parallel-item:only-child::after {width: 0;}#sk-container-id-1 div.sk-dashed-wrapped {border: 1px dashed gray;margin: 0 0.4em 0.5em 0.4em;box-sizing: border-box;padding-bottom: 0.4em;background-color: white;}#sk-container-id-1 div.sk-label label {font-family: monospace;font-weight: bold;display: inline-block;line-height: 1.2em;}#sk-container-id-1 div.sk-label-container {text-align: center;}#sk-container-id-1 div.sk-container {/* jupyter's `normalize.less` sets `[hidden] { display: none; }` but bootstrap.min.css set `[hidden] { display: none !important; }` so we also need the `!important` here to be able to override the default hidden behavior on the sphinx rendered scikit-learn.org. See: https://github.com/scikit-learn/scikit-learn/issues/21755 */display: inline-block !important;position: relative;}#sk-container-id-1 div.sk-text-repr-fallback {display: none;}</style><div id=\"sk-container-id-1\" class=\"sk-top-container\"><div class=\"sk-text-repr-fallback\"><pre>KNeighborsClassifier(n_neighbors=9, weights=&#x27;distance&#x27;)</pre><b>In a Jupyter environment, please rerun this cell to show the HTML representation or trust the notebook. <br />On GitHub, the HTML representation is unable to render, please try loading this page with nbviewer.org.</b></div><div class=\"sk-container\" hidden><div class=\"sk-item\"><div class=\"sk-estimator sk-toggleable\"><input class=\"sk-toggleable__control sk-hidden--visually\" id=\"sk-estimator-id-1\" type=\"checkbox\" checked><label for=\"sk-estimator-id-1\" class=\"sk-toggleable__label sk-toggleable__label-arrow\">KNeighborsClassifier</label><div class=\"sk-toggleable__content\"><pre>KNeighborsClassifier(n_neighbors=9, weights=&#x27;distance&#x27;)</pre></div></div></div></div></div>"
      ],
      "text/plain": [
       "KNeighborsClassifier(n_neighbors=9, weights='distance')"
      ]
     },
     "execution_count": 18,
     "metadata": {},
     "output_type": "execute_result"
    }
   ],
   "source": [
    "\n",
    "\n",
    "knn_fit = knn.fit(normalized.X_train ,y_train)\n",
    "model = knn_fit\n",
    "model"
   ]
  },
  {
   "cell_type": "code",
   "execution_count": 19,
   "metadata": {},
   "outputs": [
    {
     "data": {
      "text/html": [
       "<div>\n",
       "<style scoped>\n",
       "    .dataframe tbody tr th:only-of-type {\n",
       "        vertical-align: middle;\n",
       "    }\n",
       "\n",
       "    .dataframe tbody tr th {\n",
       "        vertical-align: top;\n",
       "    }\n",
       "\n",
       "    .dataframe thead th {\n",
       "        text-align: right;\n",
       "    }\n",
       "</style>\n",
       "<table border=\"1\" class=\"dataframe\">\n",
       "  <thead>\n",
       "    <tr style=\"text-align: right;\">\n",
       "      <th></th>\n",
       "      <th>Score</th>\n",
       "      <th>Accuracy</th>\n",
       "      <th>F1-Score</th>\n",
       "      <th>Recall</th>\n",
       "    </tr>\n",
       "  </thead>\n",
       "  <tbody>\n",
       "    <tr>\n",
       "      <th>0</th>\n",
       "      <td>0.398979</td>\n",
       "      <td>0.398979</td>\n",
       "      <td>0.308478</td>\n",
       "      <td>0.398979</td>\n",
       "    </tr>\n",
       "  </tbody>\n",
       "</table>\n",
       "</div>"
      ],
      "text/plain": [
       "      Score  Accuracy  F1-Score    Recall\n",
       "0  0.398979  0.398979  0.308478  0.398979"
      ]
     },
     "execution_count": 19,
     "metadata": {},
     "output_type": "execute_result"
    }
   ],
   "source": [
    "\n",
    "metrics = metrics(model = model,\n",
    "X_train =normalized.X_train,X_test = normalized.X_test, y_train=y_train ,y_test=y_test)\n",
    "\n",
    "metrics.table()"
   ]
  },
  {
   "cell_type": "code",
   "execution_count": 20,
   "metadata": {},
   "outputs": [
    {
     "data": {
      "image/png": "[encoded data removed]",
      "text/plain": [
       "<Figure size 1600x500 with 2 Axes>"
      ]
     },
     "metadata": {},
     "output_type": "display_data"
    }
   ],
   "source": [
    "\n",
    "confusion = Visualization()\n",
    "confusion_matrix = confusion.confusion_matrix(model=model,X_train =normalized.X_train,\n",
    "X_test= normalized.X_test, y_train= y_train, y_test= y_test)"
   ]
  },
  {
   "cell_type": "code",
   "execution_count": 21,
   "metadata": {},
   "outputs": [
    {
     "data": {
      "text/plain": [
       "array([[  1469, 108321,      5],\n",
       "       [   655, 109338,      6],\n",
       "       [ 45064,  44286,  20856]], dtype=int64)"
      ]
     },
     "execution_count": 21,
     "metadata": {},
     "output_type": "execute_result"
    }
   ],
   "source": [
    "metrics.confusion_matrix()"
   ]
  },
  {
   "cell_type": "code",
   "execution_count": 22,
   "metadata": {},
   "outputs": [
    {
     "name": "stdout",
     "output_type": "stream",
     "text": [
      "              precision    recall  f1-score   support\n",
      "\n",
      "       Clear       0.03      0.01      0.02    109795\n",
      "      LTE_1M       0.42      0.99      0.59    109999\n",
      "     WIFI_1M       1.00      0.19      0.32    110206\n",
      "\n",
      "    accuracy                           0.40    330000\n",
      "   macro avg       0.48      0.40      0.31    330000\n",
      "weighted avg       0.48      0.40      0.31    330000\n",
      "\n"
     ]
    }
   ],
   "source": [
    "metrics.report()"
   ]
  },
  {
   "cell_type": "code",
   "execution_count": 29,
   "metadata": {},
   "outputs": [
    {
     "name": "stdout",
     "output_type": "stream",
     "text": [
      "CPU times: total: 1.19 s\n",
      "Wall time: 1min 58s\n"
     ]
    }
   ],
   "source": [
    "%%time\n",
    "\n",
    "encoder = ce.ordinal.OrdinalEncoder()\n",
    "\n",
    "parameters = {'n_neighbors': [21,27,15,17,19],\n",
    "                         'weights': ['uniform', 'distance'], 'p':[1,2]\n",
    "             }\n",
    "n_iter=4\n",
    "cv=3\n",
    "scoring='neg_mean_squared_error' \n",
    "random_state=42\n",
    "return_train_score=True\n",
    "n_jobs = -1\n",
    "verbose = 0\n",
    "knn = KNeighborsClassifier()\n",
    "\n",
    "random_model = RandomizedSearchCVWrapper(model= knn, param_distributions =parameters , \n",
    "X_train = normalized.X_train, y_train= encoder.fit_transform(y_train),\n",
    " n_iter= n_iter, cv=cv,random_state=random_state,\n",
    "return_train_score =return_train_score, scoring= scoring,\n",
    " n_jobs = n_jobs, verbose = verbose )\n"
   ]
  },
  {
   "cell_type": "code",
   "execution_count": 30,
   "metadata": {},
   "outputs": [
    {
     "data": {
      "text/plain": [
       "{'model': KNeighborsClassifier(),\n",
       " 'param_distributions': {'n_neighbors': [21, 27, 15, 17, 19],\n",
       "  'weights': ['uniform', 'distance'],\n",
       "  'p': [1, 2]},\n",
       " 'n_iter': 4,\n",
       " 'cv': 3,\n",
       " 'random_state': 42,\n",
       " 'n_jobs': -1,\n",
       " 'scoring': 'neg_mean_squared_error',\n",
       " 'verbose': 0,\n",
       " 'return_train_score': True,\n",
       " 'randomsearch': RandomizedSearchCV(cv=3, estimator=KNeighborsClassifier(), n_iter=4, n_jobs=-1,\n",
       "                    param_distributions={'n_neighbors': [21, 27, 15, 17, 19],\n",
       "                                         'p': [1, 2],\n",
       "                                         'weights': ['uniform', 'distance']},\n",
       "                    random_state=42, return_train_score=True,\n",
       "                    scoring='neg_mean_squared_error'),\n",
       " 'random_fit': RandomizedSearchCV(cv=3, estimator=KNeighborsClassifier(), n_iter=4, n_jobs=-1,\n",
       "                    param_distributions={'n_neighbors': [21, 27, 15, 17, 19],\n",
       "                                         'p': [1, 2],\n",
       "                                         'weights': ['uniform', 'distance']},\n",
       "                    random_state=42, return_train_score=True,\n",
       "                    scoring='neg_mean_squared_error'),\n",
       " 'results':    mean_fit_time  std_fit_time  mean_score_time  std_score_time param_weights   \n",
       " 0       2.996525      0.067889        43.000048        0.032307       uniform  \\\n",
       " 2       2.754794      0.144825        16.073277        1.544903      distance   \n",
       " 1       2.891978      0.072911        17.140075        0.295710      distance   \n",
       " 3       2.700143      0.139525        16.044189        1.073599      distance   \n",
       " \n",
       "   param_p param_n_neighbors   \n",
       " 0       1                21  \\\n",
       " 2       2                17   \n",
       " 1       1                19   \n",
       " 3       1                21   \n",
       " \n",
       "                                               params  split0_test_score   \n",
       " 0  {'weights': 'uniform', 'p': 1, 'n_neighbors': 21}          -0.157810  \\\n",
       " 2  {'weights': 'distance', 'p': 2, 'n_neighbors':...          -0.158472   \n",
       " 1  {'weights': 'distance', 'p': 1, 'n_neighbors':...          -0.158210   \n",
       " 3  {'weights': 'distance', 'p': 1, 'n_neighbors':...          -0.158207   \n",
       " \n",
       "    split1_test_score  split2_test_score  mean_test_score  std_test_score   \n",
       " 0          -0.158466          -0.157986        -0.158087        0.000277  \\\n",
       " 2          -0.158593          -0.157445        -0.158170        0.000515   \n",
       " 1          -0.159334          -0.157176        -0.158240        0.000882   \n",
       " 3          -0.158962          -0.158421        -0.158530        0.000318   \n",
       " \n",
       "    rank_test_score  split0_train_score  split1_train_score   \n",
       " 0                1           -0.154657           -0.155147  \\\n",
       " 2                2           -0.154298           -0.154731   \n",
       " 1                3           -0.154145           -0.155100   \n",
       " 3                4           -0.153986           -0.154569   \n",
       " \n",
       "    split2_train_score  mean_train_score  std_train_score  \n",
       " 0           -0.155593         -0.155132         0.000382  \n",
       " 2           -0.154897         -0.154642         0.000252  \n",
       " 1           -0.154628         -0.154624         0.000390  \n",
       " 3           -0.154962         -0.154506         0.000401  ,\n",
       " 'best_params': {'weights': 'uniform', 'p': 1, 'n_neighbors': 21}}"
      ]
     },
     "execution_count": 30,
     "metadata": {},
     "output_type": "execute_result"
    }
   ],
   "source": [
    "random_model.__dict__"
   ]
  },
  {
   "cell_type": "code",
   "execution_count": 31,
   "metadata": {},
   "outputs": [
    {
     "data": {
      "image/png": "[encoded data removed]",
      "text/plain": [
       "<Figure size 1600x400 with 1 Axes>"
      ]
     },
     "metadata": {},
     "output_type": "display_data"
    }
   ],
   "source": [
    "random_model.plot_mean_performance()"
   ]
  },
  {
   "cell_type": "code",
   "execution_count": 32,
   "metadata": {},
   "outputs": [
    {
     "data": {
      "image/png": "[encoded data removed]",
      "text/plain": [
       "<Figure size 1600x400 with 1 Axes>"
      ]
     },
     "metadata": {},
     "output_type": "display_data"
    }
   ],
   "source": [
    "random_model.plot_std_performance()"
   ]
  },
  {
   "cell_type": "code",
   "execution_count": 33,
   "metadata": {},
   "outputs": [
    {
     "data": {
      "text/html": [
       "<div>\n",
       "<style scoped>\n",
       "    .dataframe tbody tr th:only-of-type {\n",
       "        vertical-align: middle;\n",
       "    }\n",
       "\n",
       "    .dataframe tbody tr th {\n",
       "        vertical-align: top;\n",
       "    }\n",
       "\n",
       "    .dataframe thead th {\n",
       "        text-align: right;\n",
       "    }\n",
       "</style>\n",
       "<table border=\"1\" class=\"dataframe\">\n",
       "  <thead>\n",
       "    <tr style=\"text-align: right;\">\n",
       "      <th></th>\n",
       "      <th>mean_fit_time</th>\n",
       "      <th>std_fit_time</th>\n",
       "      <th>mean_score_time</th>\n",
       "      <th>std_score_time</th>\n",
       "      <th>param_weights</th>\n",
       "      <th>param_p</th>\n",
       "      <th>param_n_neighbors</th>\n",
       "      <th>params</th>\n",
       "      <th>split0_test_score</th>\n",
       "      <th>split1_test_score</th>\n",
       "      <th>split2_test_score</th>\n",
       "      <th>mean_test_score</th>\n",
       "      <th>std_test_score</th>\n",
       "      <th>rank_test_score</th>\n",
       "      <th>split0_train_score</th>\n",
       "      <th>split1_train_score</th>\n",
       "      <th>split2_train_score</th>\n",
       "      <th>mean_train_score</th>\n",
       "      <th>std_train_score</th>\n",
       "    </tr>\n",
       "  </thead>\n",
       "  <tbody>\n",
       "    <tr>\n",
       "      <th>0</th>\n",
       "      <td>2.996525</td>\n",
       "      <td>0.067889</td>\n",
       "      <td>43.000048</td>\n",
       "      <td>0.032307</td>\n",
       "      <td>uniform</td>\n",
       "      <td>1</td>\n",
       "      <td>21</td>\n",
       "      <td>{'weights': 'uniform', 'p': 1, 'n_neighbors': 21}</td>\n",
       "      <td>-0.157810</td>\n",
       "      <td>-0.158466</td>\n",
       "      <td>-0.157986</td>\n",
       "      <td>-0.158087</td>\n",
       "      <td>0.000277</td>\n",
       "      <td>1</td>\n",
       "      <td>-0.154657</td>\n",
       "      <td>-0.155147</td>\n",
       "      <td>-0.155593</td>\n",
       "      <td>-0.155132</td>\n",
       "      <td>0.000382</td>\n",
       "    </tr>\n",
       "    <tr>\n",
       "      <th>2</th>\n",
       "      <td>2.754794</td>\n",
       "      <td>0.144825</td>\n",
       "      <td>16.073277</td>\n",
       "      <td>1.544903</td>\n",
       "      <td>distance</td>\n",
       "      <td>2</td>\n",
       "      <td>17</td>\n",
       "      <td>{'weights': 'distance', 'p': 2, 'n_neighbors':...</td>\n",
       "      <td>-0.158472</td>\n",
       "      <td>-0.158593</td>\n",
       "      <td>-0.157445</td>\n",
       "      <td>-0.158170</td>\n",
       "      <td>0.000515</td>\n",
       "      <td>2</td>\n",
       "      <td>-0.154298</td>\n",
       "      <td>-0.154731</td>\n",
       "      <td>-0.154897</td>\n",
       "      <td>-0.154642</td>\n",
       "      <td>0.000252</td>\n",
       "    </tr>\n",
       "    <tr>\n",
       "      <th>1</th>\n",
       "      <td>2.891978</td>\n",
       "      <td>0.072911</td>\n",
       "      <td>17.140075</td>\n",
       "      <td>0.295710</td>\n",
       "      <td>distance</td>\n",
       "      <td>1</td>\n",
       "      <td>19</td>\n",
       "      <td>{'weights': 'distance', 'p': 1, 'n_neighbors':...</td>\n",
       "      <td>-0.158210</td>\n",
       "      <td>-0.159334</td>\n",
       "      <td>-0.157176</td>\n",
       "      <td>-0.158240</td>\n",
       "      <td>0.000882</td>\n",
       "      <td>3</td>\n",
       "      <td>-0.154145</td>\n",
       "      <td>-0.155100</td>\n",
       "      <td>-0.154628</td>\n",
       "      <td>-0.154624</td>\n",
       "      <td>0.000390</td>\n",
       "    </tr>\n",
       "    <tr>\n",
       "      <th>3</th>\n",
       "      <td>2.700143</td>\n",
       "      <td>0.139525</td>\n",
       "      <td>16.044189</td>\n",
       "      <td>1.073599</td>\n",
       "      <td>distance</td>\n",
       "      <td>1</td>\n",
       "      <td>21</td>\n",
       "      <td>{'weights': 'distance', 'p': 1, 'n_neighbors':...</td>\n",
       "      <td>-0.158207</td>\n",
       "      <td>-0.158962</td>\n",
       "      <td>-0.158421</td>\n",
       "      <td>-0.158530</td>\n",
       "      <td>0.000318</td>\n",
       "      <td>4</td>\n",
       "      <td>-0.153986</td>\n",
       "      <td>-0.154569</td>\n",
       "      <td>-0.154962</td>\n",
       "      <td>-0.154506</td>\n",
       "      <td>0.000401</td>\n",
       "    </tr>\n",
       "  </tbody>\n",
       "</table>\n",
       "</div>"
      ],
      "text/plain": [
       "   mean_fit_time  std_fit_time  mean_score_time  std_score_time param_weights   \n",
       "0       2.996525      0.067889        43.000048        0.032307       uniform  \\\n",
       "2       2.754794      0.144825        16.073277        1.544903      distance   \n",
       "1       2.891978      0.072911        17.140075        0.295710      distance   \n",
       "3       2.700143      0.139525        16.044189        1.073599      distance   \n",
       "\n",
       "  param_p param_n_neighbors   \n",
       "0       1                21  \\\n",
       "2       2                17   \n",
       "1       1                19   \n",
       "3       1                21   \n",
       "\n",
       "                                              params  split0_test_score   \n",
       "0  {'weights': 'uniform', 'p': 1, 'n_neighbors': 21}          -0.157810  \\\n",
       "2  {'weights': 'distance', 'p': 2, 'n_neighbors':...          -0.158472   \n",
       "1  {'weights': 'distance', 'p': 1, 'n_neighbors':...          -0.158210   \n",
       "3  {'weights': 'distance', 'p': 1, 'n_neighbors':...          -0.158207   \n",
       "\n",
       "   split1_test_score  split2_test_score  mean_test_score  std_test_score   \n",
       "0          -0.158466          -0.157986        -0.158087        0.000277  \\\n",
       "2          -0.158593          -0.157445        -0.158170        0.000515   \n",
       "1          -0.159334          -0.157176        -0.158240        0.000882   \n",
       "3          -0.158962          -0.158421        -0.158530        0.000318   \n",
       "\n",
       "   rank_test_score  split0_train_score  split1_train_score   \n",
       "0                1           -0.154657           -0.155147  \\\n",
       "2                2           -0.154298           -0.154731   \n",
       "1                3           -0.154145           -0.155100   \n",
       "3                4           -0.153986           -0.154569   \n",
       "\n",
       "   split2_train_score  mean_train_score  std_train_score  \n",
       "0           -0.155593         -0.155132         0.000382  \n",
       "2           -0.154897         -0.154642         0.000252  \n",
       "1           -0.154628         -0.154624         0.000390  \n",
       "3           -0.154962         -0.154506         0.000401  "
      ]
     },
     "execution_count": 33,
     "metadata": {},
     "output_type": "execute_result"
    }
   ],
   "source": [
    "random_model.results.head()"
   ]
  },
  {
   "cell_type": "code",
   "execution_count": 34,
   "metadata": {},
   "outputs": [
    {
     "data": {
      "text/html": [
       "<style>#sk-container-id-2 {color: black;background-color: white;}#sk-container-id-2 pre{padding: 0;}#sk-container-id-2 div.sk-toggleable {background-color: white;}#sk-container-id-2 label.sk-toggleable__label {cursor: pointer;display: block;width: 100%;margin-bottom: 0;padding: 0.3em;box-sizing: border-box;text-align: center;}#sk-container-id-2 label.sk-toggleable__label-arrow:before {content: \"▸\";float: left;margin-right: 0.25em;color: #696969;}#sk-container-id-2 label.sk-toggleable__label-arrow:hover:before {color: black;}#sk-container-id-2 div.sk-estimator:hover label.sk-toggleable__label-arrow:before {color: black;}#sk-container-id-2 div.sk-toggleable__content {max-height: 0;max-width: 0;overflow: hidden;text-align: left;background-color: #f0f8ff;}#sk-container-id-2 div.sk-toggleable__content pre {margin: 0.2em;color: black;border-radius: 0.25em;background-color: #f0f8ff;}#sk-container-id-2 input.sk-toggleable__control:checked~div.sk-toggleable__content {max-height: 200px;max-width: 100%;overflow: auto;}#sk-container-id-2 input.sk-toggleable__control:checked~label.sk-toggleable__label-arrow:before {content: \"▾\";}#sk-container-id-2 div.sk-estimator input.sk-toggleable__control:checked~label.sk-toggleable__label {background-color: #d4ebff;}#sk-container-id-2 div.sk-label input.sk-toggleable__control:checked~label.sk-toggleable__label {background-color: #d4ebff;}#sk-container-id-2 input.sk-hidden--visually {border: 0;clip: rect(1px 1px 1px 1px);clip: rect(1px, 1px, 1px, 1px);height: 1px;margin: -1px;overflow: hidden;padding: 0;position: absolute;width: 1px;}#sk-container-id-2 div.sk-estimator {font-family: monospace;background-color: #f0f8ff;border: 1px dotted black;border-radius: 0.25em;box-sizing: border-box;margin-bottom: 0.5em;}#sk-container-id-2 div.sk-estimator:hover {background-color: #d4ebff;}#sk-container-id-2 div.sk-parallel-item::after {content: \"\";width: 100%;border-bottom: 1px solid gray;flex-grow: 1;}#sk-container-id-2 div.sk-label:hover label.sk-toggleable__label {background-color: #d4ebff;}#sk-container-id-2 div.sk-serial::before {content: \"\";position: absolute;border-left: 1px solid gray;box-sizing: border-box;top: 0;bottom: 0;left: 50%;z-index: 0;}#sk-container-id-2 div.sk-serial {display: flex;flex-direction: column;align-items: center;background-color: white;padding-right: 0.2em;padding-left: 0.2em;position: relative;}#sk-container-id-2 div.sk-item {position: relative;z-index: 1;}#sk-container-id-2 div.sk-parallel {display: flex;align-items: stretch;justify-content: center;background-color: white;position: relative;}#sk-container-id-2 div.sk-item::before, #sk-container-id-2 div.sk-parallel-item::before {content: \"\";position: absolute;border-left: 1px solid gray;box-sizing: border-box;top: 0;bottom: 0;left: 50%;z-index: -1;}#sk-container-id-2 div.sk-parallel-item {display: flex;flex-direction: column;z-index: 1;position: relative;background-color: white;}#sk-container-id-2 div.sk-parallel-item:first-child::after {align-self: flex-end;width: 50%;}#sk-container-id-2 div.sk-parallel-item:last-child::after {align-self: flex-start;width: 50%;}#sk-container-id-2 div.sk-parallel-item:only-child::after {width: 0;}#sk-container-id-2 div.sk-dashed-wrapped {border: 1px dashed gray;margin: 0 0.4em 0.5em 0.4em;box-sizing: border-box;padding-bottom: 0.4em;background-color: white;}#sk-container-id-2 div.sk-label label {font-family: monospace;font-weight: bold;display: inline-block;line-height: 1.2em;}#sk-container-id-2 div.sk-label-container {text-align: center;}#sk-container-id-2 div.sk-container {/* jupyter's `normalize.less` sets `[hidden] { display: none; }` but bootstrap.min.css set `[hidden] { display: none !important; }` so we also need the `!important` here to be able to override the default hidden behavior on the sphinx rendered scikit-learn.org. See: https://github.com/scikit-learn/scikit-learn/issues/21755 */display: inline-block !important;position: relative;}#sk-container-id-2 div.sk-text-repr-fallback {display: none;}</style><div id=\"sk-container-id-2\" class=\"sk-top-container\"><div class=\"sk-text-repr-fallback\"><pre>RandomizedSearchCV(cv=3, estimator=KNeighborsClassifier(), n_iter=4, n_jobs=-1,\n",
       "                   param_distributions={&#x27;n_neighbors&#x27;: [21, 27, 15, 17, 19],\n",
       "                                        &#x27;p&#x27;: [1, 2],\n",
       "                                        &#x27;weights&#x27;: [&#x27;uniform&#x27;, &#x27;distance&#x27;]},\n",
       "                   random_state=42, return_train_score=True,\n",
       "                   scoring=&#x27;neg_mean_squared_error&#x27;)</pre><b>In a Jupyter environment, please rerun this cell to show the HTML representation or trust the notebook. <br />On GitHub, the HTML representation is unable to render, please try loading this page with nbviewer.org.</b></div><div class=\"sk-container\" hidden><div class=\"sk-item sk-dashed-wrapped\"><div class=\"sk-label-container\"><div class=\"sk-label sk-toggleable\"><input class=\"sk-toggleable__control sk-hidden--visually\" id=\"sk-estimator-id-2\" type=\"checkbox\" ><label for=\"sk-estimator-id-2\" class=\"sk-toggleable__label sk-toggleable__label-arrow\">RandomizedSearchCV</label><div class=\"sk-toggleable__content\"><pre>RandomizedSearchCV(cv=3, estimator=KNeighborsClassifier(), n_iter=4, n_jobs=-1,\n",
       "                   param_distributions={&#x27;n_neighbors&#x27;: [21, 27, 15, 17, 19],\n",
       "                                        &#x27;p&#x27;: [1, 2],\n",
       "                                        &#x27;weights&#x27;: [&#x27;uniform&#x27;, &#x27;distance&#x27;]},\n",
       "                   random_state=42, return_train_score=True,\n",
       "                   scoring=&#x27;neg_mean_squared_error&#x27;)</pre></div></div></div><div class=\"sk-parallel\"><div class=\"sk-parallel-item\"><div class=\"sk-item\"><div class=\"sk-label-container\"><div class=\"sk-label sk-toggleable\"><input class=\"sk-toggleable__control sk-hidden--visually\" id=\"sk-estimator-id-3\" type=\"checkbox\" ><label for=\"sk-estimator-id-3\" class=\"sk-toggleable__label sk-toggleable__label-arrow\">estimator: KNeighborsClassifier</label><div class=\"sk-toggleable__content\"><pre>KNeighborsClassifier()</pre></div></div></div><div class=\"sk-serial\"><div class=\"sk-item\"><div class=\"sk-estimator sk-toggleable\"><input class=\"sk-toggleable__control sk-hidden--visually\" id=\"sk-estimator-id-4\" type=\"checkbox\" ><label for=\"sk-estimator-id-4\" class=\"sk-toggleable__label sk-toggleable__label-arrow\">KNeighborsClassifier</label><div class=\"sk-toggleable__content\"><pre>KNeighborsClassifier()</pre></div></div></div></div></div></div></div></div></div></div>"
      ],
      "text/plain": [
       "RandomizedSearchCV(cv=3, estimator=KNeighborsClassifier(), n_iter=4, n_jobs=-1,\n",
       "                   param_distributions={'n_neighbors': [21, 27, 15, 17, 19],\n",
       "                                        'p': [1, 2],\n",
       "                                        'weights': ['uniform', 'distance']},\n",
       "                   random_state=42, return_train_score=True,\n",
       "                   scoring='neg_mean_squared_error')"
      ]
     },
     "execution_count": 34,
     "metadata": {},
     "output_type": "execute_result"
    }
   ],
   "source": [
    "random_model.randomsearch"
   ]
  },
  {
   "cell_type": "code",
   "execution_count": 35,
   "metadata": {},
   "outputs": [
    {
     "data": {
      "text/html": [
       "<style>#sk-container-id-3 {color: black;background-color: white;}#sk-container-id-3 pre{padding: 0;}#sk-container-id-3 div.sk-toggleable {background-color: white;}#sk-container-id-3 label.sk-toggleable__label {cursor: pointer;display: block;width: 100%;margin-bottom: 0;padding: 0.3em;box-sizing: border-box;text-align: center;}#sk-container-id-3 label.sk-toggleable__label-arrow:before {content: \"▸\";float: left;margin-right: 0.25em;color: #696969;}#sk-container-id-3 label.sk-toggleable__label-arrow:hover:before {color: black;}#sk-container-id-3 div.sk-estimator:hover label.sk-toggleable__label-arrow:before {color: black;}#sk-container-id-3 div.sk-toggleable__content {max-height: 0;max-width: 0;overflow: hidden;text-align: left;background-color: #f0f8ff;}#sk-container-id-3 div.sk-toggleable__content pre {margin: 0.2em;color: black;border-radius: 0.25em;background-color: #f0f8ff;}#sk-container-id-3 input.sk-toggleable__control:checked~div.sk-toggleable__content {max-height: 200px;max-width: 100%;overflow: auto;}#sk-container-id-3 input.sk-toggleable__control:checked~label.sk-toggleable__label-arrow:before {content: \"▾\";}#sk-container-id-3 div.sk-estimator input.sk-toggleable__control:checked~label.sk-toggleable__label {background-color: #d4ebff;}#sk-container-id-3 div.sk-label input.sk-toggleable__control:checked~label.sk-toggleable__label {background-color: #d4ebff;}#sk-container-id-3 input.sk-hidden--visually {border: 0;clip: rect(1px 1px 1px 1px);clip: rect(1px, 1px, 1px, 1px);height: 1px;margin: -1px;overflow: hidden;padding: 0;position: absolute;width: 1px;}#sk-container-id-3 div.sk-estimator {font-family: monospace;background-color: #f0f8ff;border: 1px dotted black;border-radius: 0.25em;box-sizing: border-box;margin-bottom: 0.5em;}#sk-container-id-3 div.sk-estimator:hover {background-color: #d4ebff;}#sk-container-id-3 div.sk-parallel-item::after {content: \"\";width: 100%;border-bottom: 1px solid gray;flex-grow: 1;}#sk-container-id-3 div.sk-label:hover label.sk-toggleable__label {background-color: #d4ebff;}#sk-container-id-3 div.sk-serial::before {content: \"\";position: absolute;border-left: 1px solid gray;box-sizing: border-box;top: 0;bottom: 0;left: 50%;z-index: 0;}#sk-container-id-3 div.sk-serial {display: flex;flex-direction: column;align-items: center;background-color: white;padding-right: 0.2em;padding-left: 0.2em;position: relative;}#sk-container-id-3 div.sk-item {position: relative;z-index: 1;}#sk-container-id-3 div.sk-parallel {display: flex;align-items: stretch;justify-content: center;background-color: white;position: relative;}#sk-container-id-3 div.sk-item::before, #sk-container-id-3 div.sk-parallel-item::before {content: \"\";position: absolute;border-left: 1px solid gray;box-sizing: border-box;top: 0;bottom: 0;left: 50%;z-index: -1;}#sk-container-id-3 div.sk-parallel-item {display: flex;flex-direction: column;z-index: 1;position: relative;background-color: white;}#sk-container-id-3 div.sk-parallel-item:first-child::after {align-self: flex-end;width: 50%;}#sk-container-id-3 div.sk-parallel-item:last-child::after {align-self: flex-start;width: 50%;}#sk-container-id-3 div.sk-parallel-item:only-child::after {width: 0;}#sk-container-id-3 div.sk-dashed-wrapped {border: 1px dashed gray;margin: 0 0.4em 0.5em 0.4em;box-sizing: border-box;padding-bottom: 0.4em;background-color: white;}#sk-container-id-3 div.sk-label label {font-family: monospace;font-weight: bold;display: inline-block;line-height: 1.2em;}#sk-container-id-3 div.sk-label-container {text-align: center;}#sk-container-id-3 div.sk-container {/* jupyter's `normalize.less` sets `[hidden] { display: none; }` but bootstrap.min.css set `[hidden] { display: none !important; }` so we also need the `!important` here to be able to override the default hidden behavior on the sphinx rendered scikit-learn.org. See: https://github.com/scikit-learn/scikit-learn/issues/21755 */display: inline-block !important;position: relative;}#sk-container-id-3 div.sk-text-repr-fallback {display: none;}</style><div id=\"sk-container-id-3\" class=\"sk-top-container\"><div class=\"sk-text-repr-fallback\"><pre>RandomizedSearchCV(cv=3, estimator=KNeighborsClassifier(), n_iter=4, n_jobs=-1,\n",
       "                   param_distributions={&#x27;n_neighbors&#x27;: [21, 27, 15, 17, 19],\n",
       "                                        &#x27;p&#x27;: [1, 2],\n",
       "                                        &#x27;weights&#x27;: [&#x27;uniform&#x27;, &#x27;distance&#x27;]},\n",
       "                   random_state=42, return_train_score=True,\n",
       "                   scoring=&#x27;neg_mean_squared_error&#x27;)</pre><b>In a Jupyter environment, please rerun this cell to show the HTML representation or trust the notebook. <br />On GitHub, the HTML representation is unable to render, please try loading this page with nbviewer.org.</b></div><div class=\"sk-container\" hidden><div class=\"sk-item sk-dashed-wrapped\"><div class=\"sk-label-container\"><div class=\"sk-label sk-toggleable\"><input class=\"sk-toggleable__control sk-hidden--visually\" id=\"sk-estimator-id-5\" type=\"checkbox\" ><label for=\"sk-estimator-id-5\" class=\"sk-toggleable__label sk-toggleable__label-arrow\">RandomizedSearchCV</label><div class=\"sk-toggleable__content\"><pre>RandomizedSearchCV(cv=3, estimator=KNeighborsClassifier(), n_iter=4, n_jobs=-1,\n",
       "                   param_distributions={&#x27;n_neighbors&#x27;: [21, 27, 15, 17, 19],\n",
       "                                        &#x27;p&#x27;: [1, 2],\n",
       "                                        &#x27;weights&#x27;: [&#x27;uniform&#x27;, &#x27;distance&#x27;]},\n",
       "                   random_state=42, return_train_score=True,\n",
       "                   scoring=&#x27;neg_mean_squared_error&#x27;)</pre></div></div></div><div class=\"sk-parallel\"><div class=\"sk-parallel-item\"><div class=\"sk-item\"><div class=\"sk-label-container\"><div class=\"sk-label sk-toggleable\"><input class=\"sk-toggleable__control sk-hidden--visually\" id=\"sk-estimator-id-6\" type=\"checkbox\" ><label for=\"sk-estimator-id-6\" class=\"sk-toggleable__label sk-toggleable__label-arrow\">estimator: KNeighborsClassifier</label><div class=\"sk-toggleable__content\"><pre>KNeighborsClassifier()</pre></div></div></div><div class=\"sk-serial\"><div class=\"sk-item\"><div class=\"sk-estimator sk-toggleable\"><input class=\"sk-toggleable__control sk-hidden--visually\" id=\"sk-estimator-id-7\" type=\"checkbox\" ><label for=\"sk-estimator-id-7\" class=\"sk-toggleable__label sk-toggleable__label-arrow\">KNeighborsClassifier</label><div class=\"sk-toggleable__content\"><pre>KNeighborsClassifier()</pre></div></div></div></div></div></div></div></div></div></div>"
      ],
      "text/plain": [
       "RandomizedSearchCV(cv=3, estimator=KNeighborsClassifier(), n_iter=4, n_jobs=-1,\n",
       "                   param_distributions={'n_neighbors': [21, 27, 15, 17, 19],\n",
       "                                        'p': [1, 2],\n",
       "                                        'weights': ['uniform', 'distance']},\n",
       "                   random_state=42, return_train_score=True,\n",
       "                   scoring='neg_mean_squared_error')"
      ]
     },
     "execution_count": 35,
     "metadata": {},
     "output_type": "execute_result"
    }
   ],
   "source": [
    "random_model.random_fit"
   ]
  },
  {
   "cell_type": "code",
   "execution_count": 36,
   "metadata": {},
   "outputs": [],
   "source": [
    "\n",
    "\n",
    "metrics_random = metrics(model = random_model.randomsearch.fit(normalized.X_train ,y_train),\n",
    "X_train =normalized.X_train,X_test = normalized.X_test, y_train=y_train ,y_test=y_test)"
   ]
  },
  {
   "cell_type": "code",
   "execution_count": 37,
   "metadata": {},
   "outputs": [
    {
     "name": "stdout",
     "output_type": "stream",
     "text": [
      "              precision    recall  f1-score   support\n",
      "\n",
      "       Clear       0.02      0.01      0.01    109795\n",
      "      LTE_1M       0.42      1.00      0.59    109999\n",
      "     WIFI_1M       1.00      0.21      0.34    110206\n",
      "\n",
      "    accuracy                           0.41    330000\n",
      "   macro avg       0.48      0.41      0.31    330000\n",
      "weighted avg       0.48      0.41      0.31    330000\n",
      "\n"
     ]
    }
   ],
   "source": [
    "metrics_random.report()"
   ]
  },
  {
   "cell_type": "code",
   "execution_count": 38,
   "metadata": {},
   "outputs": [
    {
     "data": {
      "text/plain": [
       "array([[   807, 108984,      4],\n",
       "       [     4, 109993,      2],\n",
       "       [ 41706,  45587,  22913]], dtype=int64)"
      ]
     },
     "execution_count": 38,
     "metadata": {},
     "output_type": "execute_result"
    }
   ],
   "source": [
    "metrics_random.confusion_matrix()"
   ]
  },
  {
   "attachments": {},
   "cell_type": "markdown",
   "metadata": {},
   "source": [
    "### WIFI & CLEAR"
   ]
  },
  {
   "cell_type": "code",
   "execution_count": 14,
   "metadata": {},
   "outputs": [
    {
     "name": "stdout",
     "output_type": "stream",
     "text": [
      "Concatenação efetuada\n",
      "<class 'pandas.core.frame.DataFrame'>\n",
      "RangeIndex: 800000 entries, 0 to 799999\n",
      "Data columns (total 4 columns):\n",
      " #   Column   Non-Null Count   Dtype  \n",
      "---  ------   --------------   -----  \n",
      " 0   Signals  800000 non-null  object \n",
      " 1   Real     800000 non-null  float32\n",
      " 2   Imag     800000 non-null  float32\n",
      " 3   ID       800000 non-null  object \n",
      "dtypes: float32(2), object(2)\n",
      "memory usage: 18.3+ MB\n"
     ]
    },
    {
     "data": {
      "text/html": [
       "<div>\n",
       "<style scoped>\n",
       "    .dataframe tbody tr th:only-of-type {\n",
       "        vertical-align: middle;\n",
       "    }\n",
       "\n",
       "    .dataframe tbody tr th {\n",
       "        vertical-align: top;\n",
       "    }\n",
       "\n",
       "    .dataframe thead th {\n",
       "        text-align: right;\n",
       "    }\n",
       "</style>\n",
       "<table border=\"1\" class=\"dataframe\">\n",
       "  <thead>\n",
       "    <tr style=\"text-align: right;\">\n",
       "      <th></th>\n",
       "      <th>Signals</th>\n",
       "      <th>Real</th>\n",
       "      <th>Imag</th>\n",
       "      <th>ID</th>\n",
       "    </tr>\n",
       "  </thead>\n",
       "  <tbody>\n",
       "    <tr>\n",
       "      <th>0</th>\n",
       "      <td>Clear</td>\n",
       "      <td>0.004425</td>\n",
       "      <td>0.006348</td>\n",
       "      <td>Clear</td>\n",
       "    </tr>\n",
       "    <tr>\n",
       "      <th>1</th>\n",
       "      <td>Clear</td>\n",
       "      <td>0.005676</td>\n",
       "      <td>0.006348</td>\n",
       "      <td>Clear</td>\n",
       "    </tr>\n",
       "    <tr>\n",
       "      <th>2</th>\n",
       "      <td>Clear</td>\n",
       "      <td>0.006317</td>\n",
       "      <td>0.007904</td>\n",
       "      <td>Clear</td>\n",
       "    </tr>\n",
       "    <tr>\n",
       "      <th>3</th>\n",
       "      <td>Clear</td>\n",
       "      <td>0.006562</td>\n",
       "      <td>0.008515</td>\n",
       "      <td>Clear</td>\n",
       "    </tr>\n",
       "    <tr>\n",
       "      <th>4</th>\n",
       "      <td>Clear</td>\n",
       "      <td>0.006745</td>\n",
       "      <td>0.009980</td>\n",
       "      <td>Clear</td>\n",
       "    </tr>\n",
       "    <tr>\n",
       "      <th>...</th>\n",
       "      <td>...</td>\n",
       "      <td>...</td>\n",
       "      <td>...</td>\n",
       "      <td>...</td>\n",
       "    </tr>\n",
       "    <tr>\n",
       "      <th>799995</th>\n",
       "      <td>WIFI_1M</td>\n",
       "      <td>-0.000519</td>\n",
       "      <td>-0.000488</td>\n",
       "      <td>WIFI_1M</td>\n",
       "    </tr>\n",
       "    <tr>\n",
       "      <th>799996</th>\n",
       "      <td>WIFI_1M</td>\n",
       "      <td>-0.000336</td>\n",
       "      <td>-0.000732</td>\n",
       "      <td>WIFI_1M</td>\n",
       "    </tr>\n",
       "    <tr>\n",
       "      <th>799997</th>\n",
       "      <td>WIFI_1M</td>\n",
       "      <td>-0.000336</td>\n",
       "      <td>-0.000732</td>\n",
       "      <td>WIFI_1M</td>\n",
       "    </tr>\n",
       "    <tr>\n",
       "      <th>799998</th>\n",
       "      <td>WIFI_1M</td>\n",
       "      <td>-0.000427</td>\n",
       "      <td>-0.000580</td>\n",
       "      <td>WIFI_1M</td>\n",
       "    </tr>\n",
       "    <tr>\n",
       "      <th>799999</th>\n",
       "      <td>WIFI_1M</td>\n",
       "      <td>-0.000549</td>\n",
       "      <td>-0.000580</td>\n",
       "      <td>WIFI_1M</td>\n",
       "    </tr>\n",
       "  </tbody>\n",
       "</table>\n",
       "<p>800000 rows × 4 columns</p>\n",
       "</div>"
      ],
      "text/plain": [
       "        Signals      Real      Imag       ID\n",
       "0         Clear  0.004425  0.006348    Clear\n",
       "1         Clear  0.005676  0.006348    Clear\n",
       "2         Clear  0.006317  0.007904    Clear\n",
       "3         Clear  0.006562  0.008515    Clear\n",
       "4         Clear  0.006745  0.009980    Clear\n",
       "...         ...       ...       ...      ...\n",
       "799995  WIFI_1M -0.000519 -0.000488  WIFI_1M\n",
       "799996  WIFI_1M -0.000336 -0.000732  WIFI_1M\n",
       "799997  WIFI_1M -0.000336 -0.000732  WIFI_1M\n",
       "799998  WIFI_1M -0.000427 -0.000580  WIFI_1M\n",
       "799999  WIFI_1M -0.000549 -0.000580  WIFI_1M\n",
       "\n",
       "[800000 rows x 4 columns]"
      ]
     },
     "execution_count": 14,
     "metadata": {},
     "output_type": "execute_result"
    }
   ],
   "source": [
    "WIFI_1M_Clear = concat_2(database1= CLEAR.database, database2=WIFI_1M.database ,sinal1 ='Clear',sinal2 = 'WIFI_1M')\n",
    "WIFI_1M_Clear.merge()\n",
    "WIFI_1M_Clear.concat.info()\n",
    "df_WIFI_CLEAR = WIFI_1M_Clear.concat \n",
    "df_WIFI_CLEAR\n",
    "\n"
   ]
  },
  {
   "cell_type": "code",
   "execution_count": 15,
   "metadata": {},
   "outputs": [
    {
     "name": "stdout",
     "output_type": "stream",
     "text": [
      "x_train:             Real      Imag\n",
      "347845  0.000000 -0.000641\n",
      "586568 -0.002930 -0.004852\n",
      "275306  0.000122 -0.001740\n",
      "475976 -0.009461 -0.013886\n",
      "26302  -0.002014 -0.016266\n",
      "...          ...       ...\n",
      "259178 -0.000061 -0.001770\n",
      "365838 -0.000061 -0.000397\n",
      "131932 -0.000641 -0.005951\n",
      "671155 -0.001282 -0.002014\n",
      "121958 -0.000610 -0.006317\n",
      "\n",
      "[579999 rows x 2 columns]\n",
      "y_train:             Real      Imag\n",
      "212188 -0.000366 -0.002716\n",
      "299036  0.000153 -0.001160\n",
      "475978 -0.009613 -0.014069\n",
      "588988 -0.003082 -0.004822\n",
      "138859 -0.000549 -0.005432\n",
      "...          ...       ...\n",
      "457258 -0.011444 -0.016663\n",
      "76622  -0.001160 -0.009888\n",
      "428389 -0.014863 -0.022065\n",
      "505162 -0.007172 -0.010773\n",
      "406966 -0.018891 -0.027680\n",
      "\n",
      "[220001 rows x 2 columns]\n",
      "x_test: 347845      Clear\n",
      "586568    WIFI_1M\n",
      "275306      Clear\n",
      "475976    WIFI_1M\n",
      "26302       Clear\n",
      "           ...   \n",
      "259178      Clear\n",
      "365838      Clear\n",
      "131932      Clear\n",
      "671155    WIFI_1M\n",
      "121958      Clear\n",
      "Name: ID, Length: 579999, dtype: object\n",
      "y_test: 212188      Clear\n",
      "299036      Clear\n",
      "475978    WIFI_1M\n",
      "588988    WIFI_1M\n",
      "138859      Clear\n",
      "           ...   \n",
      "457258    WIFI_1M\n",
      "76622       Clear\n",
      "428389    WIFI_1M\n",
      "505162    WIFI_1M\n",
      "406966    WIFI_1M\n",
      "Name: ID, Length: 220001, dtype: object\n"
     ]
    }
   ],
   "source": [
    "from Library.TrainTestSplit_ import TrainTestSplit \n",
    "spliter = TrainTestSplit(data = df_WIFI_CLEAR)\n",
    "# Acessando os conjuntos de treinamento e teste\n",
    "X_train_Wifi_clear, X_test_Wifi_clear, y_train_Wifi_clear, y_test_Wifi_clear =spliter.train_test_split( test_size=0.275, random_state=42)\n",
    "\n",
    "print(\"x_train:\", X_train_Wifi_clear)\n",
    "print(\"y_train:\", X_test_Wifi_clear)\n",
    "print(\"x_test:\", y_train_Wifi_clear)\n",
    "print(\"y_test:\", y_test_Wifi_clear)\n"
   ]
  },
  {
   "cell_type": "code",
   "execution_count": 21,
   "metadata": {},
   "outputs": [
    {
     "data": {
      "image/png": "[encoded data removed]",
      "text/plain": [
       "<Figure size 640x480 with 1 Axes>"
      ]
     },
     "metadata": {},
     "output_type": "display_data"
    }
   ],
   "source": [
    "\n",
    "vis.plot_pie(y_test_Wifi_clear) # Distruição de X_train"
   ]
  },
  {
   "cell_type": "code",
   "execution_count": 23,
   "metadata": {},
   "outputs": [
    {
     "name": "stdout",
     "output_type": "stream",
     "text": [
      "\n",
      " normalized.X_test: [[0.4078374  0.38295454]\n",
      " [0.41606188 0.40227273]\n",
      " [0.26124817 0.24204545]\n",
      " ...\n",
      " [0.17803577 0.14280304]\n",
      " [0.29995158 0.2829545 ]\n",
      " [0.11417511 0.07310605]]\n",
      "normalized.X_train [[0.403203   0.46605256]\n",
      " [0.35798398 0.41896963]\n",
      " [0.40508714 0.45377004]\n",
      " ...\n",
      " [0.39331135 0.40668714]\n",
      " [0.3834197  0.45069942]\n",
      " [0.39378238 0.402593  ]]\n"
     ]
    }
   ],
   "source": [
    "\n",
    "normalized = Normalizing(X_train=X_train_Wifi_clear, X_test= X_test_Wifi_clear)\n",
    "print(f\"\"\"\\n normalized.X_test: {normalized.X_test}\n",
    "normalized.X_train {normalized.X_train}\"\"\")"
   ]
  },
  {
   "cell_type": "code",
   "execution_count": 26,
   "metadata": {},
   "outputs": [
    {
     "data": {
      "text/html": [
       "<style>#sk-container-id-1 {color: black;background-color: white;}#sk-container-id-1 pre{padding: 0;}#sk-container-id-1 div.sk-toggleable {background-color: white;}#sk-container-id-1 label.sk-toggleable__label {cursor: pointer;display: block;width: 100%;margin-bottom: 0;padding: 0.3em;box-sizing: border-box;text-align: center;}#sk-container-id-1 label.sk-toggleable__label-arrow:before {content: \"▸\";float: left;margin-right: 0.25em;color: #696969;}#sk-container-id-1 label.sk-toggleable__label-arrow:hover:before {color: black;}#sk-container-id-1 div.sk-estimator:hover label.sk-toggleable__label-arrow:before {color: black;}#sk-container-id-1 div.sk-toggleable__content {max-height: 0;max-width: 0;overflow: hidden;text-align: left;background-color: #f0f8ff;}#sk-container-id-1 div.sk-toggleable__content pre {margin: 0.2em;color: black;border-radius: 0.25em;background-color: #f0f8ff;}#sk-container-id-1 input.sk-toggleable__control:checked~div.sk-toggleable__content {max-height: 200px;max-width: 100%;overflow: auto;}#sk-container-id-1 input.sk-toggleable__control:checked~label.sk-toggleable__label-arrow:before {content: \"▾\";}#sk-container-id-1 div.sk-estimator input.sk-toggleable__control:checked~label.sk-toggleable__label {background-color: #d4ebff;}#sk-container-id-1 div.sk-label input.sk-toggleable__control:checked~label.sk-toggleable__label {background-color: #d4ebff;}#sk-container-id-1 input.sk-hidden--visually {border: 0;clip: rect(1px 1px 1px 1px);clip: rect(1px, 1px, 1px, 1px);height: 1px;margin: -1px;overflow: hidden;padding: 0;position: absolute;width: 1px;}#sk-container-id-1 div.sk-estimator {font-family: monospace;background-color: #f0f8ff;border: 1px dotted black;border-radius: 0.25em;box-sizing: border-box;margin-bottom: 0.5em;}#sk-container-id-1 div.sk-estimator:hover {background-color: #d4ebff;}#sk-container-id-1 div.sk-parallel-item::after {content: \"\";width: 100%;border-bottom: 1px solid gray;flex-grow: 1;}#sk-container-id-1 div.sk-label:hover label.sk-toggleable__label {background-color: #d4ebff;}#sk-container-id-1 div.sk-serial::before {content: \"\";position: absolute;border-left: 1px solid gray;box-sizing: border-box;top: 0;bottom: 0;left: 50%;z-index: 0;}#sk-container-id-1 div.sk-serial {display: flex;flex-direction: column;align-items: center;background-color: white;padding-right: 0.2em;padding-left: 0.2em;position: relative;}#sk-container-id-1 div.sk-item {position: relative;z-index: 1;}#sk-container-id-1 div.sk-parallel {display: flex;align-items: stretch;justify-content: center;background-color: white;position: relative;}#sk-container-id-1 div.sk-item::before, #sk-container-id-1 div.sk-parallel-item::before {content: \"\";position: absolute;border-left: 1px solid gray;box-sizing: border-box;top: 0;bottom: 0;left: 50%;z-index: -1;}#sk-container-id-1 div.sk-parallel-item {display: flex;flex-direction: column;z-index: 1;position: relative;background-color: white;}#sk-container-id-1 div.sk-parallel-item:first-child::after {align-self: flex-end;width: 50%;}#sk-container-id-1 div.sk-parallel-item:last-child::after {align-self: flex-start;width: 50%;}#sk-container-id-1 div.sk-parallel-item:only-child::after {width: 0;}#sk-container-id-1 div.sk-dashed-wrapped {border: 1px dashed gray;margin: 0 0.4em 0.5em 0.4em;box-sizing: border-box;padding-bottom: 0.4em;background-color: white;}#sk-container-id-1 div.sk-label label {font-family: monospace;font-weight: bold;display: inline-block;line-height: 1.2em;}#sk-container-id-1 div.sk-label-container {text-align: center;}#sk-container-id-1 div.sk-container {/* jupyter's `normalize.less` sets `[hidden] { display: none; }` but bootstrap.min.css set `[hidden] { display: none !important; }` so we also need the `!important` here to be able to override the default hidden behavior on the sphinx rendered scikit-learn.org. See: https://github.com/scikit-learn/scikit-learn/issues/21755 */display: inline-block !important;position: relative;}#sk-container-id-1 div.sk-text-repr-fallback {display: none;}</style><div id=\"sk-container-id-1\" class=\"sk-top-container\"><div class=\"sk-text-repr-fallback\"><pre>KNeighborsClassifier(n_neighbors=9, weights=&#x27;distance&#x27;)</pre><b>In a Jupyter environment, please rerun this cell to show the HTML representation or trust the notebook. <br />On GitHub, the HTML representation is unable to render, please try loading this page with nbviewer.org.</b></div><div class=\"sk-container\" hidden><div class=\"sk-item\"><div class=\"sk-estimator sk-toggleable\"><input class=\"sk-toggleable__control sk-hidden--visually\" id=\"sk-estimator-id-1\" type=\"checkbox\" checked><label for=\"sk-estimator-id-1\" class=\"sk-toggleable__label sk-toggleable__label-arrow\">KNeighborsClassifier</label><div class=\"sk-toggleable__content\"><pre>KNeighborsClassifier(n_neighbors=9, weights=&#x27;distance&#x27;)</pre></div></div></div></div></div>"
      ],
      "text/plain": [
       "KNeighborsClassifier(n_neighbors=9, weights='distance')"
      ]
     },
     "execution_count": 26,
     "metadata": {},
     "output_type": "execute_result"
    }
   ],
   "source": [
    "\n",
    "knn_fit_wifi_clear = knn.fit(normalized.X_train ,y_train_Wifi_clear)\n",
    "knn_fit_wifi_clear\n"
   ]
  },
  {
   "cell_type": "code",
   "execution_count": 27,
   "metadata": {},
   "outputs": [
    {
     "data": {
      "text/html": [
       "<div>\n",
       "<style scoped>\n",
       "    .dataframe tbody tr th:only-of-type {\n",
       "        vertical-align: middle;\n",
       "    }\n",
       "\n",
       "    .dataframe tbody tr th {\n",
       "        vertical-align: top;\n",
       "    }\n",
       "\n",
       "    .dataframe thead th {\n",
       "        text-align: right;\n",
       "    }\n",
       "</style>\n",
       "<table border=\"1\" class=\"dataframe\">\n",
       "  <thead>\n",
       "    <tr style=\"text-align: right;\">\n",
       "      <th></th>\n",
       "      <th>Score</th>\n",
       "      <th>Accuracy</th>\n",
       "      <th>F1-Score</th>\n",
       "      <th>Recall</th>\n",
       "    </tr>\n",
       "  </thead>\n",
       "  <tbody>\n",
       "    <tr>\n",
       "      <th>0</th>\n",
       "      <td>0.585534</td>\n",
       "      <td>0.585534</td>\n",
       "      <td>0.499552</td>\n",
       "      <td>0.585534</td>\n",
       "    </tr>\n",
       "  </tbody>\n",
       "</table>\n",
       "</div>"
      ],
      "text/plain": [
       "      Score  Accuracy  F1-Score    Recall\n",
       "0  0.585534  0.585534  0.499552  0.585534"
      ]
     },
     "execution_count": 27,
     "metadata": {},
     "output_type": "execute_result"
    }
   ],
   "source": [
    "metrics = metrics(model = knn_fit_wifi_clear,\n",
    "X_train =normalized.X_train,X_test = normalized.X_test, y_train=y_train_Wifi_clear ,y_test=y_test_Wifi_clear)\n",
    "\n",
    "metrics.table()"
   ]
  },
  {
   "cell_type": "code",
   "execution_count": 29,
   "metadata": {},
   "outputs": [
    {
     "data": {
      "image/png": "[encoded data removed]",
      "text/plain": [
       "<Figure size 1600x500 with 2 Axes>"
      ]
     },
     "metadata": {},
     "output_type": "display_data"
    }
   ],
   "source": [
    "confusion = Visualization()\n",
    "confusion_matrix_wifi_clear = confusion.confusion_matrix(model=knn_fit_wifi_clear,X_train =normalized.X_train,\n",
    "X_test= normalized.X_test, y_train= y_train_Wifi_clear, y_test= y_test_Wifi_clear)"
   ]
  },
  {
   "cell_type": "code",
   "execution_count": 31,
   "metadata": {},
   "outputs": [
    {
     "data": {
      "text/plain": [
       "array([[110010,      5],\n",
       "       [ 91178,  18808]], dtype=int64)"
      ]
     },
     "execution_count": 31,
     "metadata": {},
     "output_type": "execute_result"
    }
   ],
   "source": [
    "metrics.confusion_matrix()"
   ]
  },
  {
   "cell_type": "code",
   "execution_count": 32,
   "metadata": {},
   "outputs": [
    {
     "name": "stdout",
     "output_type": "stream",
     "text": [
      "              precision    recall  f1-score   support\n",
      "\n",
      "       Clear       0.55      1.00      0.71    110015\n",
      "     WIFI_1M       1.00      0.17      0.29    109986\n",
      "\n",
      "    accuracy                           0.59    220001\n",
      "   macro avg       0.77      0.59      0.50    220001\n",
      "weighted avg       0.77      0.59      0.50    220001\n",
      "\n"
     ]
    }
   ],
   "source": [
    "metrics.report()"
   ]
  },
  {
   "cell_type": "code",
   "execution_count": null,
   "metadata": {},
   "outputs": [],
   "source": []
  }
 ],
 "metadata": {
  "kernelspec": {
   "display_name": "venv",
   "language": "python",
   "name": "python3"
  },
  "language_info": {
   "codemirror_mode": {
    "name": "ipython",
    "version": 3
   },
   "file_extension": ".py",
   "mimetype": "text/x-python",
   "name": "python",
   "nbconvert_exporter": "python",
   "pygments_lexer": "ipython3",
   "version": "3.11.3"
  },
  "orig_nbformat": 4
 },
 "nbformat": 4,
 "nbformat_minor": 2
}
