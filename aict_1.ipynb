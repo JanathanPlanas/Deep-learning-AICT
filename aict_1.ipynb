{
 "cells": [
  {
   "attachments": {},
   "cell_type": "markdown",
   "metadata": {},
   "source": [
    "#             $$\\text{Gnu Radio Companion with Machine Learning} $$"
   ]
  },
  {
   "cell_type": "code",
   "execution_count": 2,
   "metadata": {},
   "outputs": [],
   "source": [
    "import pandas as pd\n",
    "import numpy as np\n",
    "import warnings \n",
    "warnings.filterwarnings('ignore')\n"
   ]
  },
  {
   "cell_type": "code",
   "execution_count": 4,
   "metadata": {},
   "outputs": [],
   "source": [
    "Clear = np.load(\"Data_\\Clear.npy\") \n",
    "WIFI_FLOOD = np.load(\"Data_\\WIFI_FLOOD.npy\")\n",
    "LTE_FLOOD = np.load(\"Data_\\LTE_FLOOD.bin.npy\")\n",
    "WIFI_300PING = np.load(\"Data_\\WIFI_PING300.npy\")\n",
    "LTE_300PING = np.load(\"Data_\\LTE_PING300.npy\")\n",
    "WIFI_1M = np.load(\"Data_\\WIFI_1M.npy\")\n",
    "LTE_1M = np.load(\"Data_\\LTE_1M.npy\")\n"
   ]
  },
  {
   "cell_type": "code",
   "execution_count": 18,
   "metadata": {},
   "outputs": [],
   "source": [
    "from Library.sinais_ import signal, concat_3\n",
    "Wifi = signal(data=WIFI_FLOOD,slice = 400000, sinal = 'WIFI_FLOOD',id = 'WIFI_FLOOD')\n"
   ]
  },
  {
   "cell_type": "code",
   "execution_count": 23,
   "metadata": {},
   "outputs": [
    {
     "name": "stdout",
     "output_type": "stream",
     "text": [
      "<class 'pandas.core.frame.DataFrame'>\n",
      "RangeIndex: 400000 entries, 0 to 399999\n",
      "Data columns (total 1 columns):\n",
      " #   Column  Non-Null Count   Dtype    \n",
      "---  ------  --------------   -----    \n",
      " 0   0       400000 non-null  complex64\n",
      "dtypes: complex64(1)\n",
      "memory usage: 3.1 MB\n",
      "None\n"
     ]
    }
   ],
   "source": [
    "Wifi.info()"
   ]
  },
  {
   "cell_type": "code",
   "execution_count": 50,
   "metadata": {},
   "outputs": [
    {
     "data": {
      "text/plain": [
       "(                  0\n",
       "  0.000153 -0.000031\n",
       "  0.000061 -0.000244\n",
       "  0.000000  0.000000\n",
       "  0.000183  0.000000\n",
       "  0.000214 -0.000061\n",
       " ...             ...\n",
       " -0.000305 -0.000183\n",
       " -0.000275 -0.000153\n",
       " -0.000397 -0.000702\n",
       " -0.000488 -0.000458\n",
       " -0.000427 -0.000366\n",
       " \n",
       " [400000 rows x 1 columns],\n",
       " None)"
      ]
     },
     "execution_count": 50,
     "metadata": {},
     "output_type": "execute_result"
    }
   ],
   "source": [
    "df = pd.DataFrame(Wifi.real, Wifi.imag)\n",
    "df , pd.set_option(\"mode.copy_on_write\", True)"
   ]
  },
  {
   "cell_type": "code",
   "execution_count": 51,
   "metadata": {},
   "outputs": [
    {
     "ename": "NameError",
     "evalue": "name 'ArrowDtype' is not defined",
     "output_type": "error",
     "traceback": [
      "\u001b[1;31m---------------------------------------------------------------------------\u001b[0m",
      "\u001b[1;31mNameError\u001b[0m                                 Traceback (most recent call last)",
      "Cell \u001b[1;32mIn[51], line 1\u001b[0m\n\u001b[1;32m----> 1\u001b[0m ds \u001b[39m=\u001b[39m df\u001b[39m.\u001b[39;49mconvert_dtypes(dtype_backend \u001b[39m=\u001b[39;49m\u001b[39m\"\u001b[39;49m\u001b[39mpyarrow\u001b[39;49m\u001b[39m\"\u001b[39;49m)\n",
      "File \u001b[1;32m~\\AppData\\Roaming\\Python\\Python311\\site-packages\\pandas\\core\\generic.py:6672\u001b[0m, in \u001b[0;36mNDFrame.convert_dtypes\u001b[1;34m(self, infer_objects, convert_string, convert_integer, convert_boolean, convert_floating, dtype_backend)\u001b[0m\n\u001b[0;32m   6663\u001b[0m     \u001b[39mreturn\u001b[39;00m \u001b[39mself\u001b[39m\u001b[39m.\u001b[39m_convert_dtypes(\n\u001b[0;32m   6664\u001b[0m         infer_objects,\n\u001b[0;32m   6665\u001b[0m         convert_string,\n\u001b[1;32m   (...)\u001b[0m\n\u001b[0;32m   6669\u001b[0m         dtype_backend\u001b[39m=\u001b[39mdtype_backend,\n\u001b[0;32m   6670\u001b[0m     )\n\u001b[0;32m   6671\u001b[0m \u001b[39melse\u001b[39;00m:\n\u001b[1;32m-> 6672\u001b[0m     results \u001b[39m=\u001b[39m [\n\u001b[0;32m   6673\u001b[0m         col\u001b[39m.\u001b[39;49m_convert_dtypes(\n\u001b[0;32m   6674\u001b[0m             infer_objects,\n\u001b[0;32m   6675\u001b[0m             convert_string,\n\u001b[0;32m   6676\u001b[0m             convert_integer,\n\u001b[0;32m   6677\u001b[0m             convert_boolean,\n\u001b[0;32m   6678\u001b[0m             convert_floating,\n\u001b[0;32m   6679\u001b[0m             dtype_backend\u001b[39m=\u001b[39;49mdtype_backend,\n\u001b[0;32m   6680\u001b[0m         )\n\u001b[0;32m   6681\u001b[0m         \u001b[39mfor\u001b[39;49;00m col_name, col \u001b[39min\u001b[39;49;00m \u001b[39mself\u001b[39;49m\u001b[39m.\u001b[39;49mitems()\n\u001b[0;32m   6682\u001b[0m     ]\n\u001b[0;32m   6683\u001b[0m     \u001b[39mif\u001b[39;00m \u001b[39mlen\u001b[39m(results) \u001b[39m>\u001b[39m \u001b[39m0\u001b[39m:\n\u001b[0;32m   6684\u001b[0m         result \u001b[39m=\u001b[39m concat(results, axis\u001b[39m=\u001b[39m\u001b[39m1\u001b[39m, copy\u001b[39m=\u001b[39m\u001b[39mFalse\u001b[39;00m, keys\u001b[39m=\u001b[39m\u001b[39mself\u001b[39m\u001b[39m.\u001b[39mcolumns)\n",
      "File \u001b[1;32m~\\AppData\\Roaming\\Python\\Python311\\site-packages\\pandas\\core\\generic.py:6673\u001b[0m, in \u001b[0;36m<listcomp>\u001b[1;34m(.0)\u001b[0m\n\u001b[0;32m   6663\u001b[0m     \u001b[39mreturn\u001b[39;00m \u001b[39mself\u001b[39m\u001b[39m.\u001b[39m_convert_dtypes(\n\u001b[0;32m   6664\u001b[0m         infer_objects,\n\u001b[0;32m   6665\u001b[0m         convert_string,\n\u001b[1;32m   (...)\u001b[0m\n\u001b[0;32m   6669\u001b[0m         dtype_backend\u001b[39m=\u001b[39mdtype_backend,\n\u001b[0;32m   6670\u001b[0m     )\n\u001b[0;32m   6671\u001b[0m \u001b[39melse\u001b[39;00m:\n\u001b[0;32m   6672\u001b[0m     results \u001b[39m=\u001b[39m [\n\u001b[1;32m-> 6673\u001b[0m         col\u001b[39m.\u001b[39;49m_convert_dtypes(\n\u001b[0;32m   6674\u001b[0m             infer_objects,\n\u001b[0;32m   6675\u001b[0m             convert_string,\n\u001b[0;32m   6676\u001b[0m             convert_integer,\n\u001b[0;32m   6677\u001b[0m             convert_boolean,\n\u001b[0;32m   6678\u001b[0m             convert_floating,\n\u001b[0;32m   6679\u001b[0m             dtype_backend\u001b[39m=\u001b[39;49mdtype_backend,\n\u001b[0;32m   6680\u001b[0m         )\n\u001b[0;32m   6681\u001b[0m         \u001b[39mfor\u001b[39;00m col_name, col \u001b[39min\u001b[39;00m \u001b[39mself\u001b[39m\u001b[39m.\u001b[39mitems()\n\u001b[0;32m   6682\u001b[0m     ]\n\u001b[0;32m   6683\u001b[0m     \u001b[39mif\u001b[39;00m \u001b[39mlen\u001b[39m(results) \u001b[39m>\u001b[39m \u001b[39m0\u001b[39m:\n\u001b[0;32m   6684\u001b[0m         result \u001b[39m=\u001b[39m concat(results, axis\u001b[39m=\u001b[39m\u001b[39m1\u001b[39m, copy\u001b[39m=\u001b[39m\u001b[39mFalse\u001b[39;00m, keys\u001b[39m=\u001b[39m\u001b[39mself\u001b[39m\u001b[39m.\u001b[39mcolumns)\n",
      "File \u001b[1;32m~\\AppData\\Roaming\\Python\\Python311\\site-packages\\pandas\\core\\series.py:5519\u001b[0m, in \u001b[0;36mSeries._convert_dtypes\u001b[1;34m(self, infer_objects, convert_string, convert_integer, convert_boolean, convert_floating, dtype_backend)\u001b[0m\n\u001b[0;32m   5516\u001b[0m         input_series \u001b[39m=\u001b[39m input_series\u001b[39m.\u001b[39mcopy(deep\u001b[39m=\u001b[39m\u001b[39mNone\u001b[39;00m)\n\u001b[0;32m   5518\u001b[0m \u001b[39mif\u001b[39;00m convert_string \u001b[39mor\u001b[39;00m convert_integer \u001b[39mor\u001b[39;00m convert_boolean \u001b[39mor\u001b[39;00m convert_floating:\n\u001b[1;32m-> 5519\u001b[0m     inferred_dtype \u001b[39m=\u001b[39m convert_dtypes(\n\u001b[0;32m   5520\u001b[0m         input_series\u001b[39m.\u001b[39;49m_values,\n\u001b[0;32m   5521\u001b[0m         convert_string,\n\u001b[0;32m   5522\u001b[0m         convert_integer,\n\u001b[0;32m   5523\u001b[0m         convert_boolean,\n\u001b[0;32m   5524\u001b[0m         convert_floating,\n\u001b[0;32m   5525\u001b[0m         infer_objects,\n\u001b[0;32m   5526\u001b[0m         dtype_backend,\n\u001b[0;32m   5527\u001b[0m     )\n\u001b[0;32m   5528\u001b[0m     result \u001b[39m=\u001b[39m input_series\u001b[39m.\u001b[39mastype(inferred_dtype)\n\u001b[0;32m   5529\u001b[0m \u001b[39melse\u001b[39;00m:\n",
      "File \u001b[1;32m~\\AppData\\Roaming\\Python\\Python311\\site-packages\\pandas\\core\\dtypes\\cast.py:1136\u001b[0m, in \u001b[0;36mconvert_dtypes\u001b[1;34m(input_array, convert_string, convert_integer, convert_boolean, convert_floating, infer_objects, dtype_backend)\u001b[0m\n\u001b[0;32m   1131\u001b[0m \u001b[39melse\u001b[39;00m:\n\u001b[0;32m   1132\u001b[0m     \u001b[39m# error: Incompatible types in assignment (expression has type\u001b[39;00m\n\u001b[0;32m   1133\u001b[0m     \u001b[39m# \"Union[str, Any, dtype[Any], ExtensionDtype]\",\u001b[39;00m\n\u001b[0;32m   1134\u001b[0m     \u001b[39m# variable has type \"Union[dtype[Any], ExtensionDtype, None]\")\u001b[39;00m\n\u001b[0;32m   1135\u001b[0m     base_dtype \u001b[39m=\u001b[39m inferred_dtype  \u001b[39m# type: ignore[assignment]\u001b[39;00m\n\u001b[1;32m-> 1136\u001b[0m pa_type \u001b[39m=\u001b[39m to_pyarrow_type(base_dtype)\n\u001b[0;32m   1137\u001b[0m \u001b[39mif\u001b[39;00m pa_type \u001b[39mis\u001b[39;00m \u001b[39mnot\u001b[39;00m \u001b[39mNone\u001b[39;00m:\n\u001b[0;32m   1138\u001b[0m     inferred_dtype \u001b[39m=\u001b[39m ArrowDtype(pa_type)\n",
      "File \u001b[1;32m~\\AppData\\Roaming\\Python\\Python311\\site-packages\\pandas\\core\\arrays\\arrow\\array.py:167\u001b[0m, in \u001b[0;36mto_pyarrow_type\u001b[1;34m(dtype)\u001b[0m\n\u001b[0;32m    161\u001b[0m \u001b[39mdef\u001b[39;00m \u001b[39mto_pyarrow_type\u001b[39m(\n\u001b[0;32m    162\u001b[0m     dtype: ArrowDtype \u001b[39m|\u001b[39m pa\u001b[39m.\u001b[39mDataType \u001b[39m|\u001b[39m Dtype \u001b[39m|\u001b[39m \u001b[39mNone\u001b[39;00m,\n\u001b[0;32m    163\u001b[0m ) \u001b[39m-\u001b[39m\u001b[39m>\u001b[39m pa\u001b[39m.\u001b[39mDataType \u001b[39m|\u001b[39m \u001b[39mNone\u001b[39;00m:\n\u001b[0;32m    164\u001b[0m \u001b[39m    \u001b[39m\u001b[39m\"\"\"\u001b[39;00m\n\u001b[0;32m    165\u001b[0m \u001b[39m    Convert dtype to a pyarrow type instance.\u001b[39;00m\n\u001b[0;32m    166\u001b[0m \u001b[39m    \"\"\"\u001b[39;00m\n\u001b[1;32m--> 167\u001b[0m     \u001b[39mif\u001b[39;00m \u001b[39misinstance\u001b[39m(dtype, ArrowDtype):\n\u001b[0;32m    168\u001b[0m         \u001b[39mreturn\u001b[39;00m dtype\u001b[39m.\u001b[39mpyarrow_dtype\n\u001b[0;32m    169\u001b[0m     \u001b[39melif\u001b[39;00m \u001b[39misinstance\u001b[39m(dtype, pa\u001b[39m.\u001b[39mDataType):\n",
      "\u001b[1;31mNameError\u001b[0m: name 'ArrowDtype' is not defined"
     ]
    }
   ],
   "source": [
    "ds = df.convert_dtypes(dtype_backend =\"pyarrow\")"
   ]
  },
  {
   "cell_type": "code",
   "execution_count": 61,
   "metadata": {},
   "outputs": [
    {
     "name": "stdout",
     "output_type": "stream",
     "text": [
      "<class 'pandas.core.frame.DataFrame'>\n",
      "RangeIndex: 400000 entries, 0 to 399999\n",
      "Data columns (total 1 columns):\n",
      " #   Column  Non-Null Count   Dtype    \n",
      "---  ------  --------------   -----    \n",
      " 0   0       400000 non-null  complex64\n",
      "dtypes: complex64(1)\n",
      "memory usage: 3.1 MB\n",
      "None\n"
     ]
    },
    {
     "data": {
      "text/html": [
       "<div>\n",
       "<style scoped>\n",
       "    .dataframe tbody tr th:only-of-type {\n",
       "        vertical-align: middle;\n",
       "    }\n",
       "\n",
       "    .dataframe tbody tr th {\n",
       "        vertical-align: top;\n",
       "    }\n",
       "\n",
       "    .dataframe thead th {\n",
       "        text-align: right;\n",
       "    }\n",
       "</style>\n",
       "<table border=\"1\" class=\"dataframe\">\n",
       "  <thead>\n",
       "    <tr style=\"text-align: right;\">\n",
       "      <th></th>\n",
       "      <th>Clear_Real</th>\n",
       "      <th>Clear_Imag</th>\n",
       "      <th>ID</th>\n",
       "    </tr>\n",
       "  </thead>\n",
       "  <tbody>\n",
       "    <tr>\n",
       "      <th>0</th>\n",
       "      <td>0.004425</td>\n",
       "      <td>0.006348</td>\n",
       "      <td>Clear</td>\n",
       "    </tr>\n",
       "    <tr>\n",
       "      <th>1</th>\n",
       "      <td>0.005676</td>\n",
       "      <td>0.006348</td>\n",
       "      <td>Clear</td>\n",
       "    </tr>\n",
       "    <tr>\n",
       "      <th>2</th>\n",
       "      <td>0.006317</td>\n",
       "      <td>0.007904</td>\n",
       "      <td>Clear</td>\n",
       "    </tr>\n",
       "    <tr>\n",
       "      <th>3</th>\n",
       "      <td>0.006562</td>\n",
       "      <td>0.008515</td>\n",
       "      <td>Clear</td>\n",
       "    </tr>\n",
       "    <tr>\n",
       "      <th>4</th>\n",
       "      <td>0.006745</td>\n",
       "      <td>0.009980</td>\n",
       "      <td>Clear</td>\n",
       "    </tr>\n",
       "    <tr>\n",
       "      <th>...</th>\n",
       "      <td>...</td>\n",
       "      <td>...</td>\n",
       "      <td>...</td>\n",
       "    </tr>\n",
       "    <tr>\n",
       "      <th>399995</th>\n",
       "      <td>0.000061</td>\n",
       "      <td>-0.000519</td>\n",
       "      <td>Clear</td>\n",
       "    </tr>\n",
       "    <tr>\n",
       "      <th>399996</th>\n",
       "      <td>-0.000031</td>\n",
       "      <td>-0.000732</td>\n",
       "      <td>Clear</td>\n",
       "    </tr>\n",
       "    <tr>\n",
       "      <th>399997</th>\n",
       "      <td>0.000031</td>\n",
       "      <td>-0.000641</td>\n",
       "      <td>Clear</td>\n",
       "    </tr>\n",
       "    <tr>\n",
       "      <th>399998</th>\n",
       "      <td>-0.000092</td>\n",
       "      <td>-0.000763</td>\n",
       "      <td>Clear</td>\n",
       "    </tr>\n",
       "    <tr>\n",
       "      <th>399999</th>\n",
       "      <td>0.000031</td>\n",
       "      <td>-0.000671</td>\n",
       "      <td>Clear</td>\n",
       "    </tr>\n",
       "  </tbody>\n",
       "</table>\n",
       "<p>400000 rows × 3 columns</p>\n",
       "</div>"
      ],
      "text/plain": [
       "        Clear_Real  Clear_Imag     ID\n",
       "0         0.004425    0.006348  Clear\n",
       "1         0.005676    0.006348  Clear\n",
       "2         0.006317    0.007904  Clear\n",
       "3         0.006562    0.008515  Clear\n",
       "4         0.006745    0.009980  Clear\n",
       "...            ...         ...    ...\n",
       "399995    0.000061   -0.000519  Clear\n",
       "399996   -0.000031   -0.000732  Clear\n",
       "399997    0.000031   -0.000641  Clear\n",
       "399998   -0.000092   -0.000763  Clear\n",
       "399999    0.000031   -0.000671  Clear\n",
       "\n",
       "[400000 rows x 3 columns]"
      ]
     },
     "execution_count": 61,
     "metadata": {},
     "output_type": "execute_result"
    }
   ],
   "source": [
    "CLEAR = (signal(data=Clear,slice = 400000, sinal = 'Clear', id = 'Clear'))\n",
    "CLEAR.info()\n",
    "CLEAR.to_pandas()\n",
    "CLEAR.database"
   ]
  },
  {
   "cell_type": "code",
   "execution_count": 85,
   "metadata": {},
   "outputs": [
    {
     "name": "stdout",
     "output_type": "stream",
     "text": [
      "<class 'pandas.core.frame.DataFrame'>\n",
      "RangeIndex: 400000 entries, 0 to 399999\n",
      "Data columns (total 1 columns):\n",
      " #   Column  Non-Null Count   Dtype    \n",
      "---  ------  --------------   -----    \n",
      " 0   0       400000 non-null  complex64\n",
      "dtypes: complex64(1)\n",
      "memory usage: 3.1 MB\n",
      "None\n"
     ]
    },
    {
     "data": {
      "text/html": [
       "<div>\n",
       "<style scoped>\n",
       "    .dataframe tbody tr th:only-of-type {\n",
       "        vertical-align: middle;\n",
       "    }\n",
       "\n",
       "    .dataframe tbody tr th {\n",
       "        vertical-align: top;\n",
       "    }\n",
       "\n",
       "    .dataframe thead th {\n",
       "        text-align: right;\n",
       "    }\n",
       "</style>\n",
       "<table border=\"1\" class=\"dataframe\">\n",
       "  <thead>\n",
       "    <tr style=\"text-align: right;\">\n",
       "      <th></th>\n",
       "      <th>LTE_FLOOD_Real</th>\n",
       "      <th>LTE_FLOOD_Imag</th>\n",
       "      <th>ID</th>\n",
       "    </tr>\n",
       "  </thead>\n",
       "  <tbody>\n",
       "    <tr>\n",
       "      <th>0</th>\n",
       "      <td>0.000244</td>\n",
       "      <td>0.000122</td>\n",
       "      <td>LTE_FLOOD</td>\n",
       "    </tr>\n",
       "    <tr>\n",
       "      <th>1</th>\n",
       "      <td>0.000153</td>\n",
       "      <td>-0.000153</td>\n",
       "      <td>LTE_FLOOD</td>\n",
       "    </tr>\n",
       "    <tr>\n",
       "      <th>2</th>\n",
       "      <td>-0.000153</td>\n",
       "      <td>-0.000153</td>\n",
       "      <td>LTE_FLOOD</td>\n",
       "    </tr>\n",
       "    <tr>\n",
       "      <th>3</th>\n",
       "      <td>0.000000</td>\n",
       "      <td>0.000336</td>\n",
       "      <td>LTE_FLOOD</td>\n",
       "    </tr>\n",
       "    <tr>\n",
       "      <th>4</th>\n",
       "      <td>0.000275</td>\n",
       "      <td>0.000305</td>\n",
       "      <td>LTE_FLOOD</td>\n",
       "    </tr>\n",
       "    <tr>\n",
       "      <th>...</th>\n",
       "      <td>...</td>\n",
       "      <td>...</td>\n",
       "      <td>...</td>\n",
       "    </tr>\n",
       "    <tr>\n",
       "      <th>399995</th>\n",
       "      <td>-0.000122</td>\n",
       "      <td>-0.000336</td>\n",
       "      <td>LTE_FLOOD</td>\n",
       "    </tr>\n",
       "    <tr>\n",
       "      <th>399996</th>\n",
       "      <td>0.000000</td>\n",
       "      <td>-0.000427</td>\n",
       "      <td>LTE_FLOOD</td>\n",
       "    </tr>\n",
       "    <tr>\n",
       "      <th>399997</th>\n",
       "      <td>0.000183</td>\n",
       "      <td>-0.000214</td>\n",
       "      <td>LTE_FLOOD</td>\n",
       "    </tr>\n",
       "    <tr>\n",
       "      <th>399998</th>\n",
       "      <td>0.000122</td>\n",
       "      <td>-0.000397</td>\n",
       "      <td>LTE_FLOOD</td>\n",
       "    </tr>\n",
       "    <tr>\n",
       "      <th>399999</th>\n",
       "      <td>0.000244</td>\n",
       "      <td>-0.000366</td>\n",
       "      <td>LTE_FLOOD</td>\n",
       "    </tr>\n",
       "  </tbody>\n",
       "</table>\n",
       "<p>400000 rows × 3 columns</p>\n",
       "</div>"
      ],
      "text/plain": [
       "        LTE_FLOOD_Real  LTE_FLOOD_Imag         ID\n",
       "0             0.000244        0.000122  LTE_FLOOD\n",
       "1             0.000153       -0.000153  LTE_FLOOD\n",
       "2            -0.000153       -0.000153  LTE_FLOOD\n",
       "3             0.000000        0.000336  LTE_FLOOD\n",
       "4             0.000275        0.000305  LTE_FLOOD\n",
       "...                ...             ...        ...\n",
       "399995       -0.000122       -0.000336  LTE_FLOOD\n",
       "399996        0.000000       -0.000427  LTE_FLOOD\n",
       "399997        0.000183       -0.000214  LTE_FLOOD\n",
       "399998        0.000122       -0.000397  LTE_FLOOD\n",
       "399999        0.000244       -0.000366  LTE_FLOOD\n",
       "\n",
       "[400000 rows x 3 columns]"
      ]
     },
     "execution_count": 85,
     "metadata": {},
     "output_type": "execute_result"
    }
   ],
   "source": [
    "LTE = (signal(data=LTE_FLOOD,slice = 400000, sinal = 'LTE_FLOOD', id='LTE_FLOOD'))\n",
    "LTE.info()\n",
    "LTE.to_pandas()\n",
    "LTE.database"
   ]
  },
  {
   "cell_type": "code",
   "execution_count": 90,
   "metadata": {},
   "outputs": [
    {
     "name": "stdout",
     "output_type": "stream",
     "text": [
      "Concatenação efetuada\n",
      "<class 'pandas.core.frame.DataFrame'>\n",
      "RangeIndex: 1200000 entries, 0 to 1199999\n",
      "Data columns (total 4 columns):\n",
      " #   Column   Non-Null Count    Dtype          \n",
      "---  ------   --------------    -----          \n",
      " 0   Signals  1200000 non-null  object         \n",
      " 1   Real     1200000 non-null  float32        \n",
      " 2   Imag     1200000 non-null  double[pyarrow]\n",
      " 3   ID       1200000 non-null  object         \n",
      "dtypes: double[pyarrow](1), float32(1), object(2)\n",
      "memory usage: 32.0+ MB\n"
     ]
    },
    {
     "data": {
      "text/html": [
       "<div>\n",
       "<style scoped>\n",
       "    .dataframe tbody tr th:only-of-type {\n",
       "        vertical-align: middle;\n",
       "    }\n",
       "\n",
       "    .dataframe tbody tr th {\n",
       "        vertical-align: top;\n",
       "    }\n",
       "\n",
       "    .dataframe thead th {\n",
       "        text-align: right;\n",
       "    }\n",
       "</style>\n",
       "<table border=\"1\" class=\"dataframe\">\n",
       "  <thead>\n",
       "    <tr style=\"text-align: right;\">\n",
       "      <th></th>\n",
       "      <th>Signals</th>\n",
       "      <th>Real</th>\n",
       "      <th>Imag</th>\n",
       "      <th>ID</th>\n",
       "    </tr>\n",
       "  </thead>\n",
       "  <tbody>\n",
       "    <tr>\n",
       "      <th>0</th>\n",
       "      <td>Clear</td>\n",
       "      <td>0.004425</td>\n",
       "      <td>0.006348</td>\n",
       "      <td>Clear</td>\n",
       "    </tr>\n",
       "    <tr>\n",
       "      <th>1</th>\n",
       "      <td>Clear</td>\n",
       "      <td>0.005676</td>\n",
       "      <td>0.006348</td>\n",
       "      <td>Clear</td>\n",
       "    </tr>\n",
       "    <tr>\n",
       "      <th>2</th>\n",
       "      <td>Clear</td>\n",
       "      <td>0.006317</td>\n",
       "      <td>0.007904</td>\n",
       "      <td>Clear</td>\n",
       "    </tr>\n",
       "    <tr>\n",
       "      <th>3</th>\n",
       "      <td>Clear</td>\n",
       "      <td>0.006562</td>\n",
       "      <td>0.008515</td>\n",
       "      <td>Clear</td>\n",
       "    </tr>\n",
       "    <tr>\n",
       "      <th>4</th>\n",
       "      <td>Clear</td>\n",
       "      <td>0.006745</td>\n",
       "      <td>0.009980</td>\n",
       "      <td>Clear</td>\n",
       "    </tr>\n",
       "    <tr>\n",
       "      <th>...</th>\n",
       "      <td>...</td>\n",
       "      <td>...</td>\n",
       "      <td>...</td>\n",
       "      <td>...</td>\n",
       "    </tr>\n",
       "    <tr>\n",
       "      <th>1199995</th>\n",
       "      <td>LTE_FLOOD</td>\n",
       "      <td>-0.000122</td>\n",
       "      <td>-0.000336</td>\n",
       "      <td>LTE_FLOOD</td>\n",
       "    </tr>\n",
       "    <tr>\n",
       "      <th>1199996</th>\n",
       "      <td>LTE_FLOOD</td>\n",
       "      <td>0.000000</td>\n",
       "      <td>-0.000427</td>\n",
       "      <td>LTE_FLOOD</td>\n",
       "    </tr>\n",
       "    <tr>\n",
       "      <th>1199997</th>\n",
       "      <td>LTE_FLOOD</td>\n",
       "      <td>0.000183</td>\n",
       "      <td>-0.000214</td>\n",
       "      <td>LTE_FLOOD</td>\n",
       "    </tr>\n",
       "    <tr>\n",
       "      <th>1199998</th>\n",
       "      <td>LTE_FLOOD</td>\n",
       "      <td>0.000122</td>\n",
       "      <td>-0.000397</td>\n",
       "      <td>LTE_FLOOD</td>\n",
       "    </tr>\n",
       "    <tr>\n",
       "      <th>1199999</th>\n",
       "      <td>LTE_FLOOD</td>\n",
       "      <td>0.000244</td>\n",
       "      <td>-0.000366</td>\n",
       "      <td>LTE_FLOOD</td>\n",
       "    </tr>\n",
       "  </tbody>\n",
       "</table>\n",
       "<p>1200000 rows × 4 columns</p>\n",
       "</div>"
      ],
      "text/plain": [
       "           Signals      Real      Imag         ID\n",
       "0            Clear  0.004425  0.006348      Clear\n",
       "1            Clear  0.005676  0.006348      Clear\n",
       "2            Clear  0.006317  0.007904      Clear\n",
       "3            Clear  0.006562  0.008515      Clear\n",
       "4            Clear  0.006745  0.009980      Clear\n",
       "...            ...       ...       ...        ...\n",
       "1199995  LTE_FLOOD -0.000122 -0.000336  LTE_FLOOD\n",
       "1199996  LTE_FLOOD  0.000000 -0.000427  LTE_FLOOD\n",
       "1199997  LTE_FLOOD  0.000183 -0.000214  LTE_FLOOD\n",
       "1199998  LTE_FLOOD  0.000122 -0.000397  LTE_FLOOD\n",
       "1199999  LTE_FLOOD  0.000244 -0.000366  LTE_FLOOD\n",
       "\n",
       "[1200000 rows x 4 columns]"
      ]
     },
     "execution_count": 90,
     "metadata": {},
     "output_type": "execute_result"
    }
   ],
   "source": [
    "uniao = concat_3(database1= CLEAR.database, database2=Wifi.database,database3=LTE.database ,sinal1 ='Clear',sinal2 = 'WIFI_FLOOD',sinal3 = 'LTE_FLOOD')\n",
    "uniao.merge()\n",
    "df = uniao.concat\n",
    "df.info()\n",
    "df"
   ]
  },
  {
   "cell_type": "code",
   "execution_count": 64,
   "metadata": {},
   "outputs": [
    {
     "name": "stdout",
     "output_type": "stream",
     "text": [
      "x_train:              Real      Imag\n",
      "662190  -0.001404 -0.002319\n",
      "352005  -0.000122 -0.000641\n",
      "1065155  0.000153 -0.001617\n",
      "156449  -0.000427 -0.004547\n",
      "425411  -0.015809 -0.023164\n",
      "...           ...       ...\n",
      "723495  -0.000824 -0.001373\n",
      "1099718 -0.000122 -0.000977\n",
      "695140  -0.001434 -0.001923\n",
      "488428  -0.008515 -0.012116\n",
      "510055  -0.007080 -0.010224\n",
      "\n",
      "[870000 rows x 2 columns]\n",
      "y_train:              Real      Imag\n",
      "416950  -0.017396 -0.024781\n",
      "1097822  0.000000 -0.001038\n",
      "1109722  0.000397 -0.000946\n",
      "639269  -0.001953 -0.002869\n",
      "113454  -0.000763 -0.006989\n",
      "...           ...       ...\n",
      "1001494 -0.000183 -0.002533\n",
      "980206   0.000061 -0.003418\n",
      "225384  -0.000092 -0.002350\n",
      "381798   0.000031 -0.000671\n",
      "726798  -0.000793 -0.001068\n",
      "\n",
      "[330000 rows x 2 columns]\n",
      "x_test: 662190     WIFI_FLOOD\n",
      "352005          Clear\n",
      "1065155     LTE_FLOOD\n",
      "156449          Clear\n",
      "425411     WIFI_FLOOD\n",
      "              ...    \n",
      "723495     WIFI_FLOOD\n",
      "1099718     LTE_FLOOD\n",
      "695140     WIFI_FLOOD\n",
      "488428     WIFI_FLOOD\n",
      "510055     WIFI_FLOOD\n",
      "Name: ID, Length: 870000, dtype: object\n",
      "y_test: 416950     WIFI_FLOOD\n",
      "1097822     LTE_FLOOD\n",
      "1109722     LTE_FLOOD\n",
      "639269     WIFI_FLOOD\n",
      "113454          Clear\n",
      "              ...    \n",
      "1001494     LTE_FLOOD\n",
      "980206      LTE_FLOOD\n",
      "225384          Clear\n",
      "381798          Clear\n",
      "726798     WIFI_FLOOD\n",
      "Name: ID, Length: 330000, dtype: object\n"
     ]
    }
   ],
   "source": [
    "from Library.TrainTestSplit import TrainTestSplit \n",
    "spliter = TrainTestSplit(data = df)\n",
    "# Acessando os conjuntos de treinamento e teste\n",
    "X_train, X_test, y_train, y_test =spliter.train_test_split( test_size=0.275, random_state=210)\n",
    "\n",
    "print(\"x_train:\", X_train)\n",
    "print(\"y_train:\", X_test)\n",
    "print(\"x_test:\", y_train)\n",
    "print(\"y_test:\", y_test)\n"
   ]
  },
  {
   "cell_type": "code",
   "execution_count": 65,
   "metadata": {},
   "outputs": [
    {
     "data": {
      "image/png": "[encoded data removed]",
      "text/plain": [
       "<Figure size 640x480 with 1 Axes>"
      ]
     },
     "metadata": {},
     "output_type": "display_data"
    }
   ],
   "source": [
    "# Criando um objeto Visualization\n",
    "from Library.Plots_model import Visualization\n",
    "vis = Visualization()\n",
    "\n",
    "# Plotando o gráfico de pizza\n",
    "vis.plot_pie(y_test) # Distruição de X_train"
   ]
  },
  {
   "cell_type": "code",
   "execution_count": 66,
   "metadata": {},
   "outputs": [
    {
     "name": "stdout",
     "output_type": "stream",
     "text": [
      "\n",
      " normalized.X_test: [[0.11378126 0.10833023]\n",
      " [0.39333006 0.39895406]\n",
      " [0.39970574 0.40007472]\n",
      " ...\n",
      " [0.39185876 0.38289131]\n",
      " [0.3938205  0.40343669]\n",
      " [0.38057872 0.39858051]]\n",
      "normalized.X_train [[0.47694753 0.47672552]\n",
      " [0.49364069 0.49438202]\n",
      " [0.4972178  0.48410915]\n",
      " ...\n",
      " [0.47655007 0.48089888]\n",
      " [0.38434021 0.37367577]\n",
      " [0.40302066 0.39357945]]\n"
     ]
    }
   ],
   "source": [
    "from Library.Normalizing import Normalizing\n",
    "normalized = Normalizing(X_train=X_train, X_test= X_test)\n",
    "print(f\"\"\"\\n normalized.X_test: {normalized.X_test}\n",
    "normalized.X_train {normalized.X_train}\"\"\")"
   ]
  },
  {
   "cell_type": "code",
   "execution_count": 67,
   "metadata": {},
   "outputs": [
    {
     "data": {
      "text/html": [
       "<style>#sk-container-id-7 {color: black;background-color: white;}#sk-container-id-7 pre{padding: 0;}#sk-container-id-7 div.sk-toggleable {background-color: white;}#sk-container-id-7 label.sk-toggleable__label {cursor: pointer;display: block;width: 100%;margin-bottom: 0;padding: 0.3em;box-sizing: border-box;text-align: center;}#sk-container-id-7 label.sk-toggleable__label-arrow:before {content: \"▸\";float: left;margin-right: 0.25em;color: #696969;}#sk-container-id-7 label.sk-toggleable__label-arrow:hover:before {color: black;}#sk-container-id-7 div.sk-estimator:hover label.sk-toggleable__label-arrow:before {color: black;}#sk-container-id-7 div.sk-toggleable__content {max-height: 0;max-width: 0;overflow: hidden;text-align: left;background-color: #f0f8ff;}#sk-container-id-7 div.sk-toggleable__content pre {margin: 0.2em;color: black;border-radius: 0.25em;background-color: #f0f8ff;}#sk-container-id-7 input.sk-toggleable__control:checked~div.sk-toggleable__content {max-height: 200px;max-width: 100%;overflow: auto;}#sk-container-id-7 input.sk-toggleable__control:checked~label.sk-toggleable__label-arrow:before {content: \"▾\";}#sk-container-id-7 div.sk-estimator input.sk-toggleable__control:checked~label.sk-toggleable__label {background-color: #d4ebff;}#sk-container-id-7 div.sk-label input.sk-toggleable__control:checked~label.sk-toggleable__label {background-color: #d4ebff;}#sk-container-id-7 input.sk-hidden--visually {border: 0;clip: rect(1px 1px 1px 1px);clip: rect(1px, 1px, 1px, 1px);height: 1px;margin: -1px;overflow: hidden;padding: 0;position: absolute;width: 1px;}#sk-container-id-7 div.sk-estimator {font-family: monospace;background-color: #f0f8ff;border: 1px dotted black;border-radius: 0.25em;box-sizing: border-box;margin-bottom: 0.5em;}#sk-container-id-7 div.sk-estimator:hover {background-color: #d4ebff;}#sk-container-id-7 div.sk-parallel-item::after {content: \"\";width: 100%;border-bottom: 1px solid gray;flex-grow: 1;}#sk-container-id-7 div.sk-label:hover label.sk-toggleable__label {background-color: #d4ebff;}#sk-container-id-7 div.sk-serial::before {content: \"\";position: absolute;border-left: 1px solid gray;box-sizing: border-box;top: 0;bottom: 0;left: 50%;z-index: 0;}#sk-container-id-7 div.sk-serial {display: flex;flex-direction: column;align-items: center;background-color: white;padding-right: 0.2em;padding-left: 0.2em;position: relative;}#sk-container-id-7 div.sk-item {position: relative;z-index: 1;}#sk-container-id-7 div.sk-parallel {display: flex;align-items: stretch;justify-content: center;background-color: white;position: relative;}#sk-container-id-7 div.sk-item::before, #sk-container-id-7 div.sk-parallel-item::before {content: \"\";position: absolute;border-left: 1px solid gray;box-sizing: border-box;top: 0;bottom: 0;left: 50%;z-index: -1;}#sk-container-id-7 div.sk-parallel-item {display: flex;flex-direction: column;z-index: 1;position: relative;background-color: white;}#sk-container-id-7 div.sk-parallel-item:first-child::after {align-self: flex-end;width: 50%;}#sk-container-id-7 div.sk-parallel-item:last-child::after {align-self: flex-start;width: 50%;}#sk-container-id-7 div.sk-parallel-item:only-child::after {width: 0;}#sk-container-id-7 div.sk-dashed-wrapped {border: 1px dashed gray;margin: 0 0.4em 0.5em 0.4em;box-sizing: border-box;padding-bottom: 0.4em;background-color: white;}#sk-container-id-7 div.sk-label label {font-family: monospace;font-weight: bold;display: inline-block;line-height: 1.2em;}#sk-container-id-7 div.sk-label-container {text-align: center;}#sk-container-id-7 div.sk-container {/* jupyter's `normalize.less` sets `[hidden] { display: none; }` but bootstrap.min.css set `[hidden] { display: none !important; }` so we also need the `!important` here to be able to override the default hidden behavior on the sphinx rendered scikit-learn.org. See: https://github.com/scikit-learn/scikit-learn/issues/21755 */display: inline-block !important;position: relative;}#sk-container-id-7 div.sk-text-repr-fallback {display: none;}</style><div id=\"sk-container-id-7\" class=\"sk-top-container\"><div class=\"sk-text-repr-fallback\"><pre>KNeighborsClassifier(n_neighbors=9, weights=&#x27;distance&#x27;)</pre><b>In a Jupyter environment, please rerun this cell to show the HTML representation or trust the notebook. <br />On GitHub, the HTML representation is unable to render, please try loading this page with nbviewer.org.</b></div><div class=\"sk-container\" hidden><div class=\"sk-item\"><div class=\"sk-estimator sk-toggleable\"><input class=\"sk-toggleable__control sk-hidden--visually\" id=\"sk-estimator-id-11\" type=\"checkbox\" checked><label for=\"sk-estimator-id-11\" class=\"sk-toggleable__label sk-toggleable__label-arrow\">KNeighborsClassifier</label><div class=\"sk-toggleable__content\"><pre>KNeighborsClassifier(n_neighbors=9, weights=&#x27;distance&#x27;)</pre></div></div></div></div></div>"
      ],
      "text/plain": [
       "KNeighborsClassifier(n_neighbors=9, weights='distance')"
      ]
     },
     "execution_count": 67,
     "metadata": {},
     "output_type": "execute_result"
    }
   ],
   "source": [
    "from sklearn.neighbors import KNeighborsClassifier\n",
    "knn = KNeighborsClassifier(n_neighbors= 9,weights='distance', p=2)\n",
    "knn_fit = knn.fit(normalized.X_train ,y_train)\n",
    "model = knn_fit\n",
    "model"
   ]
  },
  {
   "cell_type": "code",
   "execution_count": 68,
   "metadata": {},
   "outputs": [
    {
     "data": {
      "text/html": [
       "<div>\n",
       "<style scoped>\n",
       "    .dataframe tbody tr th:only-of-type {\n",
       "        vertical-align: middle;\n",
       "    }\n",
       "\n",
       "    .dataframe tbody tr th {\n",
       "        vertical-align: top;\n",
       "    }\n",
       "\n",
       "    .dataframe thead th {\n",
       "        text-align: right;\n",
       "    }\n",
       "</style>\n",
       "<table border=\"1\" class=\"dataframe\">\n",
       "  <thead>\n",
       "    <tr style=\"text-align: right;\">\n",
       "      <th></th>\n",
       "      <th>Score</th>\n",
       "      <th>Accuracy</th>\n",
       "      <th>F1-Score</th>\n",
       "      <th>Recall</th>\n",
       "    </tr>\n",
       "  </thead>\n",
       "  <tbody>\n",
       "    <tr>\n",
       "      <th>0</th>\n",
       "      <td>0.391127</td>\n",
       "      <td>0.391127</td>\n",
       "      <td>0.267919</td>\n",
       "      <td>0.391127</td>\n",
       "    </tr>\n",
       "  </tbody>\n",
       "</table>\n",
       "</div>"
      ],
      "text/plain": [
       "      Score  Accuracy  F1-Score    Recall\n",
       "0  0.391127  0.391127  0.267919  0.391127"
      ]
     },
     "execution_count": 68,
     "metadata": {},
     "output_type": "execute_result"
    }
   ],
   "source": [
    "from Library.metrics import metrics\n",
    "metrics = metrics(model = model,\n",
    "X_train =normalized.X_train,X_test = normalized.X_test, y_train=y_train ,y_test=y_test)\n",
    "\n",
    "metrics.table()"
   ]
  },
  {
   "cell_type": "code",
   "execution_count": 72,
   "metadata": {},
   "outputs": [
    {
     "data": {
      "image/png": "[encoded data removed]",
      "text/plain": [
       "<Figure size 1600x500 with 2 Axes>"
      ]
     },
     "metadata": {},
     "output_type": "display_data"
    }
   ],
   "source": [
    "from Library.Plots_model import Visualization ,RandomizedSearchCVWrapper\n",
    "confusion = Visualization()\n",
    "confusion_matrix = confusion.confusion_matrix(model=model,X_train =normalized.X_train,\n",
    "X_test= normalized.X_test, y_train= y_train, y_test= y_test)"
   ]
  },
  {
   "cell_type": "code",
   "execution_count": 73,
   "metadata": {},
   "outputs": [
    {
     "data": {
      "text/plain": [
       "array([[ 18975,      5,  91453],\n",
       "       [ 25021,     56,  84441],\n",
       "       [     3,      5, 110041]], dtype=int64)"
      ]
     },
     "execution_count": 73,
     "metadata": {},
     "output_type": "execute_result"
    }
   ],
   "source": [
    "metrics.confusion_matrix()"
   ]
  },
  {
   "cell_type": "code",
   "execution_count": 74,
   "metadata": {},
   "outputs": [
    {
     "name": "stdout",
     "output_type": "stream",
     "text": [
      "              precision    recall  f1-score   support\n",
      "\n",
      "       Clear       0.43      0.17      0.25    110433\n",
      "   LTE_FLOOD       0.85      0.00      0.00    109518\n",
      "  WIFI_FLOOD       0.38      1.00      0.56    110049\n",
      "\n",
      "    accuracy                           0.39    330000\n",
      "   macro avg       0.55      0.39      0.27    330000\n",
      "weighted avg       0.55      0.39      0.27    330000\n",
      "\n"
     ]
    }
   ],
   "source": [
    "metrics.report()"
   ]
  },
  {
   "cell_type": "code",
   "execution_count": 75,
   "metadata": {},
   "outputs": [],
   "source": [
    "\n",
    "import category_encoders as ce\n",
    "encoder = ce.ordinal.OrdinalEncoder()\n",
    "\n",
    "parameters = {'n_neighbors': [3,5,7,9,13,15,17],\n",
    "                         'weights': ['uniform', 'distance'], 'p':[1,2]\n",
    "             }\n",
    "n_iter=5\n",
    "cv=3\n",
    "scoring='neg_mean_squared_error' \n",
    "random_state=15\n",
    "return_train_score=True\n",
    "n_jobs = -1\n",
    "verbose = 0\n",
    "knn = KNeighborsClassifier()\n",
    "\n",
    "random_model = RandomizedSearchCVWrapper(model= knn, param_distributions =parameters , X_train = normalized.X_train, \n",
    "y_train= encoder.fit_transform(y_train), n_iter= n_iter, cv=cv,random_state=random_state,\n",
    "return_train_score =return_train_score, scoring= scoring, n_jobs = n_jobs, verbose = verbose )\n"
   ]
  },
  {
   "cell_type": "code",
   "execution_count": 76,
   "metadata": {},
   "outputs": [
    {
     "data": {
      "text/plain": [
       "{'model': KNeighborsClassifier(),\n",
       " 'param_distributions': {'n_neighbors': [3, 5, 7, 9, 13, 15, 17],\n",
       "  'weights': ['uniform', 'distance'],\n",
       "  'p': [1, 2]},\n",
       " 'n_iter': 5,\n",
       " 'cv': 3,\n",
       " 'random_state': 20,\n",
       " 'n_jobs': -1,\n",
       " 'scoring': 'neg_mean_squared_error',\n",
       " 'verbose': 0,\n",
       " 'return_train_score': True,\n",
       " 'randomsearch': RandomizedSearchCV(cv=3, estimator=KNeighborsClassifier(), n_iter=5, n_jobs=-1,\n",
       "                    param_distributions={'n_neighbors': [3, 5, 7, 9, 13, 15, 17],\n",
       "                                         'p': [1, 2],\n",
       "                                         'weights': ['uniform', 'distance']},\n",
       "                    random_state=20, return_train_score=True,\n",
       "                    scoring='neg_mean_squared_error'),\n",
       " 'random_fit': RandomizedSearchCV(cv=3, estimator=KNeighborsClassifier(), n_iter=5, n_jobs=-1,\n",
       "                    param_distributions={'n_neighbors': [3, 5, 7, 9, 13, 15, 17],\n",
       "                                         'p': [1, 2],\n",
       "                                         'weights': ['uniform', 'distance']},\n",
       "                    random_state=20, return_train_score=True,\n",
       "                    scoring='neg_mean_squared_error'),\n",
       " 'results':    mean_fit_time  std_fit_time  mean_score_time  std_score_time param_weights   \n",
       " 4       1.746841      0.149298        10.400847        1.538984      distance  \\\n",
       " 0       2.239430      0.021961         9.244081        0.199793      distance   \n",
       " 3       2.058089      0.062864        27.552276        0.827559       uniform   \n",
       " 1       2.247123      0.075701        18.973964        0.616834       uniform   \n",
       " 2       2.051764      0.128102         8.467434        0.290215      distance   \n",
       " \n",
       "   param_p param_n_neighbors   \n",
       " 4       2                17  \\\n",
       " 0       1                 9   \n",
       " 3       2                 7   \n",
       " 1       1                 5   \n",
       " 2       1                 3   \n",
       " \n",
       "                                               params  split0_test_score   \n",
       " 4  {'weights': 'distance', 'p': 2, 'n_neighbors':...          -0.150317  \\\n",
       " 0  {'weights': 'distance', 'p': 1, 'n_neighbors': 9}          -0.157428   \n",
       " 3   {'weights': 'uniform', 'p': 2, 'n_neighbors': 7}          -0.158731   \n",
       " 1   {'weights': 'uniform', 'p': 1, 'n_neighbors': 5}          -0.163541   \n",
       " 2  {'weights': 'distance', 'p': 1, 'n_neighbors': 3}          -0.173793   \n",
       " \n",
       "    split1_test_score  split2_test_score  mean_test_score  std_test_score   \n",
       " 4          -0.150041          -0.149928        -0.150095        0.000164  \\\n",
       " 0          -0.155793          -0.156417        -0.156546        0.000673   \n",
       " 3          -0.160562          -0.159410        -0.159568        0.000756   \n",
       " 1          -0.162752          -0.163114        -0.163136        0.000323   \n",
       " 2          -0.175286          -0.174541        -0.174540        0.000610   \n",
       " \n",
       "    rank_test_score  split0_train_score  split1_train_score   \n",
       " 4                1           -0.147698           -0.146210  \\\n",
       " 0                2           -0.154609           -0.152279   \n",
       " 3                3           -0.157145           -0.157181   \n",
       " 1                4           -0.161140           -0.159174   \n",
       " 2                5           -0.171310           -0.171067   \n",
       " \n",
       "    split2_train_score  mean_train_score  std_train_score  \n",
       " 4           -0.146255         -0.146721         0.000691  \n",
       " 0           -0.152695         -0.153194         0.001014  \n",
       " 3           -0.156733         -0.157020         0.000203  \n",
       " 1           -0.160357         -0.160224         0.000808  \n",
       " 2           -0.170690         -0.171022         0.000255  ,\n",
       " 'best_params': {'weights': 'distance', 'p': 2, 'n_neighbors': 17}}"
      ]
     },
     "execution_count": 76,
     "metadata": {},
     "output_type": "execute_result"
    }
   ],
   "source": [
    "random_model.__dict__"
   ]
  },
  {
   "cell_type": "code",
   "execution_count": 77,
   "metadata": {},
   "outputs": [
    {
     "data": {
      "image/png": "[encoded data removed]",
      "text/plain": [
       "<Figure size 1600x400 with 1 Axes>"
      ]
     },
     "metadata": {},
     "output_type": "display_data"
    }
   ],
   "source": [
    "random_model.plot_mean_performance()"
   ]
  },
  {
   "cell_type": "code",
   "execution_count": 78,
   "metadata": {},
   "outputs": [
    {
     "data": {
      "image/png": "[encoded data removed]",
      "text/plain": [
       "<Figure size 1600x400 with 1 Axes>"
      ]
     },
     "metadata": {},
     "output_type": "display_data"
    }
   ],
   "source": [
    "random_model.plot_std_performance()"
   ]
  },
  {
   "cell_type": "code",
   "execution_count": 79,
   "metadata": {},
   "outputs": [
    {
     "data": {
      "text/html": [
       "<div>\n",
       "<style scoped>\n",
       "    .dataframe tbody tr th:only-of-type {\n",
       "        vertical-align: middle;\n",
       "    }\n",
       "\n",
       "    .dataframe tbody tr th {\n",
       "        vertical-align: top;\n",
       "    }\n",
       "\n",
       "    .dataframe thead th {\n",
       "        text-align: right;\n",
       "    }\n",
       "</style>\n",
       "<table border=\"1\" class=\"dataframe\">\n",
       "  <thead>\n",
       "    <tr style=\"text-align: right;\">\n",
       "      <th></th>\n",
       "      <th>mean_fit_time</th>\n",
       "      <th>std_fit_time</th>\n",
       "      <th>mean_score_time</th>\n",
       "      <th>std_score_time</th>\n",
       "      <th>param_weights</th>\n",
       "      <th>param_p</th>\n",
       "      <th>param_n_neighbors</th>\n",
       "      <th>params</th>\n",
       "      <th>split0_test_score</th>\n",
       "      <th>split1_test_score</th>\n",
       "      <th>split2_test_score</th>\n",
       "      <th>mean_test_score</th>\n",
       "      <th>std_test_score</th>\n",
       "      <th>rank_test_score</th>\n",
       "      <th>split0_train_score</th>\n",
       "      <th>split1_train_score</th>\n",
       "      <th>split2_train_score</th>\n",
       "      <th>mean_train_score</th>\n",
       "      <th>std_train_score</th>\n",
       "    </tr>\n",
       "  </thead>\n",
       "  <tbody>\n",
       "    <tr>\n",
       "      <th>4</th>\n",
       "      <td>1.746841</td>\n",
       "      <td>0.149298</td>\n",
       "      <td>10.400847</td>\n",
       "      <td>1.538984</td>\n",
       "      <td>distance</td>\n",
       "      <td>2</td>\n",
       "      <td>17</td>\n",
       "      <td>{'weights': 'distance', 'p': 2, 'n_neighbors':...</td>\n",
       "      <td>-0.150317</td>\n",
       "      <td>-0.150041</td>\n",
       "      <td>-0.149928</td>\n",
       "      <td>-0.150095</td>\n",
       "      <td>0.000164</td>\n",
       "      <td>1</td>\n",
       "      <td>-0.147698</td>\n",
       "      <td>-0.146210</td>\n",
       "      <td>-0.146255</td>\n",
       "      <td>-0.146721</td>\n",
       "      <td>0.000691</td>\n",
       "    </tr>\n",
       "    <tr>\n",
       "      <th>0</th>\n",
       "      <td>2.239430</td>\n",
       "      <td>0.021961</td>\n",
       "      <td>9.244081</td>\n",
       "      <td>0.199793</td>\n",
       "      <td>distance</td>\n",
       "      <td>1</td>\n",
       "      <td>9</td>\n",
       "      <td>{'weights': 'distance', 'p': 1, 'n_neighbors': 9}</td>\n",
       "      <td>-0.157428</td>\n",
       "      <td>-0.155793</td>\n",
       "      <td>-0.156417</td>\n",
       "      <td>-0.156546</td>\n",
       "      <td>0.000673</td>\n",
       "      <td>2</td>\n",
       "      <td>-0.154609</td>\n",
       "      <td>-0.152279</td>\n",
       "      <td>-0.152695</td>\n",
       "      <td>-0.153194</td>\n",
       "      <td>0.001014</td>\n",
       "    </tr>\n",
       "    <tr>\n",
       "      <th>3</th>\n",
       "      <td>2.058089</td>\n",
       "      <td>0.062864</td>\n",
       "      <td>27.552276</td>\n",
       "      <td>0.827559</td>\n",
       "      <td>uniform</td>\n",
       "      <td>2</td>\n",
       "      <td>7</td>\n",
       "      <td>{'weights': 'uniform', 'p': 2, 'n_neighbors': 7}</td>\n",
       "      <td>-0.158731</td>\n",
       "      <td>-0.160562</td>\n",
       "      <td>-0.159410</td>\n",
       "      <td>-0.159568</td>\n",
       "      <td>0.000756</td>\n",
       "      <td>3</td>\n",
       "      <td>-0.157145</td>\n",
       "      <td>-0.157181</td>\n",
       "      <td>-0.156733</td>\n",
       "      <td>-0.157020</td>\n",
       "      <td>0.000203</td>\n",
       "    </tr>\n",
       "    <tr>\n",
       "      <th>1</th>\n",
       "      <td>2.247123</td>\n",
       "      <td>0.075701</td>\n",
       "      <td>18.973964</td>\n",
       "      <td>0.616834</td>\n",
       "      <td>uniform</td>\n",
       "      <td>1</td>\n",
       "      <td>5</td>\n",
       "      <td>{'weights': 'uniform', 'p': 1, 'n_neighbors': 5}</td>\n",
       "      <td>-0.163541</td>\n",
       "      <td>-0.162752</td>\n",
       "      <td>-0.163114</td>\n",
       "      <td>-0.163136</td>\n",
       "      <td>0.000323</td>\n",
       "      <td>4</td>\n",
       "      <td>-0.161140</td>\n",
       "      <td>-0.159174</td>\n",
       "      <td>-0.160357</td>\n",
       "      <td>-0.160224</td>\n",
       "      <td>0.000808</td>\n",
       "    </tr>\n",
       "    <tr>\n",
       "      <th>2</th>\n",
       "      <td>2.051764</td>\n",
       "      <td>0.128102</td>\n",
       "      <td>8.467434</td>\n",
       "      <td>0.290215</td>\n",
       "      <td>distance</td>\n",
       "      <td>1</td>\n",
       "      <td>3</td>\n",
       "      <td>{'weights': 'distance', 'p': 1, 'n_neighbors': 3}</td>\n",
       "      <td>-0.173793</td>\n",
       "      <td>-0.175286</td>\n",
       "      <td>-0.174541</td>\n",
       "      <td>-0.174540</td>\n",
       "      <td>0.000610</td>\n",
       "      <td>5</td>\n",
       "      <td>-0.171310</td>\n",
       "      <td>-0.171067</td>\n",
       "      <td>-0.170690</td>\n",
       "      <td>-0.171022</td>\n",
       "      <td>0.000255</td>\n",
       "    </tr>\n",
       "  </tbody>\n",
       "</table>\n",
       "</div>"
      ],
      "text/plain": [
       "   mean_fit_time  std_fit_time  mean_score_time  std_score_time param_weights   \n",
       "4       1.746841      0.149298        10.400847        1.538984      distance  \\\n",
       "0       2.239430      0.021961         9.244081        0.199793      distance   \n",
       "3       2.058089      0.062864        27.552276        0.827559       uniform   \n",
       "1       2.247123      0.075701        18.973964        0.616834       uniform   \n",
       "2       2.051764      0.128102         8.467434        0.290215      distance   \n",
       "\n",
       "  param_p param_n_neighbors   \n",
       "4       2                17  \\\n",
       "0       1                 9   \n",
       "3       2                 7   \n",
       "1       1                 5   \n",
       "2       1                 3   \n",
       "\n",
       "                                              params  split0_test_score   \n",
       "4  {'weights': 'distance', 'p': 2, 'n_neighbors':...          -0.150317  \\\n",
       "0  {'weights': 'distance', 'p': 1, 'n_neighbors': 9}          -0.157428   \n",
       "3   {'weights': 'uniform', 'p': 2, 'n_neighbors': 7}          -0.158731   \n",
       "1   {'weights': 'uniform', 'p': 1, 'n_neighbors': 5}          -0.163541   \n",
       "2  {'weights': 'distance', 'p': 1, 'n_neighbors': 3}          -0.173793   \n",
       "\n",
       "   split1_test_score  split2_test_score  mean_test_score  std_test_score   \n",
       "4          -0.150041          -0.149928        -0.150095        0.000164  \\\n",
       "0          -0.155793          -0.156417        -0.156546        0.000673   \n",
       "3          -0.160562          -0.159410        -0.159568        0.000756   \n",
       "1          -0.162752          -0.163114        -0.163136        0.000323   \n",
       "2          -0.175286          -0.174541        -0.174540        0.000610   \n",
       "\n",
       "   rank_test_score  split0_train_score  split1_train_score   \n",
       "4                1           -0.147698           -0.146210  \\\n",
       "0                2           -0.154609           -0.152279   \n",
       "3                3           -0.157145           -0.157181   \n",
       "1                4           -0.161140           -0.159174   \n",
       "2                5           -0.171310           -0.171067   \n",
       "\n",
       "   split2_train_score  mean_train_score  std_train_score  \n",
       "4           -0.146255         -0.146721         0.000691  \n",
       "0           -0.152695         -0.153194         0.001014  \n",
       "3           -0.156733         -0.157020         0.000203  \n",
       "1           -0.160357         -0.160224         0.000808  \n",
       "2           -0.170690         -0.171022         0.000255  "
      ]
     },
     "execution_count": 79,
     "metadata": {},
     "output_type": "execute_result"
    }
   ],
   "source": [
    "random_model.results.head()"
   ]
  },
  {
   "cell_type": "code",
   "execution_count": 80,
   "metadata": {},
   "outputs": [
    {
     "data": {
      "text/html": [
       "<style>#sk-container-id-8 {color: black;background-color: white;}#sk-container-id-8 pre{padding: 0;}#sk-container-id-8 div.sk-toggleable {background-color: white;}#sk-container-id-8 label.sk-toggleable__label {cursor: pointer;display: block;width: 100%;margin-bottom: 0;padding: 0.3em;box-sizing: border-box;text-align: center;}#sk-container-id-8 label.sk-toggleable__label-arrow:before {content: \"▸\";float: left;margin-right: 0.25em;color: #696969;}#sk-container-id-8 label.sk-toggleable__label-arrow:hover:before {color: black;}#sk-container-id-8 div.sk-estimator:hover label.sk-toggleable__label-arrow:before {color: black;}#sk-container-id-8 div.sk-toggleable__content {max-height: 0;max-width: 0;overflow: hidden;text-align: left;background-color: #f0f8ff;}#sk-container-id-8 div.sk-toggleable__content pre {margin: 0.2em;color: black;border-radius: 0.25em;background-color: #f0f8ff;}#sk-container-id-8 input.sk-toggleable__control:checked~div.sk-toggleable__content {max-height: 200px;max-width: 100%;overflow: auto;}#sk-container-id-8 input.sk-toggleable__control:checked~label.sk-toggleable__label-arrow:before {content: \"▾\";}#sk-container-id-8 div.sk-estimator input.sk-toggleable__control:checked~label.sk-toggleable__label {background-color: #d4ebff;}#sk-container-id-8 div.sk-label input.sk-toggleable__control:checked~label.sk-toggleable__label {background-color: #d4ebff;}#sk-container-id-8 input.sk-hidden--visually {border: 0;clip: rect(1px 1px 1px 1px);clip: rect(1px, 1px, 1px, 1px);height: 1px;margin: -1px;overflow: hidden;padding: 0;position: absolute;width: 1px;}#sk-container-id-8 div.sk-estimator {font-family: monospace;background-color: #f0f8ff;border: 1px dotted black;border-radius: 0.25em;box-sizing: border-box;margin-bottom: 0.5em;}#sk-container-id-8 div.sk-estimator:hover {background-color: #d4ebff;}#sk-container-id-8 div.sk-parallel-item::after {content: \"\";width: 100%;border-bottom: 1px solid gray;flex-grow: 1;}#sk-container-id-8 div.sk-label:hover label.sk-toggleable__label {background-color: #d4ebff;}#sk-container-id-8 div.sk-serial::before {content: \"\";position: absolute;border-left: 1px solid gray;box-sizing: border-box;top: 0;bottom: 0;left: 50%;z-index: 0;}#sk-container-id-8 div.sk-serial {display: flex;flex-direction: column;align-items: center;background-color: white;padding-right: 0.2em;padding-left: 0.2em;position: relative;}#sk-container-id-8 div.sk-item {position: relative;z-index: 1;}#sk-container-id-8 div.sk-parallel {display: flex;align-items: stretch;justify-content: center;background-color: white;position: relative;}#sk-container-id-8 div.sk-item::before, #sk-container-id-8 div.sk-parallel-item::before {content: \"\";position: absolute;border-left: 1px solid gray;box-sizing: border-box;top: 0;bottom: 0;left: 50%;z-index: -1;}#sk-container-id-8 div.sk-parallel-item {display: flex;flex-direction: column;z-index: 1;position: relative;background-color: white;}#sk-container-id-8 div.sk-parallel-item:first-child::after {align-self: flex-end;width: 50%;}#sk-container-id-8 div.sk-parallel-item:last-child::after {align-self: flex-start;width: 50%;}#sk-container-id-8 div.sk-parallel-item:only-child::after {width: 0;}#sk-container-id-8 div.sk-dashed-wrapped {border: 1px dashed gray;margin: 0 0.4em 0.5em 0.4em;box-sizing: border-box;padding-bottom: 0.4em;background-color: white;}#sk-container-id-8 div.sk-label label {font-family: monospace;font-weight: bold;display: inline-block;line-height: 1.2em;}#sk-container-id-8 div.sk-label-container {text-align: center;}#sk-container-id-8 div.sk-container {/* jupyter's `normalize.less` sets `[hidden] { display: none; }` but bootstrap.min.css set `[hidden] { display: none !important; }` so we also need the `!important` here to be able to override the default hidden behavior on the sphinx rendered scikit-learn.org. See: https://github.com/scikit-learn/scikit-learn/issues/21755 */display: inline-block !important;position: relative;}#sk-container-id-8 div.sk-text-repr-fallback {display: none;}</style><div id=\"sk-container-id-8\" class=\"sk-top-container\"><div class=\"sk-text-repr-fallback\"><pre>RandomizedSearchCV(cv=3, estimator=KNeighborsClassifier(), n_iter=5, n_jobs=-1,\n",
       "                   param_distributions={&#x27;n_neighbors&#x27;: [3, 5, 7, 9, 13, 15, 17],\n",
       "                                        &#x27;p&#x27;: [1, 2],\n",
       "                                        &#x27;weights&#x27;: [&#x27;uniform&#x27;, &#x27;distance&#x27;]},\n",
       "                   random_state=20, return_train_score=True,\n",
       "                   scoring=&#x27;neg_mean_squared_error&#x27;)</pre><b>In a Jupyter environment, please rerun this cell to show the HTML representation or trust the notebook. <br />On GitHub, the HTML representation is unable to render, please try loading this page with nbviewer.org.</b></div><div class=\"sk-container\" hidden><div class=\"sk-item sk-dashed-wrapped\"><div class=\"sk-label-container\"><div class=\"sk-label sk-toggleable\"><input class=\"sk-toggleable__control sk-hidden--visually\" id=\"sk-estimator-id-12\" type=\"checkbox\" ><label for=\"sk-estimator-id-12\" class=\"sk-toggleable__label sk-toggleable__label-arrow\">RandomizedSearchCV</label><div class=\"sk-toggleable__content\"><pre>RandomizedSearchCV(cv=3, estimator=KNeighborsClassifier(), n_iter=5, n_jobs=-1,\n",
       "                   param_distributions={&#x27;n_neighbors&#x27;: [3, 5, 7, 9, 13, 15, 17],\n",
       "                                        &#x27;p&#x27;: [1, 2],\n",
       "                                        &#x27;weights&#x27;: [&#x27;uniform&#x27;, &#x27;distance&#x27;]},\n",
       "                   random_state=20, return_train_score=True,\n",
       "                   scoring=&#x27;neg_mean_squared_error&#x27;)</pre></div></div></div><div class=\"sk-parallel\"><div class=\"sk-parallel-item\"><div class=\"sk-item\"><div class=\"sk-label-container\"><div class=\"sk-label sk-toggleable\"><input class=\"sk-toggleable__control sk-hidden--visually\" id=\"sk-estimator-id-13\" type=\"checkbox\" ><label for=\"sk-estimator-id-13\" class=\"sk-toggleable__label sk-toggleable__label-arrow\">estimator: KNeighborsClassifier</label><div class=\"sk-toggleable__content\"><pre>KNeighborsClassifier()</pre></div></div></div><div class=\"sk-serial\"><div class=\"sk-item\"><div class=\"sk-estimator sk-toggleable\"><input class=\"sk-toggleable__control sk-hidden--visually\" id=\"sk-estimator-id-14\" type=\"checkbox\" ><label for=\"sk-estimator-id-14\" class=\"sk-toggleable__label sk-toggleable__label-arrow\">KNeighborsClassifier</label><div class=\"sk-toggleable__content\"><pre>KNeighborsClassifier()</pre></div></div></div></div></div></div></div></div></div></div>"
      ],
      "text/plain": [
       "RandomizedSearchCV(cv=3, estimator=KNeighborsClassifier(), n_iter=5, n_jobs=-1,\n",
       "                   param_distributions={'n_neighbors': [3, 5, 7, 9, 13, 15, 17],\n",
       "                                        'p': [1, 2],\n",
       "                                        'weights': ['uniform', 'distance']},\n",
       "                   random_state=20, return_train_score=True,\n",
       "                   scoring='neg_mean_squared_error')"
      ]
     },
     "execution_count": 80,
     "metadata": {},
     "output_type": "execute_result"
    }
   ],
   "source": [
    "random_model.randomsearch"
   ]
  },
  {
   "cell_type": "code",
   "execution_count": null,
   "metadata": {},
   "outputs": [],
   "source": [
    "random_model.random_fit"
   ]
  },
  {
   "cell_type": "code",
   "execution_count": 81,
   "metadata": {},
   "outputs": [],
   "source": [
    "from Library.metrics import metrics\n",
    "\n",
    "metrics_random = metrics(model = random_model.randomsearch.fit(normalized.X_train ,y_train),\n",
    "X_train =normalized.X_train,X_test = normalized.X_test, y_train=y_train ,y_test=y_test)"
   ]
  },
  {
   "cell_type": "code",
   "execution_count": 82,
   "metadata": {},
   "outputs": [
    {
     "name": "stdout",
     "output_type": "stream",
     "text": [
      "              precision    recall  f1-score   support\n",
      "\n",
      "       Clear       0.43      0.18      0.25    110433\n",
      "   LTE_FLOOD       0.36      0.00      0.00    109518\n",
      "  WIFI_FLOOD       0.39      1.00      0.56    110049\n",
      "\n",
      "    accuracy                           0.39    330000\n",
      "   macro avg       0.39      0.39      0.27    330000\n",
      "weighted avg       0.39      0.39      0.27    330000\n",
      "\n"
     ]
    }
   ],
   "source": [
    "metrics_random.report()"
   ]
  },
  {
   "cell_type": "code",
   "execution_count": 83,
   "metadata": {},
   "outputs": [
    {
     "data": {
      "text/plain": [
       "array([[ 19372,      4,  91057],\n",
       "       [ 25419,      5,  84094],\n",
       "       [     3,      5, 110041]], dtype=int64)"
      ]
     },
     "execution_count": 83,
     "metadata": {},
     "output_type": "execute_result"
    }
   ],
   "source": [
    "metrics_random.confusion_matrix()"
   ]
  },
  {
   "attachments": {},
   "cell_type": "markdown",
   "metadata": {},
   "source": [
    "#### LTE 300 PING & WIFI 300 PING"
   ]
  },
  {
   "cell_type": "code",
   "execution_count": 86,
   "metadata": {},
   "outputs": [
    {
     "name": "stdout",
     "output_type": "stream",
     "text": [
      "<class 'pandas.core.frame.DataFrame'>\n",
      "RangeIndex: 400000 entries, 0 to 399999\n",
      "Data columns (total 1 columns):\n",
      " #   Column  Non-Null Count   Dtype    \n",
      "---  ------  --------------   -----    \n",
      " 0   0       400000 non-null  complex64\n",
      "dtypes: complex64(1)\n",
      "memory usage: 3.1 MB\n",
      "None\n"
     ]
    },
    {
     "data": {
      "text/html": [
       "<div>\n",
       "<style scoped>\n",
       "    .dataframe tbody tr th:only-of-type {\n",
       "        vertical-align: middle;\n",
       "    }\n",
       "\n",
       "    .dataframe tbody tr th {\n",
       "        vertical-align: top;\n",
       "    }\n",
       "\n",
       "    .dataframe thead th {\n",
       "        text-align: right;\n",
       "    }\n",
       "</style>\n",
       "<table border=\"1\" class=\"dataframe\">\n",
       "  <thead>\n",
       "    <tr style=\"text-align: right;\">\n",
       "      <th></th>\n",
       "      <th>WIFI_300PING_Real</th>\n",
       "      <th>WIFI_300PING_Imag</th>\n",
       "      <th>ID</th>\n",
       "    </tr>\n",
       "  </thead>\n",
       "  <tbody>\n",
       "    <tr>\n",
       "      <th>0</th>\n",
       "      <td>-0.000031</td>\n",
       "      <td>0.000031</td>\n",
       "      <td>WIFI_300PING</td>\n",
       "    </tr>\n",
       "    <tr>\n",
       "      <th>1</th>\n",
       "      <td>-0.000183</td>\n",
       "      <td>0.000031</td>\n",
       "      <td>WIFI_300PING</td>\n",
       "    </tr>\n",
       "    <tr>\n",
       "      <th>2</th>\n",
       "      <td>-0.000092</td>\n",
       "      <td>-0.000092</td>\n",
       "      <td>WIFI_300PING</td>\n",
       "    </tr>\n",
       "    <tr>\n",
       "      <th>3</th>\n",
       "      <td>0.000183</td>\n",
       "      <td>-0.000183</td>\n",
       "      <td>WIFI_300PING</td>\n",
       "    </tr>\n",
       "    <tr>\n",
       "      <th>4</th>\n",
       "      <td>0.000000</td>\n",
       "      <td>0.000031</td>\n",
       "      <td>WIFI_300PING</td>\n",
       "    </tr>\n",
       "    <tr>\n",
       "      <th>...</th>\n",
       "      <td>...</td>\n",
       "      <td>...</td>\n",
       "      <td>...</td>\n",
       "    </tr>\n",
       "    <tr>\n",
       "      <th>399995</th>\n",
       "      <td>-0.000519</td>\n",
       "      <td>0.000214</td>\n",
       "      <td>WIFI_300PING</td>\n",
       "    </tr>\n",
       "    <tr>\n",
       "      <th>399996</th>\n",
       "      <td>-0.000549</td>\n",
       "      <td>0.000183</td>\n",
       "      <td>WIFI_300PING</td>\n",
       "    </tr>\n",
       "    <tr>\n",
       "      <th>399997</th>\n",
       "      <td>-0.000305</td>\n",
       "      <td>0.000031</td>\n",
       "      <td>WIFI_300PING</td>\n",
       "    </tr>\n",
       "    <tr>\n",
       "      <th>399998</th>\n",
       "      <td>-0.000305</td>\n",
       "      <td>-0.000214</td>\n",
       "      <td>WIFI_300PING</td>\n",
       "    </tr>\n",
       "    <tr>\n",
       "      <th>399999</th>\n",
       "      <td>-0.000519</td>\n",
       "      <td>0.000214</td>\n",
       "      <td>WIFI_300PING</td>\n",
       "    </tr>\n",
       "  </tbody>\n",
       "</table>\n",
       "<p>400000 rows × 3 columns</p>\n",
       "</div>"
      ],
      "text/plain": [
       "        WIFI_300PING_Real  WIFI_300PING_Imag            ID\n",
       "0               -0.000031           0.000031  WIFI_300PING\n",
       "1               -0.000183           0.000031  WIFI_300PING\n",
       "2               -0.000092          -0.000092  WIFI_300PING\n",
       "3                0.000183          -0.000183  WIFI_300PING\n",
       "4                0.000000           0.000031  WIFI_300PING\n",
       "...                   ...                ...           ...\n",
       "399995          -0.000519           0.000214  WIFI_300PING\n",
       "399996          -0.000549           0.000183  WIFI_300PING\n",
       "399997          -0.000305           0.000031  WIFI_300PING\n",
       "399998          -0.000305          -0.000214  WIFI_300PING\n",
       "399999          -0.000519           0.000214  WIFI_300PING\n",
       "\n",
       "[400000 rows x 3 columns]"
      ]
     },
     "execution_count": 86,
     "metadata": {},
     "output_type": "execute_result"
    }
   ],
   "source": [
    "\n",
    "WIFI_300PING = (signal(data=WIFI_300PING,slice = 400000, sinal = 'WIFI_300PING',id = 'WIFI_300PING'))\n",
    "WIFI_300PING.info()\n",
    "WIFI_300PING.to_pandas()\n",
    "WIFI_300PING.database"
   ]
  },
  {
   "cell_type": "code",
   "execution_count": 87,
   "metadata": {},
   "outputs": [
    {
     "name": "stdout",
     "output_type": "stream",
     "text": [
      "<class 'pandas.core.frame.DataFrame'>\n",
      "RangeIndex: 400000 entries, 0 to 399999\n",
      "Data columns (total 1 columns):\n",
      " #   Column  Non-Null Count   Dtype    \n",
      "---  ------  --------------   -----    \n",
      " 0   0       400000 non-null  complex64\n",
      "dtypes: complex64(1)\n",
      "memory usage: 3.1 MB\n",
      "None\n"
     ]
    },
    {
     "data": {
      "text/html": [
       "<div>\n",
       "<style scoped>\n",
       "    .dataframe tbody tr th:only-of-type {\n",
       "        vertical-align: middle;\n",
       "    }\n",
       "\n",
       "    .dataframe tbody tr th {\n",
       "        vertical-align: top;\n",
       "    }\n",
       "\n",
       "    .dataframe thead th {\n",
       "        text-align: right;\n",
       "    }\n",
       "</style>\n",
       "<table border=\"1\" class=\"dataframe\">\n",
       "  <thead>\n",
       "    <tr style=\"text-align: right;\">\n",
       "      <th></th>\n",
       "      <th>LTE_300PING_Real</th>\n",
       "      <th>LTE_300PING_Imag</th>\n",
       "      <th>ID</th>\n",
       "    </tr>\n",
       "  </thead>\n",
       "  <tbody>\n",
       "    <tr>\n",
       "      <th>0</th>\n",
       "      <td>0.005768</td>\n",
       "      <td>0.012146</td>\n",
       "      <td>LTE_300PING</td>\n",
       "    </tr>\n",
       "    <tr>\n",
       "      <th>1</th>\n",
       "      <td>0.003235</td>\n",
       "      <td>0.016511</td>\n",
       "      <td>LTE_300PING</td>\n",
       "    </tr>\n",
       "    <tr>\n",
       "      <th>2</th>\n",
       "      <td>0.001770</td>\n",
       "      <td>0.019379</td>\n",
       "      <td>LTE_300PING</td>\n",
       "    </tr>\n",
       "    <tr>\n",
       "      <th>3</th>\n",
       "      <td>0.000977</td>\n",
       "      <td>0.021912</td>\n",
       "      <td>LTE_300PING</td>\n",
       "    </tr>\n",
       "    <tr>\n",
       "      <th>4</th>\n",
       "      <td>0.001556</td>\n",
       "      <td>0.023835</td>\n",
       "      <td>LTE_300PING</td>\n",
       "    </tr>\n",
       "    <tr>\n",
       "      <th>...</th>\n",
       "      <td>...</td>\n",
       "      <td>...</td>\n",
       "      <td>...</td>\n",
       "    </tr>\n",
       "    <tr>\n",
       "      <th>399995</th>\n",
       "      <td>-0.000153</td>\n",
       "      <td>-0.000275</td>\n",
       "      <td>LTE_300PING</td>\n",
       "    </tr>\n",
       "    <tr>\n",
       "      <th>399996</th>\n",
       "      <td>-0.000244</td>\n",
       "      <td>-0.000458</td>\n",
       "      <td>LTE_300PING</td>\n",
       "    </tr>\n",
       "    <tr>\n",
       "      <th>399997</th>\n",
       "      <td>0.000031</td>\n",
       "      <td>-0.000336</td>\n",
       "      <td>LTE_300PING</td>\n",
       "    </tr>\n",
       "    <tr>\n",
       "      <th>399998</th>\n",
       "      <td>0.000000</td>\n",
       "      <td>-0.000305</td>\n",
       "      <td>LTE_300PING</td>\n",
       "    </tr>\n",
       "    <tr>\n",
       "      <th>399999</th>\n",
       "      <td>0.000000</td>\n",
       "      <td>-0.000275</td>\n",
       "      <td>LTE_300PING</td>\n",
       "    </tr>\n",
       "  </tbody>\n",
       "</table>\n",
       "<p>400000 rows × 3 columns</p>\n",
       "</div>"
      ],
      "text/plain": [
       "        LTE_300PING_Real  LTE_300PING_Imag           ID\n",
       "0               0.005768          0.012146  LTE_300PING\n",
       "1               0.003235          0.016511  LTE_300PING\n",
       "2               0.001770          0.019379  LTE_300PING\n",
       "3               0.000977          0.021912  LTE_300PING\n",
       "4               0.001556          0.023835  LTE_300PING\n",
       "...                  ...               ...          ...\n",
       "399995         -0.000153         -0.000275  LTE_300PING\n",
       "399996         -0.000244         -0.000458  LTE_300PING\n",
       "399997          0.000031         -0.000336  LTE_300PING\n",
       "399998          0.000000         -0.000305  LTE_300PING\n",
       "399999          0.000000         -0.000275  LTE_300PING\n",
       "\n",
       "[400000 rows x 3 columns]"
      ]
     },
     "execution_count": 87,
     "metadata": {},
     "output_type": "execute_result"
    }
   ],
   "source": [
    "LTE_300PING = (signal(data=LTE_300PING,slice = 400000, sinal = 'LTE_300PING',id = 'LTE_300PING'))\n",
    "LTE_300PING.info()\n",
    "LTE_300PING.to_pandas()\n",
    "LTE_300PING.database"
   ]
  },
  {
   "cell_type": "code",
   "execution_count": 91,
   "metadata": {},
   "outputs": [
    {
     "name": "stdout",
     "output_type": "stream",
     "text": [
      "Concatenação efetuada\n",
      "<class 'pandas.core.frame.DataFrame'>\n",
      "RangeIndex: 1200000 entries, 0 to 1199999\n",
      "Data columns (total 4 columns):\n",
      " #   Column   Non-Null Count    Dtype          \n",
      "---  ------   --------------    -----          \n",
      " 0   Signals  1200000 non-null  object         \n",
      " 1   Real     1200000 non-null  float32        \n",
      " 2   Imag     1200000 non-null  double[pyarrow]\n",
      " 3   ID       1200000 non-null  object         \n",
      "dtypes: double[pyarrow](1), float32(1), object(2)\n",
      "memory usage: 32.0+ MB\n"
     ]
    },
    {
     "data": {
      "text/html": [
       "<div>\n",
       "<style scoped>\n",
       "    .dataframe tbody tr th:only-of-type {\n",
       "        vertical-align: middle;\n",
       "    }\n",
       "\n",
       "    .dataframe tbody tr th {\n",
       "        vertical-align: top;\n",
       "    }\n",
       "\n",
       "    .dataframe thead th {\n",
       "        text-align: right;\n",
       "    }\n",
       "</style>\n",
       "<table border=\"1\" class=\"dataframe\">\n",
       "  <thead>\n",
       "    <tr style=\"text-align: right;\">\n",
       "      <th></th>\n",
       "      <th>Signals</th>\n",
       "      <th>Real</th>\n",
       "      <th>Imag</th>\n",
       "      <th>ID</th>\n",
       "    </tr>\n",
       "  </thead>\n",
       "  <tbody>\n",
       "    <tr>\n",
       "      <th>0</th>\n",
       "      <td>Clear</td>\n",
       "      <td>0.004425</td>\n",
       "      <td>0.006348</td>\n",
       "      <td>Clear</td>\n",
       "    </tr>\n",
       "    <tr>\n",
       "      <th>1</th>\n",
       "      <td>Clear</td>\n",
       "      <td>0.005676</td>\n",
       "      <td>0.006348</td>\n",
       "      <td>Clear</td>\n",
       "    </tr>\n",
       "    <tr>\n",
       "      <th>2</th>\n",
       "      <td>Clear</td>\n",
       "      <td>0.006317</td>\n",
       "      <td>0.007904</td>\n",
       "      <td>Clear</td>\n",
       "    </tr>\n",
       "    <tr>\n",
       "      <th>3</th>\n",
       "      <td>Clear</td>\n",
       "      <td>0.006562</td>\n",
       "      <td>0.008515</td>\n",
       "      <td>Clear</td>\n",
       "    </tr>\n",
       "    <tr>\n",
       "      <th>4</th>\n",
       "      <td>Clear</td>\n",
       "      <td>0.006745</td>\n",
       "      <td>0.009980</td>\n",
       "      <td>Clear</td>\n",
       "    </tr>\n",
       "    <tr>\n",
       "      <th>...</th>\n",
       "      <td>...</td>\n",
       "      <td>...</td>\n",
       "      <td>...</td>\n",
       "      <td>...</td>\n",
       "    </tr>\n",
       "    <tr>\n",
       "      <th>1199995</th>\n",
       "      <td>LTE_300PING</td>\n",
       "      <td>-0.000153</td>\n",
       "      <td>-0.000275</td>\n",
       "      <td>LTE_300PING</td>\n",
       "    </tr>\n",
       "    <tr>\n",
       "      <th>1199996</th>\n",
       "      <td>LTE_300PING</td>\n",
       "      <td>-0.000244</td>\n",
       "      <td>-0.000458</td>\n",
       "      <td>LTE_300PING</td>\n",
       "    </tr>\n",
       "    <tr>\n",
       "      <th>1199997</th>\n",
       "      <td>LTE_300PING</td>\n",
       "      <td>0.000031</td>\n",
       "      <td>-0.000336</td>\n",
       "      <td>LTE_300PING</td>\n",
       "    </tr>\n",
       "    <tr>\n",
       "      <th>1199998</th>\n",
       "      <td>LTE_300PING</td>\n",
       "      <td>0.000000</td>\n",
       "      <td>-0.000305</td>\n",
       "      <td>LTE_300PING</td>\n",
       "    </tr>\n",
       "    <tr>\n",
       "      <th>1199999</th>\n",
       "      <td>LTE_300PING</td>\n",
       "      <td>0.000000</td>\n",
       "      <td>-0.000275</td>\n",
       "      <td>LTE_300PING</td>\n",
       "    </tr>\n",
       "  </tbody>\n",
       "</table>\n",
       "<p>1200000 rows × 4 columns</p>\n",
       "</div>"
      ],
      "text/plain": [
       "             Signals      Real      Imag           ID\n",
       "0              Clear  0.004425  0.006348        Clear\n",
       "1              Clear  0.005676  0.006348        Clear\n",
       "2              Clear  0.006317  0.007904        Clear\n",
       "3              Clear  0.006562  0.008515        Clear\n",
       "4              Clear  0.006745  0.009980        Clear\n",
       "...              ...       ...       ...          ...\n",
       "1199995  LTE_300PING -0.000153 -0.000275  LTE_300PING\n",
       "1199996  LTE_300PING -0.000244 -0.000458  LTE_300PING\n",
       "1199997  LTE_300PING  0.000031 -0.000336  LTE_300PING\n",
       "1199998  LTE_300PING  0.000000 -0.000305  LTE_300PING\n",
       "1199999  LTE_300PING  0.000000 -0.000275  LTE_300PING\n",
       "\n",
       "[1200000 rows x 4 columns]"
      ]
     },
     "execution_count": 91,
     "metadata": {},
     "output_type": "execute_result"
    }
   ],
   "source": [
    "uniao = concat_3(database1= CLEAR.database, database2=WIFI_300PING.database,database3=LTE_300PING.database ,sinal1 ='Clear',sinal2 = 'WIFI_300PING',sinal3 = 'LTE_300PING')\n",
    "uniao.merge()\n",
    "# uniao.concat = uniao.concat.reset_index().rename(columns={'level_0':'Signals','level_1':'index'}).drop(columns=['index'])\n",
    "df_ping = uniao.concat\n",
    "df_ping.info()\n",
    "df_ping"
   ]
  },
  {
   "cell_type": "code",
   "execution_count": 92,
   "metadata": {},
   "outputs": [
    {
     "name": "stdout",
     "output_type": "stream",
     "text": [
      "x_train:              Real      Imag\n",
      "662190  -0.001892  0.000031\n",
      "352005  -0.000122 -0.000641\n",
      "1065155 -0.000458 -0.001312\n",
      "156449  -0.000427 -0.004547\n",
      "425411  -0.018311  0.002472\n",
      "...           ...       ...\n",
      "723495  -0.000916  0.000153\n",
      "1099718 -0.000427 -0.001038\n",
      "695140  -0.001404  0.000275\n",
      "488428  -0.010041  0.001740\n",
      "510055  -0.008271  0.001068\n",
      "\n",
      "[870000 rows x 2 columns]\n",
      "y_train:              Real      Imag\n",
      "416950  -0.019959  0.002747\n",
      "1097822 -0.000305 -0.001007\n",
      "1109722 -0.000549 -0.000793\n",
      "639269  -0.002106  0.000366\n",
      "113454  -0.000763 -0.006989\n",
      "...           ...       ...\n",
      "1001494 -0.001251 -0.002350\n",
      "980206  -0.001160 -0.003113\n",
      "225384  -0.000092 -0.002350\n",
      "381798   0.000031 -0.000671\n",
      "726798  -0.000855  0.000153\n",
      "\n",
      "[330000 rows x 2 columns]\n",
      "x_test: 662190     WIFI_300PING\n",
      "352005            Clear\n",
      "1065155     LTE_300PING\n",
      "156449            Clear\n",
      "425411     WIFI_300PING\n",
      "               ...     \n",
      "723495     WIFI_300PING\n",
      "1099718     LTE_300PING\n",
      "695140     WIFI_300PING\n",
      "488428     WIFI_300PING\n",
      "510055     WIFI_300PING\n",
      "Name: ID, Length: 870000, dtype: object\n",
      "y_test: 416950     WIFI_300PING\n",
      "1097822     LTE_300PING\n",
      "1109722     LTE_300PING\n",
      "639269     WIFI_300PING\n",
      "113454            Clear\n",
      "               ...     \n",
      "1001494     LTE_300PING\n",
      "980206      LTE_300PING\n",
      "225384            Clear\n",
      "381798            Clear\n",
      "726798     WIFI_300PING\n",
      "Name: ID, Length: 330000, dtype: object\n"
     ]
    }
   ],
   "source": [
    "spliter = TrainTestSplit(data = df_ping)\n",
    "# Acessando os conjuntos de treinamento e teste\n",
    "X_train, X_test, y_train, y_test =spliter.train_test_split( test_size=0.275, random_state=210)\n",
    "\n",
    "print(\"x_train:\", X_train)\n",
    "print(\"y_train:\", X_test)\n",
    "print(\"x_test:\", y_train)\n",
    "print(\"y_test:\", y_test)\n"
   ]
  },
  {
   "cell_type": "code",
   "execution_count": 93,
   "metadata": {},
   "outputs": [
    {
     "data": {
      "image/png": "[encoded data removed]",
      "text/plain": [
       "<Figure size 640x480 with 1 Axes>"
      ]
     },
     "metadata": {},
     "output_type": "display_data"
    }
   ],
   "source": [
    "# Criando um objeto Visualization\n",
    "vis = Visualization()\n",
    "\n",
    "# Plotando o gráfico de pizza\n",
    "vis.plot_pie(y_test) # Distruição de X_train"
   ]
  },
  {
   "cell_type": "code",
   "execution_count": 94,
   "metadata": {},
   "outputs": [
    {
     "name": "stdout",
     "output_type": "stream",
     "text": [
      "\n",
      " normalized.X_test: [[0.11597808 0.37075828]\n",
      " [0.4365356  0.31922917]\n",
      " [0.43255352 0.32216172]\n",
      " ...\n",
      " [0.44001992 0.30079599]\n",
      " [0.44201096 0.32383746]\n",
      " [0.42757592 0.33514873]]\n",
      "normalized.X_train [[0.48998398 0.2416087 ]\n",
      " [0.51322116 0.23495614]\n",
      " [0.50881411 0.22830359]\n",
      " ...\n",
      " [0.49639424 0.24402781]\n",
      " [0.38301282 0.25854247]\n",
      " [0.40625    0.25188992]]\n"
     ]
    }
   ],
   "source": [
    "normalized = Normalizing(X_train=X_train, X_test= X_test)\n",
    "print(f\"\"\"\\n normalized.X_test: {normalized.X_test}\n",
    "normalized.X_train {normalized.X_train}\"\"\")"
   ]
  },
  {
   "cell_type": "code",
   "execution_count": 100,
   "metadata": {},
   "outputs": [
    {
     "data": {
      "text/html": [
       "<style>#sk-container-id-11 {color: black;background-color: white;}#sk-container-id-11 pre{padding: 0;}#sk-container-id-11 div.sk-toggleable {background-color: white;}#sk-container-id-11 label.sk-toggleable__label {cursor: pointer;display: block;width: 100%;margin-bottom: 0;padding: 0.3em;box-sizing: border-box;text-align: center;}#sk-container-id-11 label.sk-toggleable__label-arrow:before {content: \"▸\";float: left;margin-right: 0.25em;color: #696969;}#sk-container-id-11 label.sk-toggleable__label-arrow:hover:before {color: black;}#sk-container-id-11 div.sk-estimator:hover label.sk-toggleable__label-arrow:before {color: black;}#sk-container-id-11 div.sk-toggleable__content {max-height: 0;max-width: 0;overflow: hidden;text-align: left;background-color: #f0f8ff;}#sk-container-id-11 div.sk-toggleable__content pre {margin: 0.2em;color: black;border-radius: 0.25em;background-color: #f0f8ff;}#sk-container-id-11 input.sk-toggleable__control:checked~div.sk-toggleable__content {max-height: 200px;max-width: 100%;overflow: auto;}#sk-container-id-11 input.sk-toggleable__control:checked~label.sk-toggleable__label-arrow:before {content: \"▾\";}#sk-container-id-11 div.sk-estimator input.sk-toggleable__control:checked~label.sk-toggleable__label {background-color: #d4ebff;}#sk-container-id-11 div.sk-label input.sk-toggleable__control:checked~label.sk-toggleable__label {background-color: #d4ebff;}#sk-container-id-11 input.sk-hidden--visually {border: 0;clip: rect(1px 1px 1px 1px);clip: rect(1px, 1px, 1px, 1px);height: 1px;margin: -1px;overflow: hidden;padding: 0;position: absolute;width: 1px;}#sk-container-id-11 div.sk-estimator {font-family: monospace;background-color: #f0f8ff;border: 1px dotted black;border-radius: 0.25em;box-sizing: border-box;margin-bottom: 0.5em;}#sk-container-id-11 div.sk-estimator:hover {background-color: #d4ebff;}#sk-container-id-11 div.sk-parallel-item::after {content: \"\";width: 100%;border-bottom: 1px solid gray;flex-grow: 1;}#sk-container-id-11 div.sk-label:hover label.sk-toggleable__label {background-color: #d4ebff;}#sk-container-id-11 div.sk-serial::before {content: \"\";position: absolute;border-left: 1px solid gray;box-sizing: border-box;top: 0;bottom: 0;left: 50%;z-index: 0;}#sk-container-id-11 div.sk-serial {display: flex;flex-direction: column;align-items: center;background-color: white;padding-right: 0.2em;padding-left: 0.2em;position: relative;}#sk-container-id-11 div.sk-item {position: relative;z-index: 1;}#sk-container-id-11 div.sk-parallel {display: flex;align-items: stretch;justify-content: center;background-color: white;position: relative;}#sk-container-id-11 div.sk-item::before, #sk-container-id-11 div.sk-parallel-item::before {content: \"\";position: absolute;border-left: 1px solid gray;box-sizing: border-box;top: 0;bottom: 0;left: 50%;z-index: -1;}#sk-container-id-11 div.sk-parallel-item {display: flex;flex-direction: column;z-index: 1;position: relative;background-color: white;}#sk-container-id-11 div.sk-parallel-item:first-child::after {align-self: flex-end;width: 50%;}#sk-container-id-11 div.sk-parallel-item:last-child::after {align-self: flex-start;width: 50%;}#sk-container-id-11 div.sk-parallel-item:only-child::after {width: 0;}#sk-container-id-11 div.sk-dashed-wrapped {border: 1px dashed gray;margin: 0 0.4em 0.5em 0.4em;box-sizing: border-box;padding-bottom: 0.4em;background-color: white;}#sk-container-id-11 div.sk-label label {font-family: monospace;font-weight: bold;display: inline-block;line-height: 1.2em;}#sk-container-id-11 div.sk-label-container {text-align: center;}#sk-container-id-11 div.sk-container {/* jupyter's `normalize.less` sets `[hidden] { display: none; }` but bootstrap.min.css set `[hidden] { display: none !important; }` so we also need the `!important` here to be able to override the default hidden behavior on the sphinx rendered scikit-learn.org. See: https://github.com/scikit-learn/scikit-learn/issues/21755 */display: inline-block !important;position: relative;}#sk-container-id-11 div.sk-text-repr-fallback {display: none;}</style><div id=\"sk-container-id-11\" class=\"sk-top-container\"><div class=\"sk-text-repr-fallback\"><pre>KNeighborsClassifier(n_neighbors=9, weights=&#x27;distance&#x27;)</pre><b>In a Jupyter environment, please rerun this cell to show the HTML representation or trust the notebook. <br />On GitHub, the HTML representation is unable to render, please try loading this page with nbviewer.org.</b></div><div class=\"sk-container\" hidden><div class=\"sk-item\"><div class=\"sk-estimator sk-toggleable\"><input class=\"sk-toggleable__control sk-hidden--visually\" id=\"sk-estimator-id-17\" type=\"checkbox\" checked><label for=\"sk-estimator-id-17\" class=\"sk-toggleable__label sk-toggleable__label-arrow\">KNeighborsClassifier</label><div class=\"sk-toggleable__content\"><pre>KNeighborsClassifier(n_neighbors=9, weights=&#x27;distance&#x27;)</pre></div></div></div></div></div>"
      ],
      "text/plain": [
       "KNeighborsClassifier(n_neighbors=9, weights='distance')"
      ]
     },
     "execution_count": 100,
     "metadata": {},
     "output_type": "execute_result"
    }
   ],
   "source": [
    "knn = KNeighborsClassifier(n_neighbors= 9,weights='distance', p=2)\n",
    "model_ping = knn.fit(normalized.X_train ,y_train)\n",
    "model_ping"
   ]
  },
  {
   "cell_type": "code",
   "execution_count": 99,
   "metadata": {},
   "outputs": [
    {
     "ename": "TypeError",
     "evalue": "'metrics' object is not callable",
     "output_type": "error",
     "traceback": [
      "\u001b[1;31m---------------------------------------------------------------------------\u001b[0m",
      "\u001b[1;31mTypeError\u001b[0m                                 Traceback (most recent call last)",
      "Cell \u001b[1;32mIn[99], line 1\u001b[0m\n\u001b[1;32m----> 1\u001b[0m metrics_ping \u001b[39m=\u001b[39m metrics(model \u001b[39m=\u001b[39;49m model_ping,\n\u001b[0;32m      2\u001b[0m X_train \u001b[39m=\u001b[39;49mnormalized\u001b[39m.\u001b[39;49mX_train,X_test \u001b[39m=\u001b[39;49m normalized\u001b[39m.\u001b[39;49mX_test, y_train\u001b[39m=\u001b[39;49my_train ,y_test\u001b[39m=\u001b[39;49my_test)\n\u001b[0;32m      4\u001b[0m metrics\u001b[39m.\u001b[39mtable()\n",
      "\u001b[1;31mTypeError\u001b[0m: 'metrics' object is not callable"
     ]
    }
   ],
   "source": [
    "metrics_ping = metrics(model = model_ping,\n",
    "X_train =normalized.X_train,X_test = normalized.X_test, y_train=y_train ,y_test=y_test)\n",
    "\n",
    "metrics.table()"
   ]
  },
  {
   "cell_type": "code",
   "execution_count": 101,
   "metadata": {},
   "outputs": [
    {
     "data": {
      "image/png": "[encoded data removed]",
      "text/plain": [
       "<Figure size 1600x500 with 2 Axes>"
      ]
     },
     "metadata": {},
     "output_type": "display_data"
    }
   ],
   "source": [
    "confusion = Visualization()\n",
    "confusion_matrix = confusion.confusion_matrix(model=model_ping,X_train =normalized.X_train,\n",
    "X_test= normalized.X_test, y_train= y_train, y_test= y_test)"
   ]
  },
  {
   "cell_type": "code",
   "execution_count": 102,
   "metadata": {},
   "outputs": [
    {
     "name": "stdout",
     "output_type": "stream",
     "text": [
      "              precision    recall  f1-score   support\n",
      "\n",
      "       Clear       0.57      0.00      0.00    110433\n",
      " LTE_300PING       0.41      0.11      0.18    109518\n",
      "WIFI_300PING       0.37      1.00      0.54    110049\n",
      "\n",
      "    accuracy                           0.37    330000\n",
      "   macro avg       0.45      0.37      0.24    330000\n",
      "weighted avg       0.45      0.37      0.24    330000\n",
      "\n"
     ]
    }
   ],
   "source": [
    "metrics.report()"
   ]
  },
  {
   "cell_type": "code",
   "execution_count": null,
   "metadata": {},
   "outputs": [],
   "source": []
  }
 ],
 "metadata": {
  "kernelspec": {
   "display_name": "venv",
   "language": "python",
   "name": "python3"
  },
  "language_info": {
   "codemirror_mode": {
    "name": "ipython",
    "version": 3
   },
   "file_extension": ".py",
   "mimetype": "text/x-python",
   "name": "python",
   "nbconvert_exporter": "python",
   "pygments_lexer": "ipython3",
   "version": "3.11.3"
  },
  "orig_nbformat": 4
 },
 "nbformat": 4,
 "nbformat_minor": 2
}
