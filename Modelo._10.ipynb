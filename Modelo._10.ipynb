{
 "cells": [
  {
   "cell_type": "code",
   "execution_count": null,
   "metadata": {},
   "outputs": [],
   "source": [
    "import pandas as pd\n",
    "\n",
    "import torch\n",
    "import torch.nn as nn\n",
    "from tqdm.auto import tqdm\n",
    "from sklearn.preprocessing import MinMaxScaler, StandardScaler\n",
    "import numpy as np\n",
    "from helper_functions import normalize, accuracy_fnn\n",
    "from torch.utils.data import DataLoader, TensorDataset \n",
    "from CNN import *\n",
    "device = 'cuda' if torch.cuda.is_available() else 'cpu'\n",
    "print('device =', device)"
   ]
  },
  {
   "cell_type": "code",
   "execution_count": null,
   "metadata": {},
   "outputs": [],
   "source": [
    "from DataLoader import Loaders\n",
    "\n",
    "df = Loaders(batch_size = None ,normalization= True,file_path='future_clean/future-10/', dimension=10)"
   ]
  },
  {
   "cell_type": "code",
   "execution_count": null,
   "metadata": {},
   "outputs": [],
   "source": [
    "pd.read_parquet(r'future_clean\\future-10\\train.parquet')"
   ]
  },
  {
   "cell_type": "code",
   "execution_count": null,
   "metadata": {},
   "outputs": [],
   "source": [
    "from timeit import default_timer as timer \n",
    "def print_train_time(start: float, end: float, device: torch.device = None):\n",
    "    \"\"\"Prints difference between start and end time.\n",
    "\n",
    "    Args:\n",
    "        start (float): Start time of computation (preferred in timeit format). \n",
    "        end (float): End time of computation.\n",
    "        device ([type], optional): Device that compute is running on. Defaults to None.\n",
    "\n",
    "    Returns:\n",
    "        float: time between start and end in seconds (higher is longer).\n",
    "    \"\"\"\n",
    "    total_time = end - start\n",
    "    print(f\"Train time on {device}: {total_time:.3f} seconds\")\n",
    "    return total_time"
   ]
  },
  {
   "cell_type": "code",
   "execution_count": null,
   "metadata": {},
   "outputs": [],
   "source": [
    "def training_loop( model: torch.nn.Module,\n",
    "                      data_loader_train: torch.utils.data.DataLoader,\n",
    "                      data_loader_test: torch.utils.data.DataLoader,\n",
    "                      loss_fn: torch.nn.Module,\n",
    "                      optimizer: torch.optim.Optimizer,\n",
    "                      accuracy_fn,\n",
    "                      device: torch.device,\n",
    "                      epochs: int\n",
    "                      ,inplace=False):\n",
    "        \"\"\"Treina e testa um modelo PyTorch.\n",
    "\n",
    "     Passa um modelo PyTorch de destino por meio de train_step() e test_step()\n",
    "     funções para um número de épocas, treinando e testando o modelo\n",
    "     no mesmo loop de época.\n",
    "\n",
    "     Calcula, imprime e armazena métricas de avaliação.\n",
    "\n",
    "     Argumentos:\n",
    "       model: um modelo PyTorch a ser treinado e testado.\n",
    "       train_dataloader: Uma instância do DataLoader para o modelo a ser treinado.\n",
    "       test_dataloader: Uma instância do DataLoader para o modelo a ser testado.\n",
    "       otimizador: Um otimizador PyTorch para ajudar a minimizar a função de perda.\n",
    "       loss_fn: uma função de perda do PyTorch para calcular a perda em ambos os conjuntos de dados.\n",
    "       epochs: Um número inteiro indicando para quantas épocas treinar.\n",
    "       dispositivo: um dispositivo de destino para calcular (por exemplo, \"cuda\" ou \"cpu\").\n",
    "      \n",
    "     Retorna:\n",
    "       Um dicionário de perda de treinamento e teste, bem como treinamento e\n",
    "       testar métricas de precisão. Cada métrica tem um valor em uma lista para\n",
    "       cada época.\n",
    "       Na forma: {train_loss: [...],\n",
    "                 train_acc: [...],\n",
    "                 teste_perda: [...],\n",
    "                 test_acc: [...]}\n",
    "       Por exemplo, se o treinamento for epochs=2:\n",
    "               {train_loss: [2.0616, 1.0537],\n",
    "                 train_acc: [0,3945, 0,3945],\n",
    "                 perda_teste: [1.2641, 1.5706],\n",
    "                 test_acc: [0,3400, 0,2973]}\n",
    "     \"\"\"\n",
    "\n",
    "        print(f\"Training on {device}\")\n",
    "        for epoch in tqdm(range(epochs)):\n",
    "\n",
    "            \n",
    "            print(f\" Epoch: {epoch}\\n---------\")\n",
    "            # loop pelo dataloader de treino\n",
    "            model.to(device)\n",
    "            model.train().double()\n",
    "            training_loss = 0\n",
    "            training_accurary = 0\n",
    "            valid_loss = 0\n",
    "            for batch, (inputs, target) in enumerate(data_loader_train):\n",
    "                # movendo os dados para o dispositivo de processamento\n",
    "                inputs = inputs.to(device).double()\n",
    "                inputs = inputs.unsqueeze(1)\n",
    "                target = target.unsqueeze(1)\n",
    "                \n",
    "                # fazendo as previsões\n",
    "                output = model(inputs.double())\n",
    "\n",
    "                # calculando a perda\n",
    "                loss = loss_fn(output, target)\n",
    "\n",
    "                training_loss += loss.data.item()\n",
    "                training_accurary += accuracy_fn(target, output.argmax(dim=1).unsqueeze(1))\n",
    "\n",
    "                # retropropagando os gradientes e atualizando os pesos\n",
    "                optimizer.zero_grad()\n",
    "\n",
    "                loss.backward()\n",
    "\n",
    "                optimizer.step()\n",
    "\n",
    "            training_loss /= len(data_loader_train)\n",
    "            training_accurary /= len(data_loader_train)\n",
    "\n",
    "            # imprimindo as métricas de treino a cada 50 lotes\n",
    "            \n",
    "            print(\n",
    "                    f'Train loss: {training_loss:.5f} | Train accuracy: {training_accurary:.2f}%')\n",
    "\n",
    "            # avaliando o modelo no dataloard de teste\n",
    "            # loop pelo dataloader de teste\n",
    "\n",
    "            model.eval().double()\n",
    "            valid_loss = 0\n",
    "            test_loss = 0\n",
    "            test_accurary = 0\n",
    "            with torch.inference_mode():\n",
    "\n",
    "                for data, target in data_loader_test:\n",
    "                    # movendo os dados para o dispositivo de processamento\n",
    "                    data = data.to(device)\n",
    "                    target = target.to(device)\n",
    "                    target = target.unsqueeze(1)\n",
    "                    \n",
    "                    data = data.unsqueeze(1)\n",
    "                    # 1. Forward pass\n",
    "                    test_pred = model(data)\n",
    "                    # 2. Calculate loss and accuracy\n",
    "                    test_loss += loss_fn(test_pred, target)\n",
    "                    valid_loss += test_loss.data.item()\n",
    "                    test_accurary += accuracy_fn(target,\n",
    "                                                 test_pred.argmax(dim=1).unsqueeze(1))\n",
    "\n",
    "                valid_loss /= len(data_loader_test)\n",
    "                test_accurary /= len(data_loader_test)\n",
    "\n",
    "            \n",
    "            \n",
    "            print(\n",
    "                    f'Test loss: {valid_loss:.5f} | Test accuracy: {test_accurary:.2f}%')\n"
   ]
  },
  {
   "cell_type": "code",
   "execution_count": null,
   "metadata": {},
   "outputs": [],
   "source": [
    "model_ = CNNModel(in_channels=8,out_channels=10)\n",
    "loss_fn = nn.CrossEntropyLoss() # this is also called \"criterion\"/\"cost function\" in some places\n",
    "optimizer = torch.optim.SGD(params=model_.parameters(), lr= 1e-05)"
   ]
  },
  {
   "cell_type": "code",
   "execution_count": null,
   "metadata": {},
   "outputs": [],
   "source": [
    "training_loop(model = model_,\n",
    "                      data_loader_train= df.train_loader,\n",
    "                      data_loader_test=df.test_loader,\n",
    "                      loss_fn = loss_fn,\n",
    "                      optimizer =optimizer,\n",
    "                      accuracy_fn = accuracy_fnn,\n",
    "                      device = device,\n",
    "                      epochs =15 \n",
    "                      ,inplace=False)"
   ]
  },
  {
   "cell_type": "code",
   "execution_count": null,
   "metadata": {},
   "outputs": [],
   "source": []
  },
  {
   "cell_type": "code",
   "execution_count": null,
   "metadata": {},
   "outputs": [],
   "source": []
  },
  {
   "cell_type": "code",
   "execution_count": null,
   "metadata": {},
   "outputs": [],
   "source": []
  },
  {
   "cell_type": "code",
   "execution_count": null,
   "metadata": {},
   "outputs": [],
   "source": []
  },
  {
   "cell_type": "code",
   "execution_count": null,
   "metadata": {},
   "outputs": [],
   "source": []
  },
  {
   "cell_type": "code",
   "execution_count": null,
   "metadata": {},
   "outputs": [],
   "source": []
  },
  {
   "cell_type": "code",
   "execution_count": null,
   "metadata": {},
   "outputs": [],
   "source": []
  },
  {
   "cell_type": "code",
   "execution_count": null,
   "metadata": {},
   "outputs": [],
   "source": []
  },
  {
   "cell_type": "code",
   "execution_count": null,
   "metadata": {},
   "outputs": [],
   "source": []
  },
  {
   "cell_type": "code",
   "execution_count": null,
   "metadata": {},
   "outputs": [],
   "source": []
  },
  {
   "cell_type": "code",
   "execution_count": null,
   "metadata": {},
   "outputs": [],
   "source": []
  },
  {
   "cell_type": "code",
   "execution_count": null,
   "metadata": {},
   "outputs": [],
   "source": []
  }
 ],
 "metadata": {
  "kernelspec": {
   "display_name": "Python 3",
   "language": "python",
   "name": "python3"
  },
  "language_info": {
   "codemirror_mode": {
    "name": "ipython",
    "version": 3
   },
   "file_extension": ".py",
   "mimetype": "text/x-python",
   "name": "python",
   "nbconvert_exporter": "python",
   "pygments_lexer": "ipython3",
   "version": "3.11.3"
  }
 },
 "nbformat": 4,
 "nbformat_minor": 2
}
