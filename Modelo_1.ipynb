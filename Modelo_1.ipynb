{
 "cells": [
  {
   "cell_type": "code",
   "execution_count": 6,
   "metadata": {},
   "outputs": [
    {
     "name": "stdout",
     "output_type": "stream",
     "text": [
      "device = cpu\n"
     ]
    }
   ],
   "source": [
    "import pandas as pd\n",
    "\n",
    "import torch\n",
    "import torch.nn as nn\n",
    "from tqdm.auto import tqdm\n",
    "from sklearn.preprocessing import MinMaxScaler, StandardScaler\n",
    "import numpy as np\n",
    "from helper_functions import normalize, accuracy_fnn\n",
    "from torch.utils.data import DataLoader, TensorDataset \n",
    "from CNN import *\n",
    "device = 'cuda' if torch.cuda.is_available() else 'cpu'\n",
    "print('device =', device)"
   ]
  },
  {
   "cell_type": "code",
   "execution_count": 7,
   "metadata": {},
   "outputs": [],
   "source": [
    "from DataLoader import Loaders\n",
    "\n",
    "\n",
    "df = Loaders(batch_size = 16 ,normalization= False,file_path='future_clean/future-1/')"
   ]
  },
  {
   "cell_type": "code",
   "execution_count": 8,
   "metadata": {},
   "outputs": [
    {
     "data": {
      "text/plain": [
       "(array([[9.03015898e-05, 1.76219764e-04, 4.24878308e-05, ...,\n",
       "         1.39140291e-04, 1.15248236e-04, 0.00000000e+00],\n",
       "        [4.14241367e-04, 4.44046920e-04, 9.30094466e-05, ...,\n",
       "         2.60125729e-04, 4.13253991e-04, 0.00000000e+00],\n",
       "        [4.59137838e-04, 5.69552940e-04, 8.77583152e-05, ...,\n",
       "         3.67744127e-04, 3.40097118e-04, 0.00000000e+00],\n",
       "        ...,\n",
       "        [2.94318656e-04, 2.63341324e-04, 3.06061993e-04, ...,\n",
       "         3.47068737e-04, 8.35544124e-05, 1.00000000e+00],\n",
       "        [6.44881875e-05, 8.31654397e-05, 9.84251528e-05, ...,\n",
       "         1.09376248e-04, 4.64972436e-05, 1.00000000e+00],\n",
       "        [3.25540568e-05, 3.51450253e-05, 3.95705320e-05, ...,\n",
       "         4.12012268e-05, 3.38705795e-05, 1.00000000e+00]]),\n",
       " (24320, 9))"
      ]
     },
     "execution_count": 8,
     "metadata": {},
     "output_type": "execute_result"
    }
   ],
   "source": [
    "df.train , df.train.shape"
   ]
  },
  {
   "cell_type": "code",
   "execution_count": 9,
   "metadata": {},
   "outputs": [],
   "source": [
    "model_ = CNNModel(in_channels=8 )"
   ]
  },
  {
   "cell_type": "code",
   "execution_count": 10,
   "metadata": {},
   "outputs": [],
   "source": [
    "from timeit import default_timer as timer \n",
    "def print_train_time(start: float, end: float, device: torch.device = None):\n",
    "    \"\"\"Prints difference between start and end time.\n",
    "\n",
    "    Args:\n",
    "        start (float): Start time of computation (preferred in timeit format). \n",
    "        end (float): End time of computation.\n",
    "        device ([type], optional): Device that compute is running on. Defaults to None.\n",
    "\n",
    "    Returns:\n",
    "        float: time between start and end in seconds (higher is longer).\n",
    "    \"\"\"\n",
    "    total_time = end - start\n",
    "    print(f\"Train time on {device}: {total_time:.3f} seconds\")\n",
    "    return total_time"
   ]
  },
  {
   "cell_type": "code",
   "execution_count": 11,
   "metadata": {},
   "outputs": [],
   "source": [
    "def training_loop( model: torch.nn.Module,\n",
    "                      data_loader_train: torch.utils.data.DataLoader,\n",
    "                      data_loader_test: torch.utils.data.DataLoader,\n",
    "                      loss_fn: torch.nn.Module,\n",
    "                      optimizer: torch.optim.Optimizer,\n",
    "                      accuracy_fn,\n",
    "                      device: torch.device,\n",
    "                      epochs: int\n",
    "                      ,inplace=False):\n",
    "        \"\"\"Treina e testa um modelo PyTorch.\n",
    "\n",
    "     Passa um modelo PyTorch de destino por meio de train_step() e test_step()\n",
    "     funções para um número de épocas, treinando e testando o modelo\n",
    "     no mesmo loop de época.\n",
    "\n",
    "     Calcula, imprime e armazena métricas de avaliação.\n",
    "\n",
    "     Argumentos:\n",
    "       model: um modelo PyTorch a ser treinado e testado.\n",
    "       train_dataloader: Uma instância do DataLoader para o modelo a ser treinado.\n",
    "       test_dataloader: Uma instância do DataLoader para o modelo a ser testado.\n",
    "       otimizador: Um otimizador PyTorch para ajudar a minimizar a função de perda.\n",
    "       loss_fn: uma função de perda do PyTorch para calcular a perda em ambos os conjuntos de dados.\n",
    "       epochs: Um número inteiro indicando para quantas épocas treinar.\n",
    "       dispositivo: um dispositivo de destino para calcular (por exemplo, \"cuda\" ou \"cpu\").\n",
    "      \n",
    "     Retorna:\n",
    "       Um dicionário de perda de treinamento e teste, bem como treinamento e\n",
    "       testar métricas de precisão. Cada métrica tem um valor em uma lista para\n",
    "       cada época.\n",
    "       Na forma: {train_loss: [...],\n",
    "                 train_acc: [...],\n",
    "                 teste_perda: [...],\n",
    "                 test_acc: [...]}\n",
    "       Por exemplo, se o treinamento for epochs=2:\n",
    "               {train_loss: [2.0616, 1.0537],\n",
    "                 train_acc: [0,3945, 0,3945],\n",
    "                 perda_teste: [1.2641, 1.5706],\n",
    "                 test_acc: [0,3400, 0,2973]}\n",
    "     \"\"\"\n",
    "\n",
    "        results_array_test = np.empty((epochs, 2))\n",
    "        results_array_train = np.empty([epochs, 2])\n",
    "\n",
    "        print(f\"Training on {device}\")\n",
    "        for epoch in tqdm(range(epochs)):\n",
    "\n",
    "            \n",
    "            print(f\" Epoch: {epoch}\\n---------\")\n",
    "            # loop pelo dataloader de treino\n",
    "            model.to(device)\n",
    "            model.train().double()\n",
    "            training_loss = 0\n",
    "            training_accurary = 0\n",
    "            valid_loss = 0\n",
    "            for batch, (inputs, target) in enumerate(data_loader_train):\n",
    "                # movendo os dados para o dispositivo de processamento\n",
    "                inputs = inputs.to(device).double()\n",
    "                inputs = inputs.unsqueeze(2)\n",
    "                # target = target.unsqueeze(1)\n",
    "                \n",
    "                # fazendo as previsões\n",
    "                output = model(inputs.double())\n",
    "\n",
    "                # calculando a perda\n",
    "                loss = loss_fn(output, target.long())\n",
    "\n",
    "                training_loss += loss.data.item()\n",
    "                training_accurary += accuracy_fn(target, output.argmax(dim=1))\n",
    "\n",
    "                # retropropagando os gradientes e atualizando os pesos\n",
    "                optimizer.zero_grad()\n",
    "\n",
    "                loss.backward()\n",
    "\n",
    "                optimizer.step()\n",
    "\n",
    "            training_loss /= len(data_loader_train)\n",
    "            training_accurary /= len(data_loader_train)\n",
    "\n",
    "            # imprimindo as métricas de treino a cada 50 lotes\n",
    "            \n",
    "            print(\n",
    "                    f'Train loss: {training_loss:.5f} | Train accuracy: {training_accurary:.2f}%')\n",
    "\n",
    "            results_array_train[epoch, 0] = \"%.2f\" % training_loss\n",
    "            results_array_train[epoch, 1] = \"%.2f\" % training_accurary\n",
    "\n",
    "            # avaliando o modelo no dataloard de teste\n",
    "            # loop pelo dataloader de teste\n",
    "\n",
    "            model.eval().double()\n",
    "            valid_loss = 0\n",
    "            test_loss = 0\n",
    "            test_accurary = 0\n",
    "            with torch.inference_mode():\n",
    "\n",
    "                for data, target in data_loader_test:\n",
    "                    # movendo os dados para o dispositivo de processamento\n",
    "                    data = data.to(device)\n",
    "                    target = target.to(device)\n",
    "                    # target = target.unsqueeze(1)\n",
    "                    \n",
    "                    data = data.unsqueeze(2)\n",
    "                    # 1. Forward pass\n",
    "                    test_pred = model(data)\n",
    "                    # 2. Calculate loss and accuracy\n",
    "                    test_loss += loss_fn(test_pred, target.long())\n",
    "                    valid_loss += test_loss.data.item()\n",
    "                    test_accurary += accuracy_fn(target,\n",
    "                                                 test_pred.argmax(dim=1))\n",
    "\n",
    "                valid_loss /= len(data_loader_test)\n",
    "                test_accurary /= len(data_loader_test)\n",
    "            \n",
    "\n",
    "            print(\n",
    "                    f'Test loss: {valid_loss:.5f} | Test accuracy: {test_accurary:.2f}%')\n",
    "\n",
    "            results_array_test[epoch, 0] = \"%.2f\" % valid_loss\n",
    "            results_array_test[epoch, 1] = \"%.2f\" % test_accurary"
   ]
  },
  {
   "cell_type": "code",
   "execution_count": 12,
   "metadata": {},
   "outputs": [],
   "source": [
    "loss_fn = nn.CrossEntropyLoss() # this is also called \"criterion\"/\"cost function\" in some places\n",
    "optimizer = torch.optim.SGD(params=model_.parameters(), lr= 1e-02)"
   ]
  },
  {
   "cell_type": "code",
   "execution_count": 14,
   "metadata": {},
   "outputs": [
    {
     "name": "stdout",
     "output_type": "stream",
     "text": [
      "Training on cpu\n"
     ]
    },
    {
     "data": {
      "application/vnd.jupyter.widget-view+json": {
       "model_id": "9ed4dec220c24aa8bb0921be8caac042",
       "version_major": 2,
       "version_minor": 0
      },
      "text/plain": [
       "  0%|          | 0/10 [00:00<?, ?it/s]"
      ]
     },
     "metadata": {},
     "output_type": "display_data"
    },
    {
     "name": "stdout",
     "output_type": "stream",
     "text": [
      " Epoch: 0\n",
      "---------\n",
      "Train loss: 2.77003 | Train accuracy: 0.00%\n",
      "Test loss: 278.14303 | Test accuracy: 0.00%\n",
      " Epoch: 1\n",
      "---------\n",
      "Train loss: 2.76503 | Train accuracy: 9.13%\n",
      "Test loss: 277.62202 | Test accuracy: 50.00%\n",
      " Epoch: 2\n",
      "---------\n",
      "Train loss: 2.75897 | Train accuracy: 50.00%\n",
      "Test loss: 276.93848 | Test accuracy: 50.00%\n",
      " Epoch: 3\n",
      "---------\n",
      "Train loss: 2.75123 | Train accuracy: 50.00%\n",
      "Test loss: 276.02056 | Test accuracy: 50.00%\n",
      " Epoch: 4\n",
      "---------\n",
      "Train loss: 2.74048 | Train accuracy: 50.00%\n",
      "Test loss: 274.70990 | Test accuracy: 50.00%\n",
      " Epoch: 5\n",
      "---------\n"
     ]
    },
    {
     "ename": "KeyboardInterrupt",
     "evalue": "",
     "output_type": "error",
     "traceback": [
      "\u001b[1;31m---------------------------------------------------------------------------\u001b[0m",
      "\u001b[1;31mKeyboardInterrupt\u001b[0m                         Traceback (most recent call last)",
      "\u001b[1;32md:\\Python\\AICT\\Modelo_1.ipynb Cell 8\u001b[0m line \u001b[0;36m1\n\u001b[1;32m----> <a href='vscode-notebook-cell:/d%3A/Python/AICT/Modelo_1.ipynb#X15sZmlsZQ%3D%3D?line=0'>1</a>\u001b[0m training_loop(model \u001b[39m=\u001b[39;49m model_,\n\u001b[0;32m      <a href='vscode-notebook-cell:/d%3A/Python/AICT/Modelo_1.ipynb#X15sZmlsZQ%3D%3D?line=1'>2</a>\u001b[0m                       data_loader_train\u001b[39m=\u001b[39;49m df\u001b[39m.\u001b[39;49mtrain_loader,\n\u001b[0;32m      <a href='vscode-notebook-cell:/d%3A/Python/AICT/Modelo_1.ipynb#X15sZmlsZQ%3D%3D?line=2'>3</a>\u001b[0m                       data_loader_test\u001b[39m=\u001b[39;49mdf\u001b[39m.\u001b[39;49mtest_loader,\n\u001b[0;32m      <a href='vscode-notebook-cell:/d%3A/Python/AICT/Modelo_1.ipynb#X15sZmlsZQ%3D%3D?line=3'>4</a>\u001b[0m                       loss_fn \u001b[39m=\u001b[39;49m loss_fn,\n\u001b[0;32m      <a href='vscode-notebook-cell:/d%3A/Python/AICT/Modelo_1.ipynb#X15sZmlsZQ%3D%3D?line=4'>5</a>\u001b[0m                       optimizer \u001b[39m=\u001b[39;49moptimizer,\n\u001b[0;32m      <a href='vscode-notebook-cell:/d%3A/Python/AICT/Modelo_1.ipynb#X15sZmlsZQ%3D%3D?line=5'>6</a>\u001b[0m                       accuracy_fn \u001b[39m=\u001b[39;49m accuracy_fnn,\n\u001b[0;32m      <a href='vscode-notebook-cell:/d%3A/Python/AICT/Modelo_1.ipynb#X15sZmlsZQ%3D%3D?line=6'>7</a>\u001b[0m                       device \u001b[39m=\u001b[39;49m device,\n\u001b[0;32m      <a href='vscode-notebook-cell:/d%3A/Python/AICT/Modelo_1.ipynb#X15sZmlsZQ%3D%3D?line=7'>8</a>\u001b[0m                       epochs \u001b[39m=\u001b[39;49m\u001b[39m10\u001b[39;49m\n\u001b[0;32m      <a href='vscode-notebook-cell:/d%3A/Python/AICT/Modelo_1.ipynb#X15sZmlsZQ%3D%3D?line=8'>9</a>\u001b[0m                       ,inplace\u001b[39m=\u001b[39;49m\u001b[39mFalse\u001b[39;49;00m)\n",
      "\u001b[1;32md:\\Python\\AICT\\Modelo_1.ipynb Cell 8\u001b[0m line \u001b[0;36m6\n\u001b[0;32m     <a href='vscode-notebook-cell:/d%3A/Python/AICT/Modelo_1.ipynb#X15sZmlsZQ%3D%3D?line=58'>59</a>\u001b[0m inputs \u001b[39m=\u001b[39m inputs\u001b[39m.\u001b[39munsqueeze(\u001b[39m2\u001b[39m)\n\u001b[0;32m     <a href='vscode-notebook-cell:/d%3A/Python/AICT/Modelo_1.ipynb#X15sZmlsZQ%3D%3D?line=59'>60</a>\u001b[0m \u001b[39m# target = target.unsqueeze(1)\u001b[39;00m\n\u001b[0;32m     <a href='vscode-notebook-cell:/d%3A/Python/AICT/Modelo_1.ipynb#X15sZmlsZQ%3D%3D?line=60'>61</a>\u001b[0m \n\u001b[0;32m     <a href='vscode-notebook-cell:/d%3A/Python/AICT/Modelo_1.ipynb#X15sZmlsZQ%3D%3D?line=61'>62</a>\u001b[0m \u001b[39m# fazendo as previsões\u001b[39;00m\n\u001b[1;32m---> <a href='vscode-notebook-cell:/d%3A/Python/AICT/Modelo_1.ipynb#X15sZmlsZQ%3D%3D?line=62'>63</a>\u001b[0m output \u001b[39m=\u001b[39m model(inputs\u001b[39m.\u001b[39;49mdouble())\n\u001b[0;32m     <a href='vscode-notebook-cell:/d%3A/Python/AICT/Modelo_1.ipynb#X15sZmlsZQ%3D%3D?line=64'>65</a>\u001b[0m \u001b[39m# calculando a perda\u001b[39;00m\n\u001b[0;32m     <a href='vscode-notebook-cell:/d%3A/Python/AICT/Modelo_1.ipynb#X15sZmlsZQ%3D%3D?line=65'>66</a>\u001b[0m loss \u001b[39m=\u001b[39m loss_fn(output, target\u001b[39m.\u001b[39mlong())\n",
      "File \u001b[1;32m~\\AppData\\Roaming\\Python\\Python311\\site-packages\\torch\\nn\\modules\\module.py:1501\u001b[0m, in \u001b[0;36mModule._call_impl\u001b[1;34m(self, *args, **kwargs)\u001b[0m\n\u001b[0;32m   1496\u001b[0m \u001b[39m# If we don't have any hooks, we want to skip the rest of the logic in\u001b[39;00m\n\u001b[0;32m   1497\u001b[0m \u001b[39m# this function, and just call forward.\u001b[39;00m\n\u001b[0;32m   1498\u001b[0m \u001b[39mif\u001b[39;00m \u001b[39mnot\u001b[39;00m (\u001b[39mself\u001b[39m\u001b[39m.\u001b[39m_backward_hooks \u001b[39mor\u001b[39;00m \u001b[39mself\u001b[39m\u001b[39m.\u001b[39m_backward_pre_hooks \u001b[39mor\u001b[39;00m \u001b[39mself\u001b[39m\u001b[39m.\u001b[39m_forward_hooks \u001b[39mor\u001b[39;00m \u001b[39mself\u001b[39m\u001b[39m.\u001b[39m_forward_pre_hooks\n\u001b[0;32m   1499\u001b[0m         \u001b[39mor\u001b[39;00m _global_backward_pre_hooks \u001b[39mor\u001b[39;00m _global_backward_hooks\n\u001b[0;32m   1500\u001b[0m         \u001b[39mor\u001b[39;00m _global_forward_hooks \u001b[39mor\u001b[39;00m _global_forward_pre_hooks):\n\u001b[1;32m-> 1501\u001b[0m     \u001b[39mreturn\u001b[39;00m forward_call(\u001b[39m*\u001b[39;49margs, \u001b[39m*\u001b[39;49m\u001b[39m*\u001b[39;49mkwargs)\n\u001b[0;32m   1502\u001b[0m \u001b[39m# Do not call functions when jit is used\u001b[39;00m\n\u001b[0;32m   1503\u001b[0m full_backward_hooks, non_full_backward_hooks \u001b[39m=\u001b[39m [], []\n",
      "File \u001b[1;32md:\\Python\\AICT\\CNN.py:263\u001b[0m, in \u001b[0;36mCNNModel.forward\u001b[1;34m(self, x)\u001b[0m\n\u001b[0;32m    261\u001b[0m \u001b[39mdef\u001b[39;00m \u001b[39mforward\u001b[39m(\u001b[39mself\u001b[39m, x):\n\u001b[1;32m--> 263\u001b[0m     out \u001b[39m=\u001b[39m \u001b[39mself\u001b[39;49m\u001b[39m.\u001b[39;49mlayer1(x)\n\u001b[0;32m    264\u001b[0m     out \u001b[39m=\u001b[39m \u001b[39mself\u001b[39m\u001b[39m.\u001b[39mlayer2(out)\n\u001b[0;32m    266\u001b[0m     out \u001b[39m=\u001b[39m out\u001b[39m.\u001b[39mview(out\u001b[39m.\u001b[39msize(\u001b[39m0\u001b[39m), \u001b[39m-\u001b[39m\u001b[39m1\u001b[39m)\n",
      "File \u001b[1;32m~\\AppData\\Roaming\\Python\\Python311\\site-packages\\torch\\nn\\modules\\module.py:1501\u001b[0m, in \u001b[0;36mModule._call_impl\u001b[1;34m(self, *args, **kwargs)\u001b[0m\n\u001b[0;32m   1496\u001b[0m \u001b[39m# If we don't have any hooks, we want to skip the rest of the logic in\u001b[39;00m\n\u001b[0;32m   1497\u001b[0m \u001b[39m# this function, and just call forward.\u001b[39;00m\n\u001b[0;32m   1498\u001b[0m \u001b[39mif\u001b[39;00m \u001b[39mnot\u001b[39;00m (\u001b[39mself\u001b[39m\u001b[39m.\u001b[39m_backward_hooks \u001b[39mor\u001b[39;00m \u001b[39mself\u001b[39m\u001b[39m.\u001b[39m_backward_pre_hooks \u001b[39mor\u001b[39;00m \u001b[39mself\u001b[39m\u001b[39m.\u001b[39m_forward_hooks \u001b[39mor\u001b[39;00m \u001b[39mself\u001b[39m\u001b[39m.\u001b[39m_forward_pre_hooks\n\u001b[0;32m   1499\u001b[0m         \u001b[39mor\u001b[39;00m _global_backward_pre_hooks \u001b[39mor\u001b[39;00m _global_backward_hooks\n\u001b[0;32m   1500\u001b[0m         \u001b[39mor\u001b[39;00m _global_forward_hooks \u001b[39mor\u001b[39;00m _global_forward_pre_hooks):\n\u001b[1;32m-> 1501\u001b[0m     \u001b[39mreturn\u001b[39;00m forward_call(\u001b[39m*\u001b[39;49margs, \u001b[39m*\u001b[39;49m\u001b[39m*\u001b[39;49mkwargs)\n\u001b[0;32m   1502\u001b[0m \u001b[39m# Do not call functions when jit is used\u001b[39;00m\n\u001b[0;32m   1503\u001b[0m full_backward_hooks, non_full_backward_hooks \u001b[39m=\u001b[39m [], []\n",
      "File \u001b[1;32m~\\AppData\\Roaming\\Python\\Python311\\site-packages\\torch\\nn\\modules\\container.py:217\u001b[0m, in \u001b[0;36mSequential.forward\u001b[1;34m(self, input)\u001b[0m\n\u001b[0;32m    215\u001b[0m \u001b[39mdef\u001b[39;00m \u001b[39mforward\u001b[39m(\u001b[39mself\u001b[39m, \u001b[39minput\u001b[39m):\n\u001b[0;32m    216\u001b[0m     \u001b[39mfor\u001b[39;00m module \u001b[39min\u001b[39;00m \u001b[39mself\u001b[39m:\n\u001b[1;32m--> 217\u001b[0m         \u001b[39minput\u001b[39m \u001b[39m=\u001b[39m module(\u001b[39minput\u001b[39;49m)\n\u001b[0;32m    218\u001b[0m     \u001b[39mreturn\u001b[39;00m \u001b[39minput\u001b[39m\n",
      "File \u001b[1;32m~\\AppData\\Roaming\\Python\\Python311\\site-packages\\torch\\nn\\modules\\module.py:1501\u001b[0m, in \u001b[0;36mModule._call_impl\u001b[1;34m(self, *args, **kwargs)\u001b[0m\n\u001b[0;32m   1496\u001b[0m \u001b[39m# If we don't have any hooks, we want to skip the rest of the logic in\u001b[39;00m\n\u001b[0;32m   1497\u001b[0m \u001b[39m# this function, and just call forward.\u001b[39;00m\n\u001b[0;32m   1498\u001b[0m \u001b[39mif\u001b[39;00m \u001b[39mnot\u001b[39;00m (\u001b[39mself\u001b[39m\u001b[39m.\u001b[39m_backward_hooks \u001b[39mor\u001b[39;00m \u001b[39mself\u001b[39m\u001b[39m.\u001b[39m_backward_pre_hooks \u001b[39mor\u001b[39;00m \u001b[39mself\u001b[39m\u001b[39m.\u001b[39m_forward_hooks \u001b[39mor\u001b[39;00m \u001b[39mself\u001b[39m\u001b[39m.\u001b[39m_forward_pre_hooks\n\u001b[0;32m   1499\u001b[0m         \u001b[39mor\u001b[39;00m _global_backward_pre_hooks \u001b[39mor\u001b[39;00m _global_backward_hooks\n\u001b[0;32m   1500\u001b[0m         \u001b[39mor\u001b[39;00m _global_forward_hooks \u001b[39mor\u001b[39;00m _global_forward_pre_hooks):\n\u001b[1;32m-> 1501\u001b[0m     \u001b[39mreturn\u001b[39;00m forward_call(\u001b[39m*\u001b[39;49margs, \u001b[39m*\u001b[39;49m\u001b[39m*\u001b[39;49mkwargs)\n\u001b[0;32m   1502\u001b[0m \u001b[39m# Do not call functions when jit is used\u001b[39;00m\n\u001b[0;32m   1503\u001b[0m full_backward_hooks, non_full_backward_hooks \u001b[39m=\u001b[39m [], []\n",
      "File \u001b[1;32m~\\AppData\\Roaming\\Python\\Python311\\site-packages\\torch\\nn\\modules\\conv.py:313\u001b[0m, in \u001b[0;36mConv1d.forward\u001b[1;34m(self, input)\u001b[0m\n\u001b[0;32m    312\u001b[0m \u001b[39mdef\u001b[39;00m \u001b[39mforward\u001b[39m(\u001b[39mself\u001b[39m, \u001b[39minput\u001b[39m: Tensor) \u001b[39m-\u001b[39m\u001b[39m>\u001b[39m Tensor:\n\u001b[1;32m--> 313\u001b[0m     \u001b[39mreturn\u001b[39;00m \u001b[39mself\u001b[39;49m\u001b[39m.\u001b[39;49m_conv_forward(\u001b[39minput\u001b[39;49m, \u001b[39mself\u001b[39;49m\u001b[39m.\u001b[39;49mweight, \u001b[39mself\u001b[39;49m\u001b[39m.\u001b[39;49mbias)\n",
      "File \u001b[1;32m~\\AppData\\Roaming\\Python\\Python311\\site-packages\\torch\\nn\\modules\\conv.py:309\u001b[0m, in \u001b[0;36mConv1d._conv_forward\u001b[1;34m(self, input, weight, bias)\u001b[0m\n\u001b[0;32m    305\u001b[0m \u001b[39mif\u001b[39;00m \u001b[39mself\u001b[39m\u001b[39m.\u001b[39mpadding_mode \u001b[39m!=\u001b[39m \u001b[39m'\u001b[39m\u001b[39mzeros\u001b[39m\u001b[39m'\u001b[39m:\n\u001b[0;32m    306\u001b[0m     \u001b[39mreturn\u001b[39;00m F\u001b[39m.\u001b[39mconv1d(F\u001b[39m.\u001b[39mpad(\u001b[39minput\u001b[39m, \u001b[39mself\u001b[39m\u001b[39m.\u001b[39m_reversed_padding_repeated_twice, mode\u001b[39m=\u001b[39m\u001b[39mself\u001b[39m\u001b[39m.\u001b[39mpadding_mode),\n\u001b[0;32m    307\u001b[0m                     weight, bias, \u001b[39mself\u001b[39m\u001b[39m.\u001b[39mstride,\n\u001b[0;32m    308\u001b[0m                     _single(\u001b[39m0\u001b[39m), \u001b[39mself\u001b[39m\u001b[39m.\u001b[39mdilation, \u001b[39mself\u001b[39m\u001b[39m.\u001b[39mgroups)\n\u001b[1;32m--> 309\u001b[0m \u001b[39mreturn\u001b[39;00m F\u001b[39m.\u001b[39;49mconv1d(\u001b[39minput\u001b[39;49m, weight, bias, \u001b[39mself\u001b[39;49m\u001b[39m.\u001b[39;49mstride,\n\u001b[0;32m    310\u001b[0m                 \u001b[39mself\u001b[39;49m\u001b[39m.\u001b[39;49mpadding, \u001b[39mself\u001b[39;49m\u001b[39m.\u001b[39;49mdilation, \u001b[39mself\u001b[39;49m\u001b[39m.\u001b[39;49mgroups)\n",
      "\u001b[1;31mKeyboardInterrupt\u001b[0m: "
     ]
    }
   ],
   "source": [
    "training_loop(model = model_,\n",
    "                      data_loader_train= df.train_loader,\n",
    "                      data_loader_test=df.test_loader,\n",
    "                      loss_fn = loss_fn,\n",
    "                      optimizer =optimizer,\n",
    "                      accuracy_fn = accuracy_fnn,\n",
    "                      device = device,\n",
    "                      epochs =10\n",
    "                      ,inplace=False)"
   ]
  },
  {
   "cell_type": "code",
   "execution_count": null,
   "metadata": {},
   "outputs": [],
   "source": []
  }
 ],
 "metadata": {
  "kernelspec": {
   "display_name": "Python 3",
   "language": "python",
   "name": "python3"
  },
  "language_info": {
   "codemirror_mode": {
    "name": "ipython",
    "version": 3
   },
   "file_extension": ".py",
   "mimetype": "text/x-python",
   "name": "python",
   "nbconvert_exporter": "python",
   "pygments_lexer": "ipython3",
   "version": "3.11.3"
  },
  "orig_nbformat": 4
 },
 "nbformat": 4,
 "nbformat_minor": 2
}
