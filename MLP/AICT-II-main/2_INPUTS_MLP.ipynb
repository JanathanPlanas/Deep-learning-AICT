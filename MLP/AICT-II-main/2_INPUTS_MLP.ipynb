{
 "cells": [
  {
   "cell_type": "markdown",
   "id": "59e7d4a4",
   "metadata": {},
   "source": [
    "## PERCEPTRON DE MÚLTIPLAS CAMADAS"
   ]
  },
  {
   "cell_type": "markdown",
   "id": "0fbd451f",
   "metadata": {},
   "source": [
    "### BIBILIOTECAS BÁSICAS:"
   ]
  },
  {
   "cell_type": "code",
   "execution_count": 394,
   "id": "fe52b7bf",
   "metadata": {},
   "outputs": [],
   "source": [
    "import matplotlib.pyplot as plt\n",
    "import numpy as np\n",
    "import pandas as pd\n",
    "from sklearn.model_selection import train_test_split\n",
    "from sklearn.preprocessing import StandardScaler\n",
    "from tensorflow.keras.optimizers import Adam, Adamax\n",
    "\n",
    "from sklearn.neural_network import MLPClassifier\n",
    "from sklearn.metrics import confusion_matrix\n",
    "from sklearn.metrics import accuracy_score\n",
    "from sklearn.metrics import ConfusionMatrixDisplay\n",
    "from sklearn.metrics import classification_report\n",
    "from sklearn.preprocessing import MinMaxScaler\n",
    "\n",
    "from sklearn.model_selection import GridSearchCV"
   ]
  },
  {
   "cell_type": "markdown",
   "id": "a5b19b16",
   "metadata": {},
   "source": [
    "### CARREGAMENTO DOS DATASETS:"
   ]
  },
  {
   "cell_type": "code",
   "execution_count": 424,
   "id": "4d43cfc0",
   "metadata": {},
   "outputs": [],
   "source": [
    "carregando_clear = np.load('D:\\\\Dados capturados\\\\DATASETS\\\\CLEAR.npy', mmap_mode='r')\n",
    "dados_clear = carregando_clear[:1000000]\n",
    "\n",
    "carregamento_lte1m = np.load('D:\\\\Dados capturados\\\\DATASETS\\\\LTE_1M.npy', mmap_mode='r')\n",
    "dados_lte1m = carregamento_lte1m[:1000000]\n",
    "\n",
    "dados_wifi = np.load('D:\\\\Dados capturados\\\\DATASETS\\\\WIFI.npy', mmap_mode='r')\n",
    "dados_wifi = dados_wifi[:1000000]"
   ]
  },
  {
   "cell_type": "markdown",
   "id": "cfc8f0a9",
   "metadata": {},
   "source": [
    "### SEPARAÇÃO DAS PARTES REAL E IMAGINÁRIA:"
   ]
  },
  {
   "cell_type": "code",
   "execution_count": 425,
   "id": "f225d105",
   "metadata": {},
   "outputs": [],
   "source": [
    "def sep_col_comp(dados):\n",
    "    parte_real = dados.real\n",
    "    parte_imag = dados.imag\n",
    "    return parte_real , parte_imag\n",
    "\n",
    "def montagem_datasets(dados_1 , dados_2):\n",
    "    real1 , imag1 = sep_col_comp(dados_1)\n",
    "    real2 , imag2 = sep_col_comp(dados_2)\n",
    "    atrib1 = np.zeros(len(dados_1))\n",
    "    atrib2 = np.ones(len(dados_2))\n",
    "    dados1 = np.column_stack((real1,imag1,atrib1))\n",
    "    dados2 = np.column_stack((real2,imag2,atrib2))\n",
    "    conjunto = np.vstack([dados1 , dados2])\n",
    "    indices = np.random.permutation(len(conjunto))\n",
    "    dados = conjunto[indices]\n",
    "    return dados\n",
    "\n",
    "def remodel(dados , feature):\n",
    "    df = pd.DataFrame(dados , columns = ['real' , 'imag' , 'clfq'])\n",
    "    df_junt = df[['real' , 'imag']].to_numpy()\n",
    "    dados_dim = df_junt\n",
    "    dados_dim = dados_dim.astype(np.float32)\n",
    "    alvo = df['clfq'].values\n",
    "    alvo_dim = alvo\n",
    "    alvo_dim = alvo_dim.astype(np.float32)\n",
    "    \n",
    "    return dados_dim , alvo_dim\n",
    "\n",
    "def processos(dados_1 , dados_2 , feature):\n",
    "    dados = montagem_datasets(dados_1 , dados_2)\n",
    "    X , Y = remodel(dados , feature)\n",
    "    return X , Y"
   ]
  },
  {
   "cell_type": "markdown",
   "id": "15ac9555",
   "metadata": {},
   "source": [
    "### CLEAR X LTE"
   ]
  },
  {
   "cell_type": "markdown",
   "id": "206cf17e",
   "metadata": {},
   "source": [
    "#### CARREGAMENTO DOS DADOS:"
   ]
  },
  {
   "cell_type": "code",
   "execution_count": 426,
   "id": "7b464423",
   "metadata": {},
   "outputs": [
    {
     "name": "stdout",
     "output_type": "stream",
     "text": [
      "[[ 6.1037244e-05 -2.4414898e-04]\n",
      " [-6.1037244e-05 -1.2207449e-04]\n",
      " [ 6.1037244e-05  3.0518622e-05]\n",
      " ...\n",
      " [-9.1555863e-05  1.2207449e-04]\n",
      " [ 1.2207449e-04 -3.0518622e-05]\n",
      " [-6.1037244e-05 -1.5259311e-04]]\n",
      "[1. 0. 0. ... 0. 1. 0.]\n"
     ]
    }
   ],
   "source": [
    "X,Y = processos(dados_clear, dados_lte1m ,2)\n",
    "\n",
    "print(X)\n",
    "print(Y)"
   ]
  },
  {
   "cell_type": "markdown",
   "id": "a3724633",
   "metadata": {},
   "source": [
    "#### CONJUNTOS DE TREINAMENTO E TESTE:"
   ]
  },
  {
   "cell_type": "code",
   "execution_count": 427,
   "id": "7fbc672d",
   "metadata": {},
   "outputs": [],
   "source": [
    "X_train , X_test , Y_train , Y_test = train_test_split(X, Y, test_size=0.8)"
   ]
  },
  {
   "cell_type": "markdown",
   "id": "466e62c6",
   "metadata": {},
   "source": [
    "#### NORMALIZAÇÃO DOS DADOS:"
   ]
  },
  {
   "cell_type": "code",
   "execution_count": 428,
   "id": "251514e1",
   "metadata": {},
   "outputs": [
    {
     "name": "stdout",
     "output_type": "stream",
     "text": [
      "[[ 0.41472554  0.6078894 ]\n",
      " [-0.21406488 -0.20702423]\n",
      " [ 0.41472554 -0.00329582]\n",
      " ...\n",
      " [-0.21406488  1.0153463 ]\n",
      " [ 0.41472554  0.2004326 ]\n",
      " [-0.00446808 -0.20702423]]\n",
      "[[ 0.6243223  -1.021938  ]\n",
      " [ 0.41472554 -0.00329582]\n",
      " [-0.42366168 -0.20702423]\n",
      " ...\n",
      " [-0.21406488  0.81161785]\n",
      " [-0.63325846  1.4228032 ]\n",
      " [ 0.8339191   0.81161785]]\n"
     ]
    }
   ],
   "source": [
    "sc=StandardScaler()\n",
    "\n",
    "scaler = sc.fit(X_train)\n",
    "trainX_scaled = scaler.transform(X_train)\n",
    "testX_scaled = scaler.transform(X_test)\n",
    "\n",
    "print(trainX_scaled)\n",
    "print(testX_scaled)\n"
   ]
  },
  {
   "cell_type": "markdown",
   "id": "abee0573",
   "metadata": {},
   "source": [
    "#### TREINAMENTO DO MODELO:"
   ]
  },
  {
   "cell_type": "code",
   "execution_count": 429,
   "id": "cba8850b",
   "metadata": {},
   "outputs": [
    {
     "name": "stdout",
     "output_type": "stream",
     "text": [
      "Iteration 1, loss = 0.69469757\n",
      "Validation score: 0.526475\n",
      "Iteration 2, loss = 0.69111657\n",
      "Validation score: 0.530425\n",
      "Iteration 3, loss = 0.69030340\n",
      "Validation score: 0.529600\n",
      "Iteration 4, loss = 0.68991858\n",
      "Validation score: 0.530275\n",
      "Iteration 5, loss = 0.68975324\n",
      "Validation score: 0.529900\n",
      "Iteration 6, loss = 0.68966920\n",
      "Validation score: 0.529800\n",
      "Iteration 7, loss = 0.68962450\n",
      "Validation score: 0.531200\n",
      "Iteration 8, loss = 0.68958576\n",
      "Validation score: 0.530225\n",
      "Iteration 9, loss = 0.68955739\n",
      "Validation score: 0.530175\n",
      "Iteration 10, loss = 0.68955718\n",
      "Validation score: 0.530325\n",
      "Iteration 11, loss = 0.68953286\n",
      "Validation score: 0.530600\n",
      "Iteration 12, loss = 0.68951588\n",
      "Validation score: 0.531175\n",
      "Iteration 13, loss = 0.68950028\n",
      "Validation score: 0.530175\n",
      "Validation score did not improve more than tol=0.000001 for 5 consecutive epochs. Setting learning rate to 0.000200\n",
      "Iteration 14, loss = 0.68946781\n",
      "Validation score: 0.530150\n",
      "Iteration 15, loss = 0.68947264\n",
      "Validation score: 0.530225\n",
      "Iteration 16, loss = 0.68947073\n",
      "Validation score: 0.530275\n",
      "Iteration 17, loss = 0.68946494\n",
      "Validation score: 0.530525\n",
      "Iteration 18, loss = 0.68946431\n",
      "Validation score: 0.530250\n",
      "Iteration 19, loss = 0.68946312\n",
      "Validation score: 0.530200\n",
      "Validation score did not improve more than tol=0.000001 for 5 consecutive epochs. Setting learning rate to 0.000040\n",
      "Iteration 20, loss = 0.68945757\n",
      "Validation score: 0.530250\n",
      "Iteration 21, loss = 0.68945606\n",
      "Validation score: 0.530250\n",
      "Iteration 22, loss = 0.68945541\n",
      "Validation score: 0.530250\n",
      "Iteration 23, loss = 0.68945537\n",
      "Validation score: 0.530250\n",
      "Iteration 24, loss = 0.68945468\n",
      "Validation score: 0.530250\n",
      "Iteration 25, loss = 0.68945452\n",
      "Validation score: 0.530250\n",
      "Validation score did not improve more than tol=0.000001 for 5 consecutive epochs. Setting learning rate to 0.000008\n",
      "Iteration 26, loss = 0.68945273\n",
      "Validation score: 0.530250\n",
      "Iteration 27, loss = 0.68945268\n",
      "Validation score: 0.530250\n",
      "Iteration 28, loss = 0.68945261\n",
      "Validation score: 0.530250\n",
      "Iteration 29, loss = 0.68945254\n",
      "Validation score: 0.530250\n",
      "Iteration 30, loss = 0.68945244\n",
      "Validation score: 0.530250\n",
      "Iteration 31, loss = 0.68945240\n",
      "Validation score: 0.530250\n",
      "Validation score did not improve more than tol=0.000001 for 5 consecutive epochs. Setting learning rate to 0.000002\n",
      "Iteration 32, loss = 0.68945201\n",
      "Validation score: 0.530250\n",
      "Iteration 33, loss = 0.68945201\n",
      "Validation score: 0.530250\n",
      "Iteration 34, loss = 0.68945199\n",
      "Validation score: 0.530250\n",
      "Iteration 35, loss = 0.68945197\n",
      "Validation score: 0.530250\n",
      "Iteration 36, loss = 0.68945196\n",
      "Validation score: 0.530250\n",
      "Iteration 37, loss = 0.68945196\n",
      "Validation score: 0.530250\n",
      "Validation score did not improve more than tol=0.000001 for 5 consecutive epochs. Setting learning rate to 0.000000\n",
      "Iteration 38, loss = 0.68945187\n",
      "Validation score: 0.530250\n",
      "Iteration 39, loss = 0.68945187\n",
      "Validation score: 0.530250\n",
      "Iteration 40, loss = 0.68945187\n",
      "Validation score: 0.530250\n",
      "Iteration 41, loss = 0.68945186\n",
      "Validation score: 0.530250\n",
      "Iteration 42, loss = 0.68945186\n",
      "Validation score: 0.530250\n",
      "Iteration 43, loss = 0.68945186\n",
      "Validation score: 0.530250\n",
      "Validation score did not improve more than tol=0.000001 for 5 consecutive epochs. Learning rate too small. Stopping.\n"
     ]
    },
    {
     "data": {
      "text/plain": [
       "MLPClassifier(early_stopping=True, hidden_layer_sizes=(400, 200, 100, 20),\n",
       "              learning_rate='adaptive', max_iter=100, n_iter_no_change=5,\n",
       "              solver='sgd', tol=1e-06, verbose=True)"
      ]
     },
     "execution_count": 429,
     "metadata": {},
     "output_type": "execute_result"
    }
   ],
   "source": [
    "mlp_clf = MLPClassifier(hidden_layer_sizes=(400,200,100,20), verbose= True , tol=0.000001,\n",
    "                        max_iter = 100, activation = 'relu', shuffle=True, n_iter_no_change = 5,\n",
    "                        solver = 'sgd', early_stopping=True, learning_rate= 'adaptive' \n",
    "                        )\n",
    "\n",
    "mlp_clf.fit(trainX_scaled, Y_train)"
   ]
  },
  {
   "cell_type": "markdown",
   "id": "b8e8328c",
   "metadata": {},
   "source": [
    "#### ACURÁCIA:"
   ]
  },
  {
   "cell_type": "code",
   "execution_count": 430,
   "id": "6300d145",
   "metadata": {},
   "outputs": [
    {
     "name": "stdout",
     "output_type": "stream",
     "text": [
      "Accuracy: 0.53\n"
     ]
    }
   ],
   "source": [
    "y_pred = mlp_clf.predict(testX_scaled)\n",
    "\n",
    "print('Accuracy: {:.2f}'.format(accuracy_score(Y_test, y_pred)))"
   ]
  },
  {
   "cell_type": "markdown",
   "id": "4610808d",
   "metadata": {},
   "source": [
    "#### MATRIZ DE CONFUSÃO:"
   ]
  },
  {
   "cell_type": "code",
   "execution_count": 431,
   "id": "0ca34987",
   "metadata": {},
   "outputs": [],
   "source": [
    "cm = confusion_matrix(Y_test, y_pred, labels=mlp_clf.classes_)"
   ]
  },
  {
   "cell_type": "code",
   "execution_count": 432,
   "id": "f2fd8402",
   "metadata": {},
   "outputs": [],
   "source": [
    "disp = ConfusionMatrixDisplay(confusion_matrix=cm, display_labels=mlp_clf.classes_)"
   ]
  },
  {
   "cell_type": "code",
   "execution_count": 433,
   "id": "79250a00",
   "metadata": {},
   "outputs": [
    {
     "data": {
      "text/plain": [
       "<sklearn.metrics._plot.confusion_matrix.ConfusionMatrixDisplay at 0x2178971f640>"
      ]
     },
     "execution_count": 433,
     "metadata": {},
     "output_type": "execute_result"
    },
    {
     "data": {
      "image/png": "[encoded data removed]",
      "text/plain": [
       "<Figure size 640x480 with 2 Axes>"
      ]
     },
     "metadata": {},
     "output_type": "display_data"
    }
   ],
   "source": [
    "disp.plot()"
   ]
  },
  {
   "cell_type": "code",
   "execution_count": 434,
   "id": "73e94735",
   "metadata": {},
   "outputs": [
    {
     "name": "stdout",
     "output_type": "stream",
     "text": [
      "              precision    recall  f1-score   support\n",
      "\n",
      "         0.0       0.53      0.59      0.56    800103\n",
      "         1.0       0.53      0.47      0.50    799897\n",
      "\n",
      "    accuracy                           0.53   1600000\n",
      "   macro avg       0.53      0.53      0.53   1600000\n",
      "weighted avg       0.53      0.53      0.53   1600000\n",
      "\n"
     ]
    },
    {
     "data": {
      "image/png": "[encoded data removed]",
      "text/plain": [
       "<Figure size 640x480 with 1 Axes>"
      ]
     },
     "metadata": {},
     "output_type": "display_data"
    }
   ],
   "source": [
    "print(classification_report(Y_test, y_pred))\n",
    "\n",
    "plt.plot(mlp_clf.loss_curve_)\n",
    "plt.title(\"Loss Curve\", fontsize=14)\n",
    "plt.xlabel('Iterations')\n",
    "plt.ylabel('Cost')\n",
    "plt.show()"
   ]
  },
  {
   "cell_type": "code",
   "execution_count": null,
   "id": "4d17159e",
   "metadata": {},
   "outputs": [],
   "source": []
  },
  {
   "cell_type": "markdown",
   "id": "d43aa204",
   "metadata": {},
   "source": [
    "### CLEAR X WIFI"
   ]
  },
  {
   "cell_type": "markdown",
   "id": "4efd7b88",
   "metadata": {},
   "source": [
    "#### CARREGAMENTO DOS DADOS:"
   ]
  },
  {
   "cell_type": "code",
   "execution_count": 435,
   "id": "d5e59ba4",
   "metadata": {},
   "outputs": [
    {
     "name": "stdout",
     "output_type": "stream",
     "text": [
      "[[ 1.2207449e-04  1.2207449e-04]\n",
      " [ 2.4414898e-04 -6.1037244e-05]\n",
      " [-1.2207449e-04  6.1037244e-05]\n",
      " ...\n",
      " [ 2.1363035e-04 -3.0518622e-05]\n",
      " [-6.1037244e-05 -3.0518622e-05]\n",
      " [-3.0518622e-05 -9.1555863e-05]]\n",
      "[1. 1. 0. ... 0. 0. 0.]\n"
     ]
    }
   ],
   "source": [
    "X_2,Y_2 = processos(dados_clear, dados_wifi ,2)\n",
    "\n",
    "print(X_2)\n",
    "print(Y_2)"
   ]
  },
  {
   "cell_type": "markdown",
   "id": "fb9e815e",
   "metadata": {},
   "source": [
    "#### CONJUNTOS DE TREINAMENTO E TESTE:"
   ]
  },
  {
   "cell_type": "code",
   "execution_count": 436,
   "id": "085ad6fa",
   "metadata": {},
   "outputs": [],
   "source": [
    "X_2_train , X_2_test , Y_2_train , Y_2_test = train_test_split(X_2, Y_2, test_size=0.8)"
   ]
  },
  {
   "cell_type": "markdown",
   "id": "3a2f2542",
   "metadata": {},
   "source": [
    "#### NORMALIZAÇÃO DOS DADOS:"
   ]
  },
  {
   "cell_type": "code",
   "execution_count": 437,
   "id": "d71955c8",
   "metadata": {},
   "outputs": [],
   "source": [
    "sc_2=StandardScaler()\n",
    "\n",
    "scaler_2 = sc_2.fit(X_2_train)\n",
    "trainX_2_scaled = scaler.transform(X_2_train)\n",
    "testX_2_scaled = scaler.transform(X_2_test)"
   ]
  },
  {
   "cell_type": "markdown",
   "id": "bfdaa343",
   "metadata": {},
   "source": [
    "#### TREINAMENTO DO MODELO:"
   ]
  },
  {
   "cell_type": "code",
   "execution_count": 438,
   "id": "19ca25e1",
   "metadata": {},
   "outputs": [
    {
     "name": "stdout",
     "output_type": "stream",
     "text": [
      "Iteration 1, loss = 0.67783701\n",
      "Validation score: 0.585650\n",
      "Iteration 2, loss = 0.66513607\n",
      "Validation score: 0.587825\n",
      "Iteration 3, loss = 0.66360720\n",
      "Validation score: 0.588200\n",
      "Iteration 4, loss = 0.66314300\n",
      "Validation score: 0.589275\n",
      "Iteration 5, loss = 0.66292282\n",
      "Validation score: 0.588050\n",
      "Iteration 6, loss = 0.66280104\n",
      "Validation score: 0.589025\n",
      "Iteration 7, loss = 0.66271890\n",
      "Validation score: 0.589075\n",
      "Iteration 8, loss = 0.66266177\n",
      "Validation score: 0.589025\n",
      "Iteration 9, loss = 0.66262300\n",
      "Validation score: 0.588650\n",
      "Iteration 10, loss = 0.66259363\n",
      "Validation score: 0.589350\n",
      "Iteration 11, loss = 0.66258051\n",
      "Validation score: 0.588175\n",
      "Iteration 12, loss = 0.66254877\n",
      "Validation score: 0.589650\n",
      "Iteration 13, loss = 0.66253671\n",
      "Validation score: 0.588675\n",
      "Iteration 14, loss = 0.66251881\n",
      "Validation score: 0.589300\n",
      "Iteration 15, loss = 0.66250344\n",
      "Validation score: 0.587750\n",
      "Iteration 16, loss = 0.66248906\n",
      "Validation score: 0.589275\n",
      "Iteration 17, loss = 0.66249438\n",
      "Validation score: 0.588125\n",
      "Iteration 18, loss = 0.66247105\n",
      "Validation score: 0.589150\n",
      "Validation score did not improve more than tol=0.000001 for 5 consecutive epochs. Setting learning rate to 0.000200\n",
      "Iteration 19, loss = 0.66239992\n",
      "Validation score: 0.588475\n",
      "Iteration 20, loss = 0.66239899\n",
      "Validation score: 0.589075\n",
      "Iteration 21, loss = 0.66239254\n",
      "Validation score: 0.589075\n",
      "Iteration 22, loss = 0.66239541\n",
      "Validation score: 0.588700\n",
      "Iteration 23, loss = 0.66239838\n",
      "Validation score: 0.589000\n",
      "Iteration 24, loss = 0.66239177\n",
      "Validation score: 0.588625\n",
      "Validation score did not improve more than tol=0.000001 for 5 consecutive epochs. Setting learning rate to 0.000040\n",
      "Iteration 25, loss = 0.66237794\n",
      "Validation score: 0.588700\n",
      "Iteration 26, loss = 0.66237595\n",
      "Validation score: 0.589300\n",
      "Iteration 27, loss = 0.66237537\n",
      "Validation score: 0.589300\n",
      "Iteration 28, loss = 0.66237415\n",
      "Validation score: 0.589300\n",
      "Iteration 29, loss = 0.66237451\n",
      "Validation score: 0.589000\n",
      "Iteration 30, loss = 0.66237396\n",
      "Validation score: 0.588825\n",
      "Validation score did not improve more than tol=0.000001 for 5 consecutive epochs. Setting learning rate to 0.000008\n",
      "Iteration 31, loss = 0.66237084\n",
      "Validation score: 0.588825\n",
      "Iteration 32, loss = 0.66237007\n",
      "Validation score: 0.589000\n",
      "Iteration 33, loss = 0.66236973\n",
      "Validation score: 0.589000\n",
      "Iteration 34, loss = 0.66236967\n",
      "Validation score: 0.589000\n",
      "Iteration 35, loss = 0.66236949\n",
      "Validation score: 0.589000\n",
      "Iteration 36, loss = 0.66236939\n",
      "Validation score: 0.589000\n",
      "Validation score did not improve more than tol=0.000001 for 5 consecutive epochs. Setting learning rate to 0.000002\n",
      "Iteration 37, loss = 0.66236826\n",
      "Validation score: 0.589000\n",
      "Iteration 38, loss = 0.66236824\n",
      "Validation score: 0.589000\n",
      "Iteration 39, loss = 0.66236826\n",
      "Validation score: 0.589000\n",
      "Iteration 40, loss = 0.66236823\n",
      "Validation score: 0.589000\n",
      "Iteration 41, loss = 0.66236820\n",
      "Validation score: 0.589000\n",
      "Iteration 42, loss = 0.66236818\n",
      "Validation score: 0.589000\n",
      "Validation score did not improve more than tol=0.000001 for 5 consecutive epochs. Setting learning rate to 0.000000\n",
      "Iteration 43, loss = 0.66236799\n",
      "Validation score: 0.589000\n",
      "Iteration 44, loss = 0.66236799\n",
      "Validation score: 0.589000\n",
      "Iteration 45, loss = 0.66236799\n",
      "Validation score: 0.589000\n",
      "Iteration 46, loss = 0.66236799\n",
      "Validation score: 0.589000\n",
      "Iteration 47, loss = 0.66236799\n",
      "Validation score: 0.589000\n",
      "Iteration 48, loss = 0.66236798\n",
      "Validation score: 0.589000\n",
      "Validation score did not improve more than tol=0.000001 for 5 consecutive epochs. Learning rate too small. Stopping.\n"
     ]
    },
    {
     "data": {
      "text/plain": [
       "MLPClassifier(early_stopping=True, hidden_layer_sizes=(400, 200, 100, 20),\n",
       "              learning_rate='adaptive', max_iter=100, n_iter_no_change=5,\n",
       "              solver='sgd', tol=1e-06, verbose=True)"
      ]
     },
     "execution_count": 438,
     "metadata": {},
     "output_type": "execute_result"
    }
   ],
   "source": [
    "mlp_clf_2 = MLPClassifier(hidden_layer_sizes=(400,200,100,20), verbose= True , tol=0.000001,\n",
    "                        max_iter = 100, activation = 'relu', shuffle=True, n_iter_no_change = 5,\n",
    "                        solver = 'sgd', early_stopping=True, learning_rate= 'adaptive' \n",
    "                        )\n",
    "\n",
    "mlp_clf_2.fit(trainX_2_scaled, Y_2_train)"
   ]
  },
  {
   "cell_type": "markdown",
   "id": "4a760fe2",
   "metadata": {},
   "source": [
    "#### ACURÁCIA:"
   ]
  },
  {
   "cell_type": "code",
   "execution_count": 439,
   "id": "9c7d5815",
   "metadata": {},
   "outputs": [
    {
     "name": "stdout",
     "output_type": "stream",
     "text": [
      "Accuracy: 0.59\n"
     ]
    }
   ],
   "source": [
    "y_2_pred = mlp_clf_2.predict(testX_2_scaled)\n",
    "\n",
    "print('Accuracy: {:.2f}'.format(accuracy_score(Y_2_test, y_2_pred)))"
   ]
  },
  {
   "cell_type": "markdown",
   "id": "52f22af9",
   "metadata": {},
   "source": [
    "#### MATRIZ DE CONFUSÃO:"
   ]
  },
  {
   "cell_type": "code",
   "execution_count": 440,
   "id": "6fb0c3af",
   "metadata": {},
   "outputs": [],
   "source": [
    "cm_2 = confusion_matrix(Y_2_test, y_2_pred, labels=mlp_clf_2.classes_)"
   ]
  },
  {
   "cell_type": "code",
   "execution_count": 441,
   "id": "e0472971",
   "metadata": {},
   "outputs": [],
   "source": [
    "disp_2 = ConfusionMatrixDisplay(confusion_matrix=cm_2, display_labels=mlp_clf_2.classes_)"
   ]
  },
  {
   "cell_type": "code",
   "execution_count": 442,
   "id": "f9deac59",
   "metadata": {},
   "outputs": [
    {
     "data": {
      "text/plain": [
       "<sklearn.metrics._plot.confusion_matrix.ConfusionMatrixDisplay at 0x21789d42b20>"
      ]
     },
     "execution_count": 442,
     "metadata": {},
     "output_type": "execute_result"
    },
    {
     "data": {
      "image/png": "[encoded data removed]",
      "text/plain": [
       "<Figure size 640x480 with 2 Axes>"
      ]
     },
     "metadata": {},
     "output_type": "display_data"
    }
   ],
   "source": [
    "disp_2.plot()"
   ]
  },
  {
   "cell_type": "code",
   "execution_count": 443,
   "id": "d935db68",
   "metadata": {},
   "outputs": [
    {
     "name": "stdout",
     "output_type": "stream",
     "text": [
      "              precision    recall  f1-score   support\n",
      "\n",
      "         0.0       0.57      0.76      0.65    799833\n",
      "         1.0       0.63      0.42      0.50    800167\n",
      "\n",
      "    accuracy                           0.59   1600000\n",
      "   macro avg       0.60      0.59      0.58   1600000\n",
      "weighted avg       0.60      0.59      0.58   1600000\n",
      "\n"
     ]
    },
    {
     "data": {
      "image/png": "[encoded data removed]",
      "text/plain": [
       "<Figure size 640x480 with 1 Axes>"
      ]
     },
     "metadata": {},
     "output_type": "display_data"
    }
   ],
   "source": [
    "print(classification_report(Y_2_test, y_2_pred))\n",
    "\n",
    "plt.plot(mlp_clf_2.loss_curve_)\n",
    "plt.title(\"Loss Curve\", fontsize=14)\n",
    "plt.xlabel('Iterations')\n",
    "plt.ylabel('Cost')\n",
    "plt.show()"
   ]
  },
  {
   "cell_type": "markdown",
   "id": "c2032c4d",
   "metadata": {},
   "source": [
    "### LTE X WIFI"
   ]
  },
  {
   "cell_type": "markdown",
   "id": "323f43f5",
   "metadata": {},
   "source": [
    "#### CARREGAMENTO DOS DADOS:"
   ]
  },
  {
   "cell_type": "code",
   "execution_count": 444,
   "id": "34524f4d",
   "metadata": {},
   "outputs": [
    {
     "name": "stdout",
     "output_type": "stream",
     "text": [
      "[[ 2.1363035e-04  9.1555863e-05]\n",
      " [ 3.0518622e-05  2.1363035e-04]\n",
      " [-3.0518623e-04 -6.1037244e-05]\n",
      " ...\n",
      " [ 6.1037244e-05 -2.1363035e-04]\n",
      " [ 6.1037244e-05  1.8311173e-04]\n",
      " [-1.2207449e-04 -6.1037244e-05]]\n",
      "[1. 1. 1. ... 1. 0. 1.]\n"
     ]
    }
   ],
   "source": [
    "X_3,Y_3 = processos(dados_lte1m, dados_wifi ,2)\n",
    "\n",
    "print(X_3)\n",
    "print(Y_3)"
   ]
  },
  {
   "cell_type": "markdown",
   "id": "3c90aec7",
   "metadata": {},
   "source": [
    "#### CONJUNTOS DE TREINAMENTO E TESTE:"
   ]
  },
  {
   "cell_type": "code",
   "execution_count": 445,
   "id": "606e2d50",
   "metadata": {},
   "outputs": [],
   "source": [
    "X_3_train , X_3_test , Y_3_train , Y_3_test = train_test_split(X_3, Y_3, test_size=0.8)"
   ]
  },
  {
   "cell_type": "markdown",
   "id": "54ba1a54",
   "metadata": {},
   "source": [
    "#### NORMALIZAÇÃO DOS DADOS:"
   ]
  },
  {
   "cell_type": "code",
   "execution_count": 446,
   "id": "b7d813bd",
   "metadata": {},
   "outputs": [],
   "source": [
    "sc_3=StandardScaler()\n",
    "\n",
    "scaler_3= sc_2.fit(X_3_train)\n",
    "trainX_3_scaled = scaler.transform(X_3_train)\n",
    "testX_3_scaled = scaler.transform(X_3_test)"
   ]
  },
  {
   "cell_type": "markdown",
   "id": "4a4bcf23",
   "metadata": {},
   "source": [
    "#### TREINAMENTO DO MODELO:"
   ]
  },
  {
   "cell_type": "code",
   "execution_count": 447,
   "id": "98141c5a",
   "metadata": {},
   "outputs": [
    {
     "name": "stdout",
     "output_type": "stream",
     "text": [
      "Iteration 1, loss = 0.68452911\n",
      "Validation score: 0.556175\n",
      "Iteration 2, loss = 0.68048738\n",
      "Validation score: 0.560400\n",
      "Iteration 3, loss = 0.67977242\n",
      "Validation score: 0.560725\n",
      "Iteration 4, loss = 0.67941571\n",
      "Validation score: 0.561325\n",
      "Iteration 5, loss = 0.67920064\n",
      "Validation score: 0.561925\n",
      "Iteration 6, loss = 0.67909382\n",
      "Validation score: 0.561150\n",
      "Iteration 7, loss = 0.67900549\n",
      "Validation score: 0.560500\n",
      "Iteration 8, loss = 0.67895379\n",
      "Validation score: 0.560525\n",
      "Iteration 9, loss = 0.67891735\n",
      "Validation score: 0.561225\n",
      "Iteration 10, loss = 0.67890040\n",
      "Validation score: 0.560825\n",
      "Iteration 11, loss = 0.67887329\n",
      "Validation score: 0.561150\n",
      "Validation score did not improve more than tol=0.000001 for 5 consecutive epochs. Setting learning rate to 0.000200\n",
      "Iteration 12, loss = 0.67880781\n",
      "Validation score: 0.561075\n",
      "Iteration 13, loss = 0.67880298\n",
      "Validation score: 0.561100\n",
      "Iteration 14, loss = 0.67880016\n",
      "Validation score: 0.561100\n",
      "Iteration 15, loss = 0.67879465\n",
      "Validation score: 0.561200\n",
      "Iteration 16, loss = 0.67879219\n",
      "Validation score: 0.561100\n",
      "Iteration 17, loss = 0.67878845\n",
      "Validation score: 0.561375\n",
      "Validation score did not improve more than tol=0.000001 for 5 consecutive epochs. Setting learning rate to 0.000040\n",
      "Iteration 18, loss = 0.67877953\n",
      "Validation score: 0.560975\n",
      "Iteration 19, loss = 0.67877396\n",
      "Validation score: 0.561100\n",
      "Iteration 20, loss = 0.67877290\n",
      "Validation score: 0.561100\n",
      "Iteration 21, loss = 0.67877163\n",
      "Validation score: 0.561100\n",
      "Iteration 22, loss = 0.67877177\n",
      "Validation score: 0.561100\n",
      "Iteration 23, loss = 0.67877147\n",
      "Validation score: 0.561100\n",
      "Validation score did not improve more than tol=0.000001 for 5 consecutive epochs. Setting learning rate to 0.000008\n",
      "Iteration 24, loss = 0.67876792\n",
      "Validation score: 0.561100\n",
      "Iteration 25, loss = 0.67876769\n",
      "Validation score: 0.561100\n",
      "Iteration 26, loss = 0.67876751\n",
      "Validation score: 0.561100\n",
      "Iteration 27, loss = 0.67876738\n",
      "Validation score: 0.561100\n",
      "Iteration 28, loss = 0.67876735\n",
      "Validation score: 0.561100\n",
      "Iteration 29, loss = 0.67876725\n",
      "Validation score: 0.561100\n",
      "Validation score did not improve more than tol=0.000001 for 5 consecutive epochs. Setting learning rate to 0.000002\n",
      "Iteration 30, loss = 0.67876645\n",
      "Validation score: 0.561100\n",
      "Iteration 31, loss = 0.67876643\n",
      "Validation score: 0.561100\n",
      "Iteration 32, loss = 0.67876640\n",
      "Validation score: 0.561100\n",
      "Iteration 33, loss = 0.67876640\n",
      "Validation score: 0.561100\n",
      "Iteration 34, loss = 0.67876638\n",
      "Validation score: 0.561100\n",
      "Iteration 35, loss = 0.67876635\n",
      "Validation score: 0.561100\n",
      "Validation score did not improve more than tol=0.000001 for 5 consecutive epochs. Setting learning rate to 0.000000\n",
      "Iteration 36, loss = 0.67876618\n",
      "Validation score: 0.561100\n",
      "Iteration 37, loss = 0.67876618\n",
      "Validation score: 0.561100\n",
      "Iteration 38, loss = 0.67876617\n",
      "Validation score: 0.561100\n",
      "Iteration 39, loss = 0.67876617\n",
      "Validation score: 0.561100\n",
      "Iteration 40, loss = 0.67876617\n",
      "Validation score: 0.561100\n",
      "Iteration 41, loss = 0.67876616\n",
      "Validation score: 0.561100\n",
      "Validation score did not improve more than tol=0.000001 for 5 consecutive epochs. Learning rate too small. Stopping.\n"
     ]
    },
    {
     "data": {
      "text/plain": [
       "MLPClassifier(early_stopping=True, hidden_layer_sizes=(400, 200, 100, 20),\n",
       "              learning_rate='adaptive', max_iter=100, n_iter_no_change=5,\n",
       "              solver='sgd', tol=1e-06, verbose=True)"
      ]
     },
     "execution_count": 447,
     "metadata": {},
     "output_type": "execute_result"
    }
   ],
   "source": [
    "mlp_clf_3 = MLPClassifier(hidden_layer_sizes=(400,200,100,20), verbose= True , tol=0.000001,\n",
    "                        max_iter = 100, activation = 'relu', shuffle=True, n_iter_no_change = 5,\n",
    "                        solver = 'sgd', early_stopping=True, learning_rate= 'adaptive' \n",
    "                        )\n",
    "\n",
    "mlp_clf_3.fit(trainX_3_scaled, Y_3_train)"
   ]
  },
  {
   "cell_type": "markdown",
   "id": "5cb4c672",
   "metadata": {},
   "source": [
    "#### ACURÁCIA:"
   ]
  },
  {
   "cell_type": "code",
   "execution_count": 448,
   "id": "2b8ae51a",
   "metadata": {},
   "outputs": [
    {
     "name": "stdout",
     "output_type": "stream",
     "text": [
      "Accuracy: 0.56\n"
     ]
    }
   ],
   "source": [
    "y_3_pred = mlp_clf_3.predict(testX_3_scaled)\n",
    "\n",
    "print('Accuracy: {:.2f}'.format(accuracy_score(Y_3_test, y_3_pred)))"
   ]
  },
  {
   "cell_type": "markdown",
   "id": "039c49da",
   "metadata": {},
   "source": [
    "#### MATRIZ DE CONFUSÃO:"
   ]
  },
  {
   "cell_type": "code",
   "execution_count": 449,
   "id": "4a2ff22a",
   "metadata": {},
   "outputs": [],
   "source": [
    "cm_3 = confusion_matrix(Y_3_test, y_3_pred, labels=mlp_clf_3.classes_)"
   ]
  },
  {
   "cell_type": "code",
   "execution_count": 450,
   "id": "9563984a",
   "metadata": {},
   "outputs": [],
   "source": [
    "disp_3 = ConfusionMatrixDisplay(confusion_matrix=cm_3, display_labels=mlp_clf_3.classes_)"
   ]
  },
  {
   "cell_type": "code",
   "execution_count": 451,
   "id": "75515a71",
   "metadata": {},
   "outputs": [
    {
     "data": {
      "text/plain": [
       "<sklearn.metrics._plot.confusion_matrix.ConfusionMatrixDisplay at 0x21781191580>"
      ]
     },
     "execution_count": 451,
     "metadata": {},
     "output_type": "execute_result"
    },
    {
     "data": {
      "image/png": "[encoded data removed]",
      "text/plain": [
       "<Figure size 640x480 with 2 Axes>"
      ]
     },
     "metadata": {},
     "output_type": "display_data"
    }
   ],
   "source": [
    "disp_3.plot()"
   ]
  },
  {
   "cell_type": "code",
   "execution_count": 452,
   "id": "ec5f9ff6",
   "metadata": {},
   "outputs": [
    {
     "name": "stdout",
     "output_type": "stream",
     "text": [
      "              precision    recall  f1-score   support\n",
      "\n",
      "         0.0       0.54      0.73      0.62    800257\n",
      "         1.0       0.59      0.38      0.46    799743\n",
      "\n",
      "    accuracy                           0.56   1600000\n",
      "   macro avg       0.57      0.56      0.54   1600000\n",
      "weighted avg       0.57      0.56      0.54   1600000\n",
      "\n"
     ]
    },
    {
     "data": {
      "image/png": "[encoded data removed]",
      "text/plain": [
       "<Figure size 640x480 with 1 Axes>"
      ]
     },
     "metadata": {},
     "output_type": "display_data"
    }
   ],
   "source": [
    "print(classification_report(Y_3_test, y_3_pred))\n",
    "\n",
    "plt.plot(mlp_clf_3.loss_curve_)\n",
    "plt.title(\"Loss Curve\", fontsize=14)\n",
    "plt.xlabel('Iterations')\n",
    "plt.ylabel('Cost')\n",
    "plt.show()"
   ]
  },
  {
   "cell_type": "code",
   "execution_count": null,
   "id": "c3bf3a27",
   "metadata": {},
   "outputs": [],
   "source": []
  },
  {
   "cell_type": "code",
   "execution_count": null,
   "id": "bb4c20b2",
   "metadata": {},
   "outputs": [],
   "source": []
  }
 ],
 "metadata": {
  "kernelspec": {
   "display_name": "Python 3 (ipykernel)",
   "language": "python",
   "name": "python3"
  },
  "language_info": {
   "codemirror_mode": {
    "name": "ipython",
    "version": 3
   },
   "file_extension": ".py",
   "mimetype": "text/x-python",
   "name": "python",
   "nbconvert_exporter": "python",
   "pygments_lexer": "ipython3",
   "version": "3.8.0"
  }
 },
 "nbformat": 4,
 "nbformat_minor": 5
}
