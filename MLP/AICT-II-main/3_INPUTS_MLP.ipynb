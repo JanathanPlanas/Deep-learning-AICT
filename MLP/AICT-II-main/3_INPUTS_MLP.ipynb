{
 "cells": [
  {
   "attachments": {},
   "cell_type": "markdown",
   "metadata": {},
   "source": [
    "BIBLIOTECAS"
   ]
  },
  {
   "cell_type": "code",
   "execution_count": 13,
   "metadata": {},
   "outputs": [],
   "source": [
    "import matplotlib.pyplot as plt\n",
    "import numpy as np\n",
    "import pandas as pd\n",
    "import tensorflow as tf\n",
    "from tensorflow import keras\n",
    "from keras.models import model_from_json\n",
    "from sklearn.model_selection import train_test_split\n",
    "from sklearn.preprocessing import StandardScaler\n",
    "\n",
    "from keras.optimizers import adam\n",
    "from keras.optimizers import adamax\n",
    "\n",
    "from sklearn.neural_network import MLPClassifier\n",
    "from sklearn.metrics import confusion_matrix\n",
    "from sklearn.metrics import accuracy_score\n",
    "from sklearn.metrics import ConfusionMatrixDisplay\n",
    "from sklearn.metrics import classification_report\n",
    "from sklearn.model_selection import GridSearchCV\n"
   ]
  },
  {
   "attachments": {},
   "cell_type": "markdown",
   "metadata": {},
   "source": [
    "CARREGAMENTO DOS DATASETS"
   ]
  },
  {
   "cell_type": "code",
   "execution_count": 14,
   "metadata": {},
   "outputs": [],
   "source": [
    "carregando_clear = np.load('C:\\\\Users\\\\Flavia Papelaria\\\\Desktop\\\\Dados Capturados\\\\Clear.npy', mmap_mode='r')\n",
    "carregando_wifi = np.load('C:\\\\Users\\\\Flavia Papelaria\\\\Desktop\\\\Dados Capturados\\\\WIFI_1M.npy', mmap_mode='r')\n",
    "carregando_lte1m = np.load('C:\\\\Users\\\\Flavia Papelaria\\\\Desktop\\\\Dados Capturados\\\\LTE_1M.npy', mmap_mode='r')"
   ]
  },
  {
   "attachments": {},
   "cell_type": "markdown",
   "metadata": {},
   "source": [
    "REDUÇÃO DO DATASET"
   ]
  },
  {
   "cell_type": "code",
   "execution_count": 15,
   "metadata": {},
   "outputs": [],
   "source": [
    "dados_clear = carregando_clear[:1000000]\n",
    "dados_wifi = carregando_wifi[:1000000]\n",
    "dados_lte = carregando_lte1m[:1000000]"
   ]
  },
  {
   "attachments": {},
   "cell_type": "markdown",
   "metadata": {},
   "source": [
    "SEPARACAO DAS PARTES REAL E IMAGINARIA"
   ]
  },
  {
   "cell_type": "code",
   "execution_count": 16,
   "metadata": {},
   "outputs": [],
   "source": [
    "def sep_col_comp(dados):\n",
    "    parte_real = dados.real\n",
    "    parte_imag = dados.imag\n",
    "    return parte_real , parte_imag\n",
    "\n",
    "def montagem_datasets(dados_1 , dados_2, dados_3):\n",
    "    real1 , imag1 = sep_col_comp(dados_1)\n",
    "    real2 , imag2 = sep_col_comp(dados_2)\n",
    "    real3 , imag3 = sep_col_comp(dados_3)\n",
    "    atrib1 = np.zeros(len(dados_1))\n",
    "    atrib2 = np.ones(len(dados_2))\n",
    "    atrib3 = np.ones(len(dados_3))*2\n",
    "    dados1 = np.column_stack((real1,imag1,atrib1))\n",
    "    dados2 = np.column_stack((real2,imag2,atrib2))\n",
    "    dados3 = np.column_stack((real3,imag3,atrib3))\n",
    "    conjunto = np.vstack([dados1 , dados2 , dados3])\n",
    "    indices = np.random.permutation(len(conjunto))\n",
    "    dados = conjunto[indices]\n",
    "    return dados\n",
    "\n",
    "def remodel(dados , feature):\n",
    "    df = pd.DataFrame(dados , columns = ['real' , 'imag' , 'clfq'])\n",
    "    df_junt = df[['real' , 'imag']].to_numpy()\n",
    "    dados_dim = df_junt\n",
    "    dados_dim = dados_dim.astype(np.float32)\n",
    "    alvo = df['clfq'].values\n",
    "    alvo_dim = alvo\n",
    "    alvo_dim = alvo_dim.astype(np.float32)\n",
    "    \n",
    "    return dados_dim , alvo_dim\n",
    "\n",
    "def processos(dados_1 , dados_2, dados_3, feature):\n",
    "    dados = montagem_datasets(dados_1 , dados_2, dados_3)\n",
    "    X , Y = remodel(dados , feature)\n",
    "    return X , Y"
   ]
  },
  {
   "attachments": {},
   "cell_type": "markdown",
   "metadata": {},
   "source": [
    "CLEAR X WIFI X LTE"
   ]
  },
  {
   "cell_type": "code",
   "execution_count": 17,
   "metadata": {},
   "outputs": [
    {
     "name": "stdout",
     "output_type": "stream",
     "text": [
      "[[-1.5259311e-04  3.0518622e-05]\n",
      " [-1.3123008e-03 -7.9348416e-04]\n",
      " [-1.2207449e-04  3.6622345e-04]\n",
      " ...\n",
      " [-2.2278593e-03 -1.4954124e-03]\n",
      " [-3.6317161e-03 -3.6622345e-04]\n",
      " [-3.0518622e-05  6.1037244e-05]]\n",
      "[0. 2. 1. ... 2. 0. 0.]\n"
     ]
    }
   ],
   "source": [
    "X,Y = processos(dados_clear, dados_lte , dados_wifi , 3)\n",
    "print(X)\n",
    "print(Y)"
   ]
  },
  {
   "attachments": {},
   "cell_type": "markdown",
   "metadata": {},
   "source": [
    "CONJUNTO DE TREINAMENTO E TESTE"
   ]
  },
  {
   "cell_type": "code",
   "execution_count": 18,
   "metadata": {},
   "outputs": [],
   "source": [
    "X_train , X_test , Y_train , Y_test = train_test_split(X , Y , test_size=0.8)"
   ]
  },
  {
   "attachments": {},
   "cell_type": "markdown",
   "metadata": {},
   "source": [
    "NORMALIZAÇÃO DOS DADOS"
   ]
  },
  {
   "cell_type": "code",
   "execution_count": 19,
   "metadata": {},
   "outputs": [],
   "source": [
    "sc=StandardScaler()\n",
    "\n",
    "scaler = sc.fit(X_train)\n",
    "trainX_scaled = scaler.transform(X_train)\n",
    "testX_scaled = scaler.transform(X_test)\n"
   ]
  },
  {
   "attachments": {},
   "cell_type": "markdown",
   "metadata": {},
   "source": [
    "TREINAMENTO DA REDE NEURAL"
   ]
  },
  {
   "cell_type": "code",
   "execution_count": 20,
   "metadata": {},
   "outputs": [
    {
     "name": "stdout",
     "output_type": "stream",
     "text": [
      "Iteration 1, loss = 0.89578652\n",
      "Validation score: 0.570183\n",
      "Iteration 2, loss = 0.80334942\n",
      "Validation score: 0.575400\n",
      "Iteration 3, loss = 0.77968043\n",
      "Validation score: 0.572667\n",
      "Iteration 4, loss = 0.77038808\n",
      "Validation score: 0.576083\n",
      "Iteration 5, loss = 0.76508353\n",
      "Validation score: 0.577817\n",
      "Iteration 6, loss = 0.76144360\n",
      "Validation score: 0.580733\n",
      "Iteration 7, loss = 0.75891725\n",
      "Validation score: 0.575850\n",
      "Iteration 8, loss = 0.75715398\n",
      "Validation score: 0.581583\n",
      "Iteration 9, loss = 0.75585099\n",
      "Validation score: 0.574417\n",
      "Iteration 10, loss = 0.75501881\n",
      "Validation score: 0.580317\n",
      "Iteration 11, loss = 0.75436199\n",
      "Validation score: 0.584167\n",
      "Iteration 12, loss = 0.75397082\n",
      "Validation score: 0.583633\n",
      "Iteration 13, loss = 0.75360061\n",
      "Validation score: 0.583767\n",
      "Iteration 14, loss = 0.75318946\n",
      "Validation score: 0.575483\n",
      "Iteration 15, loss = 0.75297971\n",
      "Validation score: 0.584100\n",
      "Iteration 16, loss = 0.75264279\n",
      "Validation score: 0.571900\n",
      "Iteration 17, loss = 0.75249414\n",
      "Validation score: 0.579700\n",
      "Validation score did not improve more than tol=0.000001 for 5 consecutive epochs. Setting learning rate to 0.000200\n",
      "Iteration 18, loss = 0.75086187\n",
      "Validation score: 0.586067\n",
      "Iteration 19, loss = 0.75077433\n",
      "Validation score: 0.584517\n",
      "Iteration 20, loss = 0.75069221\n",
      "Validation score: 0.585017\n",
      "Iteration 21, loss = 0.75074892\n",
      "Validation score: 0.584550\n",
      "Iteration 22, loss = 0.75065587\n",
      "Validation score: 0.583650\n",
      "Iteration 23, loss = 0.75065369\n",
      "Validation score: 0.583600\n",
      "Iteration 24, loss = 0.75062302\n",
      "Validation score: 0.583917\n",
      "Validation score did not improve more than tol=0.000001 for 5 consecutive epochs. Setting learning rate to 0.000040\n",
      "Iteration 25, loss = 0.75014801\n",
      "Validation score: 0.585167\n",
      "Iteration 26, loss = 0.75008125\n",
      "Validation score: 0.584500\n",
      "Iteration 27, loss = 0.75006072\n",
      "Validation score: 0.584400\n",
      "Iteration 28, loss = 0.75006083\n",
      "Validation score: 0.583450\n",
      "Iteration 29, loss = 0.75006826\n",
      "Validation score: 0.584950\n",
      "Iteration 30, loss = 0.75005518\n",
      "Validation score: 0.584067\n",
      "Validation score did not improve more than tol=0.000001 for 5 consecutive epochs. Setting learning rate to 0.000008\n",
      "Iteration 31, loss = 0.74994348\n",
      "Validation score: 0.584333\n",
      "Iteration 32, loss = 0.74993261\n",
      "Validation score: 0.584933\n",
      "Iteration 33, loss = 0.74992840\n",
      "Validation score: 0.584067\n",
      "Iteration 34, loss = 0.74992731\n",
      "Validation score: 0.585183\n",
      "Iteration 35, loss = 0.74992789\n",
      "Validation score: 0.585117\n",
      "Iteration 36, loss = 0.74992584\n",
      "Validation score: 0.584250\n",
      "Validation score did not improve more than tol=0.000001 for 5 consecutive epochs. Setting learning rate to 0.000002\n",
      "Iteration 37, loss = 0.74990359\n",
      "Validation score: 0.584450\n",
      "Iteration 38, loss = 0.74989909\n",
      "Validation score: 0.585083\n",
      "Iteration 39, loss = 0.74989966\n",
      "Validation score: 0.584517\n",
      "Iteration 40, loss = 0.74989736\n",
      "Validation score: 0.584517\n",
      "Iteration 41, loss = 0.74990038\n",
      "Validation score: 0.584650\n",
      "Iteration 42, loss = 0.74989886\n",
      "Validation score: 0.584767\n",
      "Validation score did not improve more than tol=0.000001 for 5 consecutive epochs. Setting learning rate to 0.000000\n",
      "Iteration 43, loss = 0.74989235\n",
      "Validation score: 0.584667\n",
      "Iteration 44, loss = 0.74989264\n",
      "Validation score: 0.584767\n",
      "Iteration 45, loss = 0.74989254\n",
      "Validation score: 0.584933\n",
      "Iteration 46, loss = 0.74989228\n",
      "Validation score: 0.584767\n",
      "Iteration 47, loss = 0.74989223\n",
      "Validation score: 0.584767\n",
      "Iteration 48, loss = 0.74989224\n",
      "Validation score: 0.584933\n",
      "Validation score did not improve more than tol=0.000001 for 5 consecutive epochs. Learning rate too small. Stopping.\n"
     ]
    },
    {
     "data": {
      "text/html": [
       "<style>#sk-container-id-2 {color: black;background-color: white;}#sk-container-id-2 pre{padding: 0;}#sk-container-id-2 div.sk-toggleable {background-color: white;}#sk-container-id-2 label.sk-toggleable__label {cursor: pointer;display: block;width: 100%;margin-bottom: 0;padding: 0.3em;box-sizing: border-box;text-align: center;}#sk-container-id-2 label.sk-toggleable__label-arrow:before {content: \"▸\";float: left;margin-right: 0.25em;color: #696969;}#sk-container-id-2 label.sk-toggleable__label-arrow:hover:before {color: black;}#sk-container-id-2 div.sk-estimator:hover label.sk-toggleable__label-arrow:before {color: black;}#sk-container-id-2 div.sk-toggleable__content {max-height: 0;max-width: 0;overflow: hidden;text-align: left;background-color: #f0f8ff;}#sk-container-id-2 div.sk-toggleable__content pre {margin: 0.2em;color: black;border-radius: 0.25em;background-color: #f0f8ff;}#sk-container-id-2 input.sk-toggleable__control:checked~div.sk-toggleable__content {max-height: 200px;max-width: 100%;overflow: auto;}#sk-container-id-2 input.sk-toggleable__control:checked~label.sk-toggleable__label-arrow:before {content: \"▾\";}#sk-container-id-2 div.sk-estimator input.sk-toggleable__control:checked~label.sk-toggleable__label {background-color: #d4ebff;}#sk-container-id-2 div.sk-label input.sk-toggleable__control:checked~label.sk-toggleable__label {background-color: #d4ebff;}#sk-container-id-2 input.sk-hidden--visually {border: 0;clip: rect(1px 1px 1px 1px);clip: rect(1px, 1px, 1px, 1px);height: 1px;margin: -1px;overflow: hidden;padding: 0;position: absolute;width: 1px;}#sk-container-id-2 div.sk-estimator {font-family: monospace;background-color: #f0f8ff;border: 1px dotted black;border-radius: 0.25em;box-sizing: border-box;margin-bottom: 0.5em;}#sk-container-id-2 div.sk-estimator:hover {background-color: #d4ebff;}#sk-container-id-2 div.sk-parallel-item::after {content: \"\";width: 100%;border-bottom: 1px solid gray;flex-grow: 1;}#sk-container-id-2 div.sk-label:hover label.sk-toggleable__label {background-color: #d4ebff;}#sk-container-id-2 div.sk-serial::before {content: \"\";position: absolute;border-left: 1px solid gray;box-sizing: border-box;top: 0;bottom: 0;left: 50%;z-index: 0;}#sk-container-id-2 div.sk-serial {display: flex;flex-direction: column;align-items: center;background-color: white;padding-right: 0.2em;padding-left: 0.2em;position: relative;}#sk-container-id-2 div.sk-item {position: relative;z-index: 1;}#sk-container-id-2 div.sk-parallel {display: flex;align-items: stretch;justify-content: center;background-color: white;position: relative;}#sk-container-id-2 div.sk-item::before, #sk-container-id-2 div.sk-parallel-item::before {content: \"\";position: absolute;border-left: 1px solid gray;box-sizing: border-box;top: 0;bottom: 0;left: 50%;z-index: -1;}#sk-container-id-2 div.sk-parallel-item {display: flex;flex-direction: column;z-index: 1;position: relative;background-color: white;}#sk-container-id-2 div.sk-parallel-item:first-child::after {align-self: flex-end;width: 50%;}#sk-container-id-2 div.sk-parallel-item:last-child::after {align-self: flex-start;width: 50%;}#sk-container-id-2 div.sk-parallel-item:only-child::after {width: 0;}#sk-container-id-2 div.sk-dashed-wrapped {border: 1px dashed gray;margin: 0 0.4em 0.5em 0.4em;box-sizing: border-box;padding-bottom: 0.4em;background-color: white;}#sk-container-id-2 div.sk-label label {font-family: monospace;font-weight: bold;display: inline-block;line-height: 1.2em;}#sk-container-id-2 div.sk-label-container {text-align: center;}#sk-container-id-2 div.sk-container {/* jupyter's `normalize.less` sets `[hidden] { display: none; }` but bootstrap.min.css set `[hidden] { display: none !important; }` so we also need the `!important` here to be able to override the default hidden behavior on the sphinx rendered scikit-learn.org. See: https://github.com/scikit-learn/scikit-learn/issues/21755 */display: inline-block !important;position: relative;}#sk-container-id-2 div.sk-text-repr-fallback {display: none;}</style><div id=\"sk-container-id-2\" class=\"sk-top-container\"><div class=\"sk-text-repr-fallback\"><pre>MLPClassifier(early_stopping=True, hidden_layer_sizes=(400, 200, 100, 20),\n",
       "              learning_rate=&#x27;adaptive&#x27;, max_iter=100, n_iter_no_change=5,\n",
       "              solver=&#x27;sgd&#x27;, tol=1e-06, verbose=True)</pre><b>In a Jupyter environment, please rerun this cell to show the HTML representation or trust the notebook. <br />On GitHub, the HTML representation is unable to render, please try loading this page with nbviewer.org.</b></div><div class=\"sk-container\" hidden><div class=\"sk-item\"><div class=\"sk-estimator sk-toggleable\"><input class=\"sk-toggleable__control sk-hidden--visually\" id=\"sk-estimator-id-2\" type=\"checkbox\" checked><label for=\"sk-estimator-id-2\" class=\"sk-toggleable__label sk-toggleable__label-arrow\">MLPClassifier</label><div class=\"sk-toggleable__content\"><pre>MLPClassifier(early_stopping=True, hidden_layer_sizes=(400, 200, 100, 20),\n",
       "              learning_rate=&#x27;adaptive&#x27;, max_iter=100, n_iter_no_change=5,\n",
       "              solver=&#x27;sgd&#x27;, tol=1e-06, verbose=True)</pre></div></div></div></div></div>"
      ],
      "text/plain": [
       "MLPClassifier(early_stopping=True, hidden_layer_sizes=(400, 200, 100, 20),\n",
       "              learning_rate='adaptive', max_iter=100, n_iter_no_change=5,\n",
       "              solver='sgd', tol=1e-06, verbose=True)"
      ]
     },
     "execution_count": 20,
     "metadata": {},
     "output_type": "execute_result"
    }
   ],
   "source": [
    "mlp_clf = MLPClassifier(hidden_layer_sizes=(400,200,100,20), verbose= True , tol=0.000001,\n",
    "                        max_iter = 100, activation = 'relu', shuffle=True, n_iter_no_change = 5,\n",
    "                        solver = 'sgd', early_stopping=True, learning_rate= 'adaptive' \n",
    "                        )\n",
    "\n",
    "mlp_clf.fit(trainX_scaled, Y_train)"
   ]
  },
  {
   "attachments": {},
   "cell_type": "markdown",
   "metadata": {},
   "source": [
    "ACURÁCIA"
   ]
  },
  {
   "cell_type": "code",
   "execution_count": 21,
   "metadata": {},
   "outputs": [
    {
     "name": "stdout",
     "output_type": "stream",
     "text": [
      "Accuracy: 0.59\n"
     ]
    }
   ],
   "source": [
    "y_pred = mlp_clf.predict(testX_scaled)\n",
    "print('Accuracy: {:.2f}'.format(accuracy_score(Y_test, y_pred)))"
   ]
  },
  {
   "attachments": {},
   "cell_type": "markdown",
   "metadata": {},
   "source": [
    "MATRIZ DE CONFUSÃO"
   ]
  },
  {
   "cell_type": "code",
   "execution_count": 22,
   "metadata": {},
   "outputs": [
    {
     "data": {
      "text/plain": [
       "<sklearn.metrics._plot.confusion_matrix.ConfusionMatrixDisplay at 0x25140d6db10>"
      ]
     },
     "execution_count": 22,
     "metadata": {},
     "output_type": "execute_result"
    },
    {
     "data": {
      "image/png": "[encoded data removed]",
      "text/plain": [
       "<Figure size 640x480 with 2 Axes>"
      ]
     },
     "metadata": {},
     "output_type": "display_data"
    }
   ],
   "source": [
    "cm = confusion_matrix(Y_test, y_pred, labels=mlp_clf.classes_)\n",
    "disp = ConfusionMatrixDisplay(confusion_matrix=cm, display_labels=mlp_clf.classes_)\n",
    "disp.plot()"
   ]
  },
  {
   "cell_type": "code",
   "execution_count": 23,
   "metadata": {},
   "outputs": [
    {
     "name": "stdout",
     "output_type": "stream",
     "text": [
      "              precision    recall  f1-score   support\n",
      "\n",
      "         0.0       0.50      0.65      0.57    800205\n",
      "         1.0       0.65      0.43      0.52    799939\n",
      "         2.0       0.65      0.68      0.66    799856\n",
      "\n",
      "    accuracy                           0.59   2400000\n",
      "   macro avg       0.60      0.59      0.58   2400000\n",
      "weighted avg       0.60      0.59      0.58   2400000\n",
      "\n"
     ]
    }
   ],
   "source": [
    "print(classification_report(Y_test, y_pred))"
   ]
  },
  {
   "cell_type": "code",
   "execution_count": 24,
   "metadata": {},
   "outputs": [
    {
     "data": {
      "image/png": "[encoded data removed]",
      "text/plain": [
       "<Figure size 640x480 with 1 Axes>"
      ]
     },
     "metadata": {},
     "output_type": "display_data"
    }
   ],
   "source": [
    "plt.plot(mlp_clf.loss_curve_)\n",
    "plt.title(\"Loss Curve\", fontsize=14)\n",
    "plt.xlabel('Iterations')\n",
    "plt.ylabel('Cost')\n",
    "plt.show()"
   ]
  },
  {
   "cell_type": "markdown",
   "metadata": {},
   "source": [
    "param_grid = {\n",
    "    'hidden_layer_sizes': [(150,100,50), (120,80,40), (100,50,30)],\n",
    "    'max_iter': [50, 100, 150],\n",
    "    'activation': ['tanh', 'relu'],\n",
    "    'solver': ['sgd', 'adam'],\n",
    "    'alpha': [0.0001, 0.05],\n",
    "    'learning_rate': ['constant','adaptive'],\n",
    "}"
   ]
  },
  {
   "cell_type": "markdown",
   "metadata": {},
   "source": [
    "grid = GridSearchCV(mlp_clf, param_grid)\n",
    "grid.fit(trainX_scaled, Y_train)\n",
    "\n",
    "print(grid.best_params_) "
   ]
  },
  {
   "cell_type": "markdown",
   "metadata": {},
   "source": [
    "grid_predictions = grid.predict(testX_scaled) \n",
    "\n",
    "print('Accuracy: {:.2f}'.format(accuracy_score(Y_test, grid_predictions)))"
   ]
  }
 ],
 "metadata": {
  "kernelspec": {
   "display_name": "Python 3",
   "language": "python",
   "name": "python3"
  },
  "language_info": {
   "codemirror_mode": {
    "name": "ipython",
    "version": 3
   },
   "file_extension": ".py",
   "mimetype": "text/x-python",
   "name": "python",
   "nbconvert_exporter": "python",
   "pygments_lexer": "ipython3",
   "version": "3.11.3"
  },
  "orig_nbformat": 4
 },
 "nbformat": 4,
 "nbformat_minor": 2
}
