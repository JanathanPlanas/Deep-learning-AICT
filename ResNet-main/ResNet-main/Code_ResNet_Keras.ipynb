{
 "cells": [
  {
   "cell_type": "markdown",
   "id": "ba8046da",
   "metadata": {},
   "source": [
    "# Residual Network para Separação de sinais LTE e WiFi\n",
    "\n",
    "### Primeiramente iremos importar todas as bibliotecas necessárias para criação do modelo.\n",
    "\n",
    "O modelo da Residual Network (ResNet) será feito utilizando as bibliotecas Keras e Tensorflow. <br>Também utilizaremos as bibliotecas Scikit Learning, Numpy, Matplotlib e Seaborn para realizar alguns tratamentos nos dados e visualização de resultados. "
   ]
  },
  {
   "cell_type": "code",
   "execution_count": 22,
   "id": "80065267",
   "metadata": {},
   "outputs": [],
   "source": [
    "#Author: Gefferson Mateus da Rocha Simão\n",
    "#Import libraries\n",
    "#Numpy\n",
    "import numpy as np\n",
    "\n",
    "# Keras \n",
    "import tensorflow as tf\n",
    "import keras\n",
    "from keras.utils import to_categorical\n",
    "from keras.models import Model, load_model\n",
    "from keras.initializers import glorot_uniform\n",
    "from keras.layers import *\n",
    "\n",
    "#Scikit Learng\n",
    "from sklearn.preprocessing import StandardScaler\n",
    "from sklearn.model_selection import train_test_split\n",
    "from sklearn.metrics import confusion_matrix\n",
    "\n",
    "# Seaborn and Matplotlib\n",
    "from seaborn import heatmap\n",
    "from matplotlib import pyplot as plt"
   ]
  },
  {
   "cell_type": "markdown",
   "id": "1960c9ef",
   "metadata": {},
   "source": [
    "### Agora iremos carregar os dados que utilizaremos para criar o modelo\n",
    "\n",
    "Serão utilizado dados I/Q de sinais de rádio. Sendo 3 conjuntos de tamanho (100000000, 1), contendo cada um um tipo sinal de rádio:<br>\n",
    "<ul>\n",
    "    <li>WiFi => Conjunto de dados contendo sinais I/Q em um canal com tráfego de dados Wifi.\n",
    "    <li>LTE => Conjunto de dados contendo sinais I/Q em um canal com tráfego de dados LTE.\n",
    "    <li>Clear => Conjunto de dados contendo sinais I/Q de um canal sem presença de tráfego de dados (Ruído).\n",
    "<ul>"
   ]
  },
  {
   "cell_type": "code",
   "execution_count": 2,
   "id": "ddff81a1",
   "metadata": {},
   "outputs": [
    {
     "name": "stdout",
     "output_type": "stream",
     "text": [
      "Tamanho dos dados WIFi: (100000000, 1)\n",
      "Tamanho dos dados LTE: (100000000, 1)\n",
      "Tamanho dos dados Clear: (100000000, 1)\n"
     ]
    }
   ],
   "source": [
    "# Loading Data\n",
    "wifi = np.load(\"E:/DADOS/wifi.npy\")\n",
    "lte = np.load(\"E:/DADOS/lte.npy\")          \n",
    "clear = np.load(\"E:/DADOS/clear.npy\")\n",
    "\n",
    "print('Tamanho dos dados WIFi:', np.shape(wifi))\n",
    "print('Tamanho dos dados LTE:', np.shape(lte))\n",
    "print('Tamanho dos dados Clear:', np.shape(clear))"
   ]
  },
  {
   "cell_type": "markdown",
   "id": "6b66cd35",
   "metadata": {},
   "source": [
    "Agora que carregamos os dados, iremos juntar os dados dos três sinais I/Q em um única matriz com as partes reais e imaginárias em colunas diferentes. "
   ]
  },
  {
   "cell_type": "code",
   "execution_count": 3,
   "id": "28e7eb19",
   "metadata": {},
   "outputs": [
    {
     "name": "stdout",
     "output_type": "stream",
     "text": [
      "Novo vetor de dados tem tamanho (300000000, 2)\n"
     ]
    }
   ],
   "source": [
    "data = np.concatenate((wifi, lte, clear)) # Juntando os dados em um único vetor (300000000, 1)\n",
    "\n",
    "#Reshaping data \n",
    "data = np.hstack([np.real(data) , np.imag(data)]) #Colocando as componentes em fase e quadratura em colunas separadas.\n",
    "print('Novo vetor de dados tem tamanho',np.shape(data))\n",
    "#print(data) #Print dos dados"
   ]
  },
  {
   "cell_type": "markdown",
   "id": "285d1fe8",
   "metadata": {},
   "source": [
    "Foi a transformação dos dados utilizando o StandardScaler"
   ]
  },
  {
   "cell_type": "code",
   "execution_count": 4,
   "id": "749a1451",
   "metadata": {},
   "outputs": [
    {
     "name": "stdout",
     "output_type": "stream",
     "text": [
      "StandardScaler()\n",
      "[-4.23106311e-07 -1.13802925e-07]\n",
      "[[-8.0229771e-01  7.8227025e-01]\n",
      " [-6.0102570e-01  2.3453536e+00]\n",
      " [-6.0102570e-01 -1.9465685e-01]\n",
      " ...\n",
      " [-6.0102570e-01  7.2858576e-04]\n",
      " [-6.0102570e-01 -7.8081316e-01]\n",
      " [ 8.0787855e-01  7.2858576e-04]]\n"
     ]
    }
   ],
   "source": [
    "scaler = StandardScaler()\n",
    "print(scaler.fit(data))\n",
    "#StandardScaler()\n",
    "print(scaler.mean_)\n",
    "data = scaler.transform(data)\n",
    "print(data)"
   ]
  },
  {
   "cell_type": "markdown",
   "id": "5d59c0c2",
   "metadata": {},
   "source": [
    "Iremos então realizar um *reshape* dos dados, de forma que teremos um Input na ResNet com 20000 dados de um tipo de sinal."
   ]
  },
  {
   "cell_type": "code",
   "execution_count": 5,
   "id": "e91d2706",
   "metadata": {
    "scrolled": false
   },
   "outputs": [
    {
     "name": "stdout",
     "output_type": "stream",
     "text": [
      "Tamanho dos dados após o Reshape: (15000, 20000, 2)\n"
     ]
    }
   ],
   "source": [
    "input_size = 20000 #Tamanho do Input que iremos utilizar na rede neural.\n",
    "data = data.reshape([-1, input_size, 2]) # Reshape dos dados\n",
    "print('Tamanho dos dados após o Reshape:', np.shape(data))\n",
    "#print(data)"
   ]
  },
  {
   "cell_type": "markdown",
   "id": "e49cfe08",
   "metadata": {},
   "source": [
    "### Criando Labels dos dados\n",
    "\n",
    "Para criar os labels iremos apenas criar os labels = {0,1,2} para os dados onde:\n",
    "<ul>\n",
    "    <li>WiFi = 0\n",
    "    <li>LTE = 1\n",
    "    <li>Clear = 2\n",
    "<ul>"
   ]
  },
  {
   "cell_type": "code",
   "execution_count": 6,
   "id": "f93bf898",
   "metadata": {},
   "outputs": [
    {
     "name": "stdout",
     "output_type": "stream",
     "text": [
      "Formato do vetor de dados: (15000, 20000, 2)\n",
      "Tamanho do vetor de labels: (15000,)\n"
     ]
    }
   ],
   "source": [
    "#Creating Labels\n",
    "fraq = int(np.shape(data)[0]/3)\n",
    "label = np.zeros(len(data))\n",
    "label[fraq:fraq*2] = 1\n",
    "label[fraq*2:fraq*3] = 2 \n",
    "print(f'Formato do vetor de dados: {np.shape(data)}')\n",
    "print(f'Tamanho do vetor de labels: {np.shape(label)}')"
   ]
  },
  {
   "cell_type": "markdown",
   "id": "fd4f6a37",
   "metadata": {},
   "source": [
    "### Separando Conjunto de Dados\n",
    "\n",
    "Foi realizado a separação do conjunto de dados da seguinte forma:\n",
    "<ul>\n",
    "    <li>Treino: 60%\n",
    "    <li>Validação: 20%\n",
    "    <li>Teste: 20%\n",
    "<ul>"
   ]
  },
  {
   "cell_type": "code",
   "execution_count": 7,
   "id": "a8817b78",
   "metadata": {
    "scrolled": true
   },
   "outputs": [
    {
     "name": "stdout",
     "output_type": "stream",
     "text": [
      "Tamanho do dados de treinamento: (9000, 20000, 2)\n",
      "Tamanho do dados de teste: (3000, 20000, 2)\n",
      "Tamanho do dados de validação: (3000, 20000, 2)\n",
      "\n",
      "Tamanho do labels de treinamento: (9000,)\n",
      "Tamanho do labels de teste: (3000,)\n",
      "Tamanho do labels de validação: (3000,)\n"
     ]
    }
   ],
   "source": [
    "#dividindo dados em treinamento e teste\n",
    "\n",
    "X_train, X_test, y_train, y_test = train_test_split(data, label, test_size=0.2, random_state=42)\n",
    "\n",
    "X_train, X_validation, y_train, y_validation = train_test_split(X_train, y_train, test_size=0.25, random_state=42)\n",
    "\n",
    "\n",
    "print(f'Tamanho do dados de treinamento: {np.shape(X_train)}')\n",
    "print(f'Tamanho do dados de teste: {np.shape(X_test)}')\n",
    "print(f'Tamanho do dados de validação: {np.shape(X_validation)}\\n')\n",
    "\n",
    "print(f'Tamanho do labels de treinamento: {np.shape(y_train)}')\n",
    "print(f'Tamanho do labels de teste: {np.shape(y_test)}')\n",
    "print(f'Tamanho do labels de validação: {np.shape(y_validation)}')\n",
    "\n"
   ]
  },
  {
   "cell_type": "markdown",
   "id": "2d023cd3",
   "metadata": {},
   "source": [
    "Realizando a conversão dos labels para uma matriz com labels One Hot Encoded\n"
   ]
  },
  {
   "cell_type": "code",
   "execution_count": 8,
   "id": "e8039fac",
   "metadata": {
    "scrolled": false
   },
   "outputs": [
    {
     "name": "stdout",
     "output_type": "stream",
     "text": [
      "tf.Tensor(\n",
      "[[1. 0. 0.]\n",
      " [0. 1. 0.]\n",
      " [0. 1. 0.]\n",
      " ...\n",
      " [0. 1. 0.]\n",
      " [0. 0. 1.]\n",
      " [1. 0. 0.]], shape=(9000, 3), dtype=float32)\n",
      "tf.Tensor(\n",
      "[[0. 0. 1.]\n",
      " [0. 1. 0.]\n",
      " [0. 0. 1.]\n",
      " ...\n",
      " [0. 0. 1.]\n",
      " [0. 0. 1.]\n",
      " [0. 0. 1.]], shape=(3000, 3), dtype=float32)\n",
      "tf.Tensor(\n",
      "[[1. 0. 0.]\n",
      " [1. 0. 0.]\n",
      " [1. 0. 0.]\n",
      " ...\n",
      " [0. 0. 1.]\n",
      " [0. 0. 1.]\n",
      " [1. 0. 0.]], shape=(3000, 3), dtype=float32)\n"
     ]
    }
   ],
   "source": [
    "#Realizando a conversão dos labels para uma matriz com labels One Hot Encoded\n",
    "y_train = tf.one_hot(y_train, depth=3)\n",
    "y_test = tf.one_hot(y_test, depth=3)\n",
    "y_validation = tf.one_hot(y_validation, depth=3)\n",
    "\n",
    "print(y_train)\n",
    "print(y_test)\n",
    "print(y_validation)"
   ]
  },
  {
   "cell_type": "markdown",
   "id": "c2888054",
   "metadata": {},
   "source": [
    "## Agora Iremos criar o Residual Stack\n",
    " Cada Residual Stack consiste de um block convolucional Linear duas dois blocos residuais que depois passam por uma cadada de MaxPooling diminuindo a dimensão pela metade.\n",
    "<br> O modelo do Redisual Stack segue como na figura abaixo: <br>\n",
    " ![_imag_error_](Residual_Stack.png \"Residual Stack [1]\")\n",
    "<br>[1] Residual Unit and Residual Stack (source: *Over the Air Deep Learning\n",
    "Based Radio Signal Classification*)\n"
   ]
  },
  {
   "cell_type": "code",
   "execution_count": 9,
   "id": "33e80f1e",
   "metadata": {},
   "outputs": [],
   "source": [
    "# Creating and ResidualStack \n",
    "def ResidualStack(x, f, poolsize = 2):\n",
    "    \n",
    "    #1x1 Linear Convolution\n",
    "    \n",
    "    x = Conv1D(f, 1, strides = 1, padding='same', data_format='channels_last')(x)\n",
    "    x = Activation('linear')(x)\n",
    "    \n",
    "    #Residual Unit 1\n",
    "\n",
    "    x_skip = x\n",
    "    x = Conv1D(f, 3, strides=1, padding='same', data_format='channels_last')(x)\n",
    "    x = Activation('relu')(x)\n",
    "    x = Conv1D(f, 3, strides=1, padding='same', data_format='channels_last')(x)\n",
    "    x = Activation('linear')(x)\n",
    "    \n",
    "    \n",
    "    #Skip conection\n",
    "    \n",
    "    if x.shape[1:] == x_skip.shape[1:]:\n",
    "       # x = add()([x, x_skip])\n",
    "        x = x + x_skip\n",
    "    else:\n",
    "        raise Exception('Error: Failed Skip Connection')\n",
    "        \n",
    "    # Residual Unit 2\n",
    "    x_skip = x\n",
    "    x = Conv1D(f, 3, strides=1, padding='same', data_format='channels_last')(x)\n",
    "    x = Activation('relu')(x)\n",
    "    x = Conv1D(f, 3, strides=1, padding='same', data_format='channels_last')(x)\n",
    "    x = Activation('linear')(x)\n",
    "    \n",
    "    \n",
    "    #Skip conection\n",
    "    \n",
    "    if x.shape[1:] == x_skip.shape[1:]:\n",
    "       # x = add()([x, x_skip])\n",
    "        x = x + x_skip\n",
    "    else:\n",
    "        raise Exception('Error: Failed Skip Connection')\n",
    "    \n",
    "    #MaxPooling\n",
    "    \n",
    "    x = MaxPooling1D(pool_size=poolsize, strides=None, padding='valid', data_format='channels_last')(x)\n",
    "    \n",
    "    return x\n"
   ]
  },
  {
   "cell_type": "markdown",
   "id": "1172549c",
   "metadata": {},
   "source": [
    "## Com a Residual Stack definida iremos então criar o modelo da ResNet:\n",
    "\n",
    "<br> O modelo utilizado irá ter 4 filtros na rede neural convoluciona e aceitará um Input Inicial de 20000 dados. <br>\n",
    "A cada entrada em um Residual Stack o Tamanho de Input é dividio pela metade pelo MaxPooling. <br>\n",
    "Cada Camada Convolucional 1D dos Residual Stack têm 4 filtros cada.<br>\n",
    "Após os Residual Stack os dados passaram por duas camadas densas com ativação Tangente Hiperbólica e uma cadada de output com ativação Softmax.\n",
    "<br>\n",
    "\n",
    "![_imag_error_](Model.png \"ResNet Model [2]\")\n",
    "<br>[2] ResNet Model (source: *ChARM*: **NextG Spectrum Sharing Through\n",
    "Data-Driven Real-Time O-RAN Dynamic Control**)"
   ]
  },
  {
   "cell_type": "code",
   "execution_count": 10,
   "id": "a79a7da4",
   "metadata": {},
   "outputs": [],
   "source": [
    "def ResNet(input_shape, classes = 3):\n",
    "    \n",
    "    x_input = Input(input_shape)\n",
    "    x = x_input\n",
    "    \n",
    "    #MaxPooling\n",
    "    \n",
    "    x = MaxPooling1D(pool_size=2, strides=None, padding='valid', data_format='channels_last')(x)\n",
    "    \n",
    "    #ResidualStacks\n",
    "    \n",
    "    filters = 4\n",
    "    \n",
    "    #x = ResidualStack(x, filters, 2)\n",
    "    x = ResidualStack(x, filters, 5)\n",
    "    x = ResidualStack(x, filters, 2)\n",
    "    x = ResidualStack(x, filters, 5)\n",
    "    x = ResidualStack(x, filters, 2)\n",
    "    x = ResidualStack(x, filters, 5)\n",
    "    x = ResidualStack(x, filters, 2)\n",
    "    \n",
    "    #Output Layers\n",
    "    \n",
    "    x = Flatten()(x)\n",
    "    x = Dense(16, activation='tanh',  kernel_initializer=\"he_normal\")(x)\n",
    "    x = Dropout(.5)(x)\n",
    "    x = Dense(16, activation='tanh',  kernel_initializer=\"he_normal\")(x)\n",
    "    x = Dropout(.5)(x)\n",
    "    x = Dense( classes, activation='softmax', kernel_initializer = glorot_uniform(seed=0))(x)\n",
    "    \n",
    "    model = Model(inputs= x_input, outputs = x)\n",
    "    \n",
    "    return model"
   ]
  },
  {
   "cell_type": "code",
   "execution_count": 11,
   "id": "d9ee71f2",
   "metadata": {
    "scrolled": true
   },
   "outputs": [
    {
     "name": "stdout",
     "output_type": "stream",
     "text": [
      "Model: \"model\"\n",
      "__________________________________________________________________________________________________\n",
      " Layer (type)                   Output Shape         Param #     Connected to                     \n",
      "==================================================================================================\n",
      " input_1 (InputLayer)           [(None, 20000, 2)]   0           []                               \n",
      "                                                                                                  \n",
      " max_pooling1d (MaxPooling1D)   (None, 10000, 2)     0           ['input_1[0][0]']                \n",
      "                                                                                                  \n",
      " conv1d (Conv1D)                (None, 10000, 4)     12          ['max_pooling1d[0][0]']          \n",
      "                                                                                                  \n",
      " activation (Activation)        (None, 10000, 4)     0           ['conv1d[0][0]']                 \n",
      "                                                                                                  \n",
      " conv1d_1 (Conv1D)              (None, 10000, 4)     52          ['activation[0][0]']             \n",
      "                                                                                                  \n",
      " activation_1 (Activation)      (None, 10000, 4)     0           ['conv1d_1[0][0]']               \n",
      "                                                                                                  \n",
      " conv1d_2 (Conv1D)              (None, 10000, 4)     52          ['activation_1[0][0]']           \n",
      "                                                                                                  \n",
      " activation_2 (Activation)      (None, 10000, 4)     0           ['conv1d_2[0][0]']               \n",
      "                                                                                                  \n",
      " tf.__operators__.add (TFOpLamb  (None, 10000, 4)    0           ['activation_2[0][0]',           \n",
      " da)                                                              'activation[0][0]']             \n",
      "                                                                                                  \n",
      " conv1d_3 (Conv1D)              (None, 10000, 4)     52          ['tf.__operators__.add[0][0]']   \n",
      "                                                                                                  \n",
      " activation_3 (Activation)      (None, 10000, 4)     0           ['conv1d_3[0][0]']               \n",
      "                                                                                                  \n",
      " conv1d_4 (Conv1D)              (None, 10000, 4)     52          ['activation_3[0][0]']           \n",
      "                                                                                                  \n",
      " activation_4 (Activation)      (None, 10000, 4)     0           ['conv1d_4[0][0]']               \n",
      "                                                                                                  \n",
      " tf.__operators__.add_1 (TFOpLa  (None, 10000, 4)    0           ['activation_4[0][0]',           \n",
      " mbda)                                                            'tf.__operators__.add[0][0]']   \n",
      "                                                                                                  \n",
      " max_pooling1d_1 (MaxPooling1D)  (None, 2000, 4)     0           ['tf.__operators__.add_1[0][0]'] \n",
      "                                                                                                  \n",
      " conv1d_5 (Conv1D)              (None, 2000, 4)      20          ['max_pooling1d_1[0][0]']        \n",
      "                                                                                                  \n",
      " activation_5 (Activation)      (None, 2000, 4)      0           ['conv1d_5[0][0]']               \n",
      "                                                                                                  \n",
      " conv1d_6 (Conv1D)              (None, 2000, 4)      52          ['activation_5[0][0]']           \n",
      "                                                                                                  \n",
      " activation_6 (Activation)      (None, 2000, 4)      0           ['conv1d_6[0][0]']               \n",
      "                                                                                                  \n",
      " conv1d_7 (Conv1D)              (None, 2000, 4)      52          ['activation_6[0][0]']           \n",
      "                                                                                                  \n",
      " activation_7 (Activation)      (None, 2000, 4)      0           ['conv1d_7[0][0]']               \n",
      "                                                                                                  \n",
      " tf.__operators__.add_2 (TFOpLa  (None, 2000, 4)     0           ['activation_7[0][0]',           \n",
      " mbda)                                                            'activation_5[0][0]']           \n",
      "                                                                                                  \n",
      " conv1d_8 (Conv1D)              (None, 2000, 4)      52          ['tf.__operators__.add_2[0][0]'] \n",
      "                                                                                                  \n",
      " activation_8 (Activation)      (None, 2000, 4)      0           ['conv1d_8[0][0]']               \n",
      "                                                                                                  \n",
      " conv1d_9 (Conv1D)              (None, 2000, 4)      52          ['activation_8[0][0]']           \n",
      "                                                                                                  \n",
      " activation_9 (Activation)      (None, 2000, 4)      0           ['conv1d_9[0][0]']               \n",
      "                                                                                                  \n",
      " tf.__operators__.add_3 (TFOpLa  (None, 2000, 4)     0           ['activation_9[0][0]',           \n",
      " mbda)                                                            'tf.__operators__.add_2[0][0]'] \n",
      "                                                                                                  \n",
      " max_pooling1d_2 (MaxPooling1D)  (None, 1000, 4)     0           ['tf.__operators__.add_3[0][0]'] \n",
      "                                                                                                  \n",
      " conv1d_10 (Conv1D)             (None, 1000, 4)      20          ['max_pooling1d_2[0][0]']        \n",
      "                                                                                                  \n",
      " activation_10 (Activation)     (None, 1000, 4)      0           ['conv1d_10[0][0]']              \n",
      "                                                                                                  \n",
      " conv1d_11 (Conv1D)             (None, 1000, 4)      52          ['activation_10[0][0]']          \n",
      "                                                                                                  \n",
      " activation_11 (Activation)     (None, 1000, 4)      0           ['conv1d_11[0][0]']              \n",
      "                                                                                                  \n",
      " conv1d_12 (Conv1D)             (None, 1000, 4)      52          ['activation_11[0][0]']          \n",
      "                                                                                                  \n",
      " activation_12 (Activation)     (None, 1000, 4)      0           ['conv1d_12[0][0]']              \n",
      "                                                                                                  \n",
      " tf.__operators__.add_4 (TFOpLa  (None, 1000, 4)     0           ['activation_12[0][0]',          \n",
      " mbda)                                                            'activation_10[0][0]']          \n",
      "                                                                                                  \n",
      " conv1d_13 (Conv1D)             (None, 1000, 4)      52          ['tf.__operators__.add_4[0][0]'] \n",
      "                                                                                                  \n",
      " activation_13 (Activation)     (None, 1000, 4)      0           ['conv1d_13[0][0]']              \n",
      "                                                                                                  \n",
      " conv1d_14 (Conv1D)             (None, 1000, 4)      52          ['activation_13[0][0]']          \n",
      "                                                                                                  \n",
      " activation_14 (Activation)     (None, 1000, 4)      0           ['conv1d_14[0][0]']              \n",
      "                                                                                                  \n",
      " tf.__operators__.add_5 (TFOpLa  (None, 1000, 4)     0           ['activation_14[0][0]',          \n",
      " mbda)                                                            'tf.__operators__.add_4[0][0]'] \n",
      "                                                                                                  \n",
      " max_pooling1d_3 (MaxPooling1D)  (None, 200, 4)      0           ['tf.__operators__.add_5[0][0]'] \n",
      "                                                                                                  \n",
      " conv1d_15 (Conv1D)             (None, 200, 4)       20          ['max_pooling1d_3[0][0]']        \n",
      "                                                                                                  \n",
      " activation_15 (Activation)     (None, 200, 4)       0           ['conv1d_15[0][0]']              \n",
      "                                                                                                  \n",
      " conv1d_16 (Conv1D)             (None, 200, 4)       52          ['activation_15[0][0]']          \n",
      "                                                                                                  \n",
      " activation_16 (Activation)     (None, 200, 4)       0           ['conv1d_16[0][0]']              \n",
      "                                                                                                  \n",
      " conv1d_17 (Conv1D)             (None, 200, 4)       52          ['activation_16[0][0]']          \n",
      "                                                                                                  \n",
      " activation_17 (Activation)     (None, 200, 4)       0           ['conv1d_17[0][0]']              \n",
      "                                                                                                  \n",
      " tf.__operators__.add_6 (TFOpLa  (None, 200, 4)      0           ['activation_17[0][0]',          \n",
      " mbda)                                                            'activation_15[0][0]']          \n",
      "                                                                                                  \n",
      " conv1d_18 (Conv1D)             (None, 200, 4)       52          ['tf.__operators__.add_6[0][0]'] \n",
      "                                                                                                  \n",
      " activation_18 (Activation)     (None, 200, 4)       0           ['conv1d_18[0][0]']              \n",
      "                                                                                                  \n",
      " conv1d_19 (Conv1D)             (None, 200, 4)       52          ['activation_18[0][0]']          \n",
      "                                                                                                  \n",
      " activation_19 (Activation)     (None, 200, 4)       0           ['conv1d_19[0][0]']              \n",
      "                                                                                                  \n",
      " tf.__operators__.add_7 (TFOpLa  (None, 200, 4)      0           ['activation_19[0][0]',          \n",
      " mbda)                                                            'tf.__operators__.add_6[0][0]'] \n",
      "                                                                                                  \n",
      " max_pooling1d_4 (MaxPooling1D)  (None, 100, 4)      0           ['tf.__operators__.add_7[0][0]'] \n",
      "                                                                                                  \n",
      " conv1d_20 (Conv1D)             (None, 100, 4)       20          ['max_pooling1d_4[0][0]']        \n",
      "                                                                                                  \n",
      " activation_20 (Activation)     (None, 100, 4)       0           ['conv1d_20[0][0]']              \n",
      "                                                                                                  \n",
      " conv1d_21 (Conv1D)             (None, 100, 4)       52          ['activation_20[0][0]']          \n",
      "                                                                                                  \n",
      " activation_21 (Activation)     (None, 100, 4)       0           ['conv1d_21[0][0]']              \n",
      "                                                                                                  \n",
      " conv1d_22 (Conv1D)             (None, 100, 4)       52          ['activation_21[0][0]']          \n",
      "                                                                                                  \n",
      " activation_22 (Activation)     (None, 100, 4)       0           ['conv1d_22[0][0]']              \n",
      "                                                                                                  \n",
      " tf.__operators__.add_8 (TFOpLa  (None, 100, 4)      0           ['activation_22[0][0]',          \n",
      " mbda)                                                            'activation_20[0][0]']          \n",
      "                                                                                                  \n",
      " conv1d_23 (Conv1D)             (None, 100, 4)       52          ['tf.__operators__.add_8[0][0]'] \n",
      "                                                                                                  \n",
      " activation_23 (Activation)     (None, 100, 4)       0           ['conv1d_23[0][0]']              \n",
      "                                                                                                  \n",
      " conv1d_24 (Conv1D)             (None, 100, 4)       52          ['activation_23[0][0]']          \n",
      "                                                                                                  \n",
      " activation_24 (Activation)     (None, 100, 4)       0           ['conv1d_24[0][0]']              \n",
      "                                                                                                  \n",
      " tf.__operators__.add_9 (TFOpLa  (None, 100, 4)      0           ['activation_24[0][0]',          \n",
      " mbda)                                                            'tf.__operators__.add_8[0][0]'] \n",
      "                                                                                                  \n",
      " max_pooling1d_5 (MaxPooling1D)  (None, 20, 4)       0           ['tf.__operators__.add_9[0][0]'] \n",
      "                                                                                                  \n",
      " conv1d_25 (Conv1D)             (None, 20, 4)        20          ['max_pooling1d_5[0][0]']        \n",
      "                                                                                                  \n",
      " activation_25 (Activation)     (None, 20, 4)        0           ['conv1d_25[0][0]']              \n",
      "                                                                                                  \n",
      " conv1d_26 (Conv1D)             (None, 20, 4)        52          ['activation_25[0][0]']          \n",
      "                                                                                                  \n",
      " activation_26 (Activation)     (None, 20, 4)        0           ['conv1d_26[0][0]']              \n",
      "                                                                                                  \n",
      " conv1d_27 (Conv1D)             (None, 20, 4)        52          ['activation_26[0][0]']          \n",
      "                                                                                                  \n",
      " activation_27 (Activation)     (None, 20, 4)        0           ['conv1d_27[0][0]']              \n",
      "                                                                                                  \n",
      " tf.__operators__.add_10 (TFOpL  (None, 20, 4)       0           ['activation_27[0][0]',          \n",
      " ambda)                                                           'activation_25[0][0]']          \n",
      "                                                                                                  \n",
      " conv1d_28 (Conv1D)             (None, 20, 4)        52          ['tf.__operators__.add_10[0][0]']\n",
      "                                                                                                  \n",
      " activation_28 (Activation)     (None, 20, 4)        0           ['conv1d_28[0][0]']              \n",
      "                                                                                                  \n",
      " conv1d_29 (Conv1D)             (None, 20, 4)        52          ['activation_28[0][0]']          \n",
      "                                                                                                  \n",
      " activation_29 (Activation)     (None, 20, 4)        0           ['conv1d_29[0][0]']              \n",
      "                                                                                                  \n",
      " tf.__operators__.add_11 (TFOpL  (None, 20, 4)       0           ['activation_29[0][0]',          \n",
      " ambda)                                                           'tf.__operators__.add_10[0][0]']\n",
      "                                                                                                  \n",
      " max_pooling1d_6 (MaxPooling1D)  (None, 10, 4)       0           ['tf.__operators__.add_11[0][0]']\n",
      "                                                                                                  \n",
      " flatten (Flatten)              (None, 40)           0           ['max_pooling1d_6[0][0]']        \n",
      "                                                                                                  \n",
      " dense (Dense)                  (None, 16)           656         ['flatten[0][0]']                \n",
      "                                                                                                  \n",
      " dropout (Dropout)              (None, 16)           0           ['dense[0][0]']                  \n",
      "                                                                                                  \n",
      " dense_1 (Dense)                (None, 16)           272         ['dropout[0][0]']                \n",
      "                                                                                                  \n",
      " dropout_1 (Dropout)            (None, 16)           0           ['dense_1[0][0]']                \n",
      "                                                                                                  \n",
      " dense_2 (Dense)                (None, 3)            51          ['dropout_1[0][0]']              \n",
      "                                                                                                  \n",
      "==================================================================================================\n",
      "Total params: 2,339\n",
      "Trainable params: 2,339\n",
      "Non-trainable params: 0\n",
      "__________________________________________________________________________________________________\n"
     ]
    }
   ],
   "source": [
    "#Building the Model\n",
    "model = ResNet((20000, 2), 3)\n",
    "model.summary()"
   ]
  },
  {
   "cell_type": "markdown",
   "id": "a9546313",
   "metadata": {},
   "source": [
    "Iniciando os Parametros para treinamento do modelo"
   ]
  },
  {
   "cell_type": "code",
   "execution_count": 12,
   "id": "35243e2a",
   "metadata": {},
   "outputs": [],
   "source": [
    "# initialize optimizer \n",
    "adm = keras.optimizers.Adam(learning_rate=0.001, beta_1=0.9, beta_2=0.999, epsilon=None, decay=0.0, amsgrad=False)\n",
    "#Number of epochs\n",
    "num_epochs = 200\n",
    "#Batch size\n",
    "batch = 45\n"
   ]
  },
  {
   "cell_type": "code",
   "execution_count": 13,
   "id": "53e15d30",
   "metadata": {},
   "outputs": [],
   "source": [
    "#Compile the model\n",
    "model.compile(optimizer=adm, loss='categorical_crossentropy', metrics=['accuracy'])"
   ]
  },
  {
   "cell_type": "code",
   "execution_count": 14,
   "id": "ae0e27d4",
   "metadata": {
    "scrolled": true
   },
   "outputs": [
    {
     "name": "stdout",
     "output_type": "stream",
     "text": [
      "Epoch 1/200\n",
      "200/200 [==============================] - 24s 114ms/step - loss: 1.3794 - accuracy: 0.3273 - val_loss: 1.1037 - val_accuracy: 0.3687\n",
      "Epoch 2/200\n",
      "200/200 [==============================] - 23s 113ms/step - loss: 1.1319 - accuracy: 0.3670 - val_loss: 1.0388 - val_accuracy: 0.4973\n",
      "Epoch 3/200\n",
      "200/200 [==============================] - 23s 114ms/step - loss: 1.0033 - accuracy: 0.4872 - val_loss: 0.7702 - val_accuracy: 0.6733\n",
      "Epoch 4/200\n",
      "200/200 [==============================] - 23s 114ms/step - loss: 0.7891 - accuracy: 0.6188 - val_loss: 0.5801 - val_accuracy: 0.7067\n",
      "Epoch 5/200\n",
      "200/200 [==============================] - 23s 114ms/step - loss: 0.6107 - accuracy: 0.7084 - val_loss: 0.3739 - val_accuracy: 0.8293\n",
      "Epoch 6/200\n",
      "200/200 [==============================] - 23s 114ms/step - loss: 0.4559 - accuracy: 0.7701 - val_loss: 0.3321 - val_accuracy: 0.8317\n",
      "Epoch 7/200\n",
      "200/200 [==============================] - 23s 114ms/step - loss: 0.4226 - accuracy: 0.7830 - val_loss: 0.3311 - val_accuracy: 0.8630\n",
      "Epoch 8/200\n",
      "200/200 [==============================] - 23s 114ms/step - loss: 0.3980 - accuracy: 0.7966 - val_loss: 0.3023 - val_accuracy: 0.8353\n",
      "Epoch 9/200\n",
      "200/200 [==============================] - 23s 114ms/step - loss: 0.3896 - accuracy: 0.8004 - val_loss: 0.2824 - val_accuracy: 0.9017\n",
      "Epoch 10/200\n",
      "200/200 [==============================] - 23s 114ms/step - loss: 0.3526 - accuracy: 0.8250 - val_loss: 0.2807 - val_accuracy: 0.8783\n",
      "Epoch 11/200\n",
      "200/200 [==============================] - 23s 114ms/step - loss: 0.3758 - accuracy: 0.8141 - val_loss: 0.2680 - val_accuracy: 0.8743\n",
      "Epoch 12/200\n",
      "200/200 [==============================] - 23s 114ms/step - loss: 0.3436 - accuracy: 0.8383 - val_loss: 0.2339 - val_accuracy: 0.9240\n",
      "Epoch 13/200\n",
      "200/200 [==============================] - 23s 114ms/step - loss: 0.3066 - accuracy: 0.8593 - val_loss: 0.2203 - val_accuracy: 0.8927\n",
      "Epoch 14/200\n",
      "200/200 [==============================] - 23s 115ms/step - loss: 0.3329 - accuracy: 0.8444 - val_loss: 0.1954 - val_accuracy: 0.9423\n",
      "Epoch 15/200\n",
      "200/200 [==============================] - 23s 114ms/step - loss: 0.2975 - accuracy: 0.8747 - val_loss: 0.3238 - val_accuracy: 0.8373\n",
      "Epoch 16/200\n",
      "200/200 [==============================] - 23s 114ms/step - loss: 0.2603 - accuracy: 0.8898 - val_loss: 0.1610 - val_accuracy: 0.9310\n",
      "Epoch 17/200\n",
      "200/200 [==============================] - 23s 115ms/step - loss: 0.2496 - accuracy: 0.8962 - val_loss: 0.1245 - val_accuracy: 0.9563\n",
      "Epoch 18/200\n",
      "200/200 [==============================] - 23s 114ms/step - loss: 0.2566 - accuracy: 0.8978 - val_loss: 0.1248 - val_accuracy: 0.9537\n",
      "Epoch 19/200\n",
      "200/200 [==============================] - 23s 114ms/step - loss: 0.2280 - accuracy: 0.9091 - val_loss: 0.1505 - val_accuracy: 0.9397\n",
      "Epoch 20/200\n",
      "200/200 [==============================] - 23s 114ms/step - loss: 0.2305 - accuracy: 0.9086 - val_loss: 0.1279 - val_accuracy: 0.9510\n",
      "Epoch 21/200\n",
      "200/200 [==============================] - 23s 115ms/step - loss: 0.2410 - accuracy: 0.9069 - val_loss: 0.1117 - val_accuracy: 0.9570\n",
      "Epoch 22/200\n",
      "200/200 [==============================] - 23s 114ms/step - loss: 0.2108 - accuracy: 0.9201 - val_loss: 0.6968 - val_accuracy: 0.8003\n",
      "Epoch 23/200\n",
      "200/200 [==============================] - 23s 114ms/step - loss: 0.2366 - accuracy: 0.9083 - val_loss: 0.1162 - val_accuracy: 0.9630\n",
      "Epoch 24/200\n",
      "200/200 [==============================] - 23s 114ms/step - loss: 0.2574 - accuracy: 0.9022 - val_loss: 0.1117 - val_accuracy: 0.9627\n",
      "Epoch 25/200\n",
      "200/200 [==============================] - 23s 114ms/step - loss: 0.1838 - accuracy: 0.9348 - val_loss: 0.1162 - val_accuracy: 0.9523\n",
      "Epoch 26/200\n",
      "200/200 [==============================] - 23s 115ms/step - loss: 0.2526 - accuracy: 0.9147 - val_loss: 0.1678 - val_accuracy: 0.9290\n",
      "Epoch 27/200\n",
      "200/200 [==============================] - 23s 114ms/step - loss: 0.1928 - accuracy: 0.9267 - val_loss: 0.1243 - val_accuracy: 0.9493\n",
      "Epoch 28/200\n",
      "200/200 [==============================] - 23s 115ms/step - loss: 0.2343 - accuracy: 0.9136 - val_loss: 0.1379 - val_accuracy: 0.9457\n",
      "Epoch 29/200\n",
      "200/200 [==============================] - 23s 114ms/step - loss: 0.1687 - accuracy: 0.9386 - val_loss: 0.0905 - val_accuracy: 0.9637\n",
      "Epoch 30/200\n",
      "200/200 [==============================] - 23s 114ms/step - loss: 0.1848 - accuracy: 0.9337 - val_loss: 0.2160 - val_accuracy: 0.9143\n",
      "Epoch 31/200\n",
      "200/200 [==============================] - 23s 114ms/step - loss: 0.2425 - accuracy: 0.9098 - val_loss: 0.1900 - val_accuracy: 0.9180\n",
      "Epoch 32/200\n",
      "200/200 [==============================] - 23s 114ms/step - loss: 0.1626 - accuracy: 0.9428 - val_loss: 0.0836 - val_accuracy: 0.9700\n",
      "Epoch 33/200\n",
      "200/200 [==============================] - 23s 114ms/step - loss: 0.1654 - accuracy: 0.9440 - val_loss: 0.0771 - val_accuracy: 0.9747\n",
      "Epoch 34/200\n",
      "200/200 [==============================] - 23s 114ms/step - loss: 0.1774 - accuracy: 0.9337 - val_loss: 0.1217 - val_accuracy: 0.9460\n",
      "Epoch 35/200\n",
      "200/200 [==============================] - 23s 115ms/step - loss: 0.1906 - accuracy: 0.9290 - val_loss: 0.1297 - val_accuracy: 0.9467\n",
      "Epoch 36/200\n",
      "200/200 [==============================] - 23s 114ms/step - loss: 0.2060 - accuracy: 0.9259 - val_loss: 0.1848 - val_accuracy: 0.9127\n",
      "Epoch 37/200\n",
      "200/200 [==============================] - 23s 115ms/step - loss: 0.1549 - accuracy: 0.9461 - val_loss: 0.0943 - val_accuracy: 0.9660\n",
      "Epoch 38/200\n",
      "200/200 [==============================] - 23s 115ms/step - loss: 0.1671 - accuracy: 0.9392 - val_loss: 0.0708 - val_accuracy: 0.9743\n",
      "Epoch 39/200\n",
      "200/200 [==============================] - 23s 114ms/step - loss: 0.1411 - accuracy: 0.9521 - val_loss: 0.0640 - val_accuracy: 0.9757\n",
      "Epoch 40/200\n",
      "200/200 [==============================] - 23s 114ms/step - loss: 0.2540 - accuracy: 0.9317 - val_loss: 1.6591 - val_accuracy: 0.6260\n",
      "Epoch 41/200\n",
      "200/200 [==============================] - 23s 115ms/step - loss: 0.2919 - accuracy: 0.9036 - val_loss: 0.0957 - val_accuracy: 0.9727\n",
      "Epoch 42/200\n",
      "200/200 [==============================] - 23s 114ms/step - loss: 0.1657 - accuracy: 0.9427 - val_loss: 0.0904 - val_accuracy: 0.9697\n",
      "Epoch 43/200\n",
      "200/200 [==============================] - 23s 115ms/step - loss: 0.1349 - accuracy: 0.9547 - val_loss: 0.1029 - val_accuracy: 0.9613\n",
      "Epoch 44/200\n",
      "200/200 [==============================] - 23s 115ms/step - loss: 0.1595 - accuracy: 0.9417 - val_loss: 0.0683 - val_accuracy: 0.9780\n",
      "Epoch 45/200\n",
      "200/200 [==============================] - 23s 114ms/step - loss: 0.1502 - accuracy: 0.9468 - val_loss: 0.0858 - val_accuracy: 0.9657\n",
      "Epoch 46/200\n",
      "200/200 [==============================] - 23s 114ms/step - loss: 0.1863 - accuracy: 0.9344 - val_loss: 0.0947 - val_accuracy: 0.9633\n",
      "Epoch 47/200\n",
      "200/200 [==============================] - 23s 114ms/step - loss: 0.1366 - accuracy: 0.9547 - val_loss: 0.1029 - val_accuracy: 0.9583\n",
      "Epoch 48/200\n",
      "200/200 [==============================] - 23s 114ms/step - loss: 0.1316 - accuracy: 0.9593 - val_loss: 0.0879 - val_accuracy: 0.9687\n",
      "Epoch 49/200\n",
      "200/200 [==============================] - 23s 115ms/step - loss: 0.1307 - accuracy: 0.9562 - val_loss: 0.1333 - val_accuracy: 0.9487\n",
      "Epoch 50/200\n",
      "200/200 [==============================] - 23s 114ms/step - loss: 0.1236 - accuracy: 0.9596 - val_loss: 0.0573 - val_accuracy: 0.9797\n",
      "Epoch 51/200\n",
      "200/200 [==============================] - 23s 115ms/step - loss: 0.1443 - accuracy: 0.9526 - val_loss: 0.0836 - val_accuracy: 0.9647\n",
      "Epoch 52/200\n",
      "200/200 [==============================] - 23s 115ms/step - loss: 0.1685 - accuracy: 0.9413 - val_loss: 0.0671 - val_accuracy: 0.9750\n",
      "Epoch 53/200\n",
      "200/200 [==============================] - 23s 114ms/step - loss: 0.1107 - accuracy: 0.9648 - val_loss: 0.1748 - val_accuracy: 0.9300\n",
      "Epoch 54/200\n",
      "200/200 [==============================] - 23s 115ms/step - loss: 0.1346 - accuracy: 0.9544 - val_loss: 0.1675 - val_accuracy: 0.9360\n",
      "Epoch 55/200\n",
      "200/200 [==============================] - 23s 115ms/step - loss: 0.1770 - accuracy: 0.9441 - val_loss: 0.0700 - val_accuracy: 0.9783\n",
      "Epoch 56/200\n",
      "200/200 [==============================] - 23s 114ms/step - loss: 0.1208 - accuracy: 0.9590 - val_loss: 0.0834 - val_accuracy: 0.9653\n",
      "Epoch 57/200\n",
      "200/200 [==============================] - 23s 114ms/step - loss: 0.1296 - accuracy: 0.9578 - val_loss: 0.0564 - val_accuracy: 0.9787\n",
      "Epoch 58/200\n",
      "200/200 [==============================] - 23s 114ms/step - loss: 0.1158 - accuracy: 0.9618 - val_loss: 0.0975 - val_accuracy: 0.9613\n",
      "Epoch 59/200\n",
      "200/200 [==============================] - 23s 114ms/step - loss: 0.1263 - accuracy: 0.9574 - val_loss: 0.0698 - val_accuracy: 0.9723\n",
      "Epoch 60/200\n",
      "200/200 [==============================] - 23s 115ms/step - loss: 0.1150 - accuracy: 0.9627 - val_loss: 0.0539 - val_accuracy: 0.9807\n",
      "Epoch 61/200\n",
      "200/200 [==============================] - 23s 115ms/step - loss: 0.1138 - accuracy: 0.9630 - val_loss: 0.0720 - val_accuracy: 0.9710\n",
      "Epoch 62/200\n",
      "200/200 [==============================] - 23s 115ms/step - loss: 0.1515 - accuracy: 0.9468 - val_loss: 0.1001 - val_accuracy: 0.9563\n",
      "Epoch 63/200\n",
      "200/200 [==============================] - 23s 114ms/step - loss: 0.1000 - accuracy: 0.9706 - val_loss: 0.0882 - val_accuracy: 0.9653\n",
      "Epoch 64/200\n",
      "200/200 [==============================] - 23s 114ms/step - loss: 0.1072 - accuracy: 0.9648 - val_loss: 0.0806 - val_accuracy: 0.9673\n",
      "Epoch 65/200\n",
      "200/200 [==============================] - 23s 114ms/step - loss: 0.1299 - accuracy: 0.9561 - val_loss: 0.0592 - val_accuracy: 0.9780\n",
      "Epoch 66/200\n",
      "200/200 [==============================] - 23s 114ms/step - loss: 0.1831 - accuracy: 0.9477 - val_loss: 0.0571 - val_accuracy: 0.9823\n",
      "Epoch 67/200\n",
      "200/200 [==============================] - 23s 114ms/step - loss: 0.1154 - accuracy: 0.9633 - val_loss: 0.0525 - val_accuracy: 0.9810\n",
      "Epoch 68/200\n",
      "200/200 [==============================] - 23s 114ms/step - loss: 0.0971 - accuracy: 0.9680 - val_loss: 0.0493 - val_accuracy: 0.9800\n",
      "Epoch 69/200\n",
      "200/200 [==============================] - 23s 114ms/step - loss: 0.1250 - accuracy: 0.9564 - val_loss: 0.2314 - val_accuracy: 0.9187\n",
      "Epoch 70/200\n",
      "200/200 [==============================] - 23s 115ms/step - loss: 0.1172 - accuracy: 0.9622 - val_loss: 0.0507 - val_accuracy: 0.9800\n",
      "Epoch 71/200\n",
      "200/200 [==============================] - 23s 115ms/step - loss: 0.1297 - accuracy: 0.9548 - val_loss: 0.0548 - val_accuracy: 0.9777\n",
      "Epoch 72/200\n",
      "200/200 [==============================] - 23s 116ms/step - loss: 0.1052 - accuracy: 0.9643 - val_loss: 0.0517 - val_accuracy: 0.9800\n",
      "Epoch 73/200\n",
      "200/200 [==============================] - 23s 115ms/step - loss: 0.1425 - accuracy: 0.9546 - val_loss: 0.3714 - val_accuracy: 0.8410\n",
      "Epoch 74/200\n",
      "200/200 [==============================] - 23s 115ms/step - loss: 0.1199 - accuracy: 0.9609 - val_loss: 0.0941 - val_accuracy: 0.9633\n",
      "Epoch 75/200\n",
      "200/200 [==============================] - 23s 115ms/step - loss: 0.1250 - accuracy: 0.9542 - val_loss: 0.3237 - val_accuracy: 0.8843\n",
      "Epoch 76/200\n",
      "200/200 [==============================] - 23s 115ms/step - loss: 0.2895 - accuracy: 0.9292 - val_loss: 0.0837 - val_accuracy: 0.9730\n",
      "Epoch 77/200\n",
      "200/200 [==============================] - 23s 115ms/step - loss: 0.1189 - accuracy: 0.9581 - val_loss: 0.0691 - val_accuracy: 0.9727\n",
      "Epoch 78/200\n",
      "200/200 [==============================] - 23s 114ms/step - loss: 0.1095 - accuracy: 0.9648 - val_loss: 0.0522 - val_accuracy: 0.9807\n",
      "Epoch 79/200\n",
      "200/200 [==============================] - 23s 114ms/step - loss: 0.1093 - accuracy: 0.9656 - val_loss: 0.0511 - val_accuracy: 0.9803\n",
      "Epoch 80/200\n",
      "200/200 [==============================] - 23s 115ms/step - loss: 0.0967 - accuracy: 0.9680 - val_loss: 0.0926 - val_accuracy: 0.9627\n",
      "Epoch 81/200\n",
      "200/200 [==============================] - 23s 114ms/step - loss: 0.0882 - accuracy: 0.9719 - val_loss: 0.0596 - val_accuracy: 0.9760\n",
      "Epoch 82/200\n",
      "200/200 [==============================] - 23s 115ms/step - loss: 0.0823 - accuracy: 0.9719 - val_loss: 0.0601 - val_accuracy: 0.9760\n",
      "Epoch 83/200\n",
      "200/200 [==============================] - 23s 115ms/step - loss: 0.1316 - accuracy: 0.9608 - val_loss: 0.0574 - val_accuracy: 0.9763\n",
      "Epoch 84/200\n",
      "200/200 [==============================] - 23s 114ms/step - loss: 0.1249 - accuracy: 0.9578 - val_loss: 0.2280 - val_accuracy: 0.9023\n",
      "Epoch 85/200\n",
      "200/200 [==============================] - 24s 118ms/step - loss: 0.0836 - accuracy: 0.9743 - val_loss: 0.1704 - val_accuracy: 0.9337\n",
      "Epoch 86/200\n",
      "200/200 [==============================] - 24s 122ms/step - loss: 0.1018 - accuracy: 0.9670 - val_loss: 0.0848 - val_accuracy: 0.9690\n",
      "Epoch 87/200\n",
      "200/200 [==============================] - 24s 119ms/step - loss: 0.0870 - accuracy: 0.9756 - val_loss: 0.2059 - val_accuracy: 0.9363\n",
      "Epoch 88/200\n",
      "200/200 [==============================] - 23s 115ms/step - loss: 0.0841 - accuracy: 0.9741 - val_loss: 0.0720 - val_accuracy: 0.9737\n",
      "Epoch 89/200\n",
      "200/200 [==============================] - 23s 115ms/step - loss: 0.1491 - accuracy: 0.9548 - val_loss: 0.0720 - val_accuracy: 0.9787\n",
      "Epoch 90/200\n",
      "200/200 [==============================] - 23s 115ms/step - loss: 0.0972 - accuracy: 0.9676 - val_loss: 0.0935 - val_accuracy: 0.9650\n",
      "Epoch 91/200\n",
      "200/200 [==============================] - 23s 115ms/step - loss: 0.1123 - accuracy: 0.9616 - val_loss: 0.0857 - val_accuracy: 0.9650\n",
      "Epoch 92/200\n",
      "200/200 [==============================] - 23s 115ms/step - loss: 0.0730 - accuracy: 0.9768 - val_loss: 0.0714 - val_accuracy: 0.9740\n",
      "Epoch 93/200\n",
      "200/200 [==============================] - 23s 113ms/step - loss: 0.0777 - accuracy: 0.9758 - val_loss: 0.0605 - val_accuracy: 0.9780\n",
      "Epoch 94/200\n",
      "200/200 [==============================] - 23s 113ms/step - loss: 0.0802 - accuracy: 0.9744 - val_loss: 0.1675 - val_accuracy: 0.9410\n",
      "Epoch 95/200\n",
      "200/200 [==============================] - 23s 116ms/step - loss: 0.1017 - accuracy: 0.9697 - val_loss: 0.0440 - val_accuracy: 0.9833\n",
      "Epoch 96/200\n",
      "200/200 [==============================] - 23s 116ms/step - loss: 0.1656 - accuracy: 0.9510 - val_loss: 0.0631 - val_accuracy: 0.9760\n",
      "Epoch 97/200\n",
      "200/200 [==============================] - 23s 115ms/step - loss: 0.0748 - accuracy: 0.9778 - val_loss: 0.0445 - val_accuracy: 0.9823\n",
      "Epoch 98/200\n",
      "200/200 [==============================] - 23s 114ms/step - loss: 0.0946 - accuracy: 0.9703 - val_loss: 0.0524 - val_accuracy: 0.9787\n",
      "Epoch 99/200\n",
      "200/200 [==============================] - 23s 115ms/step - loss: 0.0745 - accuracy: 0.9783 - val_loss: 0.0638 - val_accuracy: 0.9750\n",
      "Epoch 100/200\n",
      "200/200 [==============================] - 23s 115ms/step - loss: 0.1057 - accuracy: 0.9658 - val_loss: 0.0402 - val_accuracy: 0.9843\n",
      "Epoch 101/200\n",
      "200/200 [==============================] - 23s 114ms/step - loss: 0.0759 - accuracy: 0.9746 - val_loss: 0.0644 - val_accuracy: 0.9767\n",
      "Epoch 102/200\n",
      "200/200 [==============================] - 23s 114ms/step - loss: 0.0949 - accuracy: 0.9709 - val_loss: 0.0508 - val_accuracy: 0.9807\n",
      "Epoch 103/200\n",
      "200/200 [==============================] - 23s 114ms/step - loss: 0.1357 - accuracy: 0.9552 - val_loss: 0.1382 - val_accuracy: 0.9387\n",
      "Epoch 104/200\n",
      "200/200 [==============================] - 23s 114ms/step - loss: 0.0783 - accuracy: 0.9756 - val_loss: 0.0423 - val_accuracy: 0.9837\n",
      "Epoch 105/200\n",
      "200/200 [==============================] - 23s 114ms/step - loss: 0.0779 - accuracy: 0.9738 - val_loss: 0.2492 - val_accuracy: 0.9143\n",
      "Epoch 106/200\n",
      "200/200 [==============================] - 23s 114ms/step - loss: 0.0923 - accuracy: 0.9697 - val_loss: 0.0641 - val_accuracy: 0.9747\n",
      "Epoch 107/200\n",
      "200/200 [==============================] - 23s 113ms/step - loss: 0.0907 - accuracy: 0.9694 - val_loss: 0.1487 - val_accuracy: 0.9420\n",
      "Epoch 108/200\n",
      "200/200 [==============================] - 23s 113ms/step - loss: 0.0762 - accuracy: 0.9751 - val_loss: 0.0436 - val_accuracy: 0.9813\n",
      "Epoch 109/200\n",
      "200/200 [==============================] - 23s 114ms/step - loss: 0.0892 - accuracy: 0.9698 - val_loss: 0.0640 - val_accuracy: 0.9747\n",
      "Epoch 110/200\n",
      "200/200 [==============================] - 23s 114ms/step - loss: 0.0717 - accuracy: 0.9766 - val_loss: 0.0497 - val_accuracy: 0.9823\n",
      "Epoch 111/200\n",
      "200/200 [==============================] - 23s 114ms/step - loss: 0.0961 - accuracy: 0.9680 - val_loss: 0.0385 - val_accuracy: 0.9853\n",
      "Epoch 112/200\n",
      "200/200 [==============================] - 23s 113ms/step - loss: 0.0976 - accuracy: 0.9680 - val_loss: 0.0551 - val_accuracy: 0.9777\n",
      "Epoch 113/200\n",
      "200/200 [==============================] - 23s 113ms/step - loss: 0.0956 - accuracy: 0.9693 - val_loss: 0.0926 - val_accuracy: 0.9620\n",
      "Epoch 114/200\n",
      "200/200 [==============================] - 23s 113ms/step - loss: 0.0654 - accuracy: 0.9784 - val_loss: 0.0502 - val_accuracy: 0.9783\n",
      "Epoch 115/200\n",
      "200/200 [==============================] - 23s 114ms/step - loss: 0.0992 - accuracy: 0.9686 - val_loss: 0.0421 - val_accuracy: 0.9843\n",
      "Epoch 116/200\n",
      "200/200 [==============================] - 23s 113ms/step - loss: 0.0711 - accuracy: 0.9771 - val_loss: 0.0590 - val_accuracy: 0.9767\n",
      "Epoch 117/200\n",
      "200/200 [==============================] - 23s 113ms/step - loss: 0.1115 - accuracy: 0.9600 - val_loss: 0.1222 - val_accuracy: 0.9487\n",
      "Epoch 118/200\n",
      "200/200 [==============================] - 23s 113ms/step - loss: 0.0670 - accuracy: 0.9800 - val_loss: 0.0907 - val_accuracy: 0.9667\n",
      "Epoch 119/200\n",
      "200/200 [==============================] - 23s 113ms/step - loss: 0.0819 - accuracy: 0.9740 - val_loss: 0.2637 - val_accuracy: 0.9050\n",
      "Epoch 120/200\n",
      "200/200 [==============================] - 23s 113ms/step - loss: 0.1037 - accuracy: 0.9668 - val_loss: 0.2075 - val_accuracy: 0.9173\n",
      "Epoch 121/200\n",
      "200/200 [==============================] - 23s 114ms/step - loss: 0.0967 - accuracy: 0.9662 - val_loss: 0.0712 - val_accuracy: 0.9700\n",
      "Epoch 122/200\n",
      "200/200 [==============================] - 23s 113ms/step - loss: 0.0611 - accuracy: 0.9800 - val_loss: 0.1044 - val_accuracy: 0.9617\n",
      "Epoch 123/200\n",
      "200/200 [==============================] - 23s 113ms/step - loss: 0.0667 - accuracy: 0.9787 - val_loss: 0.0431 - val_accuracy: 0.9840\n",
      "Epoch 124/200\n",
      "200/200 [==============================] - 23s 113ms/step - loss: 0.0770 - accuracy: 0.9763 - val_loss: 0.2271 - val_accuracy: 0.9313\n",
      "Epoch 125/200\n",
      "200/200 [==============================] - 23s 113ms/step - loss: 0.0706 - accuracy: 0.9798 - val_loss: 0.0395 - val_accuracy: 0.9840\n",
      "Epoch 126/200\n",
      "200/200 [==============================] - 23s 113ms/step - loss: 0.0693 - accuracy: 0.9788 - val_loss: 0.0417 - val_accuracy: 0.9830\n",
      "Epoch 127/200\n",
      "200/200 [==============================] - 23s 113ms/step - loss: 0.0817 - accuracy: 0.9754 - val_loss: 0.0406 - val_accuracy: 0.9850\n",
      "Epoch 128/200\n",
      "200/200 [==============================] - 23s 113ms/step - loss: 0.0797 - accuracy: 0.9780 - val_loss: 0.0450 - val_accuracy: 0.9823\n",
      "Epoch 129/200\n",
      "200/200 [==============================] - 23s 113ms/step - loss: 0.0733 - accuracy: 0.9773 - val_loss: 0.0995 - val_accuracy: 0.9667\n",
      "Epoch 130/200\n",
      "200/200 [==============================] - 23s 113ms/step - loss: 0.0710 - accuracy: 0.9766 - val_loss: 0.0431 - val_accuracy: 0.9820\n",
      "Epoch 131/200\n",
      "200/200 [==============================] - 23s 113ms/step - loss: 0.0710 - accuracy: 0.9767 - val_loss: 0.0516 - val_accuracy: 0.9820\n",
      "Epoch 132/200\n",
      "200/200 [==============================] - 23s 113ms/step - loss: 0.1176 - accuracy: 0.9676 - val_loss: 0.0429 - val_accuracy: 0.9847\n",
      "Epoch 133/200\n",
      "200/200 [==============================] - 23s 113ms/step - loss: 0.0591 - accuracy: 0.9819 - val_loss: 0.1072 - val_accuracy: 0.9653\n",
      "Epoch 134/200\n",
      "200/200 [==============================] - 23s 113ms/step - loss: 0.0646 - accuracy: 0.9788 - val_loss: 0.1989 - val_accuracy: 0.9433\n",
      "Epoch 135/200\n",
      "200/200 [==============================] - 23s 113ms/step - loss: 0.0852 - accuracy: 0.9734 - val_loss: 0.0428 - val_accuracy: 0.9817\n",
      "Epoch 136/200\n",
      "200/200 [==============================] - 23s 113ms/step - loss: 0.0786 - accuracy: 0.9763 - val_loss: 0.0425 - val_accuracy: 0.9823\n",
      "Epoch 137/200\n",
      "200/200 [==============================] - 23s 113ms/step - loss: 0.0969 - accuracy: 0.9686 - val_loss: 0.0571 - val_accuracy: 0.9770\n",
      "Epoch 138/200\n",
      "200/200 [==============================] - 23s 114ms/step - loss: 0.0626 - accuracy: 0.9826 - val_loss: 0.2618 - val_accuracy: 0.9103\n",
      "Epoch 139/200\n",
      "200/200 [==============================] - 23s 114ms/step - loss: 0.0567 - accuracy: 0.9819 - val_loss: 0.0381 - val_accuracy: 0.9827\n",
      "Epoch 140/200\n",
      "200/200 [==============================] - 22s 113ms/step - loss: 0.0504 - accuracy: 0.9856 - val_loss: 0.0396 - val_accuracy: 0.9840\n",
      "Epoch 141/200\n",
      "200/200 [==============================] - 23s 113ms/step - loss: 0.0776 - accuracy: 0.9737 - val_loss: 0.0602 - val_accuracy: 0.9760\n",
      "Epoch 142/200\n",
      "200/200 [==============================] - 23s 113ms/step - loss: 0.0736 - accuracy: 0.9757 - val_loss: 0.0387 - val_accuracy: 0.9837\n",
      "Epoch 143/200\n",
      "200/200 [==============================] - 22s 112ms/step - loss: 0.0451 - accuracy: 0.9857 - val_loss: 0.0515 - val_accuracy: 0.9817\n",
      "Epoch 144/200\n",
      "200/200 [==============================] - 23s 113ms/step - loss: 0.0916 - accuracy: 0.9727 - val_loss: 0.0410 - val_accuracy: 0.9847\n",
      "Epoch 145/200\n",
      "200/200 [==============================] - 23s 113ms/step - loss: 0.0466 - accuracy: 0.9862 - val_loss: 0.0423 - val_accuracy: 0.9833\n",
      "Epoch 146/200\n",
      "200/200 [==============================] - 23s 113ms/step - loss: 0.0674 - accuracy: 0.9776 - val_loss: 0.0685 - val_accuracy: 0.9747\n",
      "Epoch 147/200\n",
      "200/200 [==============================] - 23s 113ms/step - loss: 0.0532 - accuracy: 0.9826 - val_loss: 0.0424 - val_accuracy: 0.9843\n",
      "Epoch 148/200\n",
      "200/200 [==============================] - 23s 113ms/step - loss: 0.0594 - accuracy: 0.9811 - val_loss: 0.0456 - val_accuracy: 0.9823\n",
      "Epoch 149/200\n",
      "200/200 [==============================] - 23s 113ms/step - loss: 0.0676 - accuracy: 0.9781 - val_loss: 0.0404 - val_accuracy: 0.9833\n",
      "Epoch 150/200\n",
      "200/200 [==============================] - 23s 113ms/step - loss: 0.0702 - accuracy: 0.9760 - val_loss: 0.0383 - val_accuracy: 0.9857\n",
      "Epoch 151/200\n",
      "200/200 [==============================] - 23s 113ms/step - loss: 0.0556 - accuracy: 0.9811 - val_loss: 0.0606 - val_accuracy: 0.9773\n",
      "Epoch 152/200\n",
      "200/200 [==============================] - 23s 113ms/step - loss: 0.1034 - accuracy: 0.9701 - val_loss: 0.4798 - val_accuracy: 0.8263\n",
      "Epoch 153/200\n",
      "200/200 [==============================] - 23s 113ms/step - loss: 0.1301 - accuracy: 0.9604 - val_loss: 0.0432 - val_accuracy: 0.9833\n",
      "Epoch 154/200\n",
      "200/200 [==============================] - 23s 113ms/step - loss: 0.0612 - accuracy: 0.9820 - val_loss: 0.0426 - val_accuracy: 0.9837\n",
      "Epoch 155/200\n",
      "200/200 [==============================] - 23s 115ms/step - loss: 0.0428 - accuracy: 0.9877 - val_loss: 0.0892 - val_accuracy: 0.9737\n",
      "Epoch 156/200\n",
      "200/200 [==============================] - 23s 115ms/step - loss: 0.1018 - accuracy: 0.9684 - val_loss: 0.0651 - val_accuracy: 0.9747\n",
      "Epoch 157/200\n",
      "200/200 [==============================] - 23s 114ms/step - loss: 0.0500 - accuracy: 0.9848 - val_loss: 0.0540 - val_accuracy: 0.9813\n",
      "Epoch 158/200\n",
      "200/200 [==============================] - 23s 114ms/step - loss: 0.0594 - accuracy: 0.9820 - val_loss: 0.0423 - val_accuracy: 0.9843\n",
      "Epoch 159/200\n",
      "200/200 [==============================] - 23s 114ms/step - loss: 0.0453 - accuracy: 0.9853 - val_loss: 0.0470 - val_accuracy: 0.9833\n",
      "Epoch 160/200\n",
      "200/200 [==============================] - 23s 114ms/step - loss: 0.0843 - accuracy: 0.9757 - val_loss: 0.0394 - val_accuracy: 0.9843\n",
      "Epoch 161/200\n",
      "200/200 [==============================] - 23s 114ms/step - loss: 0.0545 - accuracy: 0.9834 - val_loss: 0.0399 - val_accuracy: 0.9853\n",
      "Epoch 162/200\n",
      "200/200 [==============================] - 23s 114ms/step - loss: 0.0568 - accuracy: 0.9797 - val_loss: 0.0413 - val_accuracy: 0.9850\n",
      "Epoch 163/200\n",
      "200/200 [==============================] - 23s 114ms/step - loss: 0.0846 - accuracy: 0.9711 - val_loss: 0.1526 - val_accuracy: 0.9407\n",
      "Epoch 164/200\n",
      "200/200 [==============================] - 23s 114ms/step - loss: 0.0615 - accuracy: 0.9788 - val_loss: 0.0597 - val_accuracy: 0.9773\n",
      "Epoch 165/200\n",
      "200/200 [==============================] - 23s 115ms/step - loss: 0.0873 - accuracy: 0.9746 - val_loss: 0.0449 - val_accuracy: 0.9820\n",
      "Epoch 166/200\n",
      "200/200 [==============================] - 23s 114ms/step - loss: 0.0682 - accuracy: 0.9798 - val_loss: 0.0416 - val_accuracy: 0.9847\n",
      "Epoch 167/200\n",
      "200/200 [==============================] - 23s 114ms/step - loss: 0.0539 - accuracy: 0.9839 - val_loss: 0.0527 - val_accuracy: 0.9793\n",
      "Epoch 168/200\n",
      "200/200 [==============================] - 23s 113ms/step - loss: 0.0763 - accuracy: 0.9760 - val_loss: 0.0492 - val_accuracy: 0.9800\n",
      "Epoch 169/200\n",
      "200/200 [==============================] - 23s 113ms/step - loss: 0.0377 - accuracy: 0.9889 - val_loss: 0.0555 - val_accuracy: 0.9813\n",
      "Epoch 170/200\n",
      "200/200 [==============================] - 23s 114ms/step - loss: 0.1201 - accuracy: 0.9616 - val_loss: 0.0437 - val_accuracy: 0.9840\n",
      "Epoch 171/200\n",
      "200/200 [==============================] - 23s 114ms/step - loss: 0.0573 - accuracy: 0.9813 - val_loss: 0.0430 - val_accuracy: 0.9837\n",
      "Epoch 172/200\n",
      "200/200 [==============================] - 23s 114ms/step - loss: 0.0626 - accuracy: 0.9811 - val_loss: 0.3254 - val_accuracy: 0.9087\n",
      "Epoch 173/200\n",
      "200/200 [==============================] - 23s 114ms/step - loss: 0.0738 - accuracy: 0.9748 - val_loss: 0.0428 - val_accuracy: 0.9830\n",
      "Epoch 174/200\n",
      "200/200 [==============================] - 23s 113ms/step - loss: 0.0381 - accuracy: 0.9881 - val_loss: 0.0504 - val_accuracy: 0.9833\n",
      "Epoch 175/200\n",
      "200/200 [==============================] - 23s 114ms/step - loss: 0.0481 - accuracy: 0.9857 - val_loss: 0.0516 - val_accuracy: 0.9827\n",
      "Epoch 176/200\n",
      "200/200 [==============================] - 23s 114ms/step - loss: 0.0841 - accuracy: 0.9759 - val_loss: 0.0526 - val_accuracy: 0.9810\n",
      "Epoch 177/200\n",
      "200/200 [==============================] - 23s 114ms/step - loss: 0.0498 - accuracy: 0.9850 - val_loss: 0.0421 - val_accuracy: 0.9847\n",
      "Epoch 178/200\n",
      "200/200 [==============================] - 23s 114ms/step - loss: 0.1541 - accuracy: 0.9758 - val_loss: 0.3327 - val_accuracy: 0.9320\n",
      "Epoch 179/200\n",
      "200/200 [==============================] - 23s 114ms/step - loss: 0.1649 - accuracy: 0.9551 - val_loss: 0.0505 - val_accuracy: 0.9807\n",
      "Epoch 180/200\n",
      "200/200 [==============================] - 23s 114ms/step - loss: 0.0649 - accuracy: 0.9794 - val_loss: 0.0693 - val_accuracy: 0.9727\n",
      "Epoch 181/200\n",
      "200/200 [==============================] - 23s 114ms/step - loss: 0.0585 - accuracy: 0.9817 - val_loss: 0.0571 - val_accuracy: 0.9813\n",
      "Epoch 182/200\n",
      "200/200 [==============================] - 23s 114ms/step - loss: 0.0583 - accuracy: 0.9807 - val_loss: 0.0949 - val_accuracy: 0.9693\n",
      "Epoch 183/200\n",
      "200/200 [==============================] - 23s 114ms/step - loss: 0.0528 - accuracy: 0.9834 - val_loss: 0.0606 - val_accuracy: 0.9777\n",
      "Epoch 184/200\n",
      "200/200 [==============================] - 23s 113ms/step - loss: 0.0802 - accuracy: 0.9757 - val_loss: 0.0604 - val_accuracy: 0.9770\n",
      "Epoch 185/200\n",
      "200/200 [==============================] - 23s 113ms/step - loss: 0.0459 - accuracy: 0.9856 - val_loss: 0.0518 - val_accuracy: 0.9810\n",
      "Epoch 186/200\n",
      "200/200 [==============================] - 23s 113ms/step - loss: 0.0617 - accuracy: 0.9780 - val_loss: 0.0754 - val_accuracy: 0.9733\n",
      "Epoch 187/200\n",
      "200/200 [==============================] - 23s 114ms/step - loss: 0.0459 - accuracy: 0.9866 - val_loss: 0.0441 - val_accuracy: 0.9847\n",
      "Epoch 188/200\n",
      "200/200 [==============================] - 23s 114ms/step - loss: 0.0524 - accuracy: 0.9819 - val_loss: 0.0529 - val_accuracy: 0.9823\n",
      "Epoch 189/200\n",
      "200/200 [==============================] - 23s 114ms/step - loss: 0.0509 - accuracy: 0.9852 - val_loss: 0.0448 - val_accuracy: 0.9830\n",
      "Epoch 190/200\n",
      "200/200 [==============================] - 23s 114ms/step - loss: 0.0651 - accuracy: 0.9796 - val_loss: 0.0417 - val_accuracy: 0.9843\n",
      "Epoch 191/200\n",
      "200/200 [==============================] - 23s 114ms/step - loss: 0.0585 - accuracy: 0.9817 - val_loss: 0.3208 - val_accuracy: 0.8927\n",
      "Epoch 192/200\n",
      "200/200 [==============================] - 23s 113ms/step - loss: 0.0453 - accuracy: 0.9860 - val_loss: 0.0937 - val_accuracy: 0.9690\n",
      "Epoch 193/200\n",
      "200/200 [==============================] - 23s 114ms/step - loss: 0.0477 - accuracy: 0.9863 - val_loss: 0.0433 - val_accuracy: 0.9847\n",
      "Epoch 194/200\n",
      "200/200 [==============================] - 23s 113ms/step - loss: 0.0482 - accuracy: 0.9843 - val_loss: 0.0562 - val_accuracy: 0.9820\n",
      "Epoch 195/200\n",
      "200/200 [==============================] - 23s 114ms/step - loss: 0.0738 - accuracy: 0.9798 - val_loss: 0.0539 - val_accuracy: 0.9793\n",
      "Epoch 196/200\n",
      "200/200 [==============================] - 23s 114ms/step - loss: 0.0326 - accuracy: 0.9902 - val_loss: 0.0576 - val_accuracy: 0.9793\n",
      "Epoch 197/200\n",
      "200/200 [==============================] - 23s 114ms/step - loss: 0.0521 - accuracy: 0.9846 - val_loss: 0.4056 - val_accuracy: 0.9153\n",
      "Epoch 198/200\n",
      "200/200 [==============================] - 24s 119ms/step - loss: 0.1095 - accuracy: 0.9642 - val_loss: 0.3013 - val_accuracy: 0.8870\n",
      "Epoch 199/200\n",
      "200/200 [==============================] - 24s 119ms/step - loss: 0.0464 - accuracy: 0.9866 - val_loss: 0.0422 - val_accuracy: 0.9843\n",
      "Epoch 200/200\n",
      "200/200 [==============================] - 23s 116ms/step - loss: 0.0469 - accuracy: 0.9842 - val_loss: 0.0539 - val_accuracy: 0.9787\n"
     ]
    }
   ],
   "source": [
    "history = model.fit(X_train, y_train, epochs = num_epochs, batch_size = batch, validation_data=(X_validation, y_validation))"
   ]
  },
  {
   "cell_type": "markdown",
   "id": "0332313a",
   "metadata": {},
   "source": [
    "## Resultado do Treinamento do Modelo\n",
    "\n",
    "Abaixo vemos o resultado da curva da acurácia do modelo durante o treinamento.<br>\n",
    "Vemos também o resultado da curva da acurácia obtida durante o treinamento para os dados de validação. \n"
   ]
  },
  {
   "cell_type": "code",
   "execution_count": 15,
   "id": "43442fcf",
   "metadata": {
    "scrolled": false
   },
   "outputs": [
    {
     "data": {
      "image/png": "[encoded data removed]",
      "text/plain": [
       "<Figure size 640x480 with 1 Axes>"
      ]
     },
     "metadata": {},
     "output_type": "display_data"
    }
   ],
   "source": [
    "plt.plot(history.history['accuracy'])\n",
    "plt.plot(history.history['val_accuracy'])\n",
    "plt.title('ResNet Accuracy')\n",
    "plt.ylabel('Accuracy')\n",
    "plt.xlabel('Epoch')\n",
    "plt.grid()\n",
    "plt.legend(['Tranning Data', 'Validation Data'], loc='lower right')\n",
    "plt.show()"
   ]
  },
  {
   "cell_type": "markdown",
   "id": "0d9b77b0",
   "metadata": {},
   "source": [
    "Já no gráfico abaixo vemos como a curva da Função Objetivo (Loss) para os dados de treinamento e de validação"
   ]
  },
  {
   "cell_type": "code",
   "execution_count": 16,
   "id": "2529b182",
   "metadata": {
    "scrolled": false
   },
   "outputs": [
    {
     "data": {
      "image/png": "[encoded data removed]",
      "text/plain": [
       "<Figure size 640x480 with 1 Axes>"
      ]
     },
     "metadata": {},
     "output_type": "display_data"
    }
   ],
   "source": [
    "#Plotting the Loss\n",
    "plt.plot(history.history['loss'])\n",
    "plt.plot(history.history['val_loss'])\n",
    "plt.title('ResNet Loss')\n",
    "plt.ylabel('Loss')\n",
    "plt.xlabel('epoch')\n",
    "plt.grid()\n",
    "plt.legend(['Tranning Data', 'Validation Data'], loc='upper right')\n",
    "plt.show()"
   ]
  },
  {
   "cell_type": "markdown",
   "id": "c7e6014c",
   "metadata": {},
   "source": [
    "# Avaliando o Modelo\n",
    "\n",
    "Iremos verificar o resultados obtidos com o modelo ao inserirmos novos dados não vistos antes para testes"
   ]
  },
  {
   "cell_type": "code",
   "execution_count": 17,
   "id": "142a6d15",
   "metadata": {
    "scrolled": false
   },
   "outputs": [
    {
     "name": "stdout",
     "output_type": "stream",
     "text": [
      "94/94 [==============================] - 2s 26ms/step - loss: 0.0584 - accuracy: 0.9787\n",
      "AVALIANDO O MODELO COM OS DADOS DE TESTE:\n",
      "Acurácia aos dados de Test:  97.87 %\n",
      "\n",
      "\n"
     ]
    }
   ],
   "source": [
    "loss, acc = model.evaluate(X_test, y_test, batch_size=32)\n",
    "print('AVALIANDO O MODELO COM OS DADOS DE TESTE:')\n",
    "print('Acurácia aos dados de Test: ', str(round(acc*100, 2)), '%')\n",
    "print('\\n')"
   ]
  },
  {
   "cell_type": "markdown",
   "id": "a8c4e3e2",
   "metadata": {},
   "source": [
    "### Criaremos uma Matriz de Confusão para melhor visualizarmos os resultados com os dados de testes\n",
    "Primeiramente iremos prever as probabilidades para cada dado inserido no modelo e iremos associar a uma classe:"
   ]
  },
  {
   "cell_type": "code",
   "execution_count": 18,
   "id": "9880104e",
   "metadata": {
    "scrolled": false
   },
   "outputs": [
    {
     "name": "stdout",
     "output_type": "stream",
     "text": [
      "94/94 [==============================] - 3s 26ms/step\n",
      "[2 1 2 ... 2 2 2]\n"
     ]
    }
   ],
   "source": [
    "y_pred = model.predict(X_test) # Prevendo probabilidade\n",
    "labels_pred = np.argmax(y_pred, axis=-1) #Associando a maior probabilidade como a classe correta.\n",
    "print(labels_pred)"
   ]
  },
  {
   "cell_type": "markdown",
   "id": "683225b1",
   "metadata": {},
   "source": [
    "Transformando de volta o vetor de labels de teste para um vetor os labels de sem o one hot encoded para utilizarmos na matrix de confusão"
   ]
  },
  {
   "cell_type": "code",
   "execution_count": 19,
   "id": "b110d406",
   "metadata": {
    "scrolled": false
   },
   "outputs": [
    {
     "name": "stdout",
     "output_type": "stream",
     "text": [
      "[2 1 2 ... 2 2 2]\n"
     ]
    }
   ],
   "source": [
    "#Transformando de volta para um vetor os labels de sem one_hot_encoded para matrix de confusão\n",
    "rounded_labels=np.argmax(y_test, axis=1)\n",
    "rounded_labels[1]\n",
    "print(rounded_labels)"
   ]
  },
  {
   "cell_type": "markdown",
   "id": "ddd168ff",
   "metadata": {},
   "source": [
    "Matriz de Confusão"
   ]
  },
  {
   "cell_type": "code",
   "execution_count": 20,
   "id": "ffcc6721",
   "metadata": {},
   "outputs": [
    {
     "data": {
      "text/plain": [
       "<Axes: >"
      ]
     },
     "execution_count": 20,
     "metadata": {},
     "output_type": "execute_result"
    },
    {
     "data": {
      "image/png": "[encoded data removed]",
      "text/plain": [
       "<Figure size 640x480 with 2 Axes>"
      ]
     },
     "metadata": {},
     "output_type": "display_data"
    }
   ],
   "source": [
    "\n",
    "#Ploting a Matriz de Confusão\n",
    "classes = ['WiFi', 'LTE', 'Clear']\n",
    "cm = confusion_matrix(rounded_labels, labels_pred)\n",
    "heatmap(cm, annot=True, linewidth=1, cmap='Blues', fmt=\".0f\", xticklabels=classes, yticklabels=classes)\n"
   ]
  },
  {
   "cell_type": "markdown",
   "id": "4de1fe04",
   "metadata": {},
   "source": [
    "### Salvando o Modelo"
   ]
  },
  {
   "cell_type": "code",
   "execution_count": 21,
   "id": "903c4855",
   "metadata": {
    "scrolled": true
   },
   "outputs": [
    {
     "name": "stdout",
     "output_type": "stream",
     "text": [
      "Saved model to disk\n"
     ]
    }
   ],
   "source": [
    "#model.save(\"resnet_model.h5\")\n",
    "#print(\"Saved model to disk\")"
   ]
  }
 ],
 "metadata": {
  "kernelspec": {
   "display_name": "Python 3 (ipykernel)",
   "language": "python",
   "name": "python3"
  },
  "language_info": {
   "codemirror_mode": {
    "name": "ipython",
    "version": 3
   },
   "file_extension": ".py",
   "mimetype": "text/x-python",
   "name": "python",
   "nbconvert_exporter": "python",
   "pygments_lexer": "ipython3",
   "version": "3.9.16"
  }
 },
 "nbformat": 4,
 "nbformat_minor": 5
}
