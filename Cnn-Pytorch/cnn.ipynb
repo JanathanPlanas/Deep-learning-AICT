{
 "cells": [
  {
   "cell_type": "code",
   "execution_count": 2,
   "metadata": {},
   "outputs": [],
   "source": [
    "import numpy as np \n",
    "import pandas as pd\n",
    "import torch \n",
    "from  Data_Loader import DATA_1M\n",
    "from helper_functions import accuracy_fn, train, create_writer , save_model\n",
    "from CnnModel import NeuralNetCNN\n",
    "from sklearn.metrics import (accuracy_score, classification_report,\n",
    "                              f1_score, recall_score)\n",
    "from torch.utils.tensorboard import SummaryWriter\n",
    "import warnings \n",
    "warnings.filterwarnings('ignore')"
   ]
  },
  {
   "cell_type": "code",
   "execution_count": 5,
   "metadata": {},
   "outputs": [
    {
     "name": "stdout",
     "output_type": "stream",
     "text": [
      "tamanho da memória ocupada :2297.97 MB\n",
      "X_train shape: (900000, 250) float64\n",
      "X_Test shape: (300000, 250) float64\n",
      "y_train shape: (900000,) float64\n",
      "y_test shape: (300000,) float64\n",
      "\n",
      "--------\n",
      "X_train device: cpu\n",
      "X_Test device: cpu\n",
      "y_train device: cpu\n",
      "y_test device: cpu\n",
      "Valor 0: 400000 ocorrência(s)- 0.33%\n",
      "Valor 1: 400000 ocorrência(s)- 0.33%\n",
      "Valor 2: 400000 ocorrência(s)- 0.33%\n",
      "Dataset :  (1200000, 251)\n",
      "X torch.Size([128, 250]) y torch.Size([128])\n",
      "----------------\n",
      "\n",
      "Dataloaders: (<torch.utils.data.dataloader.DataLoader object at 0x0000021E40093F10>, <torch.utils.data.dataloader.DataLoader object at 0x0000021E73B40850>)\n",
      "Length of train dataloader: 7032 batches of 128\n",
      "Length of test dataloader: 2344 batches of 128\n",
      "Experiment Fourier:  250 input size ,  3 Layers ,4 Blocks\n",
      "[INFO] Created SummaryWriter, saving to: runs\\2023-06-03\\Fourier_0_250_inputsize_3_Layers_4_Blocks\\CNN_Model...\n",
      "Training on cpu\n"
     ]
    },
    {
     "name": "stderr",
     "output_type": "stream",
     "text": [
      "  0%|          | 0/20 [00:00<?, ?it/s]"
     ]
    },
    {
     "name": "stdout",
     "output_type": "stream",
     "text": [
      " Epoch: 0\n",
      "---------\n",
      "Train loss: 1.02721 | Train accuracy: 47.84%\n",
      "Test loss: 1171.05037 | Test accuracy: 51.63%\n"
     ]
    },
    {
     "name": "stderr",
     "output_type": "stream",
     "text": [
      "  5%|▌         | 1/20 [01:08<21:32, 68.02s/it]"
     ]
    },
    {
     "name": "stdout",
     "output_type": "stream",
     "text": [
      " Epoch: 1\n",
      "---------\n",
      "Train loss: 0.99441 | Train accuracy: 52.15%\n",
      "Test loss: 1161.16515 | Test accuracy: 52.48%\n"
     ]
    },
    {
     "name": "stderr",
     "output_type": "stream",
     "text": [
      " 10%|█         | 2/20 [02:18<20:45, 69.18s/it]"
     ]
    },
    {
     "name": "stdout",
     "output_type": "stream",
     "text": [
      " Epoch: 2\n",
      "---------\n",
      "Train loss: 0.98665 | Train accuracy: 53.04%\n"
     ]
    },
    {
     "name": "stderr",
     "output_type": "stream",
     "text": [
      " 15%|█▌        | 3/20 [03:22<19:02, 67.20s/it]"
     ]
    },
    {
     "name": "stdout",
     "output_type": "stream",
     "text": [
      "Test loss: 1156.87284 | Test accuracy: 53.14%\n",
      " Epoch: 3\n",
      "---------\n",
      "Train loss: 0.98188 | Train accuracy: 53.68%\n"
     ]
    },
    {
     "name": "stderr",
     "output_type": "stream",
     "text": [
      " 20%|██        | 4/20 [04:20<16:55, 63.47s/it]"
     ]
    },
    {
     "name": "stdout",
     "output_type": "stream",
     "text": [
      "Test loss: 1154.26523 | Test accuracy: 53.36%\n",
      " Epoch: 4\n",
      "---------\n",
      "Train loss: 0.97843 | Train accuracy: 54.13%\n"
     ]
    },
    {
     "name": "stderr",
     "output_type": "stream",
     "text": [
      " 25%|██▌       | 5/20 [05:18<15:19, 61.32s/it]"
     ]
    },
    {
     "name": "stdout",
     "output_type": "stream",
     "text": [
      "Test loss: 1152.28440 | Test accuracy: 53.54%\n",
      " Epoch: 5\n",
      "---------\n",
      "Train loss: 0.97553 | Train accuracy: 54.47%\n"
     ]
    },
    {
     "name": "stderr",
     "output_type": "stream",
     "text": [
      " 30%|███       | 6/20 [06:15<14:01, 60.10s/it]"
     ]
    },
    {
     "name": "stdout",
     "output_type": "stream",
     "text": [
      "Test loss: 1150.89279 | Test accuracy: 53.69%\n",
      " Epoch: 6\n",
      "---------\n",
      "Train loss: 0.97350 | Train accuracy: 54.74%\n"
     ]
    },
    {
     "name": "stderr",
     "output_type": "stream",
     "text": [
      " 35%|███▌      | 7/20 [07:13<12:51, 59.33s/it]"
     ]
    },
    {
     "name": "stdout",
     "output_type": "stream",
     "text": [
      "Test loss: 1150.27574 | Test accuracy: 53.66%\n",
      " Epoch: 7\n",
      "---------\n",
      "Train loss: 0.97188 | Train accuracy: 54.93%\n"
     ]
    },
    {
     "name": "stderr",
     "output_type": "stream",
     "text": [
      " 40%|████      | 8/20 [08:12<11:49, 59.11s/it]"
     ]
    },
    {
     "name": "stdout",
     "output_type": "stream",
     "text": [
      "Test loss: 1150.07374 | Test accuracy: 53.64%\n",
      " Epoch: 8\n",
      "---------\n",
      "Train loss: 0.97026 | Train accuracy: 55.14%\n"
     ]
    },
    {
     "name": "stderr",
     "output_type": "stream",
     "text": [
      " 45%|████▌     | 9/20 [09:10<10:46, 58.80s/it]"
     ]
    },
    {
     "name": "stdout",
     "output_type": "stream",
     "text": [
      "Test loss: 1148.60480 | Test accuracy: 53.80%\n",
      " Epoch: 9\n",
      "---------\n",
      "Train loss: 0.96900 | Train accuracy: 55.30%\n"
     ]
    },
    {
     "name": "stderr",
     "output_type": "stream",
     "text": [
      " 50%|█████     | 10/20 [10:08<09:45, 58.52s/it]"
     ]
    },
    {
     "name": "stdout",
     "output_type": "stream",
     "text": [
      "Test loss: 1147.95879 | Test accuracy: 53.84%\n",
      " Epoch: 10\n",
      "---------\n",
      "Train loss: 0.96815 | Train accuracy: 55.42%\n"
     ]
    },
    {
     "name": "stderr",
     "output_type": "stream",
     "text": [
      " 55%|█████▌    | 11/20 [11:06<08:45, 58.41s/it]"
     ]
    },
    {
     "name": "stdout",
     "output_type": "stream",
     "text": [
      "Test loss: 1147.26254 | Test accuracy: 54.03%\n",
      " Epoch: 11\n",
      "---------\n",
      "Train loss: 0.96697 | Train accuracy: 55.50%\n"
     ]
    },
    {
     "name": "stderr",
     "output_type": "stream",
     "text": [
      " 60%|██████    | 12/20 [12:04<07:46, 58.27s/it]"
     ]
    },
    {
     "name": "stdout",
     "output_type": "stream",
     "text": [
      "Test loss: 1145.68036 | Test accuracy: 54.15%\n",
      " Epoch: 12\n",
      "---------\n",
      "Train loss: 0.96626 | Train accuracy: 55.65%\n"
     ]
    },
    {
     "name": "stderr",
     "output_type": "stream",
     "text": [
      " 65%|██████▌   | 13/20 [13:02<06:46, 58.12s/it]"
     ]
    },
    {
     "name": "stdout",
     "output_type": "stream",
     "text": [
      "Test loss: 1145.53953 | Test accuracy: 54.16%\n",
      " Epoch: 13\n",
      "---------\n",
      "Train loss: 0.96579 | Train accuracy: 55.73%\n"
     ]
    },
    {
     "name": "stderr",
     "output_type": "stream",
     "text": [
      " 70%|███████   | 14/20 [14:00<05:48, 58.05s/it]"
     ]
    },
    {
     "name": "stdout",
     "output_type": "stream",
     "text": [
      "Test loss: 1145.00301 | Test accuracy: 54.24%\n",
      " Epoch: 14\n",
      "---------\n",
      "Train loss: 0.96462 | Train accuracy: 55.89%\n"
     ]
    },
    {
     "name": "stderr",
     "output_type": "stream",
     "text": [
      " 75%|███████▌  | 15/20 [14:58<04:50, 58.10s/it]"
     ]
    },
    {
     "name": "stdout",
     "output_type": "stream",
     "text": [
      "Test loss: 1145.74680 | Test accuracy: 54.17%\n",
      " Epoch: 15\n",
      "---------\n",
      "Train loss: 0.96404 | Train accuracy: 55.96%\n"
     ]
    },
    {
     "name": "stderr",
     "output_type": "stream",
     "text": [
      " 80%|████████  | 16/20 [15:56<03:52, 58.10s/it]"
     ]
    },
    {
     "name": "stdout",
     "output_type": "stream",
     "text": [
      "Test loss: 1146.22684 | Test accuracy: 54.08%\n",
      " Epoch: 16\n",
      "---------\n",
      "Train loss: 0.96341 | Train accuracy: 56.05%\n"
     ]
    },
    {
     "name": "stderr",
     "output_type": "stream",
     "text": [
      " 85%|████████▌ | 17/20 [16:53<02:53, 57.94s/it]"
     ]
    },
    {
     "name": "stdout",
     "output_type": "stream",
     "text": [
      "Test loss: 1151.05226 | Test accuracy: 53.40%\n",
      " Epoch: 17\n",
      "---------\n",
      "Train loss: 0.96303 | Train accuracy: 56.11%\n"
     ]
    },
    {
     "name": "stderr",
     "output_type": "stream",
     "text": [
      " 90%|█████████ | 18/20 [17:52<01:55, 58.00s/it]"
     ]
    },
    {
     "name": "stdout",
     "output_type": "stream",
     "text": [
      "Test loss: 1145.93891 | Test accuracy: 54.16%\n",
      " Epoch: 18\n",
      "---------\n",
      "Train loss: 0.96253 | Train accuracy: 56.16%\n"
     ]
    },
    {
     "name": "stderr",
     "output_type": "stream",
     "text": [
      " 95%|█████████▌| 19/20 [18:51<00:58, 58.57s/it]"
     ]
    },
    {
     "name": "stdout",
     "output_type": "stream",
     "text": [
      "Test loss: 1145.38391 | Test accuracy: 54.31%\n",
      " Epoch: 19\n",
      "---------\n",
      "Train loss: 0.96188 | Train accuracy: 56.24%\n"
     ]
    },
    {
     "name": "stderr",
     "output_type": "stream",
     "text": [
      "100%|██████████| 20/20 [19:50<00:00, 59.51s/it]"
     ]
    },
    {
     "name": "stdout",
     "output_type": "stream",
     "text": [
      "Test loss: 1144.82664 | Test accuracy: 54.30%\n",
      "[INFO] Saving model to: models\\Model _CNN_Model.pth\n"
     ]
    },
    {
     "name": "stderr",
     "output_type": "stream",
     "text": [
      "\n"
     ]
    },
    {
     "name": "stdout",
     "output_type": "stream",
     "text": [
      "tamanho da memória ocupada :2293.40 MB\n",
      "X_train shape: (450000, 500) float64\n",
      "X_Test shape: (150000, 500) float64\n",
      "y_train shape: (450000,) float64\n",
      "y_test shape: (150000,) float64\n",
      "\n",
      "--------\n",
      "X_train device: cpu\n",
      "X_Test device: cpu\n",
      "y_train device: cpu\n",
      "y_test device: cpu\n",
      "Valor 0: 200000 ocorrência(s)- 0.33%\n",
      "Valor 1: 200000 ocorrência(s)- 0.33%\n",
      "Valor 2: 200000 ocorrência(s)- 0.33%\n",
      "Dataset :  (600000, 501)\n",
      "X torch.Size([128, 500]) y torch.Size([128])\n",
      "----------------\n",
      "\n",
      "Dataloaders: (<torch.utils.data.dataloader.DataLoader object at 0x0000021E40086E90>, <torch.utils.data.dataloader.DataLoader object at 0x0000021E40086AD0>)\n",
      "Length of train dataloader: 3516 batches of 128\n",
      "Length of test dataloader: 1172 batches of 128\n",
      "Experiment Fourier:  500 input size ,  3 Layers ,4 Blocks\n",
      "[INFO] Created SummaryWriter, saving to: runs\\2023-06-03\\Fourier_1_500_inputsize_3_Layers_4_Blocks\\CNN_Model...\n",
      "Training on cpu\n"
     ]
    },
    {
     "name": "stderr",
     "output_type": "stream",
     "text": [
      "  0%|          | 0/20 [00:00<?, ?it/s]"
     ]
    },
    {
     "name": "stdout",
     "output_type": "stream",
     "text": [
      " Epoch: 0\n",
      "---------\n",
      "Train loss: 1.04889 | Train accuracy: 44.94%\n",
      "Test loss: 596.14738 | Test accuracy: 49.37%\n"
     ]
    },
    {
     "name": "stderr",
     "output_type": "stream",
     "text": [
      "  5%|▌         | 1/20 [00:41<13:09, 41.58s/it]"
     ]
    },
    {
     "name": "stdout",
     "output_type": "stream",
     "text": [
      " Epoch: 1\n",
      "---------\n",
      "Train loss: 0.99956 | Train accuracy: 51.52%\n"
     ]
    },
    {
     "name": "stderr",
     "output_type": "stream",
     "text": [
      " 10%|█         | 2/20 [01:22<12:18, 41.06s/it]"
     ]
    },
    {
     "name": "stdout",
     "output_type": "stream",
     "text": [
      "Test loss: 589.15932 | Test accuracy: 50.84%\n",
      " Epoch: 2\n",
      "---------\n",
      "Train loss: 0.98352 | Train accuracy: 53.65%\n"
     ]
    },
    {
     "name": "stderr",
     "output_type": "stream",
     "text": [
      " 15%|█▌        | 3/20 [02:03<11:37, 41.05s/it]"
     ]
    },
    {
     "name": "stdout",
     "output_type": "stream",
     "text": [
      "Test loss: 587.78902 | Test accuracy: 50.90%\n",
      " Epoch: 3\n",
      "---------\n",
      "Train loss: 0.97418 | Train accuracy: 54.83%\n"
     ]
    },
    {
     "name": "stderr",
     "output_type": "stream",
     "text": [
      " 20%|██        | 4/20 [02:44<10:59, 41.24s/it]"
     ]
    },
    {
     "name": "stdout",
     "output_type": "stream",
     "text": [
      "Test loss: 584.73186 | Test accuracy: 51.87%\n",
      " Epoch: 4\n",
      "---------\n",
      "Train loss: 0.96678 | Train accuracy: 55.78%\n"
     ]
    },
    {
     "name": "stderr",
     "output_type": "stream",
     "text": [
      " 25%|██▌       | 5/20 [03:26<10:19, 41.33s/it]"
     ]
    },
    {
     "name": "stdout",
     "output_type": "stream",
     "text": [
      "Test loss: 583.65989 | Test accuracy: 52.06%\n",
      " Epoch: 5\n",
      "---------\n",
      "Train loss: 0.96162 | Train accuracy: 56.43%\n"
     ]
    },
    {
     "name": "stderr",
     "output_type": "stream",
     "text": [
      " 30%|███       | 6/20 [04:07<09:38, 41.34s/it]"
     ]
    },
    {
     "name": "stdout",
     "output_type": "stream",
     "text": [
      "Test loss: 583.97051 | Test accuracy: 51.97%\n",
      " Epoch: 6\n",
      "---------\n",
      "Train loss: 0.95732 | Train accuracy: 57.01%\n"
     ]
    },
    {
     "name": "stderr",
     "output_type": "stream",
     "text": [
      " 35%|███▌      | 7/20 [04:48<08:56, 41.30s/it]"
     ]
    },
    {
     "name": "stdout",
     "output_type": "stream",
     "text": [
      "Test loss: 582.70820 | Test accuracy: 52.43%\n",
      " Epoch: 7\n",
      "---------\n",
      "Train loss: 0.95391 | Train accuracy: 57.46%\n"
     ]
    },
    {
     "name": "stderr",
     "output_type": "stream",
     "text": [
      " 40%|████      | 8/20 [05:30<08:15, 41.33s/it]"
     ]
    },
    {
     "name": "stdout",
     "output_type": "stream",
     "text": [
      "Test loss: 582.00063 | Test accuracy: 52.68%\n",
      " Epoch: 8\n",
      "---------\n",
      "Train loss: 0.95034 | Train accuracy: 57.88%\n"
     ]
    },
    {
     "name": "stderr",
     "output_type": "stream",
     "text": [
      " 45%|████▌     | 9/20 [06:15<07:48, 42.61s/it]"
     ]
    },
    {
     "name": "stdout",
     "output_type": "stream",
     "text": [
      "Test loss: 581.71417 | Test accuracy: 52.71%\n",
      " Epoch: 9\n",
      "---------\n",
      "Train loss: 0.94785 | Train accuracy: 58.17%\n"
     ]
    },
    {
     "name": "stderr",
     "output_type": "stream",
     "text": [
      " 50%|█████     | 10/20 [06:58<07:06, 42.62s/it]"
     ]
    },
    {
     "name": "stdout",
     "output_type": "stream",
     "text": [
      "Test loss: 582.07944 | Test accuracy: 52.64%\n",
      " Epoch: 10\n",
      "---------\n",
      "Train loss: 0.94484 | Train accuracy: 58.65%\n"
     ]
    },
    {
     "name": "stderr",
     "output_type": "stream",
     "text": [
      " 55%|█████▌    | 11/20 [07:40<06:21, 42.37s/it]"
     ]
    },
    {
     "name": "stdout",
     "output_type": "stream",
     "text": [
      "Test loss: 582.69894 | Test accuracy: 52.58%\n",
      " Epoch: 11\n",
      "---------\n",
      "Train loss: 0.94289 | Train accuracy: 58.81%\n"
     ]
    },
    {
     "name": "stderr",
     "output_type": "stream",
     "text": [
      " 60%|██████    | 12/20 [08:22<05:38, 42.37s/it]"
     ]
    },
    {
     "name": "stdout",
     "output_type": "stream",
     "text": [
      "Test loss: 583.51919 | Test accuracy: 52.39%\n",
      " Epoch: 12\n",
      "---------\n",
      "Train loss: 0.94092 | Train accuracy: 59.05%\n"
     ]
    },
    {
     "name": "stderr",
     "output_type": "stream",
     "text": [
      " 65%|██████▌   | 13/20 [09:08<05:03, 43.39s/it]"
     ]
    },
    {
     "name": "stdout",
     "output_type": "stream",
     "text": [
      "Test loss: 582.59024 | Test accuracy: 52.68%\n",
      " Epoch: 13\n",
      "---------\n",
      "Train loss: 0.93919 | Train accuracy: 59.30%\n"
     ]
    },
    {
     "name": "stderr",
     "output_type": "stream",
     "text": [
      " 70%|███████   | 14/20 [09:54<04:26, 44.34s/it]"
     ]
    },
    {
     "name": "stdout",
     "output_type": "stream",
     "text": [
      "Test loss: 582.74883 | Test accuracy: 52.67%\n",
      " Epoch: 14\n",
      "---------\n",
      "Train loss: 0.93782 | Train accuracy: 59.43%\n"
     ]
    },
    {
     "name": "stderr",
     "output_type": "stream",
     "text": [
      " 75%|███████▌  | 15/20 [10:41<03:45, 45.17s/it]"
     ]
    },
    {
     "name": "stdout",
     "output_type": "stream",
     "text": [
      "Test loss: 582.20118 | Test accuracy: 52.79%\n",
      " Epoch: 15\n",
      "---------\n",
      "Train loss: 0.93632 | Train accuracy: 59.65%\n"
     ]
    },
    {
     "name": "stderr",
     "output_type": "stream",
     "text": [
      " 80%|████████  | 16/20 [11:29<03:03, 45.99s/it]"
     ]
    },
    {
     "name": "stdout",
     "output_type": "stream",
     "text": [
      "Test loss: 583.99138 | Test accuracy: 52.24%\n",
      " Epoch: 16\n",
      "---------\n",
      "Train loss: 0.93475 | Train accuracy: 59.84%\n"
     ]
    },
    {
     "name": "stderr",
     "output_type": "stream",
     "text": [
      " 85%|████████▌ | 17/20 [12:12<02:15, 45.02s/it]"
     ]
    },
    {
     "name": "stdout",
     "output_type": "stream",
     "text": [
      "Test loss: 582.51061 | Test accuracy: 52.74%\n",
      " Epoch: 17\n",
      "---------\n",
      "Train loss: 0.93374 | Train accuracy: 59.99%\n"
     ]
    },
    {
     "name": "stderr",
     "output_type": "stream",
     "text": [
      " 90%|█████████ | 18/20 [12:55<01:29, 44.53s/it]"
     ]
    },
    {
     "name": "stdout",
     "output_type": "stream",
     "text": [
      "Test loss: 582.65304 | Test accuracy: 52.81%\n",
      " Epoch: 18\n",
      "---------\n",
      "Train loss: 0.93241 | Train accuracy: 60.11%\n"
     ]
    },
    {
     "name": "stderr",
     "output_type": "stream",
     "text": [
      " 95%|█████████▌| 19/20 [13:38<00:43, 44.00s/it]"
     ]
    },
    {
     "name": "stdout",
     "output_type": "stream",
     "text": [
      "Test loss: 582.58295 | Test accuracy: 52.84%\n",
      " Epoch: 19\n",
      "---------\n",
      "Train loss: 0.93165 | Train accuracy: 60.23%\n"
     ]
    },
    {
     "name": "stderr",
     "output_type": "stream",
     "text": [
      "100%|██████████| 20/20 [14:21<00:00, 43.08s/it]"
     ]
    },
    {
     "name": "stdout",
     "output_type": "stream",
     "text": [
      "Test loss: 582.82444 | Test accuracy: 52.77%\n",
      "[INFO] Saving model to: models\\Model _CNN_Model.pth\n"
     ]
    },
    {
     "name": "stderr",
     "output_type": "stream",
     "text": [
      "\n"
     ]
    },
    {
     "name": "stdout",
     "output_type": "stream",
     "text": [
      "tamanho da memória ocupada :2291.11 MB\n",
      "X_train shape: (225000, 1000) float64\n",
      "X_Test shape: (75000, 1000) float64\n",
      "y_train shape: (225000,) float64\n",
      "y_test shape: (75000,) float64\n",
      "\n",
      "--------\n",
      "X_train device: cpu\n",
      "X_Test device: cpu\n",
      "y_train device: cpu\n",
      "y_test device: cpu\n",
      "Valor 0: 100000 ocorrência(s)- 0.33%\n",
      "Valor 1: 100000 ocorrência(s)- 0.33%\n",
      "Valor 2: 100000 ocorrência(s)- 0.33%\n",
      "Dataset :  (300000, 1001)\n",
      "X torch.Size([128, 1000]) y torch.Size([128])\n",
      "----------------\n",
      "\n",
      "Dataloaders: (<torch.utils.data.dataloader.DataLoader object at 0x0000021E41942250>, <torch.utils.data.dataloader.DataLoader object at 0x0000021E41943950>)\n",
      "Length of train dataloader: 1758 batches of 128\n",
      "Length of test dataloader: 586 batches of 128\n",
      "Experiment Fourier:  1000 input size ,  3 Layers ,4 Blocks\n",
      "[INFO] Created SummaryWriter, saving to: runs\\2023-06-03\\Fourier_2_1000_inputsize_3_Layers_4_Blocks\\CNN_Model...\n",
      "Training on cpu\n"
     ]
    },
    {
     "name": "stderr",
     "output_type": "stream",
     "text": [
      "  0%|          | 0/20 [00:00<?, ?it/s]"
     ]
    },
    {
     "name": "stdout",
     "output_type": "stream",
     "text": [
      " Epoch: 0\n",
      "---------\n",
      "Train loss: 1.07953 | Train accuracy: 40.34%\n",
      "Test loss: 309.72925 | Test accuracy: 44.83%\n"
     ]
    },
    {
     "name": "stderr",
     "output_type": "stream",
     "text": [
      "  5%|▌         | 1/20 [00:29<09:15, 29.23s/it]"
     ]
    },
    {
     "name": "stdout",
     "output_type": "stream",
     "text": [
      " Epoch: 1\n",
      "---------\n",
      "Train loss: 1.02197 | Train accuracy: 49.13%\n"
     ]
    },
    {
     "name": "stderr",
     "output_type": "stream",
     "text": [
      " 10%|█         | 2/20 [00:58<08:48, 29.35s/it]"
     ]
    },
    {
     "name": "stdout",
     "output_type": "stream",
     "text": [
      "Test loss: 302.90611 | Test accuracy: 47.22%\n",
      " Epoch: 2\n",
      "---------\n",
      "Train loss: 0.98485 | Train accuracy: 53.72%\n"
     ]
    },
    {
     "name": "stderr",
     "output_type": "stream",
     "text": [
      " 15%|█▌        | 3/20 [01:27<08:17, 29.28s/it]"
     ]
    },
    {
     "name": "stdout",
     "output_type": "stream",
     "text": [
      "Test loss: 301.27789 | Test accuracy: 48.25%\n",
      " Epoch: 3\n",
      "---------\n",
      "Train loss: 0.96204 | Train accuracy: 56.49%\n"
     ]
    },
    {
     "name": "stderr",
     "output_type": "stream",
     "text": [
      " 20%|██        | 4/20 [01:57<07:49, 29.31s/it]"
     ]
    },
    {
     "name": "stdout",
     "output_type": "stream",
     "text": [
      "Test loss: 301.41999 | Test accuracy: 48.43%\n",
      " Epoch: 4\n",
      "---------\n",
      "Train loss: 0.94573 | Train accuracy: 58.60%\n"
     ]
    },
    {
     "name": "stderr",
     "output_type": "stream",
     "text": [
      " 25%|██▌       | 5/20 [02:26<07:21, 29.44s/it]"
     ]
    },
    {
     "name": "stdout",
     "output_type": "stream",
     "text": [
      "Test loss: 302.40253 | Test accuracy: 48.37%\n",
      " Epoch: 5\n",
      "---------\n",
      "Train loss: 0.93373 | Train accuracy: 60.05%\n"
     ]
    },
    {
     "name": "stderr",
     "output_type": "stream",
     "text": [
      " 30%|███       | 6/20 [02:56<06:51, 29.42s/it]"
     ]
    },
    {
     "name": "stdout",
     "output_type": "stream",
     "text": [
      "Test loss: 302.02581 | Test accuracy: 48.88%\n",
      " Epoch: 6\n",
      "---------\n",
      "Train loss: 0.92275 | Train accuracy: 61.33%\n"
     ]
    },
    {
     "name": "stderr",
     "output_type": "stream",
     "text": [
      " 35%|███▌      | 7/20 [03:26<06:24, 29.56s/it]"
     ]
    },
    {
     "name": "stdout",
     "output_type": "stream",
     "text": [
      "Test loss: 303.07006 | Test accuracy: 48.82%\n",
      " Epoch: 7\n",
      "---------\n",
      "Train loss: 0.91543 | Train accuracy: 62.16%\n"
     ]
    },
    {
     "name": "stderr",
     "output_type": "stream",
     "text": [
      " 40%|████      | 8/20 [03:55<05:54, 29.50s/it]"
     ]
    },
    {
     "name": "stdout",
     "output_type": "stream",
     "text": [
      "Test loss: 303.61749 | Test accuracy: 48.63%\n",
      " Epoch: 8\n",
      "---------\n",
      "Train loss: 0.90830 | Train accuracy: 63.00%\n"
     ]
    },
    {
     "name": "stderr",
     "output_type": "stream",
     "text": [
      " 45%|████▌     | 9/20 [04:25<05:26, 29.73s/it]"
     ]
    },
    {
     "name": "stdout",
     "output_type": "stream",
     "text": [
      "Test loss: 304.22134 | Test accuracy: 48.52%\n",
      " Epoch: 9\n",
      "---------\n",
      "Train loss: 0.90228 | Train accuracy: 63.70%\n"
     ]
    },
    {
     "name": "stderr",
     "output_type": "stream",
     "text": [
      " 50%|█████     | 10/20 [04:54<04:55, 29.51s/it]"
     ]
    },
    {
     "name": "stdout",
     "output_type": "stream",
     "text": [
      "Test loss: 304.37105 | Test accuracy: 48.75%\n",
      " Epoch: 10\n",
      "---------\n",
      "Train loss: 0.89675 | Train accuracy: 64.32%\n"
     ]
    },
    {
     "name": "stderr",
     "output_type": "stream",
     "text": [
      " 55%|█████▌    | 11/20 [05:24<04:25, 29.52s/it]"
     ]
    },
    {
     "name": "stdout",
     "output_type": "stream",
     "text": [
      "Test loss: 305.12071 | Test accuracy: 48.86%\n",
      " Epoch: 11\n",
      "---------\n",
      "Train loss: 0.89145 | Train accuracy: 64.95%\n"
     ]
    },
    {
     "name": "stderr",
     "output_type": "stream",
     "text": [
      " 60%|██████    | 12/20 [05:55<04:00, 30.10s/it]"
     ]
    },
    {
     "name": "stdout",
     "output_type": "stream",
     "text": [
      "Test loss: 305.84348 | Test accuracy: 48.53%\n",
      " Epoch: 12\n",
      "---------\n",
      "Train loss: 0.88699 | Train accuracy: 65.50%\n"
     ]
    },
    {
     "name": "stderr",
     "output_type": "stream",
     "text": [
      " 65%|██████▌   | 13/20 [06:26<03:32, 30.32s/it]"
     ]
    },
    {
     "name": "stdout",
     "output_type": "stream",
     "text": [
      "Test loss: 306.11890 | Test accuracy: 48.42%\n",
      " Epoch: 13\n",
      "---------\n",
      "Train loss: 0.88239 | Train accuracy: 65.96%\n"
     ]
    },
    {
     "name": "stderr",
     "output_type": "stream",
     "text": [
      " 70%|███████   | 14/20 [06:56<03:01, 30.24s/it]"
     ]
    },
    {
     "name": "stdout",
     "output_type": "stream",
     "text": [
      "Test loss: 305.99401 | Test accuracy: 48.77%\n",
      " Epoch: 14\n",
      "---------\n",
      "Train loss: 0.87960 | Train accuracy: 66.28%\n"
     ]
    },
    {
     "name": "stderr",
     "output_type": "stream",
     "text": [
      " 75%|███████▌  | 15/20 [07:26<02:30, 30.19s/it]"
     ]
    },
    {
     "name": "stdout",
     "output_type": "stream",
     "text": [
      "Test loss: 310.80666 | Test accuracy: 46.83%\n",
      " Epoch: 15\n",
      "---------\n",
      "Train loss: 0.87671 | Train accuracy: 66.60%\n"
     ]
    },
    {
     "name": "stderr",
     "output_type": "stream",
     "text": [
      " 80%|████████  | 16/20 [07:56<02:00, 30.15s/it]"
     ]
    },
    {
     "name": "stdout",
     "output_type": "stream",
     "text": [
      "Test loss: 306.61840 | Test accuracy: 48.69%\n",
      " Epoch: 16\n",
      "---------\n",
      "Train loss: 0.87421 | Train accuracy: 66.85%\n"
     ]
    },
    {
     "name": "stderr",
     "output_type": "stream",
     "text": [
      " 85%|████████▌ | 17/20 [08:26<01:30, 30.06s/it]"
     ]
    },
    {
     "name": "stdout",
     "output_type": "stream",
     "text": [
      "Test loss: 308.02386 | Test accuracy: 48.01%\n",
      " Epoch: 17\n",
      "---------\n",
      "Train loss: 0.87017 | Train accuracy: 67.31%\n"
     ]
    },
    {
     "name": "stderr",
     "output_type": "stream",
     "text": [
      " 90%|█████████ | 18/20 [08:56<01:00, 30.11s/it]"
     ]
    },
    {
     "name": "stdout",
     "output_type": "stream",
     "text": [
      "Test loss: 306.97669 | Test accuracy: 48.60%\n",
      " Epoch: 18\n",
      "---------\n",
      "Train loss: 0.86760 | Train accuracy: 67.63%\n"
     ]
    },
    {
     "name": "stderr",
     "output_type": "stream",
     "text": [
      " 95%|█████████▌| 19/20 [09:26<00:30, 30.09s/it]"
     ]
    },
    {
     "name": "stdout",
     "output_type": "stream",
     "text": [
      "Test loss: 306.90992 | Test accuracy: 48.69%\n",
      " Epoch: 19\n",
      "---------\n",
      "Train loss: 0.86665 | Train accuracy: 67.68%\n"
     ]
    },
    {
     "name": "stderr",
     "output_type": "stream",
     "text": [
      "100%|██████████| 20/20 [09:56<00:00, 29.83s/it]"
     ]
    },
    {
     "name": "stdout",
     "output_type": "stream",
     "text": [
      "Test loss: 321.32996 | Test accuracy: 43.38%\n",
      "[INFO] Saving model to: models\\Model _CNN_Model.pth\n"
     ]
    },
    {
     "name": "stderr",
     "output_type": "stream",
     "text": [
      "\n"
     ]
    },
    {
     "name": "stdout",
     "output_type": "stream",
     "text": [
      "tamanho da memória ocupada :2289.96 MB\n",
      "X_train shape: (112500, 2000) float64\n",
      "X_Test shape: (37500, 2000) float64\n",
      "y_train shape: (112500,) float64\n",
      "y_test shape: (37500,) float64\n",
      "\n",
      "--------\n",
      "X_train device: cpu\n",
      "X_Test device: cpu\n",
      "y_train device: cpu\n",
      "y_test device: cpu\n",
      "Valor 0: 50000 ocorrência(s)- 0.33%\n",
      "Valor 1: 50000 ocorrência(s)- 0.33%\n",
      "Valor 2: 50000 ocorrência(s)- 0.33%\n",
      "Dataset :  (150000, 2001)\n",
      "X torch.Size([128, 2000]) y torch.Size([128])\n",
      "----------------\n",
      "\n",
      "Dataloaders: (<torch.utils.data.dataloader.DataLoader object at 0x0000021E419753D0>, <torch.utils.data.dataloader.DataLoader object at 0x0000021E41977F90>)\n",
      "Length of train dataloader: 879 batches of 128\n",
      "Length of test dataloader: 293 batches of 128\n",
      "Experiment Fourier:  2000 input size ,  3 Layers ,4 Blocks\n",
      "[INFO] Created SummaryWriter, saving to: runs\\2023-06-03\\Fourier_3_2000_inputsize_3_Layers_4_Blocks\\CNN_Model...\n",
      "Training on cpu\n"
     ]
    },
    {
     "name": "stderr",
     "output_type": "stream",
     "text": [
      "  0%|          | 0/20 [00:00<?, ?it/s]"
     ]
    },
    {
     "name": "stdout",
     "output_type": "stream",
     "text": [
      " Epoch: 0\n",
      "---------\n",
      "Train loss: 1.09129 | Train accuracy: 38.12%\n",
      "Test loss: 159.44281 | Test accuracy: 39.90%\n"
     ]
    },
    {
     "name": "stderr",
     "output_type": "stream",
     "text": [
      "  5%|▌         | 1/20 [00:22<07:15, 22.91s/it]"
     ]
    },
    {
     "name": "stdout",
     "output_type": "stream",
     "text": [
      " Epoch: 1\n",
      "---------\n",
      "Train loss: 1.04067 | Train accuracy: 47.60%\n"
     ]
    },
    {
     "name": "stderr",
     "output_type": "stream",
     "text": [
      " 10%|█         | 2/20 [00:45<06:49, 22.75s/it]"
     ]
    },
    {
     "name": "stdout",
     "output_type": "stream",
     "text": [
      "Test loss: 158.29687 | Test accuracy: 41.83%\n",
      " Epoch: 2\n",
      "---------\n",
      "Train loss: 0.97461 | Train accuracy: 56.05%\n",
      "Test loss: 159.63145 | Test accuracy: 41.67%\n"
     ]
    },
    {
     "name": "stderr",
     "output_type": "stream",
     "text": [
      " 15%|█▌        | 3/20 [01:08<06:28, 22.84s/it]"
     ]
    },
    {
     "name": "stdout",
     "output_type": "stream",
     "text": [
      " Epoch: 3\n",
      "---------\n",
      "Train loss: 0.91963 | Train accuracy: 62.35%\n"
     ]
    },
    {
     "name": "stderr",
     "output_type": "stream",
     "text": [
      " 20%|██        | 4/20 [01:31<06:06, 22.90s/it]"
     ]
    },
    {
     "name": "stdout",
     "output_type": "stream",
     "text": [
      "Test loss: 160.39154 | Test accuracy: 42.49%\n",
      " Epoch: 4\n",
      "---------\n",
      "Train loss: 0.88338 | Train accuracy: 66.20%\n"
     ]
    },
    {
     "name": "stderr",
     "output_type": "stream",
     "text": [
      " 25%|██▌       | 5/20 [01:54<05:43, 22.88s/it]"
     ]
    },
    {
     "name": "stdout",
     "output_type": "stream",
     "text": [
      "Test loss: 161.22575 | Test accuracy: 42.14%\n",
      " Epoch: 5\n",
      "---------\n",
      "Train loss: 0.85607 | Train accuracy: 69.15%\n"
     ]
    },
    {
     "name": "stderr",
     "output_type": "stream",
     "text": [
      " 30%|███       | 6/20 [02:17<05:21, 22.94s/it]"
     ]
    },
    {
     "name": "stdout",
     "output_type": "stream",
     "text": [
      "Test loss: 161.46623 | Test accuracy: 42.37%\n",
      " Epoch: 6\n",
      "---------\n",
      "Train loss: 0.83562 | Train accuracy: 71.26%\n"
     ]
    },
    {
     "name": "stderr",
     "output_type": "stream",
     "text": [
      " 35%|███▌      | 7/20 [02:40<04:57, 22.87s/it]"
     ]
    },
    {
     "name": "stdout",
     "output_type": "stream",
     "text": [
      "Test loss: 163.03657 | Test accuracy: 41.50%\n",
      " Epoch: 7\n",
      "---------\n",
      "Train loss: 0.82209 | Train accuracy: 72.58%\n"
     ]
    },
    {
     "name": "stderr",
     "output_type": "stream",
     "text": [
      " 40%|████      | 8/20 [03:03<04:37, 23.16s/it]"
     ]
    },
    {
     "name": "stdout",
     "output_type": "stream",
     "text": [
      "Test loss: 162.86055 | Test accuracy: 41.95%\n",
      " Epoch: 8\n",
      "---------\n",
      "Train loss: 0.80958 | Train accuracy: 73.84%\n"
     ]
    },
    {
     "name": "stderr",
     "output_type": "stream",
     "text": [
      " 45%|████▌     | 9/20 [03:27<04:16, 23.28s/it]"
     ]
    },
    {
     "name": "stdout",
     "output_type": "stream",
     "text": [
      "Test loss: 163.31107 | Test accuracy: 41.87%\n",
      " Epoch: 9\n",
      "---------\n",
      "Train loss: 0.79875 | Train accuracy: 75.02%\n"
     ]
    },
    {
     "name": "stderr",
     "output_type": "stream",
     "text": [
      " 50%|█████     | 10/20 [03:50<03:53, 23.33s/it]"
     ]
    },
    {
     "name": "stdout",
     "output_type": "stream",
     "text": [
      "Test loss: 163.47471 | Test accuracy: 41.75%\n",
      " Epoch: 10\n",
      "---------\n",
      "Train loss: 0.79204 | Train accuracy: 75.65%\n"
     ]
    },
    {
     "name": "stderr",
     "output_type": "stream",
     "text": [
      " 55%|█████▌    | 11/20 [04:14<03:31, 23.47s/it]"
     ]
    },
    {
     "name": "stdout",
     "output_type": "stream",
     "text": [
      "Test loss: 163.57342 | Test accuracy: 41.77%\n",
      " Epoch: 11\n",
      "---------\n",
      "Train loss: 0.78419 | Train accuracy: 76.54%\n"
     ]
    },
    {
     "name": "stderr",
     "output_type": "stream",
     "text": [
      " 60%|██████    | 12/20 [04:38<03:08, 23.54s/it]"
     ]
    },
    {
     "name": "stdout",
     "output_type": "stream",
     "text": [
      "Test loss: 163.60270 | Test accuracy: 41.85%\n",
      " Epoch: 12\n",
      "---------\n",
      "Train loss: 0.77878 | Train accuracy: 77.05%\n"
     ]
    },
    {
     "name": "stderr",
     "output_type": "stream",
     "text": [
      " 65%|██████▌   | 13/20 [05:02<02:47, 23.87s/it]"
     ]
    },
    {
     "name": "stdout",
     "output_type": "stream",
     "text": [
      "Test loss: 163.98151 | Test accuracy: 41.67%\n",
      " Epoch: 13\n",
      "---------\n",
      "Train loss: 0.77445 | Train accuracy: 77.45%\n"
     ]
    },
    {
     "name": "stderr",
     "output_type": "stream",
     "text": [
      " 70%|███████   | 14/20 [05:27<02:23, 23.97s/it]"
     ]
    },
    {
     "name": "stdout",
     "output_type": "stream",
     "text": [
      "Test loss: 164.25688 | Test accuracy: 41.79%\n",
      " Epoch: 14\n",
      "---------\n",
      "Train loss: 0.76946 | Train accuracy: 77.99%\n"
     ]
    },
    {
     "name": "stderr",
     "output_type": "stream",
     "text": [
      " 75%|███████▌  | 15/20 [05:52<02:01, 24.28s/it]"
     ]
    },
    {
     "name": "stdout",
     "output_type": "stream",
     "text": [
      "Test loss: 164.21337 | Test accuracy: 41.67%\n",
      " Epoch: 15\n",
      "---------\n",
      "Train loss: 0.76436 | Train accuracy: 78.46%\n"
     ]
    },
    {
     "name": "stderr",
     "output_type": "stream",
     "text": [
      " 80%|████████  | 16/20 [06:15<01:36, 24.04s/it]"
     ]
    },
    {
     "name": "stdout",
     "output_type": "stream",
     "text": [
      "Test loss: 163.96053 | Test accuracy: 41.93%\n",
      " Epoch: 16\n",
      "---------\n",
      "Train loss: 0.75937 | Train accuracy: 78.98%\n"
     ]
    },
    {
     "name": "stderr",
     "output_type": "stream",
     "text": [
      " 85%|████████▌ | 17/20 [06:38<01:10, 23.52s/it]"
     ]
    },
    {
     "name": "stdout",
     "output_type": "stream",
     "text": [
      "Test loss: 164.24773 | Test accuracy: 41.85%\n",
      " Epoch: 17\n",
      "---------\n",
      "Train loss: 0.75568 | Train accuracy: 79.37%\n"
     ]
    },
    {
     "name": "stderr",
     "output_type": "stream",
     "text": [
      " 90%|█████████ | 18/20 [07:00<00:46, 23.21s/it]"
     ]
    },
    {
     "name": "stdout",
     "output_type": "stream",
     "text": [
      "Test loss: 164.42982 | Test accuracy: 41.59%\n",
      " Epoch: 18\n",
      "---------\n",
      "Train loss: 0.75199 | Train accuracy: 79.76%\n"
     ]
    },
    {
     "name": "stderr",
     "output_type": "stream",
     "text": [
      " 95%|█████████▌| 19/20 [07:22<00:22, 22.98s/it]"
     ]
    },
    {
     "name": "stdout",
     "output_type": "stream",
     "text": [
      "Test loss: 164.37749 | Test accuracy: 41.84%\n",
      " Epoch: 19\n",
      "---------\n",
      "Train loss: 0.74898 | Train accuracy: 80.06%\n"
     ]
    },
    {
     "name": "stderr",
     "output_type": "stream",
     "text": [
      "100%|██████████| 20/20 [07:45<00:00, 23.28s/it]"
     ]
    },
    {
     "name": "stdout",
     "output_type": "stream",
     "text": [
      "Test loss: 164.25457 | Test accuracy: 41.77%\n",
      "[INFO] Saving model to: models\\Model _CNN_Model.pth\n"
     ]
    },
    {
     "name": "stderr",
     "output_type": "stream",
     "text": [
      "\n"
     ]
    },
    {
     "name": "stdout",
     "output_type": "stream",
     "text": [
      "tamanho da memória ocupada :2289.39 MB\n",
      "X_train shape: (56250, 4000) float64\n",
      "X_Test shape: (18750, 4000) float64\n",
      "y_train shape: (56250,) float64\n",
      "y_test shape: (18750,) float64\n",
      "\n",
      "--------\n",
      "X_train device: cpu\n",
      "X_Test device: cpu\n",
      "y_train device: cpu\n",
      "y_test device: cpu\n",
      "Valor 0: 25000 ocorrência(s)- 0.33%\n",
      "Valor 1: 25000 ocorrência(s)- 0.33%\n",
      "Valor 2: 25000 ocorrência(s)- 0.33%\n",
      "Dataset :  (75000, 4001)\n",
      "X torch.Size([128, 4000]) y torch.Size([128])\n",
      "----------------\n",
      "\n",
      "Dataloaders: (<torch.utils.data.dataloader.DataLoader object at 0x0000021E419F57D0>, <torch.utils.data.dataloader.DataLoader object at 0x0000021E4195A350>)\n",
      "Length of train dataloader: 440 batches of 128\n",
      "Length of test dataloader: 147 batches of 128\n",
      "Experiment Fourier:  4000 input size ,  3 Layers ,4 Blocks\n",
      "[INFO] Created SummaryWriter, saving to: runs\\2023-06-03\\Fourier_4_4000_inputsize_3_Layers_4_Blocks\\CNN_Model...\n",
      "Training on cpu\n"
     ]
    },
    {
     "name": "stderr",
     "output_type": "stream",
     "text": [
      "  0%|          | 0/20 [00:00<?, ?it/s]"
     ]
    },
    {
     "name": "stdout",
     "output_type": "stream",
     "text": [
      " Epoch: 0\n",
      "---------\n",
      "Train loss: 1.09649 | Train accuracy: 37.29%\n",
      "Test loss: 80.71024 | Test accuracy: 38.62%\n"
     ]
    },
    {
     "name": "stderr",
     "output_type": "stream",
     "text": [
      "  5%|▌         | 1/20 [00:20<06:33, 20.72s/it]"
     ]
    },
    {
     "name": "stdout",
     "output_type": "stream",
     "text": [
      " Epoch: 1\n",
      "---------\n",
      "Train loss: 1.01458 | Train accuracy: 52.09%\n"
     ]
    },
    {
     "name": "stderr",
     "output_type": "stream",
     "text": [
      " 10%|█         | 2/20 [00:41<06:18, 21.03s/it]"
     ]
    },
    {
     "name": "stdout",
     "output_type": "stream",
     "text": [
      "Test loss: 81.40665 | Test accuracy: 38.35%\n",
      " Epoch: 2\n",
      "---------\n",
      "Train loss: 0.90075 | Train accuracy: 65.19%\n"
     ]
    },
    {
     "name": "stderr",
     "output_type": "stream",
     "text": [
      " 15%|█▌        | 3/20 [01:02<05:54, 20.84s/it]"
     ]
    },
    {
     "name": "stdout",
     "output_type": "stream",
     "text": [
      "Test loss: 82.72132 | Test accuracy: 38.06%\n",
      " Epoch: 3\n",
      "---------\n",
      "Train loss: 0.81095 | Train accuracy: 74.71%\n"
     ]
    },
    {
     "name": "stderr",
     "output_type": "stream",
     "text": [
      " 20%|██        | 4/20 [01:22<05:28, 20.56s/it]"
     ]
    },
    {
     "name": "stdout",
     "output_type": "stream",
     "text": [
      "Test loss: 83.46707 | Test accuracy: 37.60%\n",
      " Epoch: 4\n",
      "---------\n",
      "Train loss: 0.75190 | Train accuracy: 80.72%\n"
     ]
    },
    {
     "name": "stderr",
     "output_type": "stream",
     "text": [
      " 25%|██▌       | 5/20 [01:42<05:06, 20.40s/it]"
     ]
    },
    {
     "name": "stdout",
     "output_type": "stream",
     "text": [
      "Test loss: 84.21191 | Test accuracy: 37.39%\n",
      " Epoch: 5\n",
      "---------\n",
      "Train loss: 0.71592 | Train accuracy: 84.26%\n"
     ]
    },
    {
     "name": "stderr",
     "output_type": "stream",
     "text": [
      " 30%|███       | 6/20 [02:02<04:43, 20.26s/it]"
     ]
    },
    {
     "name": "stdout",
     "output_type": "stream",
     "text": [
      "Test loss: 84.42465 | Test accuracy: 37.91%\n",
      " Epoch: 6\n",
      "---------\n",
      "Train loss: 0.69070 | Train accuracy: 86.62%\n"
     ]
    },
    {
     "name": "stderr",
     "output_type": "stream",
     "text": [
      " 35%|███▌      | 7/20 [02:22<04:22, 20.21s/it]"
     ]
    },
    {
     "name": "stdout",
     "output_type": "stream",
     "text": [
      "Test loss: 84.47331 | Test accuracy: 37.64%\n",
      " Epoch: 7\n",
      "---------\n",
      "Train loss: 0.67420 | Train accuracy: 88.22%\n"
     ]
    },
    {
     "name": "stderr",
     "output_type": "stream",
     "text": [
      " 40%|████      | 8/20 [02:43<04:05, 20.42s/it]"
     ]
    },
    {
     "name": "stdout",
     "output_type": "stream",
     "text": [
      "Test loss: 84.69344 | Test accuracy: 37.69%\n",
      " Epoch: 8\n",
      "---------\n",
      "Train loss: 0.66280 | Train accuracy: 89.28%\n"
     ]
    },
    {
     "name": "stderr",
     "output_type": "stream",
     "text": [
      " 45%|████▌     | 9/20 [03:04<03:47, 20.66s/it]"
     ]
    },
    {
     "name": "stdout",
     "output_type": "stream",
     "text": [
      "Test loss: 84.78276 | Test accuracy: 37.67%\n",
      " Epoch: 9\n",
      "---------\n",
      "Train loss: 0.65469 | Train accuracy: 90.05%\n"
     ]
    },
    {
     "name": "stderr",
     "output_type": "stream",
     "text": [
      " 50%|█████     | 10/20 [03:25<03:27, 20.74s/it]"
     ]
    },
    {
     "name": "stdout",
     "output_type": "stream",
     "text": [
      "Test loss: 85.09830 | Test accuracy: 37.51%\n",
      " Epoch: 10\n",
      "---------\n",
      "Train loss: 0.64633 | Train accuracy: 90.84%\n"
     ]
    },
    {
     "name": "stderr",
     "output_type": "stream",
     "text": [
      " 55%|█████▌    | 11/20 [03:47<03:08, 20.93s/it]"
     ]
    },
    {
     "name": "stdout",
     "output_type": "stream",
     "text": [
      "Test loss: 85.22287 | Test accuracy: 37.23%\n",
      " Epoch: 11\n",
      "---------\n",
      "Train loss: 0.64010 | Train accuracy: 91.46%\n"
     ]
    },
    {
     "name": "stderr",
     "output_type": "stream",
     "text": [
      " 60%|██████    | 12/20 [04:08<02:49, 21.16s/it]"
     ]
    },
    {
     "name": "stdout",
     "output_type": "stream",
     "text": [
      "Test loss: 85.24725 | Test accuracy: 37.51%\n",
      " Epoch: 12\n",
      "---------\n",
      "Train loss: 0.63625 | Train accuracy: 91.74%\n"
     ]
    },
    {
     "name": "stderr",
     "output_type": "stream",
     "text": [
      " 65%|██████▌   | 13/20 [04:30<02:29, 21.31s/it]"
     ]
    },
    {
     "name": "stdout",
     "output_type": "stream",
     "text": [
      "Test loss: 85.43722 | Test accuracy: 37.24%\n",
      " Epoch: 13\n",
      "---------\n",
      "Train loss: 0.63232 | Train accuracy: 92.13%\n"
     ]
    },
    {
     "name": "stderr",
     "output_type": "stream",
     "text": [
      " 70%|███████   | 14/20 [04:52<02:09, 21.51s/it]"
     ]
    },
    {
     "name": "stdout",
     "output_type": "stream",
     "text": [
      "Test loss: 85.50300 | Test accuracy: 37.33%\n",
      " Epoch: 14\n",
      "---------\n",
      "Train loss: 0.62754 | Train accuracy: 92.70%\n"
     ]
    },
    {
     "name": "stderr",
     "output_type": "stream",
     "text": [
      " 75%|███████▌  | 15/20 [05:14<01:47, 21.56s/it]"
     ]
    },
    {
     "name": "stdout",
     "output_type": "stream",
     "text": [
      "Test loss: 85.52827 | Test accuracy: 37.33%\n",
      " Epoch: 15\n",
      "---------\n",
      "Train loss: 0.62449 | Train accuracy: 92.89%\n"
     ]
    },
    {
     "name": "stderr",
     "output_type": "stream",
     "text": [
      " 80%|████████  | 16/20 [05:35<01:26, 21.59s/it]"
     ]
    },
    {
     "name": "stdout",
     "output_type": "stream",
     "text": [
      "Test loss: 85.66500 | Test accuracy: 37.43%\n",
      " Epoch: 16\n",
      "---------\n",
      "Train loss: 0.62164 | Train accuracy: 93.17%\n"
     ]
    },
    {
     "name": "stderr",
     "output_type": "stream",
     "text": [
      " 85%|████████▌ | 17/20 [05:59<01:06, 22.22s/it]"
     ]
    },
    {
     "name": "stdout",
     "output_type": "stream",
     "text": [
      "Test loss: 85.80622 | Test accuracy: 37.01%\n",
      " Epoch: 17\n",
      "---------\n",
      "Train loss: 0.62056 | Train accuracy: 93.27%\n"
     ]
    },
    {
     "name": "stderr",
     "output_type": "stream",
     "text": [
      " 90%|█████████ | 18/20 [06:21<00:44, 22.09s/it]"
     ]
    },
    {
     "name": "stdout",
     "output_type": "stream",
     "text": [
      "Test loss: 85.68003 | Test accuracy: 37.32%\n",
      " Epoch: 18\n",
      "---------\n",
      "Train loss: 0.61978 | Train accuracy: 93.34%\n"
     ]
    },
    {
     "name": "stderr",
     "output_type": "stream",
     "text": [
      " 95%|█████████▌| 19/20 [06:43<00:22, 22.03s/it]"
     ]
    },
    {
     "name": "stdout",
     "output_type": "stream",
     "text": [
      "Test loss: 85.93691 | Test accuracy: 37.23%\n",
      " Epoch: 19\n",
      "---------\n",
      "Train loss: 0.61587 | Train accuracy: 93.65%\n"
     ]
    },
    {
     "name": "stderr",
     "output_type": "stream",
     "text": [
      "100%|██████████| 20/20 [07:05<00:00, 21.27s/it]"
     ]
    },
    {
     "name": "stdout",
     "output_type": "stream",
     "text": [
      "Test loss: 85.75927 | Test accuracy: 37.31%\n",
      "[INFO] Saving model to: models\\Model _CNN_Model.pth\n"
     ]
    },
    {
     "name": "stderr",
     "output_type": "stream",
     "text": [
      "\n"
     ]
    }
   ],
   "source": [
    "input_size = [250, 500, 1000 ,2000,4000]\n",
    "for i in range(len(input_size)):\n",
    "\n",
    "    data = DATA_1M(seconds=30,columns=input_size[i], jump_time =2, n_jumps=1) ; data_fourier = data(Fourier=True, Normalizing= True)\n",
    "    \n",
    "    Torch = NeuralNetCNN(columns= data_fourier.shape[1] -1,conv_blocks =1,groupblocks=1)\n",
    "\n",
    "    data.Spliting(data= data_fourier, random_state= 30, test_size = 0.25, shuffle = True, inplace= False)\n",
    "\n",
    "    train_dataloader , test_dataloader = data.DataLoaders(batch_size=128, inplace=True)\n",
    "\n",
    "    experiment_name = f\"Fourier_{i}_{data_fourier.shape[1]-1}_inputsize_{len(list(Torch.Cnn.children()))}_Layers_{Torch.count_blocks(Torch.Cnn)}_Blocks\"\n",
    "    \n",
    "    model_name = experiment_name\n",
    "\n",
    "    print(f\"Experiment Fourier:  {data_fourier.shape[1]-1} input size ,  {len(list(Torch.Cnn.children()))} Layers ,{Torch.count_blocks(Torch.Cnn)} Blocks\")\n",
    "    # torch_pred = Torch.Making_Predictions(model=Torch.Cnn, data_loader= test_dataloader)\n",
    "            \n",
    "    # recall_clear = recall_score(data.y_test, torch_pred, average= \"weighted\", labels=np.array([0]))\n",
    "    # recall_wifi = recall_score(data.y_test, torch_pred, average= \"weighted\", labels=np.array([1]))\n",
    "    # recall_lte = recall_score(data.y_test, torch_pred, average= \"weighted\", labels=np.array([2]))\n",
    "    \n",
    "    # data ={\n",
    "    #             'Labels': [\"CLEAR\",\"WIFI\", \"LTE\"], \n",
    "    #             'Recall':[recall_clear,recall_wifi ,recall_lte],\n",
    "                \n",
    "    #         }\n",
    "    # df = pd.DataFrame(data)\n",
    "    # df = df.set_index('Labels')\n",
    "    # html_table = df.to_html()\n",
    "    \n",
    "    # writer.add_text(f\"\"\"input size - {len(list(Torch.Cnn.children()))} Layers ,\n",
    "    #                        {Torch.count_blocks(Torch.Cnn)} Blocks\"\"\", html_table)\n",
    "    \n",
    "    Torch.training_loop(model= Torch.Cnn,\n",
    "        data_loader_train= train_dataloader,\n",
    "        data_loader_test= test_dataloader,\n",
    "        optimizer= Torch.optimizer,\n",
    "        loss_fn= Torch.loss_fn,\n",
    "        device= Torch.device,\n",
    "        accuracy_fn= accuracy_fn,\n",
    "        writer= create_writer(experiment_name=experiment_name,\n",
    "                              model_name= model_name\n",
    "                              ),\n",
    "        epochs= 20 )\n",
    "    ## Salvando o modelo\n",
    "    save_filepath = f\"Model _{model_name}.pth\"\n",
    "    save_model(model=Torch.Cnn,\n",
    "               target_dir=\"models\",\n",
    "               model_name=save_filepath)\n",
    "    "
   ]
  },
  {
   "cell_type": "code",
   "execution_count": 8,
   "metadata": {},
   "outputs": [
    {
     "name": "stdout",
     "output_type": "stream",
     "text": [
      "tamanho da memória ocupada :2297.97 MB\n",
      "X_train shape: (900000, 250) float64\n",
      "X_Test shape: (300000, 250) float64\n",
      "y_train shape: (900000,) float64\n",
      "y_test shape: (300000,) float64\n",
      "\n",
      "--------\n",
      "X_train device: cpu\n",
      "X_Test device: cpu\n",
      "y_train device: cpu\n",
      "y_test device: cpu\n",
      "Valor 0: 400000 ocorrência(s)- 0.33%\n",
      "Valor 1: 400000 ocorrência(s)- 0.33%\n",
      "Valor 2: 400000 ocorrência(s)- 0.33%\n",
      "Dataset :  (1200000, 251)\n",
      "X torch.Size([128, 250]) y torch.Size([128])\n",
      "----------------\n",
      "\n",
      "Dataloaders: (<torch.utils.data.dataloader.DataLoader object at 0x0000021E40BC45D0>, <torch.utils.data.dataloader.DataLoader object at 0x0000021E40B9B6D0>)\n",
      "Length of train dataloader: 7032 batches of 128\n",
      "Length of test dataloader: 2344 batches of 128\n",
      "Experiment Fourier:  250 input size ,  4 Layers ,8 Blocks\n",
      "[INFO] Created SummaryWriter, saving to: runs\\2023-06-03\\Fourier_0_250_inputsize_4_Layers_8_Blocks\\CNN_2Step...\n",
      "Training on cpu\n"
     ]
    },
    {
     "name": "stderr",
     "output_type": "stream",
     "text": [
      "  0%|          | 0/20 [00:00<?, ?it/s]"
     ]
    },
    {
     "name": "stdout",
     "output_type": "stream",
     "text": [
      " Epoch: 0\n",
      "---------\n",
      "Train loss: 1.03923 | Train accuracy: 46.36%\n",
      "Test loss: 1187.18905 | Test accuracy: 49.94%\n"
     ]
    },
    {
     "name": "stderr",
     "output_type": "stream",
     "text": [
      "  5%|▌         | 1/20 [01:40<31:41, 100.10s/it]"
     ]
    },
    {
     "name": "stdout",
     "output_type": "stream",
     "text": [
      " Epoch: 1\n",
      "---------\n",
      "Train loss: 1.00233 | Train accuracy: 51.10%\n",
      "Test loss: 1174.85165 | Test accuracy: 51.14%\n"
     ]
    },
    {
     "name": "stderr",
     "output_type": "stream",
     "text": [
      " 10%|█         | 2/20 [03:21<30:12, 100.72s/it]"
     ]
    },
    {
     "name": "stdout",
     "output_type": "stream",
     "text": [
      " Epoch: 2\n",
      "---------\n",
      "Train loss: 0.99159 | Train accuracy: 52.41%\n",
      "Test loss: 1165.98870 | Test accuracy: 51.96%\n"
     ]
    },
    {
     "name": "stderr",
     "output_type": "stream",
     "text": [
      " 15%|█▌        | 3/20 [05:03<28:46, 101.55s/it]"
     ]
    },
    {
     "name": "stdout",
     "output_type": "stream",
     "text": [
      " Epoch: 3\n",
      "---------\n",
      "Train loss: 0.98565 | Train accuracy: 53.11%\n",
      "Test loss: 1177.81208 | Test accuracy: 50.16%\n"
     ]
    },
    {
     "name": "stderr",
     "output_type": "stream",
     "text": [
      " 20%|██        | 4/20 [06:47<27:21, 102.58s/it]"
     ]
    },
    {
     "name": "stdout",
     "output_type": "stream",
     "text": [
      " Epoch: 4\n",
      "---------\n",
      "Train loss: 0.98157 | Train accuracy: 53.63%\n",
      "Test loss: 1161.04952 | Test accuracy: 52.44%\n"
     ]
    },
    {
     "name": "stderr",
     "output_type": "stream",
     "text": [
      " 25%|██▌       | 5/20 [08:34<26:00, 104.04s/it]"
     ]
    },
    {
     "name": "stdout",
     "output_type": "stream",
     "text": [
      " Epoch: 5\n",
      "---------\n",
      "Train loss: 0.97890 | Train accuracy: 54.03%\n",
      "Test loss: 1156.52865 | Test accuracy: 52.89%\n"
     ]
    },
    {
     "name": "stderr",
     "output_type": "stream",
     "text": [
      " 30%|███       | 6/20 [10:16<24:04, 103.18s/it]"
     ]
    },
    {
     "name": "stdout",
     "output_type": "stream",
     "text": [
      " Epoch: 6\n",
      "---------\n",
      "Train loss: 0.97664 | Train accuracy: 54.29%\n",
      "Test loss: 1162.37573 | Test accuracy: 52.11%\n"
     ]
    },
    {
     "name": "stderr",
     "output_type": "stream",
     "text": [
      " 35%|███▌      | 7/20 [11:59<22:22, 103.30s/it]"
     ]
    },
    {
     "name": "stdout",
     "output_type": "stream",
     "text": [
      " Epoch: 7\n",
      "---------\n",
      "Train loss: 0.97482 | Train accuracy: 54.55%\n",
      "Test loss: 1156.02786 | Test accuracy: 52.99%\n"
     ]
    },
    {
     "name": "stderr",
     "output_type": "stream",
     "text": [
      " 40%|████      | 8/20 [13:41<20:35, 102.97s/it]"
     ]
    },
    {
     "name": "stdout",
     "output_type": "stream",
     "text": [
      " Epoch: 8\n",
      "---------\n",
      "Train loss: 0.97323 | Train accuracy: 54.79%\n",
      "Test loss: 1155.75277 | Test accuracy: 52.99%\n"
     ]
    },
    {
     "name": "stderr",
     "output_type": "stream",
     "text": [
      " 45%|████▌     | 9/20 [15:25<18:53, 103.04s/it]"
     ]
    },
    {
     "name": "stdout",
     "output_type": "stream",
     "text": [
      " Epoch: 9\n",
      "---------\n",
      "Train loss: 0.97240 | Train accuracy: 54.81%\n",
      "Test loss: 1152.77649 | Test accuracy: 53.37%\n"
     ]
    },
    {
     "name": "stderr",
     "output_type": "stream",
     "text": [
      " 50%|█████     | 10/20 [17:10<17:18, 103.84s/it]"
     ]
    },
    {
     "name": "stdout",
     "output_type": "stream",
     "text": [
      " Epoch: 10\n",
      "---------\n",
      "Train loss: 0.97106 | Train accuracy: 55.05%\n",
      "Test loss: 1156.90385 | Test accuracy: 52.98%\n"
     ]
    },
    {
     "name": "stderr",
     "output_type": "stream",
     "text": [
      " 55%|█████▌    | 11/20 [18:55<15:37, 104.18s/it]"
     ]
    },
    {
     "name": "stdout",
     "output_type": "stream",
     "text": [
      " Epoch: 11\n",
      "---------\n",
      "Train loss: 0.97034 | Train accuracy: 55.10%\n",
      "Test loss: 1153.06923 | Test accuracy: 53.23%\n"
     ]
    },
    {
     "name": "stderr",
     "output_type": "stream",
     "text": [
      " 60%|██████    | 12/20 [20:41<13:57, 104.66s/it]"
     ]
    },
    {
     "name": "stdout",
     "output_type": "stream",
     "text": [
      " Epoch: 12\n",
      "---------\n",
      "Train loss: 0.96922 | Train accuracy: 55.24%\n",
      "Test loss: 1152.97213 | Test accuracy: 53.32%\n"
     ]
    },
    {
     "name": "stderr",
     "output_type": "stream",
     "text": [
      " 65%|██████▌   | 13/20 [22:29<12:20, 105.78s/it]"
     ]
    },
    {
     "name": "stdout",
     "output_type": "stream",
     "text": [
      " Epoch: 13\n",
      "---------\n",
      "Train loss: 0.96848 | Train accuracy: 55.32%\n",
      "Test loss: 1153.15953 | Test accuracy: 53.46%\n"
     ]
    },
    {
     "name": "stderr",
     "output_type": "stream",
     "text": [
      " 70%|███████   | 14/20 [24:15<10:34, 105.69s/it]"
     ]
    },
    {
     "name": "stdout",
     "output_type": "stream",
     "text": [
      " Epoch: 14\n",
      "---------\n",
      "Train loss: 0.96798 | Train accuracy: 55.44%\n",
      "Test loss: 1152.35264 | Test accuracy: 53.38%\n"
     ]
    },
    {
     "name": "stderr",
     "output_type": "stream",
     "text": [
      " 75%|███████▌  | 15/20 [25:58<08:44, 104.99s/it]"
     ]
    },
    {
     "name": "stdout",
     "output_type": "stream",
     "text": [
      " Epoch: 15\n",
      "---------\n",
      "Train loss: 0.96710 | Train accuracy: 55.54%\n",
      "Test loss: 1151.76776 | Test accuracy: 53.52%\n"
     ]
    },
    {
     "name": "stderr",
     "output_type": "stream",
     "text": [
      " 80%|████████  | 16/20 [27:45<07:01, 105.41s/it]"
     ]
    },
    {
     "name": "stdout",
     "output_type": "stream",
     "text": [
      " Epoch: 16\n",
      "---------\n",
      "Train loss: 0.96673 | Train accuracy: 55.58%\n",
      "Test loss: 1153.38278 | Test accuracy: 53.36%\n"
     ]
    },
    {
     "name": "stderr",
     "output_type": "stream",
     "text": [
      " 85%|████████▌ | 17/20 [29:28<05:14, 104.84s/it]"
     ]
    },
    {
     "name": "stdout",
     "output_type": "stream",
     "text": [
      " Epoch: 17\n",
      "---------\n",
      "Train loss: 0.96607 | Train accuracy: 55.69%\n",
      "Test loss: 1151.95271 | Test accuracy: 53.56%\n"
     ]
    },
    {
     "name": "stderr",
     "output_type": "stream",
     "text": [
      " 90%|█████████ | 18/20 [31:11<03:28, 104.26s/it]"
     ]
    },
    {
     "name": "stdout",
     "output_type": "stream",
     "text": [
      " Epoch: 18\n",
      "---------\n",
      "Train loss: 0.96566 | Train accuracy: 55.73%\n",
      "Test loss: 1151.60835 | Test accuracy: 53.50%\n"
     ]
    },
    {
     "name": "stderr",
     "output_type": "stream",
     "text": [
      " 95%|█████████▌| 19/20 [32:56<01:44, 104.48s/it]"
     ]
    },
    {
     "name": "stdout",
     "output_type": "stream",
     "text": [
      " Epoch: 19\n",
      "---------\n",
      "Train loss: 0.96517 | Train accuracy: 55.77%\n",
      "Test loss: 1151.48999 | Test accuracy: 53.55%\n"
     ]
    },
    {
     "name": "stderr",
     "output_type": "stream",
     "text": [
      "100%|██████████| 20/20 [34:37<00:00, 103.88s/it]\n"
     ]
    },
    {
     "name": "stdout",
     "output_type": "stream",
     "text": [
      "[INFO] Saving model to: models\\Model _CNN_2Step.pth\n",
      "tamanho da memória ocupada :2293.40 MB\n",
      "X_train shape: (450000, 500) float64\n",
      "X_Test shape: (150000, 500) float64\n",
      "y_train shape: (450000,) float64\n",
      "y_test shape: (150000,) float64\n",
      "\n",
      "--------\n",
      "X_train device: cpu\n",
      "X_Test device: cpu\n",
      "y_train device: cpu\n",
      "y_test device: cpu\n",
      "Valor 0: 200000 ocorrência(s)- 0.33%\n",
      "Valor 1: 200000 ocorrência(s)- 0.33%\n",
      "Valor 2: 200000 ocorrência(s)- 0.33%\n",
      "Dataset :  (600000, 501)\n",
      "X torch.Size([128, 500]) y torch.Size([128])\n",
      "----------------\n",
      "\n",
      "Dataloaders: (<torch.utils.data.dataloader.DataLoader object at 0x0000021E4083DE10>, <torch.utils.data.dataloader.DataLoader object at 0x0000021E05962810>)\n",
      "Length of train dataloader: 3516 batches of 128\n",
      "Length of test dataloader: 1172 batches of 128\n",
      "Experiment Fourier:  500 input size ,  4 Layers ,8 Blocks\n",
      "[INFO] Created SummaryWriter, saving to: runs\\2023-06-04\\Fourier_1_500_inputsize_4_Layers_8_Blocks\\CNN_2Step...\n",
      "Training on cpu\n"
     ]
    },
    {
     "name": "stderr",
     "output_type": "stream",
     "text": [
      "  0%|          | 0/20 [00:00<?, ?it/s]"
     ]
    },
    {
     "name": "stdout",
     "output_type": "stream",
     "text": [
      " Epoch: 0\n",
      "---------\n",
      "Train loss: 1.06174 | Train accuracy: 43.33%\n",
      "Test loss: 607.28722 | Test accuracy: 46.80%\n"
     ]
    },
    {
     "name": "stderr",
     "output_type": "stream",
     "text": [
      "  5%|▌         | 1/20 [01:04<20:29, 64.69s/it]"
     ]
    },
    {
     "name": "stdout",
     "output_type": "stream",
     "text": [
      " Epoch: 1\n",
      "---------\n",
      "Train loss: 1.01522 | Train accuracy: 49.72%\n",
      "Test loss: 594.91636 | Test accuracy: 49.62%\n"
     ]
    },
    {
     "name": "stderr",
     "output_type": "stream",
     "text": [
      " 10%|█         | 2/20 [02:09<19:22, 64.58s/it]"
     ]
    },
    {
     "name": "stdout",
     "output_type": "stream",
     "text": [
      " Epoch: 2\n",
      "---------\n",
      "Train loss: 0.99514 | Train accuracy: 52.15%\n",
      "Test loss: 590.72976 | Test accuracy: 50.41%\n"
     ]
    },
    {
     "name": "stderr",
     "output_type": "stream",
     "text": [
      " 15%|█▌        | 3/20 [03:13<18:18, 64.62s/it]"
     ]
    },
    {
     "name": "stdout",
     "output_type": "stream",
     "text": [
      " Epoch: 3\n",
      "---------\n",
      "Train loss: 0.98393 | Train accuracy: 53.70%\n",
      "Test loss: 588.75871 | Test accuracy: 50.91%\n"
     ]
    },
    {
     "name": "stderr",
     "output_type": "stream",
     "text": [
      " 20%|██        | 4/20 [04:18<17:16, 64.77s/it]"
     ]
    },
    {
     "name": "stdout",
     "output_type": "stream",
     "text": [
      " Epoch: 4\n",
      "---------\n",
      "Train loss: 0.97594 | Train accuracy: 54.74%\n",
      "Test loss: 587.91547 | Test accuracy: 51.20%\n"
     ]
    },
    {
     "name": "stderr",
     "output_type": "stream",
     "text": [
      " 25%|██▌       | 5/20 [05:23<16:11, 64.76s/it]"
     ]
    },
    {
     "name": "stdout",
     "output_type": "stream",
     "text": [
      " Epoch: 5\n",
      "---------\n",
      "Train loss: 0.97008 | Train accuracy: 55.49%\n",
      "Test loss: 588.19261 | Test accuracy: 51.10%\n"
     ]
    },
    {
     "name": "stderr",
     "output_type": "stream",
     "text": [
      " 30%|███       | 6/20 [06:28<15:09, 64.96s/it]"
     ]
    },
    {
     "name": "stdout",
     "output_type": "stream",
     "text": [
      " Epoch: 6\n",
      "---------\n",
      "Train loss: 0.96545 | Train accuracy: 56.06%\n",
      "Test loss: 587.10767 | Test accuracy: 51.25%\n"
     ]
    },
    {
     "name": "stderr",
     "output_type": "stream",
     "text": [
      " 35%|███▌      | 7/20 [07:34<14:08, 65.28s/it]"
     ]
    },
    {
     "name": "stdout",
     "output_type": "stream",
     "text": [
      " Epoch: 7\n",
      "---------\n",
      "Train loss: 0.96148 | Train accuracy: 56.62%\n",
      "Test loss: 587.42155 | Test accuracy: 51.40%\n"
     ]
    },
    {
     "name": "stderr",
     "output_type": "stream",
     "text": [
      " 40%|████      | 8/20 [08:40<13:03, 65.29s/it]"
     ]
    },
    {
     "name": "stdout",
     "output_type": "stream",
     "text": [
      " Epoch: 8\n",
      "---------\n",
      "Train loss: 0.95738 | Train accuracy: 57.15%\n",
      "Test loss: 587.30299 | Test accuracy: 51.42%\n"
     ]
    },
    {
     "name": "stderr",
     "output_type": "stream",
     "text": [
      " 45%|████▌     | 9/20 [09:47<12:04, 65.85s/it]"
     ]
    },
    {
     "name": "stdout",
     "output_type": "stream",
     "text": [
      " Epoch: 9\n",
      "---------\n",
      "Train loss: 0.95388 | Train accuracy: 57.59%\n",
      "Test loss: 588.04854 | Test accuracy: 51.44%\n"
     ]
    },
    {
     "name": "stderr",
     "output_type": "stream",
     "text": [
      " 50%|█████     | 10/20 [10:53<10:58, 65.87s/it]"
     ]
    },
    {
     "name": "stdout",
     "output_type": "stream",
     "text": [
      " Epoch: 10\n",
      "---------\n",
      "Train loss: 0.95091 | Train accuracy: 57.85%\n",
      "Test loss: 587.40785 | Test accuracy: 51.53%\n"
     ]
    },
    {
     "name": "stderr",
     "output_type": "stream",
     "text": [
      " 55%|█████▌    | 11/20 [11:59<09:54, 66.03s/it]"
     ]
    },
    {
     "name": "stdout",
     "output_type": "stream",
     "text": [
      " Epoch: 11\n",
      "---------\n",
      "Train loss: 0.94854 | Train accuracy: 58.21%\n",
      "Test loss: 587.71281 | Test accuracy: 51.61%\n"
     ]
    },
    {
     "name": "stderr",
     "output_type": "stream",
     "text": [
      " 60%|██████    | 12/20 [13:05<08:47, 65.91s/it]"
     ]
    },
    {
     "name": "stdout",
     "output_type": "stream",
     "text": [
      " Epoch: 12\n",
      "---------\n",
      "Train loss: 0.94613 | Train accuracy: 58.50%\n",
      "Test loss: 587.83285 | Test accuracy: 51.64%\n"
     ]
    },
    {
     "name": "stderr",
     "output_type": "stream",
     "text": [
      " 65%|██████▌   | 13/20 [14:12<07:44, 66.34s/it]"
     ]
    },
    {
     "name": "stdout",
     "output_type": "stream",
     "text": [
      " Epoch: 13\n",
      "---------\n",
      "Train loss: 0.94399 | Train accuracy: 58.78%\n",
      "Test loss: 587.78227 | Test accuracy: 51.66%\n"
     ]
    },
    {
     "name": "stderr",
     "output_type": "stream",
     "text": [
      " 70%|███████   | 14/20 [15:18<06:37, 66.20s/it]"
     ]
    },
    {
     "name": "stdout",
     "output_type": "stream",
     "text": [
      " Epoch: 14\n",
      "---------\n",
      "Train loss: 0.94214 | Train accuracy: 59.02%\n",
      "Test loss: 587.89132 | Test accuracy: 51.59%\n"
     ]
    },
    {
     "name": "stderr",
     "output_type": "stream",
     "text": [
      " 75%|███████▌  | 15/20 [16:25<05:32, 66.43s/it]"
     ]
    },
    {
     "name": "stdout",
     "output_type": "stream",
     "text": [
      " Epoch: 15\n",
      "---------\n",
      "Train loss: 0.94052 | Train accuracy: 59.20%\n",
      "Test loss: 587.61831 | Test accuracy: 51.84%\n"
     ]
    },
    {
     "name": "stderr",
     "output_type": "stream",
     "text": [
      " 80%|████████  | 16/20 [17:31<04:25, 66.46s/it]"
     ]
    },
    {
     "name": "stdout",
     "output_type": "stream",
     "text": [
      " Epoch: 16\n",
      "---------\n",
      "Train loss: 0.93900 | Train accuracy: 59.38%\n",
      "Test loss: 587.99661 | Test accuracy: 51.78%\n"
     ]
    },
    {
     "name": "stderr",
     "output_type": "stream",
     "text": [
      " 85%|████████▌ | 17/20 [18:38<03:19, 66.61s/it]"
     ]
    },
    {
     "name": "stdout",
     "output_type": "stream",
     "text": [
      " Epoch: 17\n",
      "---------\n",
      "Train loss: 0.93757 | Train accuracy: 59.52%\n",
      "Test loss: 588.63190 | Test accuracy: 51.58%\n"
     ]
    },
    {
     "name": "stderr",
     "output_type": "stream",
     "text": [
      " 90%|█████████ | 18/20 [19:45<02:13, 66.57s/it]"
     ]
    },
    {
     "name": "stdout",
     "output_type": "stream",
     "text": [
      " Epoch: 18\n",
      "---------\n",
      "Train loss: 0.93631 | Train accuracy: 59.67%\n",
      "Test loss: 588.20332 | Test accuracy: 51.84%\n"
     ]
    },
    {
     "name": "stderr",
     "output_type": "stream",
     "text": [
      " 95%|█████████▌| 19/20 [20:53<01:07, 67.09s/it]"
     ]
    },
    {
     "name": "stdout",
     "output_type": "stream",
     "text": [
      " Epoch: 19\n",
      "---------\n",
      "Train loss: 0.93527 | Train accuracy: 59.81%\n",
      "Test loss: 588.71400 | Test accuracy: 51.76%\n"
     ]
    },
    {
     "name": "stderr",
     "output_type": "stream",
     "text": [
      "100%|██████████| 20/20 [21:59<00:00, 66.00s/it]\n"
     ]
    },
    {
     "name": "stdout",
     "output_type": "stream",
     "text": [
      "[INFO] Saving model to: models\\Model _CNN_2Step.pth\n",
      "tamanho da memória ocupada :2291.11 MB\n",
      "X_train shape: (225000, 1000) float64\n",
      "X_Test shape: (75000, 1000) float64\n",
      "y_train shape: (225000,) float64\n",
      "y_test shape: (75000,) float64\n",
      "\n",
      "--------\n",
      "X_train device: cpu\n",
      "X_Test device: cpu\n",
      "y_train device: cpu\n",
      "y_test device: cpu\n",
      "Valor 0: 100000 ocorrência(s)- 0.33%\n",
      "Valor 1: 100000 ocorrência(s)- 0.33%\n",
      "Valor 2: 100000 ocorrência(s)- 0.33%\n",
      "Dataset :  (300000, 1001)\n",
      "X torch.Size([128, 1000]) y torch.Size([128])\n",
      "----------------\n",
      "\n",
      "Dataloaders: (<torch.utils.data.dataloader.DataLoader object at 0x0000021E40ABC150>, <torch.utils.data.dataloader.DataLoader object at 0x0000021E40ABCA50>)\n",
      "Length of train dataloader: 1758 batches of 128\n",
      "Length of test dataloader: 586 batches of 128\n",
      "Experiment Fourier:  1000 input size ,  4 Layers ,8 Blocks\n",
      "[INFO] Created SummaryWriter, saving to: runs\\2023-06-04\\Fourier_2_1000_inputsize_4_Layers_8_Blocks\\CNN_2Step...\n",
      "Training on cpu\n"
     ]
    },
    {
     "name": "stderr",
     "output_type": "stream",
     "text": [
      "  0%|          | 0/20 [00:00<?, ?it/s]"
     ]
    },
    {
     "name": "stdout",
     "output_type": "stream",
     "text": [
      " Epoch: 0\n",
      "---------\n",
      "Train loss: 1.07867 | Train accuracy: 40.82%\n",
      "Test loss: 312.08702 | Test accuracy: 43.60%\n"
     ]
    },
    {
     "name": "stderr",
     "output_type": "stream",
     "text": [
      "  5%|▌         | 1/20 [00:41<13:04, 41.29s/it]"
     ]
    },
    {
     "name": "stdout",
     "output_type": "stream",
     "text": [
      " Epoch: 1\n",
      "---------\n",
      "Train loss: 1.03951 | Train accuracy: 46.92%\n",
      "Test loss: 305.19820 | Test accuracy: 46.57%\n"
     ]
    },
    {
     "name": "stderr",
     "output_type": "stream",
     "text": [
      " 10%|█         | 2/20 [01:24<12:39, 42.20s/it]"
     ]
    },
    {
     "name": "stdout",
     "output_type": "stream",
     "text": [
      " Epoch: 2\n",
      "---------\n",
      "Train loss: 1.00543 | Train accuracy: 51.40%\n",
      "Test loss: 303.21185 | Test accuracy: 47.39%\n"
     ]
    },
    {
     "name": "stderr",
     "output_type": "stream",
     "text": [
      " 15%|█▌        | 3/20 [02:05<11:54, 42.04s/it]"
     ]
    },
    {
     "name": "stdout",
     "output_type": "stream",
     "text": [
      " Epoch: 3\n",
      "---------\n",
      "Train loss: 0.98107 | Train accuracy: 54.46%\n",
      "Test loss: 303.09072 | Test accuracy: 47.63%\n"
     ]
    },
    {
     "name": "stderr",
     "output_type": "stream",
     "text": [
      " 20%|██        | 4/20 [02:47<11:11, 41.96s/it]"
     ]
    },
    {
     "name": "stdout",
     "output_type": "stream",
     "text": [
      " Epoch: 4\n",
      "---------\n",
      "Train loss: 0.96339 | Train accuracy: 56.71%\n",
      "Test loss: 303.21809 | Test accuracy: 47.81%\n"
     ]
    },
    {
     "name": "stderr",
     "output_type": "stream",
     "text": [
      " 25%|██▌       | 5/20 [03:29<10:28, 41.89s/it]"
     ]
    },
    {
     "name": "stdout",
     "output_type": "stream",
     "text": [
      " Epoch: 5\n",
      "---------\n",
      "Train loss: 0.94889 | Train accuracy: 58.48%\n",
      "Test loss: 303.93471 | Test accuracy: 48.21%\n"
     ]
    },
    {
     "name": "stderr",
     "output_type": "stream",
     "text": [
      " 30%|███       | 6/20 [04:12<09:50, 42.18s/it]"
     ]
    },
    {
     "name": "stdout",
     "output_type": "stream",
     "text": [
      " Epoch: 6\n",
      "---------\n",
      "Train loss: 0.93673 | Train accuracy: 59.94%\n",
      "Test loss: 304.83894 | Test accuracy: 48.01%\n"
     ]
    },
    {
     "name": "stderr",
     "output_type": "stream",
     "text": [
      " 35%|███▌      | 7/20 [04:54<09:09, 42.30s/it]"
     ]
    },
    {
     "name": "stdout",
     "output_type": "stream",
     "text": [
      " Epoch: 7\n",
      "---------\n",
      "Train loss: 0.92678 | Train accuracy: 61.05%\n",
      "Test loss: 305.27642 | Test accuracy: 48.07%\n"
     ]
    },
    {
     "name": "stderr",
     "output_type": "stream",
     "text": [
      " 40%|████      | 8/20 [05:36<08:26, 42.19s/it]"
     ]
    },
    {
     "name": "stdout",
     "output_type": "stream",
     "text": [
      " Epoch: 8\n",
      "---------\n",
      "Train loss: 0.91789 | Train accuracy: 62.08%\n",
      "Test loss: 306.04477 | Test accuracy: 47.88%\n"
     ]
    },
    {
     "name": "stderr",
     "output_type": "stream",
     "text": [
      " 45%|████▌     | 9/20 [06:19<07:44, 42.22s/it]"
     ]
    },
    {
     "name": "stdout",
     "output_type": "stream",
     "text": [
      " Epoch: 9\n",
      "---------\n",
      "Train loss: 0.91092 | Train accuracy: 62.87%\n",
      "Test loss: 306.26384 | Test accuracy: 48.00%\n"
     ]
    },
    {
     "name": "stderr",
     "output_type": "stream",
     "text": [
      " 50%|█████     | 10/20 [07:00<06:59, 42.00s/it]"
     ]
    },
    {
     "name": "stdout",
     "output_type": "stream",
     "text": [
      " Epoch: 10\n",
      "---------\n",
      "Train loss: 0.90490 | Train accuracy: 63.59%\n",
      "Test loss: 305.80780 | Test accuracy: 48.49%\n"
     ]
    },
    {
     "name": "stderr",
     "output_type": "stream",
     "text": [
      " 55%|█████▌    | 11/20 [07:42<06:16, 41.85s/it]"
     ]
    },
    {
     "name": "stdout",
     "output_type": "stream",
     "text": [
      " Epoch: 11\n",
      "---------\n",
      "Train loss: 0.89852 | Train accuracy: 64.27%\n",
      "Test loss: 307.21223 | Test accuracy: 48.16%\n"
     ]
    },
    {
     "name": "stderr",
     "output_type": "stream",
     "text": [
      " 60%|██████    | 12/20 [08:23<05:34, 41.81s/it]"
     ]
    },
    {
     "name": "stdout",
     "output_type": "stream",
     "text": [
      " Epoch: 12\n",
      "---------\n",
      "Train loss: 0.89366 | Train accuracy: 64.80%\n",
      "Test loss: 307.82384 | Test accuracy: 47.87%\n"
     ]
    },
    {
     "name": "stderr",
     "output_type": "stream",
     "text": [
      " 65%|██████▌   | 13/20 [09:05<04:52, 41.79s/it]"
     ]
    },
    {
     "name": "stdout",
     "output_type": "stream",
     "text": [
      " Epoch: 13\n",
      "---------\n",
      "Train loss: 0.88956 | Train accuracy: 65.30%\n",
      "Test loss: 307.93284 | Test accuracy: 48.00%\n"
     ]
    },
    {
     "name": "stderr",
     "output_type": "stream",
     "text": [
      " 70%|███████   | 14/20 [09:47<04:11, 41.96s/it]"
     ]
    },
    {
     "name": "stdout",
     "output_type": "stream",
     "text": [
      " Epoch: 14\n",
      "---------\n",
      "Train loss: 0.88636 | Train accuracy: 65.62%\n",
      "Test loss: 308.18509 | Test accuracy: 47.89%\n"
     ]
    },
    {
     "name": "stderr",
     "output_type": "stream",
     "text": [
      " 75%|███████▌  | 15/20 [10:30<03:30, 42.11s/it]"
     ]
    },
    {
     "name": "stdout",
     "output_type": "stream",
     "text": [
      " Epoch: 15\n",
      "---------\n",
      "Train loss: 0.88249 | Train accuracy: 66.06%\n",
      "Test loss: 308.03423 | Test accuracy: 48.08%\n"
     ]
    },
    {
     "name": "stderr",
     "output_type": "stream",
     "text": [
      " 80%|████████  | 16/20 [11:14<02:51, 42.80s/it]"
     ]
    },
    {
     "name": "stdout",
     "output_type": "stream",
     "text": [
      " Epoch: 16\n",
      "---------\n",
      "Train loss: 0.87871 | Train accuracy: 66.45%\n",
      "Test loss: 308.82175 | Test accuracy: 47.97%\n"
     ]
    },
    {
     "name": "stderr",
     "output_type": "stream",
     "text": [
      " 85%|████████▌ | 17/20 [11:58<02:09, 43.05s/it]"
     ]
    },
    {
     "name": "stdout",
     "output_type": "stream",
     "text": [
      " Epoch: 17\n",
      "---------\n",
      "Train loss: 0.87571 | Train accuracy: 66.83%\n",
      "Test loss: 308.40179 | Test accuracy: 48.07%\n"
     ]
    },
    {
     "name": "stderr",
     "output_type": "stream",
     "text": [
      " 90%|█████████ | 18/20 [12:40<01:25, 42.81s/it]"
     ]
    },
    {
     "name": "stdout",
     "output_type": "stream",
     "text": [
      " Epoch: 18\n",
      "---------\n",
      "Train loss: 0.87309 | Train accuracy: 67.07%\n",
      "Test loss: 309.24779 | Test accuracy: 47.91%\n"
     ]
    },
    {
     "name": "stderr",
     "output_type": "stream",
     "text": [
      " 95%|█████████▌| 19/20 [13:22<00:42, 42.64s/it]"
     ]
    },
    {
     "name": "stdout",
     "output_type": "stream",
     "text": [
      " Epoch: 19\n",
      "---------\n",
      "Train loss: 0.87005 | Train accuracy: 67.43%\n",
      "Test loss: 309.31477 | Test accuracy: 47.85%\n"
     ]
    },
    {
     "name": "stderr",
     "output_type": "stream",
     "text": [
      "100%|██████████| 20/20 [14:04<00:00, 42.23s/it]\n"
     ]
    },
    {
     "name": "stdout",
     "output_type": "stream",
     "text": [
      "[INFO] Saving model to: models\\Model _CNN_2Step.pth\n",
      "tamanho da memória ocupada :2289.96 MB\n",
      "X_train shape: (112500, 2000) float64\n",
      "X_Test shape: (37500, 2000) float64\n",
      "y_train shape: (112500,) float64\n",
      "y_test shape: (37500,) float64\n",
      "\n",
      "--------\n",
      "X_train device: cpu\n",
      "X_Test device: cpu\n",
      "y_train device: cpu\n",
      "y_test device: cpu\n",
      "Valor 0: 50000 ocorrência(s)- 0.33%\n",
      "Valor 1: 50000 ocorrência(s)- 0.33%\n",
      "Valor 2: 50000 ocorrência(s)- 0.33%\n",
      "Dataset :  (150000, 2001)\n",
      "X torch.Size([128, 2000]) y torch.Size([128])\n",
      "----------------\n",
      "\n",
      "Dataloaders: (<torch.utils.data.dataloader.DataLoader object at 0x0000021E44122450>, <torch.utils.data.dataloader.DataLoader object at 0x0000021E44122050>)\n",
      "Length of train dataloader: 879 batches of 128\n",
      "Length of test dataloader: 293 batches of 128\n",
      "Experiment Fourier:  2000 input size ,  4 Layers ,8 Blocks\n",
      "[INFO] Created SummaryWriter, saving to: runs\\2023-06-04\\Fourier_3_2000_inputsize_4_Layers_8_Blocks\\CNN_2Step...\n",
      "Training on cpu\n"
     ]
    },
    {
     "name": "stderr",
     "output_type": "stream",
     "text": [
      "  0%|          | 0/20 [00:00<?, ?it/s]"
     ]
    },
    {
     "name": "stdout",
     "output_type": "stream",
     "text": [
      " Epoch: 0\n",
      "---------\n",
      "Train loss: 1.08510 | Train accuracy: 39.72%\n",
      "Test loss: 158.71316 | Test accuracy: 40.67%\n"
     ]
    },
    {
     "name": "stderr",
     "output_type": "stream",
     "text": [
      "  5%|▌         | 1/20 [00:29<09:15, 29.24s/it]"
     ]
    },
    {
     "name": "stdout",
     "output_type": "stream",
     "text": [
      " Epoch: 1\n",
      "---------\n",
      "Train loss: 1.04635 | Train accuracy: 46.17%\n",
      "Test loss: 157.84124 | Test accuracy: 41.85%\n"
     ]
    },
    {
     "name": "stderr",
     "output_type": "stream",
     "text": [
      " 10%|█         | 2/20 [00:58<08:43, 29.10s/it]"
     ]
    },
    {
     "name": "stdout",
     "output_type": "stream",
     "text": [
      " Epoch: 2\n",
      "---------\n",
      "Train loss: 1.00143 | Train accuracy: 52.40%\n",
      "Test loss: 158.52407 | Test accuracy: 42.31%\n"
     ]
    },
    {
     "name": "stderr",
     "output_type": "stream",
     "text": [
      " 15%|█▌        | 3/20 [01:26<08:11, 28.92s/it]"
     ]
    },
    {
     "name": "stdout",
     "output_type": "stream",
     "text": [
      " Epoch: 3\n",
      "---------\n",
      "Train loss: 0.95988 | Train accuracy: 57.49%\n",
      "Test loss: 159.92748 | Test accuracy: 42.66%\n"
     ]
    },
    {
     "name": "stderr",
     "output_type": "stream",
     "text": [
      " 20%|██        | 4/20 [01:55<07:40, 28.81s/it]"
     ]
    },
    {
     "name": "stdout",
     "output_type": "stream",
     "text": [
      " Epoch: 4\n",
      "---------\n",
      "Train loss: 0.92641 | Train accuracy: 61.23%\n",
      "Test loss: 161.44933 | Test accuracy: 42.59%\n"
     ]
    },
    {
     "name": "stderr",
     "output_type": "stream",
     "text": [
      " 25%|██▌       | 5/20 [02:24<07:14, 28.95s/it]"
     ]
    },
    {
     "name": "stdout",
     "output_type": "stream",
     "text": [
      " Epoch: 5\n",
      "---------\n",
      "Train loss: 0.89923 | Train accuracy: 64.27%\n",
      "Test loss: 162.04440 | Test accuracy: 42.62%\n"
     ]
    },
    {
     "name": "stderr",
     "output_type": "stream",
     "text": [
      " 30%|███       | 6/20 [02:53<06:43, 28.85s/it]"
     ]
    },
    {
     "name": "stdout",
     "output_type": "stream",
     "text": [
      " Epoch: 6\n",
      "---------\n",
      "Train loss: 0.87905 | Train accuracy: 66.43%\n",
      "Test loss: 162.64389 | Test accuracy: 42.35%\n"
     ]
    },
    {
     "name": "stderr",
     "output_type": "stream",
     "text": [
      " 35%|███▌      | 7/20 [03:22<06:15, 28.87s/it]"
     ]
    },
    {
     "name": "stdout",
     "output_type": "stream",
     "text": [
      " Epoch: 7\n",
      "---------\n",
      "Train loss: 0.86388 | Train accuracy: 68.00%\n",
      "Test loss: 162.89631 | Test accuracy: 42.61%\n"
     ]
    },
    {
     "name": "stderr",
     "output_type": "stream",
     "text": [
      " 40%|████      | 8/20 [03:51<05:46, 28.91s/it]"
     ]
    },
    {
     "name": "stdout",
     "output_type": "stream",
     "text": [
      " Epoch: 8\n",
      "---------\n",
      "Train loss: 0.84975 | Train accuracy: 69.50%\n",
      "Test loss: 162.88441 | Test accuracy: 42.64%\n"
     ]
    },
    {
     "name": "stderr",
     "output_type": "stream",
     "text": [
      " 45%|████▌     | 9/20 [04:20<05:19, 29.06s/it]"
     ]
    },
    {
     "name": "stdout",
     "output_type": "stream",
     "text": [
      " Epoch: 9\n",
      "---------\n",
      "Train loss: 0.84107 | Train accuracy: 70.41%\n",
      "Test loss: 163.92717 | Test accuracy: 42.46%\n"
     ]
    },
    {
     "name": "stderr",
     "output_type": "stream",
     "text": [
      " 50%|█████     | 10/20 [04:52<04:59, 29.95s/it]"
     ]
    },
    {
     "name": "stdout",
     "output_type": "stream",
     "text": [
      " Epoch: 10\n",
      "---------\n",
      "Train loss: 0.82952 | Train accuracy: 71.61%\n",
      "Test loss: 163.89895 | Test accuracy: 42.39%\n"
     ]
    },
    {
     "name": "stderr",
     "output_type": "stream",
     "text": [
      " 55%|█████▌    | 11/20 [05:22<04:30, 30.06s/it]"
     ]
    },
    {
     "name": "stdout",
     "output_type": "stream",
     "text": [
      " Epoch: 11\n",
      "---------\n",
      "Train loss: 0.82257 | Train accuracy: 72.37%\n",
      "Test loss: 163.64265 | Test accuracy: 42.58%\n"
     ]
    },
    {
     "name": "stderr",
     "output_type": "stream",
     "text": [
      " 60%|██████    | 12/20 [05:53<04:01, 30.24s/it]"
     ]
    },
    {
     "name": "stdout",
     "output_type": "stream",
     "text": [
      " Epoch: 12\n",
      "---------\n",
      "Train loss: 0.81368 | Train accuracy: 73.30%\n",
      "Test loss: 163.94553 | Test accuracy: 42.49%\n"
     ]
    },
    {
     "name": "stderr",
     "output_type": "stream",
     "text": [
      " 65%|██████▌   | 13/20 [06:23<03:31, 30.24s/it]"
     ]
    },
    {
     "name": "stdout",
     "output_type": "stream",
     "text": [
      " Epoch: 13\n",
      "---------\n",
      "Train loss: 0.80780 | Train accuracy: 73.90%\n",
      "Test loss: 164.05645 | Test accuracy: 42.39%\n"
     ]
    },
    {
     "name": "stderr",
     "output_type": "stream",
     "text": [
      " 70%|███████   | 14/20 [06:54<03:01, 30.23s/it]"
     ]
    },
    {
     "name": "stdout",
     "output_type": "stream",
     "text": [
      " Epoch: 14\n",
      "---------\n",
      "Train loss: 0.80297 | Train accuracy: 74.35%\n",
      "Test loss: 164.07878 | Test accuracy: 42.36%\n"
     ]
    },
    {
     "name": "stderr",
     "output_type": "stream",
     "text": [
      " 75%|███████▌  | 15/20 [07:24<02:31, 30.22s/it]"
     ]
    },
    {
     "name": "stdout",
     "output_type": "stream",
     "text": [
      " Epoch: 15\n",
      "---------\n",
      "Train loss: 0.79678 | Train accuracy: 75.06%\n",
      "Test loss: 164.24150 | Test accuracy: 42.33%\n"
     ]
    },
    {
     "name": "stderr",
     "output_type": "stream",
     "text": [
      " 80%|████████  | 16/20 [07:54<02:00, 30.16s/it]"
     ]
    },
    {
     "name": "stdout",
     "output_type": "stream",
     "text": [
      " Epoch: 16\n",
      "---------\n",
      "Train loss: 0.79134 | Train accuracy: 75.55%\n",
      "Test loss: 173.32559 | Test accuracy: 35.81%\n"
     ]
    },
    {
     "name": "stderr",
     "output_type": "stream",
     "text": [
      " 85%|████████▌ | 17/20 [08:24<01:30, 30.23s/it]"
     ]
    },
    {
     "name": "stdout",
     "output_type": "stream",
     "text": [
      " Epoch: 17\n",
      "---------\n",
      "Train loss: 0.78720 | Train accuracy: 76.06%\n",
      "Test loss: 164.44925 | Test accuracy: 42.24%\n"
     ]
    },
    {
     "name": "stderr",
     "output_type": "stream",
     "text": [
      " 90%|█████████ | 18/20 [08:55<01:01, 30.51s/it]"
     ]
    },
    {
     "name": "stdout",
     "output_type": "stream",
     "text": [
      " Epoch: 18\n",
      "---------\n",
      "Train loss: 0.78180 | Train accuracy: 76.60%\n",
      "Test loss: 165.07027 | Test accuracy: 41.83%\n"
     ]
    },
    {
     "name": "stderr",
     "output_type": "stream",
     "text": [
      " 95%|█████████▌| 19/20 [09:26<00:30, 30.52s/it]"
     ]
    },
    {
     "name": "stdout",
     "output_type": "stream",
     "text": [
      " Epoch: 19\n",
      "---------\n",
      "Train loss: 0.77916 | Train accuracy: 76.85%\n",
      "Test loss: 165.33343 | Test accuracy: 41.67%\n"
     ]
    },
    {
     "name": "stderr",
     "output_type": "stream",
     "text": [
      "100%|██████████| 20/20 [09:57<00:00, 29.86s/it]\n"
     ]
    },
    {
     "name": "stdout",
     "output_type": "stream",
     "text": [
      "[INFO] Saving model to: models\\Model _CNN_2Step.pth\n",
      "tamanho da memória ocupada :2289.39 MB\n",
      "X_train shape: (56250, 4000) float64\n",
      "X_Test shape: (18750, 4000) float64\n",
      "y_train shape: (56250,) float64\n",
      "y_test shape: (18750,) float64\n",
      "\n",
      "--------\n",
      "X_train device: cpu\n",
      "X_Test device: cpu\n",
      "y_train device: cpu\n",
      "y_test device: cpu\n",
      "Valor 0: 25000 ocorrência(s)- 0.33%\n",
      "Valor 1: 25000 ocorrência(s)- 0.33%\n",
      "Valor 2: 25000 ocorrência(s)- 0.33%\n",
      "Dataset :  (75000, 4001)\n",
      "X torch.Size([128, 4000]) y torch.Size([128])\n",
      "----------------\n",
      "\n",
      "Dataloaders: (<torch.utils.data.dataloader.DataLoader object at 0x0000021E41C36250>, <torch.utils.data.dataloader.DataLoader object at 0x0000021E41C35850>)\n",
      "Length of train dataloader: 440 batches of 128\n",
      "Length of test dataloader: 147 batches of 128\n",
      "Experiment Fourier:  4000 input size ,  4 Layers ,8 Blocks\n",
      "[INFO] Created SummaryWriter, saving to: runs\\2023-06-04\\Fourier_4_4000_inputsize_4_Layers_8_Blocks\\CNN_2Step...\n",
      "Training on cpu\n"
     ]
    },
    {
     "name": "stderr",
     "output_type": "stream",
     "text": [
      "  0%|          | 0/20 [00:00<?, ?it/s]"
     ]
    },
    {
     "name": "stdout",
     "output_type": "stream",
     "text": [
      " Epoch: 0\n",
      "---------\n",
      "Train loss: 1.09075 | Train accuracy: 38.27%\n",
      "Test loss: 80.40859 | Test accuracy: 39.57%\n"
     ]
    },
    {
     "name": "stderr",
     "output_type": "stream",
     "text": [
      "  5%|▌         | 1/20 [00:25<07:57, 25.12s/it]"
     ]
    },
    {
     "name": "stdout",
     "output_type": "stream",
     "text": [
      " Epoch: 1\n",
      "---------\n",
      "Train loss: 1.03985 | Train accuracy: 47.87%\n",
      "Test loss: 80.66808 | Test accuracy: 40.13%\n"
     ]
    },
    {
     "name": "stderr",
     "output_type": "stream",
     "text": [
      " 10%|█         | 2/20 [00:50<07:37, 25.43s/it]"
     ]
    },
    {
     "name": "stdout",
     "output_type": "stream",
     "text": [
      " Epoch: 2\n",
      "---------\n",
      "Train loss: 0.96278 | Train accuracy: 57.21%\n",
      "Test loss: 82.72410 | Test accuracy: 38.70%\n"
     ]
    },
    {
     "name": "stderr",
     "output_type": "stream",
     "text": [
      " 15%|█▌        | 3/20 [01:16<07:11, 25.40s/it]"
     ]
    },
    {
     "name": "stdout",
     "output_type": "stream",
     "text": [
      " Epoch: 3\n",
      "---------\n",
      "Train loss: 0.89147 | Train accuracy: 65.09%\n",
      "Test loss: 83.75873 | Test accuracy: 38.70%\n"
     ]
    },
    {
     "name": "stderr",
     "output_type": "stream",
     "text": [
      " 20%|██        | 4/20 [01:41<06:48, 25.53s/it]"
     ]
    },
    {
     "name": "stdout",
     "output_type": "stream",
     "text": [
      " Epoch: 4\n",
      "---------\n",
      "Train loss: 0.84090 | Train accuracy: 70.33%\n",
      "Test loss: 84.06099 | Test accuracy: 38.71%\n"
     ]
    },
    {
     "name": "stderr",
     "output_type": "stream",
     "text": [
      " 25%|██▌       | 5/20 [02:07<06:22, 25.51s/it]"
     ]
    },
    {
     "name": "stdout",
     "output_type": "stream",
     "text": [
      " Epoch: 5\n",
      "---------\n",
      "Train loss: 0.80404 | Train accuracy: 74.23%\n",
      "Test loss: 84.22348 | Test accuracy: 38.95%\n"
     ]
    },
    {
     "name": "stderr",
     "output_type": "stream",
     "text": [
      " 30%|███       | 6/20 [02:32<05:54, 25.31s/it]"
     ]
    },
    {
     "name": "stdout",
     "output_type": "stream",
     "text": [
      " Epoch: 6\n",
      "---------\n",
      "Train loss: 0.78072 | Train accuracy: 76.66%\n",
      "Test loss: 84.39200 | Test accuracy: 39.03%\n"
     ]
    },
    {
     "name": "stderr",
     "output_type": "stream",
     "text": [
      " 35%|███▌      | 7/20 [02:57<05:28, 25.27s/it]"
     ]
    },
    {
     "name": "stdout",
     "output_type": "stream",
     "text": [
      " Epoch: 7\n",
      "---------\n",
      "Train loss: 0.76731 | Train accuracy: 78.03%\n",
      "Test loss: 87.73631 | Test accuracy: 34.23%\n"
     ]
    },
    {
     "name": "stderr",
     "output_type": "stream",
     "text": [
      " 40%|████      | 8/20 [03:22<05:01, 25.14s/it]"
     ]
    },
    {
     "name": "stdout",
     "output_type": "stream",
     "text": [
      " Epoch: 8\n",
      "---------\n",
      "Train loss: 0.75185 | Train accuracy: 79.64%\n",
      "Test loss: 84.69622 | Test accuracy: 39.31%\n"
     ]
    },
    {
     "name": "stderr",
     "output_type": "stream",
     "text": [
      " 45%|████▌     | 9/20 [03:46<04:34, 24.94s/it]"
     ]
    },
    {
     "name": "stdout",
     "output_type": "stream",
     "text": [
      " Epoch: 9\n",
      "---------\n",
      "Train loss: 0.74073 | Train accuracy: 80.82%\n",
      "Test loss: 84.84766 | Test accuracy: 38.87%\n"
     ]
    },
    {
     "name": "stderr",
     "output_type": "stream",
     "text": [
      " 50%|█████     | 10/20 [04:12<04:11, 25.12s/it]"
     ]
    },
    {
     "name": "stdout",
     "output_type": "stream",
     "text": [
      " Epoch: 10\n",
      "---------\n",
      "Train loss: 0.73116 | Train accuracy: 81.77%\n",
      "Test loss: 84.36953 | Test accuracy: 39.55%\n"
     ]
    },
    {
     "name": "stderr",
     "output_type": "stream",
     "text": [
      " 55%|█████▌    | 11/20 [04:37<03:44, 25.00s/it]"
     ]
    },
    {
     "name": "stdout",
     "output_type": "stream",
     "text": [
      " Epoch: 11\n",
      "---------\n",
      "Train loss: 0.72385 | Train accuracy: 82.54%\n",
      "Test loss: 84.72723 | Test accuracy: 39.46%\n"
     ]
    },
    {
     "name": "stderr",
     "output_type": "stream",
     "text": [
      " 60%|██████    | 12/20 [05:01<03:19, 24.93s/it]"
     ]
    },
    {
     "name": "stdout",
     "output_type": "stream",
     "text": [
      " Epoch: 12\n",
      "---------\n",
      "Train loss: 0.72016 | Train accuracy: 82.88%\n",
      "Test loss: 84.72519 | Test accuracy: 39.44%\n"
     ]
    },
    {
     "name": "stderr",
     "output_type": "stream",
     "text": [
      " 65%|██████▌   | 13/20 [05:26<02:54, 24.91s/it]"
     ]
    },
    {
     "name": "stdout",
     "output_type": "stream",
     "text": [
      " Epoch: 13\n",
      "---------\n",
      "Train loss: 0.71635 | Train accuracy: 83.25%\n",
      "Test loss: 85.10864 | Test accuracy: 38.85%\n"
     ]
    },
    {
     "name": "stderr",
     "output_type": "stream",
     "text": [
      " 70%|███████   | 14/20 [05:51<02:29, 24.84s/it]"
     ]
    },
    {
     "name": "stdout",
     "output_type": "stream",
     "text": [
      " Epoch: 14\n",
      "---------\n",
      "Train loss: 0.70803 | Train accuracy: 84.12%\n",
      "Test loss: 84.69952 | Test accuracy: 39.59%\n"
     ]
    },
    {
     "name": "stderr",
     "output_type": "stream",
     "text": [
      " 75%|███████▌  | 15/20 [06:16<02:04, 24.83s/it]"
     ]
    },
    {
     "name": "stdout",
     "output_type": "stream",
     "text": [
      " Epoch: 15\n",
      "---------\n",
      "Train loss: 0.70463 | Train accuracy: 84.48%\n",
      "Test loss: 84.86566 | Test accuracy: 39.20%\n"
     ]
    },
    {
     "name": "stderr",
     "output_type": "stream",
     "text": [
      " 80%|████████  | 16/20 [06:40<01:38, 24.75s/it]"
     ]
    },
    {
     "name": "stdout",
     "output_type": "stream",
     "text": [
      " Epoch: 16\n",
      "---------\n",
      "Train loss: 0.69575 | Train accuracy: 85.34%\n",
      "Test loss: 85.15200 | Test accuracy: 39.03%\n"
     ]
    },
    {
     "name": "stderr",
     "output_type": "stream",
     "text": [
      " 85%|████████▌ | 17/20 [07:05<01:14, 24.80s/it]"
     ]
    },
    {
     "name": "stdout",
     "output_type": "stream",
     "text": [
      " Epoch: 17\n",
      "---------\n",
      "Train loss: 0.69271 | Train accuracy: 85.63%\n",
      "Test loss: 85.00243 | Test accuracy: 38.99%\n"
     ]
    },
    {
     "name": "stderr",
     "output_type": "stream",
     "text": [
      " 90%|█████████ | 18/20 [07:30<00:49, 24.95s/it]"
     ]
    },
    {
     "name": "stdout",
     "output_type": "stream",
     "text": [
      " Epoch: 18\n",
      "---------\n",
      "Train loss: 0.68678 | Train accuracy: 86.33%\n",
      "Test loss: 84.80511 | Test accuracy: 39.50%\n"
     ]
    },
    {
     "name": "stderr",
     "output_type": "stream",
     "text": [
      " 95%|█████████▌| 19/20 [07:55<00:24, 24.90s/it]"
     ]
    },
    {
     "name": "stdout",
     "output_type": "stream",
     "text": [
      " Epoch: 19\n",
      "---------\n",
      "Train loss: 0.68329 | Train accuracy: 86.61%\n",
      "Test loss: 85.05243 | Test accuracy: 39.12%\n"
     ]
    },
    {
     "name": "stderr",
     "output_type": "stream",
     "text": [
      "100%|██████████| 20/20 [08:20<00:00, 25.05s/it]"
     ]
    },
    {
     "name": "stdout",
     "output_type": "stream",
     "text": [
      "[INFO] Saving model to: models\\Model _CNN_2Step.pth\n"
     ]
    },
    {
     "name": "stderr",
     "output_type": "stream",
     "text": [
      "\n"
     ]
    }
   ],
   "source": [
    "input_size = [250, 500, 1000 ,2000,4000]\n",
    "writer = SummaryWriter()\n",
    "\n",
    "for i in range(len(input_size)):\n",
    "\n",
    "    data = DATA_1M(seconds=30,columns=input_size[i], jump_time =2, n_jumps=1) ; data_fourier = data(Fourier=True, Normalizing= True)\n",
    "    \n",
    "    Torch = NeuralNetCNN(columns= data_fourier.shape[1] -1,conv_blocks =2,groupblocks=2)\n",
    "\n",
    "    data.Spliting(data= data_fourier, random_state= 30, test_size = 0.25, shuffle = True, inplace= False)\n",
    "\n",
    "    train_dataloader , test_dataloader = data.DataLoaders(batch_size=128, inplace=True)\n",
    "\n",
    "    experiment_name = f\"Fourier_{i}_{data_fourier.shape[1]-1}_inputsize_{len(list(Torch.Cnn.children()))}_Layers_{Torch.count_blocks(Torch.Cnn)}_Blocks\"\n",
    "    \n",
    "    model_name = 'CNN_2Step'\n",
    "\n",
    "    print(f\"Experiment Fourier:  {data_fourier.shape[1]-1} input size ,  {len(list(Torch.Cnn.children()))} Layers ,{Torch.count_blocks(Torch.Cnn)} Blocks\")\n",
    "    # torch_pred = Torch.Making_Predictions(model=Torch.Cnn, data_loader= test_dataloader)\n",
    "            \n",
    "    # recall_clear = recall_score(data.y_test, torch_pred, average= \"weighted\", labels=np.array([0]))\n",
    "    # recall_wifi = recall_score(data.y_test, torch_pred, average= \"weighted\", labels=np.array([1]))\n",
    "    # recall_lte = recall_score(data.y_test, torch_pred, average= \"weighted\", labels=np.array([2]))\n",
    "    \n",
    "    # data ={\n",
    "    #             'Labels': [\"CLEAR\",\"WIFI\", \"LTE\"], \n",
    "    #             'Recall':[recall_clear,recall_wifi ,recall_lte],\n",
    "                \n",
    "    #         }\n",
    "    # df = pd.DataFrame(data)\n",
    "    # df = df.set_index('Labels')\n",
    "    # html_table = df.to_html()\n",
    "    \n",
    "    # writer.add_text(f\"\"\"input size - {len(list(Torch.Cnn.children()))} Layers ,\n",
    "    #                        {Torch.count_blocks(Torch.Cnn)} Blocks\"\"\", html_table)\n",
    "    \n",
    "    Torch.training_loop(model= Torch.Cnn,\n",
    "        data_loader_train= train_dataloader,\n",
    "        data_loader_test= test_dataloader,\n",
    "        optimizer= Torch.optimizer,\n",
    "        loss_fn= Torch.loss_fn,\n",
    "        device= Torch.device,\n",
    "        accuracy_fn= accuracy_fn,\n",
    "        writer= create_writer(experiment_name=experiment_name,\n",
    "                              model_name= model_name\n",
    "                              ),\n",
    "        epochs= 20 )\n",
    "    ## Salvando o modelo\n",
    "    save_filepath = f\"Model _{model_name}.pth\"\n",
    "    save_model(model=Torch.Cnn,\n",
    "               target_dir=\"models\",\n",
    "               model_name=save_filepath)\n",
    "    "
   ]
  },
  {
   "cell_type": "code",
   "execution_count": 9,
   "metadata": {},
   "outputs": [
    {
     "name": "stdout",
     "output_type": "stream",
     "text": [
      "tamanho da memória ocupada :2297.97 MB\n",
      "X_train shape: (900000, 250) float64\n",
      "X_Test shape: (300000, 250) float64\n",
      "y_train shape: (900000,) float64\n",
      "y_test shape: (300000,) float64\n",
      "\n",
      "--------\n",
      "X_train device: cpu\n",
      "X_Test device: cpu\n",
      "y_train device: cpu\n",
      "y_test device: cpu\n",
      "Valor 0: 400000 ocorrência(s)- 0.33%\n",
      "Valor 1: 400000 ocorrência(s)- 0.33%\n",
      "Valor 2: 400000 ocorrência(s)- 0.33%\n",
      "Dataset :  (1200000, 251)\n",
      "X torch.Size([64, 250]) y torch.Size([64])\n",
      "----------------\n",
      "\n",
      "Dataloaders: (<torch.utils.data.dataloader.DataLoader object at 0x0000021E41E87B10>, <torch.utils.data.dataloader.DataLoader object at 0x0000021E41E85E10>)\n",
      "Length of train dataloader: 14063 batches of 64\n",
      "Length of test dataloader: 4688 batches of 64\n",
      "Experiment Fourier:  250 input size ,  6 Layers ,18 Blocks\n",
      "[INFO] Created SummaryWriter, saving to: runs\\2023-06-04\\Fourier_0_250_inputsize_6_Layers_18_Blocks\\CNN_3STEP...\n",
      "Training on cpu\n"
     ]
    },
    {
     "name": "stderr",
     "output_type": "stream",
     "text": [
      "  0%|          | 0/25 [00:00<?, ?it/s]"
     ]
    },
    {
     "name": "stdout",
     "output_type": "stream",
     "text": [
      " Epoch: 0\n",
      "---------\n",
      "Train loss: 1.07068 | Train accuracy: 42.20%\n",
      "Test loss: 2470.25840 | Test accuracy: 45.32%\n"
     ]
    },
    {
     "name": "stderr",
     "output_type": "stream",
     "text": [
      "  4%|▍         | 1/25 [05:29<2:11:45, 329.38s/it]"
     ]
    },
    {
     "name": "stdout",
     "output_type": "stream",
     "text": [
      " Epoch: 1\n",
      "---------\n",
      "Train loss: 1.04730 | Train accuracy: 45.93%\n",
      "Test loss: 2448.16024 | Test accuracy: 46.62%\n"
     ]
    },
    {
     "name": "stderr",
     "output_type": "stream",
     "text": [
      "  8%|▊         | 2/25 [11:05<2:07:49, 333.45s/it]"
     ]
    },
    {
     "name": "stdout",
     "output_type": "stream",
     "text": [
      " Epoch: 2\n",
      "---------\n",
      "Train loss: 1.02946 | Train accuracy: 47.95%\n",
      "Test loss: 2396.16367 | Test accuracy: 48.36%\n"
     ]
    },
    {
     "name": "stderr",
     "output_type": "stream",
     "text": [
      " 12%|█▏        | 3/25 [16:39<2:02:21, 333.69s/it]"
     ]
    },
    {
     "name": "stdout",
     "output_type": "stream",
     "text": [
      " Epoch: 3\n",
      "---------\n",
      "Train loss: 1.01174 | Train accuracy: 50.02%\n",
      "Test loss: 2362.84118 | Test accuracy: 50.39%\n"
     ]
    },
    {
     "name": "stderr",
     "output_type": "stream",
     "text": [
      " 16%|█▌        | 4/25 [22:12<1:56:38, 333.25s/it]"
     ]
    },
    {
     "name": "stdout",
     "output_type": "stream",
     "text": [
      " Epoch: 4\n",
      "---------\n",
      "Train loss: 0.99993 | Train accuracy: 51.44%\n",
      "Test loss: 2351.70146 | Test accuracy: 50.93%\n"
     ]
    },
    {
     "name": "stderr",
     "output_type": "stream",
     "text": [
      " 20%|██        | 5/25 [27:46<1:51:12, 333.62s/it]"
     ]
    },
    {
     "name": "stdout",
     "output_type": "stream",
     "text": [
      " Epoch: 5\n",
      "---------\n",
      "Train loss: 0.99249 | Train accuracy: 52.29%\n",
      "Test loss: 2332.41531 | Test accuracy: 51.80%\n"
     ]
    },
    {
     "name": "stderr",
     "output_type": "stream",
     "text": [
      " 24%|██▍       | 6/25 [33:20<1:45:40, 333.72s/it]"
     ]
    },
    {
     "name": "stdout",
     "output_type": "stream",
     "text": [
      " Epoch: 6\n",
      "---------\n",
      "Train loss: 0.98855 | Train accuracy: 52.79%\n",
      "Test loss: 2327.73840 | Test accuracy: 52.21%\n"
     ]
    },
    {
     "name": "stderr",
     "output_type": "stream",
     "text": [
      " 28%|██▊       | 7/25 [38:53<1:40:02, 333.46s/it]"
     ]
    },
    {
     "name": "stdout",
     "output_type": "stream",
     "text": [
      " Epoch: 7\n",
      "---------\n",
      "Train loss: 0.98533 | Train accuracy: 53.19%\n",
      "Test loss: 2320.92551 | Test accuracy: 52.49%\n"
     ]
    },
    {
     "name": "stderr",
     "output_type": "stream",
     "text": [
      " 32%|███▏      | 8/25 [44:32<1:35:00, 335.31s/it]"
     ]
    },
    {
     "name": "stdout",
     "output_type": "stream",
     "text": [
      " Epoch: 8\n",
      "---------\n",
      "Train loss: 0.98285 | Train accuracy: 53.49%\n",
      "Test loss: 2320.11521 | Test accuracy: 52.65%\n"
     ]
    },
    {
     "name": "stderr",
     "output_type": "stream",
     "text": [
      " 36%|███▌      | 9/25 [50:12<1:29:49, 336.83s/it]"
     ]
    },
    {
     "name": "stdout",
     "output_type": "stream",
     "text": [
      " Epoch: 9\n",
      "---------\n",
      "Train loss: 0.98045 | Train accuracy: 53.77%\n",
      "Test loss: 2317.68001 | Test accuracy: 52.63%\n"
     ]
    },
    {
     "name": "stderr",
     "output_type": "stream",
     "text": [
      " 40%|████      | 10/25 [55:51<1:24:22, 337.48s/it]"
     ]
    },
    {
     "name": "stdout",
     "output_type": "stream",
     "text": [
      " Epoch: 10\n",
      "---------\n",
      "Train loss: 0.97885 | Train accuracy: 53.98%\n",
      "Test loss: 2321.49421 | Test accuracy: 52.27%\n"
     ]
    },
    {
     "name": "stderr",
     "output_type": "stream",
     "text": [
      " 44%|████▍     | 11/25 [1:01:33<1:19:03, 338.81s/it]"
     ]
    },
    {
     "name": "stdout",
     "output_type": "stream",
     "text": [
      " Epoch: 11\n",
      "---------\n",
      "Train loss: 0.97707 | Train accuracy: 54.21%\n",
      "Test loss: 2316.31411 | Test accuracy: 52.90%\n"
     ]
    },
    {
     "name": "stderr",
     "output_type": "stream",
     "text": [
      " 48%|████▊     | 12/25 [1:07:10<1:13:16, 338.16s/it]"
     ]
    },
    {
     "name": "stdout",
     "output_type": "stream",
     "text": [
      " Epoch: 12\n",
      "---------\n",
      "Train loss: 0.97587 | Train accuracy: 54.32%\n",
      "Test loss: 2317.05943 | Test accuracy: 52.79%\n"
     ]
    },
    {
     "name": "stderr",
     "output_type": "stream",
     "text": [
      " 52%|█████▏    | 13/25 [1:12:48<1:07:38, 338.19s/it]"
     ]
    },
    {
     "name": "stdout",
     "output_type": "stream",
     "text": [
      " Epoch: 13\n",
      "---------\n",
      "Train loss: 0.97458 | Train accuracy: 54.51%\n",
      "Test loss: 2312.66885 | Test accuracy: 52.91%\n"
     ]
    },
    {
     "name": "stderr",
     "output_type": "stream",
     "text": [
      " 56%|█████▌    | 14/25 [1:18:24<1:01:53, 337.61s/it]"
     ]
    },
    {
     "name": "stdout",
     "output_type": "stream",
     "text": [
      " Epoch: 14\n",
      "---------\n",
      "Train loss: 0.97393 | Train accuracy: 54.61%\n",
      "Test loss: 2303.90730 | Test accuracy: 53.38%\n"
     ]
    },
    {
     "name": "stderr",
     "output_type": "stream",
     "text": [
      " 60%|██████    | 15/25 [1:24:02<56:17, 337.76s/it]  "
     ]
    },
    {
     "name": "stdout",
     "output_type": "stream",
     "text": [
      " Epoch: 15\n",
      "---------\n",
      "Train loss: 0.97304 | Train accuracy: 54.74%\n",
      "Test loss: 2305.45442 | Test accuracy: 53.33%\n"
     ]
    },
    {
     "name": "stderr",
     "output_type": "stream",
     "text": [
      " 64%|██████▍   | 16/25 [1:29:39<50:36, 337.35s/it]"
     ]
    },
    {
     "name": "stdout",
     "output_type": "stream",
     "text": [
      " Epoch: 16\n",
      "---------\n",
      "Train loss: 0.97204 | Train accuracy: 54.83%\n",
      "Test loss: 2304.17866 | Test accuracy: 53.31%\n"
     ]
    },
    {
     "name": "stderr",
     "output_type": "stream",
     "text": [
      " 68%|██████▊   | 17/25 [1:35:14<44:53, 336.73s/it]"
     ]
    },
    {
     "name": "stdout",
     "output_type": "stream",
     "text": [
      " Epoch: 17\n",
      "---------\n",
      "Train loss: 0.97121 | Train accuracy: 54.93%\n",
      "Test loss: 2305.24871 | Test accuracy: 53.19%\n"
     ]
    },
    {
     "name": "stderr",
     "output_type": "stream",
     "text": [
      " 72%|███████▏  | 18/25 [1:40:53<39:22, 337.47s/it]"
     ]
    },
    {
     "name": "stdout",
     "output_type": "stream",
     "text": [
      " Epoch: 18\n",
      "---------\n",
      "Train loss: 0.97055 | Train accuracy: 55.05%\n",
      "Test loss: 2304.06661 | Test accuracy: 53.30%\n"
     ]
    },
    {
     "name": "stderr",
     "output_type": "stream",
     "text": [
      " 76%|███████▌  | 19/25 [1:46:31<33:45, 337.60s/it]"
     ]
    },
    {
     "name": "stdout",
     "output_type": "stream",
     "text": [
      " Epoch: 19\n",
      "---------\n",
      "Train loss: 0.96982 | Train accuracy: 55.12%\n",
      "Test loss: 2301.53447 | Test accuracy: 53.45%\n"
     ]
    },
    {
     "name": "stderr",
     "output_type": "stream",
     "text": [
      " 80%|████████  | 20/25 [1:52:09<28:08, 337.65s/it]"
     ]
    },
    {
     "name": "stdout",
     "output_type": "stream",
     "text": [
      " Epoch: 20\n",
      "---------\n",
      "Train loss: 0.96948 | Train accuracy: 55.21%\n",
      "Test loss: 2299.65627 | Test accuracy: 53.62%\n"
     ]
    },
    {
     "name": "stderr",
     "output_type": "stream",
     "text": [
      " 84%|████████▍ | 21/25 [1:57:47<22:30, 337.69s/it]"
     ]
    },
    {
     "name": "stdout",
     "output_type": "stream",
     "text": [
      " Epoch: 21\n",
      "---------\n",
      "Train loss: 0.96879 | Train accuracy: 55.26%\n",
      "Test loss: 2661.01921 | Test accuracy: 29.17%\n"
     ]
    },
    {
     "name": "stderr",
     "output_type": "stream",
     "text": [
      " 88%|████████▊ | 22/25 [2:03:26<16:54, 338.07s/it]"
     ]
    },
    {
     "name": "stdout",
     "output_type": "stream",
     "text": [
      " Epoch: 22\n",
      "---------\n",
      "Train loss: 0.96832 | Train accuracy: 55.36%\n",
      "Test loss: 2298.47453 | Test accuracy: 53.52%\n"
     ]
    },
    {
     "name": "stderr",
     "output_type": "stream",
     "text": [
      " 92%|█████████▏| 23/25 [2:09:03<11:15, 337.87s/it]"
     ]
    },
    {
     "name": "stdout",
     "output_type": "stream",
     "text": [
      " Epoch: 23\n",
      "---------\n",
      "Train loss: 0.96786 | Train accuracy: 55.43%\n",
      "Test loss: 2297.13710 | Test accuracy: 53.68%\n"
     ]
    },
    {
     "name": "stderr",
     "output_type": "stream",
     "text": [
      " 96%|█████████▌| 24/25 [2:14:42<05:38, 338.06s/it]"
     ]
    },
    {
     "name": "stdout",
     "output_type": "stream",
     "text": [
      " Epoch: 24\n",
      "---------\n",
      "Train loss: 0.96774 | Train accuracy: 55.41%\n",
      "Test loss: 2300.85959 | Test accuracy: 53.39%\n"
     ]
    },
    {
     "name": "stderr",
     "output_type": "stream",
     "text": [
      "100%|██████████| 25/25 [2:20:19<00:00, 336.78s/it]\n"
     ]
    },
    {
     "name": "stdout",
     "output_type": "stream",
     "text": [
      "[INFO] Saving model to: models\\Model _CNN_3STEP.pth\n",
      "tamanho da memória ocupada :2293.40 MB\n",
      "X_train shape: (450000, 500) float64\n",
      "X_Test shape: (150000, 500) float64\n",
      "y_train shape: (450000,) float64\n",
      "y_test shape: (150000,) float64\n",
      "\n",
      "--------\n",
      "X_train device: cpu\n",
      "X_Test device: cpu\n",
      "y_train device: cpu\n",
      "y_test device: cpu\n",
      "Valor 0: 200000 ocorrência(s)- 0.33%\n",
      "Valor 1: 200000 ocorrência(s)- 0.33%\n",
      "Valor 2: 200000 ocorrência(s)- 0.33%\n",
      "Dataset :  (600000, 501)\n",
      "X torch.Size([64, 500]) y torch.Size([64])\n",
      "----------------\n",
      "\n",
      "Dataloaders: (<torch.utils.data.dataloader.DataLoader object at 0x0000021E41A35490>, <torch.utils.data.dataloader.DataLoader object at 0x0000021E41A37910>)\n",
      "Length of train dataloader: 7032 batches of 64\n",
      "Length of test dataloader: 2344 batches of 64\n",
      "Experiment Fourier:  500 input size ,  6 Layers ,18 Blocks\n",
      "[INFO] Created SummaryWriter, saving to: runs\\2023-06-04\\Fourier_1_500_inputsize_6_Layers_18_Blocks\\CNN_3STEP...\n",
      "Training on cpu\n"
     ]
    },
    {
     "name": "stderr",
     "output_type": "stream",
     "text": [
      "  0%|          | 0/25 [00:00<?, ?it/s]"
     ]
    },
    {
     "name": "stdout",
     "output_type": "stream",
     "text": [
      " Epoch: 0\n",
      "---------\n",
      "Train loss: 1.07894 | Train accuracy: 40.66%\n",
      "Test loss: 1248.87475 | Test accuracy: 43.29%\n"
     ]
    },
    {
     "name": "stderr",
     "output_type": "stream",
     "text": [
      "  4%|▍         | 1/25 [03:08<1:15:12, 188.00s/it]"
     ]
    },
    {
     "name": "stdout",
     "output_type": "stream",
     "text": [
      " Epoch: 1\n",
      "---------\n",
      "Train loss: 1.05097 | Train accuracy: 45.33%\n",
      "Test loss: 1221.98822 | Test accuracy: 46.14%\n"
     ]
    },
    {
     "name": "stderr",
     "output_type": "stream",
     "text": [
      "  8%|▊         | 2/25 [06:13<1:11:29, 186.50s/it]"
     ]
    },
    {
     "name": "stdout",
     "output_type": "stream",
     "text": [
      " Epoch: 2\n",
      "---------\n",
      "Train loss: 1.02758 | Train accuracy: 48.33%\n",
      "Test loss: 1212.01198 | Test accuracy: 47.29%\n"
     ]
    },
    {
     "name": "stderr",
     "output_type": "stream",
     "text": [
      " 12%|█▏        | 3/25 [09:20<1:08:23, 186.54s/it]"
     ]
    },
    {
     "name": "stdout",
     "output_type": "stream",
     "text": [
      " Epoch: 3\n",
      "---------\n",
      "Train loss: 1.00893 | Train accuracy: 50.57%\n",
      "Test loss: 1193.66633 | Test accuracy: 49.07%\n"
     ]
    },
    {
     "name": "stderr",
     "output_type": "stream",
     "text": [
      " 16%|█▌        | 4/25 [12:28<1:05:34, 187.38s/it]"
     ]
    },
    {
     "name": "stdout",
     "output_type": "stream",
     "text": [
      " Epoch: 4\n",
      "---------\n",
      "Train loss: 0.99601 | Train accuracy: 52.19%\n",
      "Test loss: 1189.83079 | Test accuracy: 49.60%\n"
     ]
    },
    {
     "name": "stderr",
     "output_type": "stream",
     "text": [
      " 20%|██        | 5/25 [15:36<1:02:28, 187.45s/it]"
     ]
    },
    {
     "name": "stdout",
     "output_type": "stream",
     "text": [
      " Epoch: 5\n",
      "---------\n",
      "Train loss: 0.98865 | Train accuracy: 53.10%\n",
      "Test loss: 1185.65738 | Test accuracy: 49.71%\n"
     ]
    },
    {
     "name": "stderr",
     "output_type": "stream",
     "text": [
      " 24%|██▍       | 6/25 [18:45<59:32, 188.01s/it]  "
     ]
    },
    {
     "name": "stdout",
     "output_type": "stream",
     "text": [
      " Epoch: 6\n",
      "---------\n",
      "Train loss: 0.98222 | Train accuracy: 53.91%\n",
      "Test loss: 1182.82908 | Test accuracy: 50.34%\n"
     ]
    },
    {
     "name": "stderr",
     "output_type": "stream",
     "text": [
      " 28%|██▊       | 7/25 [21:51<56:13, 187.43s/it]"
     ]
    },
    {
     "name": "stdout",
     "output_type": "stream",
     "text": [
      " Epoch: 7\n",
      "---------\n",
      "Train loss: 0.97770 | Train accuracy: 54.50%\n",
      "Test loss: 1179.88156 | Test accuracy: 50.67%\n"
     ]
    },
    {
     "name": "stderr",
     "output_type": "stream",
     "text": [
      " 32%|███▏      | 8/25 [24:58<53:04, 187.32s/it]"
     ]
    },
    {
     "name": "stdout",
     "output_type": "stream",
     "text": [
      " Epoch: 8\n",
      "---------\n",
      "Train loss: 0.97371 | Train accuracy: 55.00%\n",
      "Test loss: 1178.97473 | Test accuracy: 50.84%\n"
     ]
    },
    {
     "name": "stderr",
     "output_type": "stream",
     "text": [
      " 36%|███▌      | 9/25 [28:08<50:11, 188.21s/it]"
     ]
    },
    {
     "name": "stdout",
     "output_type": "stream",
     "text": [
      " Epoch: 9\n",
      "---------\n",
      "Train loss: 0.97050 | Train accuracy: 55.38%\n",
      "Test loss: 1182.93131 | Test accuracy: 50.64%\n"
     ]
    },
    {
     "name": "stderr",
     "output_type": "stream",
     "text": [
      " 40%|████      | 10/25 [31:31<48:08, 192.55s/it]"
     ]
    },
    {
     "name": "stdout",
     "output_type": "stream",
     "text": [
      " Epoch: 10\n",
      "---------\n",
      "Train loss: 0.96796 | Train accuracy: 55.77%\n",
      "Test loss: 1185.82699 | Test accuracy: 50.55%\n"
     ]
    },
    {
     "name": "stderr",
     "output_type": "stream",
     "text": [
      " 44%|████▍     | 11/25 [34:40<44:43, 191.65s/it]"
     ]
    },
    {
     "name": "stdout",
     "output_type": "stream",
     "text": [
      " Epoch: 11\n",
      "---------\n",
      "Train loss: 0.96510 | Train accuracy: 56.17%\n",
      "Test loss: 1184.98965 | Test accuracy: 50.55%\n"
     ]
    },
    {
     "name": "stderr",
     "output_type": "stream",
     "text": [
      " 48%|████▊     | 12/25 [37:48<41:14, 190.33s/it]"
     ]
    },
    {
     "name": "stdout",
     "output_type": "stream",
     "text": [
      " Epoch: 12\n",
      "---------\n",
      "Train loss: 0.96353 | Train accuracy: 56.36%\n",
      "Test loss: 1187.59368 | Test accuracy: 50.03%\n"
     ]
    },
    {
     "name": "stderr",
     "output_type": "stream",
     "text": [
      " 52%|█████▏    | 13/25 [40:56<37:55, 189.61s/it]"
     ]
    },
    {
     "name": "stdout",
     "output_type": "stream",
     "text": [
      " Epoch: 13\n",
      "---------\n",
      "Train loss: 0.96159 | Train accuracy: 56.59%\n",
      "Test loss: 1184.56853 | Test accuracy: 50.80%\n"
     ]
    },
    {
     "name": "stderr",
     "output_type": "stream",
     "text": [
      " 56%|█████▌    | 14/25 [44:06<34:49, 189.94s/it]"
     ]
    },
    {
     "name": "stdout",
     "output_type": "stream",
     "text": [
      " Epoch: 14\n",
      "---------\n",
      "Train loss: 0.95886 | Train accuracy: 56.93%\n",
      "Test loss: 1183.20150 | Test accuracy: 50.84%\n"
     ]
    },
    {
     "name": "stderr",
     "output_type": "stream",
     "text": [
      " 60%|██████    | 15/25 [47:13<31:31, 189.14s/it]"
     ]
    },
    {
     "name": "stdout",
     "output_type": "stream",
     "text": [
      " Epoch: 15\n",
      "---------\n",
      "Train loss: 0.95749 | Train accuracy: 57.11%\n",
      "Test loss: 1200.08831 | Test accuracy: 49.27%\n"
     ]
    },
    {
     "name": "stderr",
     "output_type": "stream",
     "text": [
      " 64%|██████▍   | 16/25 [50:24<28:26, 189.63s/it]"
     ]
    },
    {
     "name": "stdout",
     "output_type": "stream",
     "text": [
      " Epoch: 16\n",
      "---------\n",
      "Train loss: 0.95570 | Train accuracy: 57.26%\n",
      "Test loss: 1181.04329 | Test accuracy: 51.12%\n"
     ]
    },
    {
     "name": "stderr",
     "output_type": "stream",
     "text": [
      " 68%|██████▊   | 17/25 [53:32<25:12, 189.00s/it]"
     ]
    },
    {
     "name": "stdout",
     "output_type": "stream",
     "text": [
      " Epoch: 17\n",
      "---------\n",
      "Train loss: 0.95456 | Train accuracy: 57.47%\n",
      "Test loss: 1184.98046 | Test accuracy: 50.96%\n"
     ]
    },
    {
     "name": "stderr",
     "output_type": "stream",
     "text": [
      " 72%|███████▏  | 18/25 [56:40<22:00, 188.64s/it]"
     ]
    },
    {
     "name": "stdout",
     "output_type": "stream",
     "text": [
      " Epoch: 18\n",
      "---------\n",
      "Train loss: 0.95295 | Train accuracy: 57.69%\n",
      "Test loss: 1183.73783 | Test accuracy: 50.87%\n"
     ]
    },
    {
     "name": "stderr",
     "output_type": "stream",
     "text": [
      " 76%|███████▌  | 19/25 [59:49<18:54, 189.02s/it]"
     ]
    },
    {
     "name": "stdout",
     "output_type": "stream",
     "text": [
      " Epoch: 19\n",
      "---------\n",
      "Train loss: 0.95157 | Train accuracy: 57.87%\n",
      "Test loss: 1184.14609 | Test accuracy: 51.13%\n"
     ]
    },
    {
     "name": "stderr",
     "output_type": "stream",
     "text": [
      " 80%|████████  | 20/25 [1:02:58<15:44, 188.87s/it]"
     ]
    },
    {
     "name": "stdout",
     "output_type": "stream",
     "text": [
      " Epoch: 20\n",
      "---------\n",
      "Train loss: 0.95082 | Train accuracy: 57.96%\n",
      "Test loss: 1181.09515 | Test accuracy: 51.22%\n"
     ]
    },
    {
     "name": "stderr",
     "output_type": "stream",
     "text": [
      " 84%|████████▍ | 21/25 [1:06:06<12:34, 188.62s/it]"
     ]
    },
    {
     "name": "stdout",
     "output_type": "stream",
     "text": [
      " Epoch: 21\n",
      "---------\n",
      "Train loss: 0.94908 | Train accuracy: 58.16%\n",
      "Test loss: 1182.33855 | Test accuracy: 51.05%\n"
     ]
    },
    {
     "name": "stderr",
     "output_type": "stream",
     "text": [
      " 88%|████████▊ | 22/25 [1:09:12<09:23, 187.71s/it]"
     ]
    },
    {
     "name": "stdout",
     "output_type": "stream",
     "text": [
      " Epoch: 22\n",
      "---------\n",
      "Train loss: 0.94813 | Train accuracy: 58.30%\n",
      "Test loss: 1186.16372 | Test accuracy: 50.58%\n"
     ]
    },
    {
     "name": "stderr",
     "output_type": "stream",
     "text": [
      " 92%|█████████▏| 23/25 [1:12:17<06:13, 187.00s/it]"
     ]
    },
    {
     "name": "stdout",
     "output_type": "stream",
     "text": [
      " Epoch: 23\n",
      "---------\n",
      "Train loss: 0.94690 | Train accuracy: 58.45%\n",
      "Test loss: 1180.99951 | Test accuracy: 51.19%\n"
     ]
    },
    {
     "name": "stderr",
     "output_type": "stream",
     "text": [
      " 96%|█████████▌| 24/25 [1:15:24<03:06, 186.99s/it]"
     ]
    },
    {
     "name": "stdout",
     "output_type": "stream",
     "text": [
      " Epoch: 24\n",
      "---------\n",
      "Train loss: 0.94596 | Train accuracy: 58.56%\n",
      "Test loss: 1184.26108 | Test accuracy: 50.95%\n"
     ]
    },
    {
     "name": "stderr",
     "output_type": "stream",
     "text": [
      "100%|██████████| 25/25 [1:18:31<00:00, 188.47s/it]\n"
     ]
    },
    {
     "name": "stdout",
     "output_type": "stream",
     "text": [
      "[INFO] Saving model to: models\\Model _CNN_3STEP.pth\n",
      "tamanho da memória ocupada :2291.11 MB\n",
      "X_train shape: (225000, 1000) float64\n",
      "X_Test shape: (75000, 1000) float64\n",
      "y_train shape: (225000,) float64\n",
      "y_test shape: (75000,) float64\n",
      "\n",
      "--------\n",
      "X_train device: cpu\n",
      "X_Test device: cpu\n",
      "y_train device: cpu\n",
      "y_test device: cpu\n",
      "Valor 0: 100000 ocorrência(s)- 0.33%\n",
      "Valor 1: 100000 ocorrência(s)- 0.33%\n",
      "Valor 2: 100000 ocorrência(s)- 0.33%\n",
      "Dataset :  (300000, 1001)\n",
      "X torch.Size([64, 1000]) y torch.Size([64])\n",
      "----------------\n",
      "\n",
      "Dataloaders: (<torch.utils.data.dataloader.DataLoader object at 0x0000021E41B6BE10>, <torch.utils.data.dataloader.DataLoader object at 0x0000021E41B69250>)\n",
      "Length of train dataloader: 3516 batches of 64\n",
      "Length of test dataloader: 1172 batches of 64\n",
      "Experiment Fourier:  1000 input size ,  6 Layers ,18 Blocks\n",
      "[INFO] Created SummaryWriter, saving to: runs\\2023-06-04\\Fourier_2_1000_inputsize_6_Layers_18_Blocks\\CNN_3STEP...\n",
      "Training on cpu\n"
     ]
    },
    {
     "name": "stderr",
     "output_type": "stream",
     "text": [
      "  0%|          | 0/25 [00:00<?, ?it/s]"
     ]
    },
    {
     "name": "stdout",
     "output_type": "stream",
     "text": [
      " Epoch: 0\n",
      "---------\n",
      "Train loss: 1.08885 | Train accuracy: 38.28%\n",
      "Test loss: 639.40414 | Test accuracy: 38.65%\n"
     ]
    },
    {
     "name": "stderr",
     "output_type": "stream",
     "text": [
      "  4%|▍         | 1/25 [01:44<41:36, 104.04s/it]"
     ]
    },
    {
     "name": "stdout",
     "output_type": "stream",
     "text": [
      " Epoch: 1\n",
      "---------\n",
      "Train loss: 1.06919 | Train accuracy: 42.71%\n",
      "Test loss: 624.46669 | Test accuracy: 43.08%\n"
     ]
    },
    {
     "name": "stderr",
     "output_type": "stream",
     "text": [
      "  8%|▊         | 2/25 [03:28<39:56, 104.20s/it]"
     ]
    },
    {
     "name": "stdout",
     "output_type": "stream",
     "text": [
      " Epoch: 2\n",
      "---------\n",
      "Train loss: 1.04513 | Train accuracy: 46.51%\n",
      "Test loss: 623.17650 | Test accuracy: 43.94%\n"
     ]
    },
    {
     "name": "stderr",
     "output_type": "stream",
     "text": [
      " 12%|█▏        | 3/25 [05:14<38:28, 104.91s/it]"
     ]
    },
    {
     "name": "stdout",
     "output_type": "stream",
     "text": [
      " Epoch: 3\n",
      "---------\n",
      "Train loss: 1.02433 | Train accuracy: 49.43%\n",
      "Test loss: 628.15193 | Test accuracy: 43.17%\n"
     ]
    },
    {
     "name": "stderr",
     "output_type": "stream",
     "text": [
      " 16%|█▌        | 4/25 [06:59<36:47, 105.12s/it]"
     ]
    },
    {
     "name": "stdout",
     "output_type": "stream",
     "text": [
      " Epoch: 4\n",
      "---------\n",
      "Train loss: 1.00854 | Train accuracy: 51.60%\n",
      "Test loss: 618.26661 | Test accuracy: 45.31%\n"
     ]
    },
    {
     "name": "stderr",
     "output_type": "stream",
     "text": [
      " 20%|██        | 5/25 [08:48<35:30, 106.55s/it]"
     ]
    },
    {
     "name": "stdout",
     "output_type": "stream",
     "text": [
      " Epoch: 5\n",
      "---------\n",
      "Train loss: 0.99582 | Train accuracy: 53.31%\n",
      "Test loss: 627.90531 | Test accuracy: 43.42%\n"
     ]
    },
    {
     "name": "stderr",
     "output_type": "stream",
     "text": [
      " 24%|██▍       | 6/25 [10:46<34:57, 110.42s/it]"
     ]
    },
    {
     "name": "stdout",
     "output_type": "stream",
     "text": [
      " Epoch: 6\n",
      "---------\n",
      "Train loss: 0.98449 | Train accuracy: 54.82%\n",
      "Test loss: 625.77548 | Test accuracy: 44.79%\n"
     ]
    },
    {
     "name": "stderr",
     "output_type": "stream",
     "text": [
      " 28%|██▊       | 7/25 [12:35<32:57, 109.87s/it]"
     ]
    },
    {
     "name": "stdout",
     "output_type": "stream",
     "text": [
      " Epoch: 7\n",
      "---------\n",
      "Train loss: 0.97678 | Train accuracy: 55.80%\n",
      "Test loss: 631.87950 | Test accuracy: 43.24%\n"
     ]
    },
    {
     "name": "stderr",
     "output_type": "stream",
     "text": [
      " 32%|███▏      | 8/25 [14:24<31:02, 109.56s/it]"
     ]
    },
    {
     "name": "stdout",
     "output_type": "stream",
     "text": [
      " Epoch: 8\n",
      "---------\n",
      "Train loss: 0.96879 | Train accuracy: 56.68%\n",
      "Test loss: 623.88339 | Test accuracy: 45.74%\n"
     ]
    },
    {
     "name": "stderr",
     "output_type": "stream",
     "text": [
      " 36%|███▌      | 9/25 [16:14<29:18, 109.93s/it]"
     ]
    },
    {
     "name": "stdout",
     "output_type": "stream",
     "text": [
      " Epoch: 9\n",
      "---------\n",
      "Train loss: 0.96245 | Train accuracy: 57.51%\n",
      "Test loss: 624.02909 | Test accuracy: 45.93%\n"
     ]
    },
    {
     "name": "stderr",
     "output_type": "stream",
     "text": [
      " 40%|████      | 10/25 [18:00<27:07, 108.51s/it]"
     ]
    },
    {
     "name": "stdout",
     "output_type": "stream",
     "text": [
      " Epoch: 10\n",
      "---------\n",
      "Train loss: 0.95695 | Train accuracy: 58.19%\n",
      "Test loss: 624.34015 | Test accuracy: 46.05%\n"
     ]
    },
    {
     "name": "stderr",
     "output_type": "stream",
     "text": [
      " 44%|████▍     | 11/25 [19:47<25:12, 108.05s/it]"
     ]
    },
    {
     "name": "stdout",
     "output_type": "stream",
     "text": [
      " Epoch: 11\n",
      "---------\n",
      "Train loss: 0.95183 | Train accuracy: 58.68%\n",
      "Test loss: 624.80807 | Test accuracy: 45.98%\n"
     ]
    },
    {
     "name": "stderr",
     "output_type": "stream",
     "text": [
      " 48%|████▊     | 12/25 [21:33<23:18, 107.60s/it]"
     ]
    },
    {
     "name": "stdout",
     "output_type": "stream",
     "text": [
      " Epoch: 12\n",
      "---------\n",
      "Train loss: 0.94707 | Train accuracy: 59.27%\n",
      "Test loss: 626.39293 | Test accuracy: 46.19%\n"
     ]
    },
    {
     "name": "stderr",
     "output_type": "stream",
     "text": [
      " 52%|█████▏    | 13/25 [23:20<21:28, 107.39s/it]"
     ]
    },
    {
     "name": "stdout",
     "output_type": "stream",
     "text": [
      " Epoch: 13\n",
      "---------\n",
      "Train loss: 0.94486 | Train accuracy: 59.55%\n",
      "Test loss: 627.12980 | Test accuracy: 46.21%\n"
     ]
    },
    {
     "name": "stderr",
     "output_type": "stream",
     "text": [
      " 56%|█████▌    | 14/25 [25:09<19:46, 107.87s/it]"
     ]
    },
    {
     "name": "stdout",
     "output_type": "stream",
     "text": [
      " Epoch: 14\n",
      "---------\n",
      "Train loss: 0.93962 | Train accuracy: 60.10%\n",
      "Test loss: 628.43674 | Test accuracy: 46.17%\n"
     ]
    },
    {
     "name": "stderr",
     "output_type": "stream",
     "text": [
      " 60%|██████    | 15/25 [26:55<17:52, 107.26s/it]"
     ]
    },
    {
     "name": "stdout",
     "output_type": "stream",
     "text": [
      " Epoch: 15\n",
      "---------\n",
      "Train loss: 0.93539 | Train accuracy: 60.51%\n",
      "Test loss: 627.80503 | Test accuracy: 46.37%\n"
     ]
    },
    {
     "name": "stderr",
     "output_type": "stream",
     "text": [
      " 64%|██████▍   | 16/25 [28:43<16:05, 107.31s/it]"
     ]
    },
    {
     "name": "stdout",
     "output_type": "stream",
     "text": [
      " Epoch: 16\n",
      "---------\n",
      "Train loss: 0.93086 | Train accuracy: 61.11%\n",
      "Test loss: 627.55191 | Test accuracy: 46.44%\n"
     ]
    },
    {
     "name": "stderr",
     "output_type": "stream",
     "text": [
      " 68%|██████▊   | 17/25 [30:28<14:13, 106.71s/it]"
     ]
    },
    {
     "name": "stdout",
     "output_type": "stream",
     "text": [
      " Epoch: 17\n",
      "---------\n",
      "Train loss: 0.92869 | Train accuracy: 61.30%\n",
      "Test loss: 628.05965 | Test accuracy: 46.31%\n"
     ]
    },
    {
     "name": "stderr",
     "output_type": "stream",
     "text": [
      " 72%|███████▏  | 18/25 [32:14<12:24, 106.42s/it]"
     ]
    },
    {
     "name": "stdout",
     "output_type": "stream",
     "text": [
      " Epoch: 18\n",
      "---------\n",
      "Train loss: 0.92917 | Train accuracy: 61.33%\n",
      "Test loss: 625.37430 | Test accuracy: 46.50%\n"
     ]
    },
    {
     "name": "stderr",
     "output_type": "stream",
     "text": [
      " 76%|███████▌  | 19/25 [34:00<10:39, 106.53s/it]"
     ]
    },
    {
     "name": "stdout",
     "output_type": "stream",
     "text": [
      " Epoch: 19\n",
      "---------\n",
      "Train loss: 0.92506 | Train accuracy: 61.71%\n",
      "Test loss: 624.93638 | Test accuracy: 46.51%\n"
     ]
    },
    {
     "name": "stderr",
     "output_type": "stream",
     "text": [
      " 80%|████████  | 20/25 [35:46<08:51, 106.37s/it]"
     ]
    },
    {
     "name": "stdout",
     "output_type": "stream",
     "text": [
      " Epoch: 20\n",
      "---------\n",
      "Train loss: 0.92194 | Train accuracy: 62.03%\n",
      "Test loss: 628.54023 | Test accuracy: 46.50%\n"
     ]
    },
    {
     "name": "stderr",
     "output_type": "stream",
     "text": [
      " 84%|████████▍ | 21/25 [37:33<07:06, 106.57s/it]"
     ]
    },
    {
     "name": "stdout",
     "output_type": "stream",
     "text": [
      " Epoch: 21\n",
      "---------\n",
      "Train loss: 0.92073 | Train accuracy: 62.17%\n",
      "Test loss: 626.28625 | Test accuracy: 46.54%\n"
     ]
    },
    {
     "name": "stderr",
     "output_type": "stream",
     "text": [
      " 88%|████████▊ | 22/25 [39:21<05:20, 106.90s/it]"
     ]
    },
    {
     "name": "stdout",
     "output_type": "stream",
     "text": [
      " Epoch: 22\n",
      "---------\n",
      "Train loss: 0.91588 | Train accuracy: 62.67%\n",
      "Test loss: 628.88924 | Test accuracy: 46.00%\n"
     ]
    },
    {
     "name": "stderr",
     "output_type": "stream",
     "text": [
      " 92%|█████████▏| 23/25 [41:07<03:33, 106.59s/it]"
     ]
    },
    {
     "name": "stdout",
     "output_type": "stream",
     "text": [
      " Epoch: 23\n",
      "---------\n",
      "Train loss: 0.91490 | Train accuracy: 62.81%\n",
      "Test loss: 628.42266 | Test accuracy: 46.46%\n"
     ]
    },
    {
     "name": "stderr",
     "output_type": "stream",
     "text": [
      " 96%|█████████▌| 24/25 [42:54<01:46, 106.84s/it]"
     ]
    },
    {
     "name": "stdout",
     "output_type": "stream",
     "text": [
      " Epoch: 24\n",
      "---------\n",
      "Train loss: 0.91373 | Train accuracy: 62.92%\n",
      "Test loss: 626.02410 | Test accuracy: 46.74%\n"
     ]
    },
    {
     "name": "stderr",
     "output_type": "stream",
     "text": [
      "100%|██████████| 25/25 [44:42<00:00, 107.30s/it]\n"
     ]
    },
    {
     "name": "stdout",
     "output_type": "stream",
     "text": [
      "[INFO] Saving model to: models\\Model _CNN_3STEP.pth\n",
      "tamanho da memória ocupada :2289.96 MB\n",
      "X_train shape: (112500, 2000) float64\n",
      "X_Test shape: (37500, 2000) float64\n",
      "y_train shape: (112500,) float64\n",
      "y_test shape: (37500,) float64\n",
      "\n",
      "--------\n",
      "X_train device: cpu\n",
      "X_Test device: cpu\n",
      "y_train device: cpu\n",
      "y_test device: cpu\n",
      "Valor 0: 50000 ocorrência(s)- 0.33%\n",
      "Valor 1: 50000 ocorrência(s)- 0.33%\n",
      "Valor 2: 50000 ocorrência(s)- 0.33%\n",
      "Dataset :  (150000, 2001)\n",
      "X torch.Size([64, 2000]) y torch.Size([64])\n",
      "----------------\n",
      "\n",
      "Dataloaders: (<torch.utils.data.dataloader.DataLoader object at 0x0000021E41C88350>, <torch.utils.data.dataloader.DataLoader object at 0x0000021E402582D0>)\n",
      "Length of train dataloader: 1758 batches of 64\n",
      "Length of test dataloader: 586 batches of 64\n",
      "Experiment Fourier:  2000 input size ,  6 Layers ,18 Blocks\n",
      "[INFO] Created SummaryWriter, saving to: runs\\2023-06-04\\Fourier_3_2000_inputsize_6_Layers_18_Blocks\\CNN_3STEP...\n",
      "Training on cpu\n"
     ]
    },
    {
     "name": "stderr",
     "output_type": "stream",
     "text": [
      "  0%|          | 0/25 [00:00<?, ?it/s]"
     ]
    },
    {
     "name": "stdout",
     "output_type": "stream",
     "text": [
      " Epoch: 0\n",
      "---------\n",
      "Train loss: 1.09410 | Train accuracy: 36.94%\n",
      "Test loss: 320.41313 | Test accuracy: 37.93%\n"
     ]
    },
    {
     "name": "stderr",
     "output_type": "stream",
     "text": [
      "  4%|▍         | 1/25 [01:02<25:06, 62.77s/it]"
     ]
    },
    {
     "name": "stdout",
     "output_type": "stream",
     "text": [
      " Epoch: 1\n",
      "---------\n",
      "Train loss: 1.08067 | Train accuracy: 40.79%\n",
      "Test loss: 319.38746 | Test accuracy: 39.25%\n"
     ]
    },
    {
     "name": "stderr",
     "output_type": "stream",
     "text": [
      "  8%|▊         | 2/25 [02:05<24:07, 62.95s/it]"
     ]
    },
    {
     "name": "stdout",
     "output_type": "stream",
     "text": [
      " Epoch: 2\n",
      "---------\n",
      "Train loss: 1.06316 | Train accuracy: 44.19%\n",
      "Test loss: 317.77343 | Test accuracy: 40.24%\n"
     ]
    },
    {
     "name": "stderr",
     "output_type": "stream",
     "text": [
      " 12%|█▏        | 3/25 [03:08<23:04, 62.95s/it]"
     ]
    },
    {
     "name": "stdout",
     "output_type": "stream",
     "text": [
      " Epoch: 3\n",
      "---------\n",
      "Train loss: 1.03985 | Train accuracy: 47.53%\n",
      "Test loss: 323.66048 | Test accuracy: 38.75%\n"
     ]
    },
    {
     "name": "stderr",
     "output_type": "stream",
     "text": [
      " 16%|█▌        | 4/25 [04:12<22:08, 63.27s/it]"
     ]
    },
    {
     "name": "stdout",
     "output_type": "stream",
     "text": [
      " Epoch: 4\n",
      "---------\n",
      "Train loss: 1.01035 | Train accuracy: 51.69%\n",
      "Test loss: 320.71815 | Test accuracy: 41.59%\n"
     ]
    },
    {
     "name": "stderr",
     "output_type": "stream",
     "text": [
      " 20%|██        | 5/25 [05:16<21:11, 63.60s/it]"
     ]
    },
    {
     "name": "stdout",
     "output_type": "stream",
     "text": [
      " Epoch: 5\n",
      "---------\n",
      "Train loss: 0.98306 | Train accuracy: 55.02%\n",
      "Test loss: 321.76316 | Test accuracy: 41.70%\n"
     ]
    },
    {
     "name": "stderr",
     "output_type": "stream",
     "text": [
      " 24%|██▍       | 6/25 [06:21<20:16, 64.04s/it]"
     ]
    },
    {
     "name": "stdout",
     "output_type": "stream",
     "text": [
      " Epoch: 6\n",
      "---------\n",
      "Train loss: 0.95749 | Train accuracy: 58.05%\n",
      "Test loss: 324.78547 | Test accuracy: 41.57%\n"
     ]
    },
    {
     "name": "stderr",
     "output_type": "stream",
     "text": [
      " 28%|██▊       | 7/25 [07:28<19:28, 64.89s/it]"
     ]
    },
    {
     "name": "stdout",
     "output_type": "stream",
     "text": [
      " Epoch: 7\n",
      "---------\n",
      "Train loss: 0.93821 | Train accuracy: 60.19%\n",
      "Test loss: 324.20044 | Test accuracy: 42.06%\n"
     ]
    },
    {
     "name": "stderr",
     "output_type": "stream",
     "text": [
      " 32%|███▏      | 8/25 [08:33<18:22, 64.85s/it]"
     ]
    },
    {
     "name": "stdout",
     "output_type": "stream",
     "text": [
      " Epoch: 8\n",
      "---------\n",
      "Train loss: 0.92373 | Train accuracy: 61.71%\n",
      "Test loss: 325.05167 | Test accuracy: 42.30%\n"
     ]
    },
    {
     "name": "stderr",
     "output_type": "stream",
     "text": [
      " 36%|███▌      | 9/25 [09:37<17:15, 64.74s/it]"
     ]
    },
    {
     "name": "stdout",
     "output_type": "stream",
     "text": [
      " Epoch: 9\n",
      "---------\n",
      "Train loss: 0.91032 | Train accuracy: 63.22%\n",
      "Test loss: 327.69861 | Test accuracy: 41.10%\n"
     ]
    },
    {
     "name": "stderr",
     "output_type": "stream",
     "text": [
      " 40%|████      | 10/25 [10:42<16:13, 64.87s/it]"
     ]
    },
    {
     "name": "stdout",
     "output_type": "stream",
     "text": [
      " Epoch: 10\n",
      "---------\n",
      "Train loss: 0.90007 | Train accuracy: 64.34%\n",
      "Test loss: 326.10090 | Test accuracy: 42.74%\n"
     ]
    },
    {
     "name": "stderr",
     "output_type": "stream",
     "text": [
      " 44%|████▍     | 11/25 [11:47<15:07, 64.84s/it]"
     ]
    },
    {
     "name": "stdout",
     "output_type": "stream",
     "text": [
      " Epoch: 11\n",
      "---------\n",
      "Train loss: 0.89161 | Train accuracy: 65.21%\n",
      "Test loss: 326.85865 | Test accuracy: 42.27%\n"
     ]
    },
    {
     "name": "stderr",
     "output_type": "stream",
     "text": [
      " 48%|████▊     | 12/25 [12:53<14:06, 65.14s/it]"
     ]
    },
    {
     "name": "stdout",
     "output_type": "stream",
     "text": [
      " Epoch: 12\n",
      "---------\n",
      "Train loss: 0.88539 | Train accuracy: 65.85%\n",
      "Test loss: 328.76904 | Test accuracy: 41.55%\n"
     ]
    },
    {
     "name": "stderr",
     "output_type": "stream",
     "text": [
      " 52%|█████▏    | 13/25 [13:57<12:58, 64.87s/it]"
     ]
    },
    {
     "name": "stdout",
     "output_type": "stream",
     "text": [
      " Epoch: 13\n",
      "---------\n",
      "Train loss: 0.88012 | Train accuracy: 66.50%\n",
      "Test loss: 329.56149 | Test accuracy: 41.12%\n"
     ]
    },
    {
     "name": "stderr",
     "output_type": "stream",
     "text": [
      " 56%|█████▌    | 14/25 [15:03<11:55, 65.05s/it]"
     ]
    },
    {
     "name": "stdout",
     "output_type": "stream",
     "text": [
      " Epoch: 14\n",
      "---------\n",
      "Train loss: 0.87295 | Train accuracy: 67.23%\n",
      "Test loss: 327.79534 | Test accuracy: 41.80%\n"
     ]
    },
    {
     "name": "stderr",
     "output_type": "stream",
     "text": [
      " 60%|██████    | 15/25 [16:08<10:50, 65.10s/it]"
     ]
    },
    {
     "name": "stdout",
     "output_type": "stream",
     "text": [
      " Epoch: 15\n",
      "---------\n",
      "Train loss: 0.87143 | Train accuracy: 67.38%\n",
      "Test loss: 325.91213 | Test accuracy: 42.45%\n"
     ]
    },
    {
     "name": "stderr",
     "output_type": "stream",
     "text": [
      " 64%|██████▍   | 16/25 [17:13<09:46, 65.15s/it]"
     ]
    },
    {
     "name": "stdout",
     "output_type": "stream",
     "text": [
      " Epoch: 16\n",
      "---------\n",
      "Train loss: 0.87248 | Train accuracy: 67.27%\n",
      "Test loss: 327.96687 | Test accuracy: 42.08%\n"
     ]
    },
    {
     "name": "stderr",
     "output_type": "stream",
     "text": [
      " 68%|██████▊   | 17/25 [18:18<08:40, 65.11s/it]"
     ]
    },
    {
     "name": "stdout",
     "output_type": "stream",
     "text": [
      " Epoch: 17\n",
      "---------\n",
      "Train loss: 0.88256 | Train accuracy: 66.35%\n",
      "Test loss: 328.45466 | Test accuracy: 41.85%\n"
     ]
    },
    {
     "name": "stderr",
     "output_type": "stream",
     "text": [
      " 72%|███████▏  | 18/25 [19:24<07:36, 65.24s/it]"
     ]
    },
    {
     "name": "stdout",
     "output_type": "stream",
     "text": [
      " Epoch: 18\n",
      "---------\n",
      "Train loss: 0.87624 | Train accuracy: 67.01%\n",
      "Test loss: 328.06425 | Test accuracy: 42.12%\n"
     ]
    },
    {
     "name": "stderr",
     "output_type": "stream",
     "text": [
      " 76%|███████▌  | 19/25 [20:30<06:33, 65.63s/it]"
     ]
    },
    {
     "name": "stdout",
     "output_type": "stream",
     "text": [
      " Epoch: 19\n",
      "---------\n",
      "Train loss: 0.87167 | Train accuracy: 67.53%\n",
      "Test loss: 327.25776 | Test accuracy: 42.23%\n"
     ]
    },
    {
     "name": "stderr",
     "output_type": "stream",
     "text": [
      " 80%|████████  | 20/25 [21:37<05:30, 66.03s/it]"
     ]
    },
    {
     "name": "stdout",
     "output_type": "stream",
     "text": [
      " Epoch: 20\n",
      "---------\n",
      "Train loss: 0.86660 | Train accuracy: 68.10%\n",
      "Test loss: 328.84929 | Test accuracy: 42.04%\n"
     ]
    },
    {
     "name": "stderr",
     "output_type": "stream",
     "text": [
      " 84%|████████▍ | 21/25 [22:44<04:25, 66.33s/it]"
     ]
    },
    {
     "name": "stdout",
     "output_type": "stream",
     "text": [
      " Epoch: 21\n",
      "---------\n",
      "Train loss: 0.85403 | Train accuracy: 69.20%\n",
      "Test loss: 328.16897 | Test accuracy: 42.00%\n"
     ]
    },
    {
     "name": "stderr",
     "output_type": "stream",
     "text": [
      " 88%|████████▊ | 22/25 [23:49<03:18, 66.02s/it]"
     ]
    },
    {
     "name": "stdout",
     "output_type": "stream",
     "text": [
      " Epoch: 22\n",
      "---------\n",
      "Train loss: 0.84258 | Train accuracy: 70.34%\n",
      "Test loss: 327.72084 | Test accuracy: 42.37%\n"
     ]
    },
    {
     "name": "stderr",
     "output_type": "stream",
     "text": [
      " 92%|█████████▏| 23/25 [24:55<02:11, 65.93s/it]"
     ]
    },
    {
     "name": "stdout",
     "output_type": "stream",
     "text": [
      " Epoch: 23\n",
      "---------\n",
      "Train loss: 0.83721 | Train accuracy: 70.94%\n",
      "Test loss: 327.07891 | Test accuracy: 42.58%\n"
     ]
    },
    {
     "name": "stderr",
     "output_type": "stream",
     "text": [
      " 96%|█████████▌| 24/25 [26:01<01:05, 65.84s/it]"
     ]
    },
    {
     "name": "stdout",
     "output_type": "stream",
     "text": [
      " Epoch: 24\n",
      "---------\n",
      "Train loss: 0.83437 | Train accuracy: 71.26%\n",
      "Test loss: 326.92808 | Test accuracy: 42.34%\n"
     ]
    },
    {
     "name": "stderr",
     "output_type": "stream",
     "text": [
      "100%|██████████| 25/25 [27:08<00:00, 65.13s/it]\n"
     ]
    },
    {
     "name": "stdout",
     "output_type": "stream",
     "text": [
      "[INFO] Saving model to: models\\Model _CNN_3STEP.pth\n",
      "tamanho da memória ocupada :2289.39 MB\n",
      "X_train shape: (56250, 4000) float64\n",
      "X_Test shape: (18750, 4000) float64\n",
      "y_train shape: (56250,) float64\n",
      "y_test shape: (18750,) float64\n",
      "\n",
      "--------\n",
      "X_train device: cpu\n",
      "X_Test device: cpu\n",
      "y_train device: cpu\n",
      "y_test device: cpu\n",
      "Valor 0: 25000 ocorrência(s)- 0.33%\n",
      "Valor 1: 25000 ocorrência(s)- 0.33%\n",
      "Valor 2: 25000 ocorrência(s)- 0.33%\n",
      "Dataset :  (75000, 4001)\n",
      "X torch.Size([64, 4000]) y torch.Size([64])\n",
      "----------------\n",
      "\n",
      "Dataloaders: (<torch.utils.data.dataloader.DataLoader object at 0x0000021E41909210>, <torch.utils.data.dataloader.DataLoader object at 0x0000021E4190BB90>)\n",
      "Length of train dataloader: 879 batches of 64\n",
      "Length of test dataloader: 293 batches of 64\n",
      "Experiment Fourier:  4000 input size ,  6 Layers ,18 Blocks\n",
      "[INFO] Created SummaryWriter, saving to: runs\\2023-06-04\\Fourier_4_4000_inputsize_6_Layers_18_Blocks\\CNN_3STEP...\n",
      "Training on cpu\n"
     ]
    },
    {
     "name": "stderr",
     "output_type": "stream",
     "text": [
      "  0%|          | 0/25 [00:00<?, ?it/s]"
     ]
    },
    {
     "name": "stdout",
     "output_type": "stream",
     "text": [
      " Epoch: 0\n",
      "---------\n",
      "Train loss: 1.09316 | Train accuracy: 37.35%\n",
      "Test loss: 160.16295 | Test accuracy: 38.44%\n"
     ]
    },
    {
     "name": "stderr",
     "output_type": "stream",
     "text": [
      "  4%|▍         | 1/25 [00:40<16:05, 40.21s/it]"
     ]
    },
    {
     "name": "stdout",
     "output_type": "stream",
     "text": [
      " Epoch: 1\n",
      "---------\n",
      "Train loss: 1.07719 | Train accuracy: 41.56%\n",
      "Test loss: 160.54107 | Test accuracy: 38.71%\n"
     ]
    },
    {
     "name": "stderr",
     "output_type": "stream",
     "text": [
      "  8%|▊         | 2/25 [01:21<15:38, 40.78s/it]"
     ]
    },
    {
     "name": "stdout",
     "output_type": "stream",
     "text": [
      " Epoch: 2\n",
      "---------\n",
      "Train loss: 1.05171 | Train accuracy: 46.04%\n",
      "Test loss: 161.88239 | Test accuracy: 38.94%\n"
     ]
    },
    {
     "name": "stderr",
     "output_type": "stream",
     "text": [
      " 12%|█▏        | 3/25 [02:02<14:57, 40.81s/it]"
     ]
    },
    {
     "name": "stdout",
     "output_type": "stream",
     "text": [
      " Epoch: 3\n",
      "---------\n",
      "Train loss: 1.02182 | Train accuracy: 50.56%\n",
      "Test loss: 162.55888 | Test accuracy: 39.97%\n"
     ]
    },
    {
     "name": "stderr",
     "output_type": "stream",
     "text": [
      " 16%|█▌        | 4/25 [02:43<14:21, 41.02s/it]"
     ]
    },
    {
     "name": "stdout",
     "output_type": "stream",
     "text": [
      " Epoch: 4\n",
      "---------\n",
      "Train loss: 0.98149 | Train accuracy: 55.29%\n",
      "Test loss: 161.67506 | Test accuracy: 39.70%\n"
     ]
    },
    {
     "name": "stderr",
     "output_type": "stream",
     "text": [
      " 20%|██        | 5/25 [03:24<13:43, 41.15s/it]"
     ]
    },
    {
     "name": "stdout",
     "output_type": "stream",
     "text": [
      " Epoch: 5\n",
      "---------\n",
      "Train loss: 0.94381 | Train accuracy: 59.57%\n",
      "Test loss: 168.21607 | Test accuracy: 36.86%\n"
     ]
    },
    {
     "name": "stderr",
     "output_type": "stream",
     "text": [
      " 24%|██▍       | 6/25 [04:05<12:58, 40.98s/it]"
     ]
    },
    {
     "name": "stdout",
     "output_type": "stream",
     "text": [
      " Epoch: 6\n",
      "---------\n",
      "Train loss: 0.91206 | Train accuracy: 62.99%\n",
      "Test loss: 167.57577 | Test accuracy: 37.63%\n"
     ]
    },
    {
     "name": "stderr",
     "output_type": "stream",
     "text": [
      " 28%|██▊       | 7/25 [04:46<12:18, 41.05s/it]"
     ]
    },
    {
     "name": "stdout",
     "output_type": "stream",
     "text": [
      " Epoch: 7\n",
      "---------\n",
      "Train loss: 0.88849 | Train accuracy: 65.57%\n",
      "Test loss: 167.31592 | Test accuracy: 39.15%\n"
     ]
    },
    {
     "name": "stderr",
     "output_type": "stream",
     "text": [
      " 32%|███▏      | 8/25 [05:28<11:39, 41.16s/it]"
     ]
    },
    {
     "name": "stdout",
     "output_type": "stream",
     "text": [
      " Epoch: 8\n",
      "---------\n",
      "Train loss: 0.87026 | Train accuracy: 67.36%\n",
      "Test loss: 173.83043 | Test accuracy: 34.91%\n"
     ]
    },
    {
     "name": "stderr",
     "output_type": "stream",
     "text": [
      " 36%|███▌      | 9/25 [06:12<11:14, 42.13s/it]"
     ]
    },
    {
     "name": "stdout",
     "output_type": "stream",
     "text": [
      " Epoch: 9\n",
      "---------\n",
      "Train loss: 0.85520 | Train accuracy: 69.00%\n",
      "Test loss: 167.41864 | Test accuracy: 39.60%\n"
     ]
    },
    {
     "name": "stderr",
     "output_type": "stream",
     "text": [
      " 40%|████      | 10/25 [06:56<10:38, 42.60s/it]"
     ]
    },
    {
     "name": "stdout",
     "output_type": "stream",
     "text": [
      " Epoch: 10\n",
      "---------\n",
      "Train loss: 0.84340 | Train accuracy: 70.18%\n",
      "Test loss: 168.01473 | Test accuracy: 39.45%\n"
     ]
    },
    {
     "name": "stderr",
     "output_type": "stream",
     "text": [
      " 44%|████▍     | 11/25 [07:39<09:58, 42.76s/it]"
     ]
    },
    {
     "name": "stdout",
     "output_type": "stream",
     "text": [
      " Epoch: 11\n",
      "---------\n",
      "Train loss: 0.83286 | Train accuracy: 71.24%\n",
      "Test loss: 168.31346 | Test accuracy: 39.53%\n"
     ]
    },
    {
     "name": "stderr",
     "output_type": "stream",
     "text": [
      " 48%|████▊     | 12/25 [08:22<09:17, 42.86s/it]"
     ]
    },
    {
     "name": "stdout",
     "output_type": "stream",
     "text": [
      " Epoch: 12\n",
      "---------\n",
      "Train loss: 0.82586 | Train accuracy: 71.97%\n",
      "Test loss: 168.49239 | Test accuracy: 39.34%\n"
     ]
    },
    {
     "name": "stderr",
     "output_type": "stream",
     "text": [
      " 52%|█████▏    | 13/25 [09:05<08:34, 42.92s/it]"
     ]
    },
    {
     "name": "stdout",
     "output_type": "stream",
     "text": [
      " Epoch: 13\n",
      "---------\n",
      "Train loss: 0.81398 | Train accuracy: 73.17%\n",
      "Test loss: 167.47199 | Test accuracy: 40.00%\n"
     ]
    },
    {
     "name": "stderr",
     "output_type": "stream",
     "text": [
      " 56%|█████▌    | 14/25 [09:48<07:51, 42.89s/it]"
     ]
    },
    {
     "name": "stdout",
     "output_type": "stream",
     "text": [
      " Epoch: 14\n",
      "---------\n",
      "Train loss: 0.80414 | Train accuracy: 74.26%\n",
      "Test loss: 168.92049 | Test accuracy: 39.08%\n"
     ]
    },
    {
     "name": "stderr",
     "output_type": "stream",
     "text": [
      " 60%|██████    | 15/25 [10:31<07:09, 42.91s/it]"
     ]
    },
    {
     "name": "stdout",
     "output_type": "stream",
     "text": [
      " Epoch: 15\n",
      "---------\n",
      "Train loss: 0.80261 | Train accuracy: 74.36%\n",
      "Test loss: 168.29244 | Test accuracy: 38.86%\n"
     ]
    },
    {
     "name": "stderr",
     "output_type": "stream",
     "text": [
      " 64%|██████▍   | 16/25 [11:14<06:26, 42.96s/it]"
     ]
    },
    {
     "name": "stdout",
     "output_type": "stream",
     "text": [
      " Epoch: 16\n",
      "---------\n",
      "Train loss: 0.79046 | Train accuracy: 75.62%\n",
      "Test loss: 173.92968 | Test accuracy: 34.87%\n"
     ]
    },
    {
     "name": "stderr",
     "output_type": "stream",
     "text": [
      " 68%|██████▊   | 17/25 [11:57<05:44, 43.01s/it]"
     ]
    },
    {
     "name": "stdout",
     "output_type": "stream",
     "text": [
      " Epoch: 17\n",
      "---------\n",
      "Train loss: 0.78303 | Train accuracy: 76.41%\n",
      "Test loss: 168.46419 | Test accuracy: 39.00%\n"
     ]
    },
    {
     "name": "stderr",
     "output_type": "stream",
     "text": [
      " 72%|███████▏  | 18/25 [12:41<05:03, 43.35s/it]"
     ]
    },
    {
     "name": "stdout",
     "output_type": "stream",
     "text": [
      " Epoch: 18\n",
      "---------\n",
      "Train loss: 0.76951 | Train accuracy: 77.78%\n",
      "Test loss: 169.19201 | Test accuracy: 38.45%\n"
     ]
    },
    {
     "name": "stderr",
     "output_type": "stream",
     "text": [
      " 76%|███████▌  | 19/25 [13:25<04:21, 43.56s/it]"
     ]
    },
    {
     "name": "stdout",
     "output_type": "stream",
     "text": [
      " Epoch: 19\n",
      "---------\n",
      "Train loss: 0.76333 | Train accuracy: 78.45%\n",
      "Test loss: 168.55326 | Test accuracy: 39.30%\n"
     ]
    },
    {
     "name": "stderr",
     "output_type": "stream",
     "text": [
      " 80%|████████  | 20/25 [14:09<03:37, 43.59s/it]"
     ]
    },
    {
     "name": "stdout",
     "output_type": "stream",
     "text": [
      " Epoch: 20\n",
      "---------\n",
      "Train loss: 0.75938 | Train accuracy: 78.85%\n",
      "Test loss: 168.61384 | Test accuracy: 39.44%\n"
     ]
    },
    {
     "name": "stderr",
     "output_type": "stream",
     "text": [
      " 84%|████████▍ | 21/25 [14:54<02:55, 43.99s/it]"
     ]
    },
    {
     "name": "stdout",
     "output_type": "stream",
     "text": [
      " Epoch: 21\n",
      "---------\n",
      "Train loss: 0.75142 | Train accuracy: 79.64%\n",
      "Test loss: 170.54582 | Test accuracy: 38.02%\n"
     ]
    },
    {
     "name": "stderr",
     "output_type": "stream",
     "text": [
      " 88%|████████▊ | 22/25 [15:37<02:11, 43.82s/it]"
     ]
    },
    {
     "name": "stdout",
     "output_type": "stream",
     "text": [
      " Epoch: 22\n",
      "---------\n",
      "Train loss: 0.74430 | Train accuracy: 80.45%\n",
      "Test loss: 168.34166 | Test accuracy: 39.83%\n"
     ]
    },
    {
     "name": "stderr",
     "output_type": "stream",
     "text": [
      " 92%|█████████▏| 23/25 [16:20<01:27, 43.65s/it]"
     ]
    },
    {
     "name": "stdout",
     "output_type": "stream",
     "text": [
      " Epoch: 23\n",
      "---------\n",
      "Train loss: 0.74310 | Train accuracy: 80.50%\n",
      "Test loss: 168.30542 | Test accuracy: 39.72%\n"
     ]
    },
    {
     "name": "stderr",
     "output_type": "stream",
     "text": [
      " 96%|█████████▌| 24/25 [17:04<00:43, 43.68s/it]"
     ]
    },
    {
     "name": "stdout",
     "output_type": "stream",
     "text": [
      " Epoch: 24\n",
      "---------\n",
      "Train loss: 0.73781 | Train accuracy: 81.05%\n",
      "Test loss: 169.28927 | Test accuracy: 38.99%\n"
     ]
    },
    {
     "name": "stderr",
     "output_type": "stream",
     "text": [
      "100%|██████████| 25/25 [17:48<00:00, 42.73s/it]"
     ]
    },
    {
     "name": "stdout",
     "output_type": "stream",
     "text": [
      "[INFO] Saving model to: models\\Model _CNN_3STEP.pth\n"
     ]
    },
    {
     "name": "stderr",
     "output_type": "stream",
     "text": [
      "\n"
     ]
    }
   ],
   "source": [
    "input_size = [250, 500, 1000 ,2000,4000]\n",
    "\n",
    "for i in range(len(input_size)):\n",
    "\n",
    "    data = DATA_1M(seconds=30,columns=input_size[i], jump_time =2, n_jumps=1) ; data_fourier = data(Fourier=True, Normalizing= True)\n",
    "    \n",
    "    Torch = NeuralNetCNN(columns= data_fourier.shape[1] -1,conv_blocks =4,groupblocks=3)\n",
    "\n",
    "    data.Spliting(data= data_fourier, random_state= 30, test_size = 0.25, shuffle = True, inplace= False)\n",
    "\n",
    "    train_dataloader , test_dataloader = data.DataLoaders(batch_size=64, inplace=True)\n",
    "\n",
    "    experiment_name = f\"Fourier_{i}_{data_fourier.shape[1]-1}_inputsize_{len(list(Torch.Cnn.children()))}_Layers_{Torch.count_blocks(Torch.Cnn)}_Blocks\"\n",
    "    \n",
    "    model_name = 'CNN_3STEP'\n",
    "\n",
    "    print(f\"Experiment Fourier:  {data_fourier.shape[1]-1} input size ,  {len(list(Torch.Cnn.children()))} Layers ,{Torch.count_blocks(Torch.Cnn)} Blocks\")\n",
    "\n",
    "    \n",
    "    Torch.training_loop(model= Torch.Cnn,\n",
    "        data_loader_train= train_dataloader,\n",
    "        data_loader_test= test_dataloader,\n",
    "        optimizer= Torch.optimizer,\n",
    "        loss_fn= Torch.loss_fn,\n",
    "        device= Torch.device,\n",
    "        accuracy_fn= accuracy_fn,\n",
    "        writer= create_writer(experiment_name=experiment_name,\n",
    "                              model_name= model_name\n",
    "                              ),\n",
    "        epochs= 25)\n",
    "    ## Salvando o modelo\n",
    "    save_filepath = f\"Model _{model_name}.pth\"\n",
    "    save_model(model=Torch.Cnn,\n",
    "               target_dir=\"models\",\n",
    "               model_name=save_filepath)\n",
    "    "
   ]
  },
  {
   "cell_type": "code",
   "execution_count": 10,
   "metadata": {},
   "outputs": [
    {
     "name": "stdout",
     "output_type": "stream",
     "text": [
      "tamanho da memória ocupada :2297.97 MB\n",
      "X_train shape: (900000, 250) float64\n",
      "X_Test shape: (300000, 250) float64\n",
      "y_train shape: (900000,) float64\n",
      "y_test shape: (300000,) float64\n",
      "\n",
      "--------\n",
      "X_train device: cpu\n",
      "X_Test device: cpu\n",
      "y_train device: cpu\n",
      "y_test device: cpu\n",
      "Valor 0: 400000 ocorrência(s)- 0.33%\n",
      "Valor 1: 400000 ocorrência(s)- 0.33%\n",
      "Valor 2: 400000 ocorrência(s)- 0.33%\n",
      "Dataset :  (1200000, 251)\n",
      "X torch.Size([128, 250]) y torch.Size([128])\n",
      "----------------\n",
      "\n",
      "Dataloaders: (<torch.utils.data.dataloader.DataLoader object at 0x0000021E40F9BC50>, <torch.utils.data.dataloader.DataLoader object at 0x0000021E41908F10>)\n",
      "Length of train dataloader: 7032 batches of 128\n",
      "Length of test dataloader: 2344 batches of 128\n",
      "Experiment Fourier:  250 input size ,  3 Layers ,5 Blocks\n",
      "[INFO] Created SummaryWriter, saving to: runs\\2023-06-04\\No_Fourier_0_250_inputsize_3_Layers_5_Blocks\\CNN_4STEP...\n",
      "Training on cpu\n"
     ]
    },
    {
     "name": "stderr",
     "output_type": "stream",
     "text": [
      "  0%|          | 0/25 [00:00<?, ?it/s]"
     ]
    },
    {
     "name": "stdout",
     "output_type": "stream",
     "text": [
      " Epoch: 0\n",
      "---------\n",
      "Train loss: 0.81734 | Train accuracy: 72.34%\n",
      "Test loss: 912.41609 | Test accuracy: 76.32%\n"
     ]
    },
    {
     "name": "stderr",
     "output_type": "stream",
     "text": [
      "  4%|▍         | 1/25 [01:34<37:44, 94.34s/it]"
     ]
    },
    {
     "name": "stdout",
     "output_type": "stream",
     "text": [
      " Epoch: 1\n",
      "---------\n",
      "Train loss: 0.77253 | Train accuracy: 77.13%\n",
      "Test loss: 892.69339 | Test accuracy: 78.16%\n"
     ]
    },
    {
     "name": "stderr",
     "output_type": "stream",
     "text": [
      "  8%|▊         | 2/25 [03:08<36:12, 94.47s/it]"
     ]
    },
    {
     "name": "stdout",
     "output_type": "stream",
     "text": [
      " Epoch: 2\n",
      "---------\n",
      "Train loss: 0.76093 | Train accuracy: 78.33%\n",
      "Test loss: 887.94647 | Test accuracy: 78.61%\n"
     ]
    },
    {
     "name": "stderr",
     "output_type": "stream",
     "text": [
      " 12%|█▏        | 3/25 [04:43<34:36, 94.41s/it]"
     ]
    },
    {
     "name": "stdout",
     "output_type": "stream",
     "text": [
      " Epoch: 3\n",
      "---------\n",
      "Train loss: 0.75323 | Train accuracy: 79.14%\n",
      "Test loss: 883.67280 | Test accuracy: 79.01%\n"
     ]
    },
    {
     "name": "stderr",
     "output_type": "stream",
     "text": [
      " 16%|█▌        | 4/25 [06:20<33:27, 95.59s/it]"
     ]
    },
    {
     "name": "stdout",
     "output_type": "stream",
     "text": [
      " Epoch: 4\n",
      "---------\n",
      "Train loss: 0.74839 | Train accuracy: 79.67%\n",
      "Test loss: 880.20204 | Test accuracy: 79.35%\n"
     ]
    },
    {
     "name": "stderr",
     "output_type": "stream",
     "text": [
      " 20%|██        | 5/25 [07:54<31:40, 95.03s/it]"
     ]
    },
    {
     "name": "stdout",
     "output_type": "stream",
     "text": [
      " Epoch: 5\n",
      "---------\n",
      "Train loss: 0.74436 | Train accuracy: 80.08%\n",
      "Test loss: 877.47720 | Test accuracy: 79.55%\n"
     ]
    },
    {
     "name": "stderr",
     "output_type": "stream",
     "text": [
      " 24%|██▍       | 6/25 [09:28<29:57, 94.63s/it]"
     ]
    },
    {
     "name": "stdout",
     "output_type": "stream",
     "text": [
      " Epoch: 6\n",
      "---------\n",
      "Train loss: 0.74134 | Train accuracy: 80.38%\n"
     ]
    },
    {
     "name": "stderr",
     "output_type": "stream",
     "text": [
      " 28%|██▊       | 7/25 [11:03<28:23, 94.66s/it]"
     ]
    },
    {
     "name": "stdout",
     "output_type": "stream",
     "text": [
      "Test loss: 874.80530 | Test accuracy: 79.81%\n",
      " Epoch: 7\n",
      "---------\n",
      "Train loss: 0.73898 | Train accuracy: 80.65%\n",
      "Test loss: 876.14682 | Test accuracy: 79.72%\n"
     ]
    },
    {
     "name": "stderr",
     "output_type": "stream",
     "text": [
      " 32%|███▏      | 8/25 [12:37<26:46, 94.48s/it]"
     ]
    },
    {
     "name": "stdout",
     "output_type": "stream",
     "text": [
      " Epoch: 8\n",
      "---------\n",
      "Train loss: 0.73693 | Train accuracy: 80.87%\n",
      "Test loss: 871.98543 | Test accuracy: 80.01%\n"
     ]
    },
    {
     "name": "stderr",
     "output_type": "stream",
     "text": [
      " 36%|███▌      | 9/25 [14:11<25:08, 94.29s/it]"
     ]
    },
    {
     "name": "stdout",
     "output_type": "stream",
     "text": [
      " Epoch: 9\n",
      "---------\n",
      "Train loss: 0.73514 | Train accuracy: 81.07%\n"
     ]
    },
    {
     "name": "stderr",
     "output_type": "stream",
     "text": [
      " 40%|████      | 10/25 [15:45<23:34, 94.31s/it]"
     ]
    },
    {
     "name": "stdout",
     "output_type": "stream",
     "text": [
      "Test loss: 873.48226 | Test accuracy: 79.90%\n",
      " Epoch: 10\n",
      "---------\n",
      "Train loss: 0.73372 | Train accuracy: 81.20%\n",
      "Test loss: 870.04042 | Test accuracy: 80.23%\n"
     ]
    },
    {
     "name": "stderr",
     "output_type": "stream",
     "text": [
      " 44%|████▍     | 11/25 [17:21<22:08, 94.87s/it]"
     ]
    },
    {
     "name": "stdout",
     "output_type": "stream",
     "text": [
      " Epoch: 11\n",
      "---------\n",
      "Train loss: 0.73221 | Train accuracy: 81.39%\n",
      "Test loss: 870.02275 | Test accuracy: 80.22%\n"
     ]
    },
    {
     "name": "stderr",
     "output_type": "stream",
     "text": [
      " 48%|████▊     | 12/25 [18:56<20:32, 94.80s/it]"
     ]
    },
    {
     "name": "stdout",
     "output_type": "stream",
     "text": [
      " Epoch: 12\n",
      "---------\n",
      "Train loss: 0.73064 | Train accuracy: 81.52%\n",
      "Test loss: 869.82514 | Test accuracy: 80.26%\n"
     ]
    },
    {
     "name": "stderr",
     "output_type": "stream",
     "text": [
      " 52%|█████▏    | 13/25 [20:30<18:53, 94.47s/it]"
     ]
    },
    {
     "name": "stdout",
     "output_type": "stream",
     "text": [
      " Epoch: 13\n",
      "---------\n",
      "Train loss: 0.72957 | Train accuracy: 81.66%\n",
      "Test loss: 866.43099 | Test accuracy: 80.56%\n"
     ]
    },
    {
     "name": "stderr",
     "output_type": "stream",
     "text": [
      " 56%|█████▌    | 14/25 [22:04<17:17, 94.33s/it]"
     ]
    },
    {
     "name": "stdout",
     "output_type": "stream",
     "text": [
      " Epoch: 14\n",
      "---------\n",
      "Train loss: 0.72884 | Train accuracy: 81.73%\n",
      "Test loss: 866.48517 | Test accuracy: 80.47%\n"
     ]
    },
    {
     "name": "stderr",
     "output_type": "stream",
     "text": [
      " 60%|██████    | 15/25 [23:37<15:41, 94.18s/it]"
     ]
    },
    {
     "name": "stdout",
     "output_type": "stream",
     "text": [
      " Epoch: 15\n",
      "---------\n",
      "Train loss: 0.72749 | Train accuracy: 81.90%\n",
      "Test loss: 866.93116 | Test accuracy: 80.48%\n"
     ]
    },
    {
     "name": "stderr",
     "output_type": "stream",
     "text": [
      " 64%|██████▍   | 16/25 [25:11<14:06, 94.06s/it]"
     ]
    },
    {
     "name": "stdout",
     "output_type": "stream",
     "text": [
      " Epoch: 16\n",
      "---------\n",
      "Train loss: 0.72671 | Train accuracy: 81.97%\n"
     ]
    },
    {
     "name": "stderr",
     "output_type": "stream",
     "text": [
      " 68%|██████▊   | 17/25 [26:46<12:33, 94.24s/it]"
     ]
    },
    {
     "name": "stdout",
     "output_type": "stream",
     "text": [
      "Test loss: 867.74489 | Test accuracy: 80.46%\n",
      " Epoch: 17\n",
      "---------\n",
      "Train loss: 0.72568 | Train accuracy: 82.06%\n",
      "Test loss: 866.21843 | Test accuracy: 80.57%\n"
     ]
    },
    {
     "name": "stderr",
     "output_type": "stream",
     "text": [
      " 72%|███████▏  | 18/25 [28:20<10:59, 94.15s/it]"
     ]
    },
    {
     "name": "stdout",
     "output_type": "stream",
     "text": [
      " Epoch: 18\n",
      "---------\n",
      "Train loss: 0.72499 | Train accuracy: 82.15%\n",
      "Test loss: 864.75087 | Test accuracy: 80.69%\n"
     ]
    },
    {
     "name": "stderr",
     "output_type": "stream",
     "text": [
      " 76%|███████▌  | 19/25 [29:55<09:26, 94.35s/it]"
     ]
    },
    {
     "name": "stdout",
     "output_type": "stream",
     "text": [
      " Epoch: 19\n",
      "---------\n",
      "Train loss: 0.72424 | Train accuracy: 82.20%\n",
      "Test loss: 864.95254 | Test accuracy: 80.64%\n"
     ]
    },
    {
     "name": "stderr",
     "output_type": "stream",
     "text": [
      " 80%|████████  | 20/25 [31:29<07:51, 94.29s/it]"
     ]
    },
    {
     "name": "stdout",
     "output_type": "stream",
     "text": [
      " Epoch: 20\n",
      "---------\n",
      "Train loss: 0.72325 | Train accuracy: 82.34%\n"
     ]
    },
    {
     "name": "stderr",
     "output_type": "stream",
     "text": [
      " 84%|████████▍ | 21/25 [33:03<06:17, 94.26s/it]"
     ]
    },
    {
     "name": "stdout",
     "output_type": "stream",
     "text": [
      "Test loss: 864.96295 | Test accuracy: 80.65%\n",
      " Epoch: 21\n",
      "---------\n",
      "Train loss: 0.72272 | Train accuracy: 82.39%\n",
      "Test loss: 864.67010 | Test accuracy: 80.75%\n"
     ]
    },
    {
     "name": "stderr",
     "output_type": "stream",
     "text": [
      " 88%|████████▊ | 22/25 [34:37<04:42, 94.32s/it]"
     ]
    },
    {
     "name": "stdout",
     "output_type": "stream",
     "text": [
      " Epoch: 22\n",
      "---------\n",
      "Train loss: 0.72206 | Train accuracy: 82.46%\n",
      "Test loss: 863.71473 | Test accuracy: 80.81%\n"
     ]
    },
    {
     "name": "stderr",
     "output_type": "stream",
     "text": [
      " 92%|█████████▏| 23/25 [36:11<03:08, 94.20s/it]"
     ]
    },
    {
     "name": "stdout",
     "output_type": "stream",
     "text": [
      " Epoch: 23\n",
      "---------\n",
      "Train loss: 0.72172 | Train accuracy: 82.50%\n",
      "Test loss: 862.85634 | Test accuracy: 80.90%\n"
     ]
    },
    {
     "name": "stderr",
     "output_type": "stream",
     "text": [
      " 96%|█████████▌| 24/25 [37:45<01:34, 94.20s/it]"
     ]
    },
    {
     "name": "stdout",
     "output_type": "stream",
     "text": [
      " Epoch: 24\n",
      "---------\n",
      "Train loss: 0.72102 | Train accuracy: 82.56%\n",
      "Test loss: 864.08767 | Test accuracy: 80.79%\n"
     ]
    },
    {
     "name": "stderr",
     "output_type": "stream",
     "text": [
      "100%|██████████| 25/25 [39:20<00:00, 94.41s/it]\n"
     ]
    },
    {
     "name": "stdout",
     "output_type": "stream",
     "text": [
      "[INFO] Saving model to: models\\Model _CNN_4STEP.pth\n",
      "tamanho da memória ocupada :2293.40 MB\n",
      "X_train shape: (450000, 500) float64\n",
      "X_Test shape: (150000, 500) float64\n",
      "y_train shape: (450000,) float64\n",
      "y_test shape: (150000,) float64\n",
      "\n",
      "--------\n",
      "X_train device: cpu\n",
      "X_Test device: cpu\n",
      "y_train device: cpu\n",
      "y_test device: cpu\n",
      "Valor 0: 200000 ocorrência(s)- 0.33%\n",
      "Valor 1: 200000 ocorrência(s)- 0.33%\n",
      "Valor 2: 200000 ocorrência(s)- 0.33%\n",
      "Dataset :  (600000, 501)\n",
      "X torch.Size([128, 500]) y torch.Size([128])\n",
      "----------------\n",
      "\n",
      "Dataloaders: (<torch.utils.data.dataloader.DataLoader object at 0x00000221AC17C3D0>, <torch.utils.data.dataloader.DataLoader object at 0x00000221AC17EE10>)\n",
      "Length of train dataloader: 3516 batches of 128\n",
      "Length of test dataloader: 1172 batches of 128\n",
      "Experiment Fourier:  500 input size ,  3 Layers ,5 Blocks\n",
      "[INFO] Created SummaryWriter, saving to: runs\\2023-06-04\\No_Fourier_1_500_inputsize_3_Layers_5_Blocks\\CNN_4STEP...\n",
      "Training on cpu\n"
     ]
    },
    {
     "name": "stderr",
     "output_type": "stream",
     "text": [
      "  0%|          | 0/25 [00:00<?, ?it/s]"
     ]
    },
    {
     "name": "stdout",
     "output_type": "stream",
     "text": [
      " Epoch: 0\n",
      "---------\n",
      "Train loss: 0.83231 | Train accuracy: 70.54%\n",
      "Test loss: 457.70614 | Test accuracy: 76.19%\n"
     ]
    },
    {
     "name": "stderr",
     "output_type": "stream",
     "text": [
      "  4%|▍         | 1/25 [01:06<26:38, 66.59s/it]"
     ]
    },
    {
     "name": "stdout",
     "output_type": "stream",
     "text": [
      " Epoch: 1\n",
      "---------\n",
      "Train loss: 0.76055 | Train accuracy: 78.33%\n",
      "Test loss: 444.36069 | Test accuracy: 78.70%\n"
     ]
    },
    {
     "name": "stderr",
     "output_type": "stream",
     "text": [
      "  8%|▊         | 2/25 [02:09<24:38, 64.27s/it]"
     ]
    },
    {
     "name": "stdout",
     "output_type": "stream",
     "text": [
      " Epoch: 2\n",
      "---------\n",
      "Train loss: 0.73855 | Train accuracy: 80.65%\n",
      "Test loss: 438.15982 | Test accuracy: 79.75%\n"
     ]
    },
    {
     "name": "stderr",
     "output_type": "stream",
     "text": [
      " 12%|█▏        | 3/25 [03:11<23:10, 63.20s/it]"
     ]
    },
    {
     "name": "stdout",
     "output_type": "stream",
     "text": [
      " Epoch: 3\n",
      "---------\n",
      "Train loss: 0.72683 | Train accuracy: 81.89%\n",
      "Test loss: 435.97301 | Test accuracy: 80.07%\n"
     ]
    },
    {
     "name": "stderr",
     "output_type": "stream",
     "text": [
      " 16%|█▌        | 4/25 [04:13<21:57, 62.72s/it]"
     ]
    },
    {
     "name": "stdout",
     "output_type": "stream",
     "text": [
      " Epoch: 4\n",
      "---------\n",
      "Train loss: 0.71746 | Train accuracy: 82.89%\n",
      "Test loss: 432.50142 | Test accuracy: 80.75%\n"
     ]
    },
    {
     "name": "stderr",
     "output_type": "stream",
     "text": [
      " 20%|██        | 5/25 [05:15<20:50, 62.50s/it]"
     ]
    },
    {
     "name": "stdout",
     "output_type": "stream",
     "text": [
      " Epoch: 5\n",
      "---------\n",
      "Train loss: 0.71125 | Train accuracy: 83.54%\n",
      "Test loss: 432.93549 | Test accuracy: 80.75%\n"
     ]
    },
    {
     "name": "stderr",
     "output_type": "stream",
     "text": [
      " 24%|██▍       | 6/25 [06:17<19:45, 62.38s/it]"
     ]
    },
    {
     "name": "stdout",
     "output_type": "stream",
     "text": [
      " Epoch: 6\n",
      "---------\n",
      "Train loss: 0.70607 | Train accuracy: 84.08%\n"
     ]
    },
    {
     "name": "stderr",
     "output_type": "stream",
     "text": [
      " 28%|██▊       | 7/25 [07:19<18:42, 62.35s/it]"
     ]
    },
    {
     "name": "stdout",
     "output_type": "stream",
     "text": [
      "Test loss: 430.45442 | Test accuracy: 81.12%\n",
      " Epoch: 7\n",
      "---------\n",
      "Train loss: 0.70221 | Train accuracy: 84.50%\n",
      "Test loss: 428.75316 | Test accuracy: 81.46%\n"
     ]
    },
    {
     "name": "stderr",
     "output_type": "stream",
     "text": [
      " 32%|███▏      | 8/25 [08:21<17:37, 62.21s/it]"
     ]
    },
    {
     "name": "stdout",
     "output_type": "stream",
     "text": [
      " Epoch: 8\n",
      "---------\n",
      "Train loss: 0.69782 | Train accuracy: 84.95%\n",
      "Test loss: 428.14876 | Test accuracy: 81.59%\n"
     ]
    },
    {
     "name": "stderr",
     "output_type": "stream",
     "text": [
      " 36%|███▌      | 9/25 [09:25<16:44, 62.81s/it]"
     ]
    },
    {
     "name": "stdout",
     "output_type": "stream",
     "text": [
      " Epoch: 9\n",
      "---------\n",
      "Train loss: 0.69452 | Train accuracy: 85.31%\n",
      "Test loss: 427.35228 | Test accuracy: 81.72%\n"
     ]
    },
    {
     "name": "stderr",
     "output_type": "stream",
     "text": [
      " 40%|████      | 10/25 [10:28<15:40, 62.68s/it]"
     ]
    },
    {
     "name": "stdout",
     "output_type": "stream",
     "text": [
      " Epoch: 10\n",
      "---------\n",
      "Train loss: 0.69143 | Train accuracy: 85.63%\n",
      "Test loss: 427.04253 | Test accuracy: 81.79%\n"
     ]
    },
    {
     "name": "stderr",
     "output_type": "stream",
     "text": [
      " 44%|████▍     | 11/25 [11:31<14:39, 62.83s/it]"
     ]
    },
    {
     "name": "stdout",
     "output_type": "stream",
     "text": [
      " Epoch: 11\n",
      "---------\n",
      "Train loss: 0.68926 | Train accuracy: 85.85%\n",
      "Test loss: 427.58467 | Test accuracy: 81.67%\n"
     ]
    },
    {
     "name": "stderr",
     "output_type": "stream",
     "text": [
      " 48%|████▊     | 12/25 [12:34<13:38, 62.97s/it]"
     ]
    },
    {
     "name": "stdout",
     "output_type": "stream",
     "text": [
      " Epoch: 12\n",
      "---------\n",
      "Train loss: 0.68705 | Train accuracy: 86.05%\n",
      "Test loss: 425.72173 | Test accuracy: 82.04%\n"
     ]
    },
    {
     "name": "stderr",
     "output_type": "stream",
     "text": [
      " 52%|█████▏    | 13/25 [13:37<12:36, 63.07s/it]"
     ]
    },
    {
     "name": "stdout",
     "output_type": "stream",
     "text": [
      " Epoch: 13\n",
      "---------\n",
      "Train loss: 0.68462 | Train accuracy: 86.33%\n",
      "Test loss: 427.63707 | Test accuracy: 81.78%\n"
     ]
    },
    {
     "name": "stderr",
     "output_type": "stream",
     "text": [
      " 56%|█████▌    | 14/25 [14:41<11:35, 63.23s/it]"
     ]
    },
    {
     "name": "stdout",
     "output_type": "stream",
     "text": [
      " Epoch: 14\n",
      "---------\n",
      "Train loss: 0.68307 | Train accuracy: 86.50%\n",
      "Test loss: 425.75641 | Test accuracy: 82.02%\n"
     ]
    },
    {
     "name": "stderr",
     "output_type": "stream",
     "text": [
      " 60%|██████    | 15/25 [15:45<10:35, 63.54s/it]"
     ]
    },
    {
     "name": "stdout",
     "output_type": "stream",
     "text": [
      " Epoch: 15\n",
      "---------\n",
      "Train loss: 0.68087 | Train accuracy: 86.75%\n"
     ]
    },
    {
     "name": "stderr",
     "output_type": "stream",
     "text": [
      " 64%|██████▍   | 16/25 [16:49<09:31, 63.53s/it]"
     ]
    },
    {
     "name": "stdout",
     "output_type": "stream",
     "text": [
      "Test loss: 425.37763 | Test accuracy: 82.09%\n",
      " Epoch: 16\n",
      "---------\n",
      "Train loss: 0.67962 | Train accuracy: 86.87%\n"
     ]
    },
    {
     "name": "stderr",
     "output_type": "stream",
     "text": [
      " 68%|██████▊   | 17/25 [17:52<08:28, 63.55s/it]"
     ]
    },
    {
     "name": "stdout",
     "output_type": "stream",
     "text": [
      "Test loss: 426.29284 | Test accuracy: 81.98%\n",
      " Epoch: 17\n",
      "---------\n",
      "Train loss: 0.67856 | Train accuracy: 86.98%\n",
      "Test loss: 425.98742 | Test accuracy: 82.01%\n"
     ]
    },
    {
     "name": "stderr",
     "output_type": "stream",
     "text": [
      " 72%|███████▏  | 18/25 [18:56<07:25, 63.58s/it]"
     ]
    },
    {
     "name": "stdout",
     "output_type": "stream",
     "text": [
      " Epoch: 18\n",
      "---------\n",
      "Train loss: 0.67701 | Train accuracy: 87.13%\n",
      "Test loss: 425.71133 | Test accuracy: 82.03%\n"
     ]
    },
    {
     "name": "stderr",
     "output_type": "stream",
     "text": [
      " 76%|███████▌  | 19/25 [20:00<06:22, 63.72s/it]"
     ]
    },
    {
     "name": "stdout",
     "output_type": "stream",
     "text": [
      " Epoch: 19\n",
      "---------\n",
      "Train loss: 0.67567 | Train accuracy: 87.28%\n",
      "Test loss: 424.70947 | Test accuracy: 82.22%\n"
     ]
    },
    {
     "name": "stderr",
     "output_type": "stream",
     "text": [
      " 80%|████████  | 20/25 [21:04<05:18, 63.67s/it]"
     ]
    },
    {
     "name": "stdout",
     "output_type": "stream",
     "text": [
      " Epoch: 20\n",
      "---------\n",
      "Train loss: 0.67481 | Train accuracy: 87.38%\n",
      "Test loss: 424.25383 | Test accuracy: 82.30%\n"
     ]
    },
    {
     "name": "stderr",
     "output_type": "stream",
     "text": [
      " 84%|████████▍ | 21/25 [22:07<04:14, 63.55s/it]"
     ]
    },
    {
     "name": "stdout",
     "output_type": "stream",
     "text": [
      " Epoch: 21\n",
      "---------\n",
      "Train loss: 0.67386 | Train accuracy: 87.48%\n"
     ]
    },
    {
     "name": "stderr",
     "output_type": "stream",
     "text": [
      " 88%|████████▊ | 22/25 [23:11<03:10, 63.61s/it]"
     ]
    },
    {
     "name": "stdout",
     "output_type": "stream",
     "text": [
      "Test loss: 424.40986 | Test accuracy: 82.27%\n",
      " Epoch: 22\n",
      "---------\n",
      "Train loss: 0.67265 | Train accuracy: 87.59%\n"
     ]
    },
    {
     "name": "stderr",
     "output_type": "stream",
     "text": [
      " 92%|█████████▏| 23/25 [24:14<02:07, 63.65s/it]"
     ]
    },
    {
     "name": "stdout",
     "output_type": "stream",
     "text": [
      "Test loss: 425.82684 | Test accuracy: 82.02%\n",
      " Epoch: 23\n",
      "---------\n",
      "Train loss: 0.67198 | Train accuracy: 87.66%\n"
     ]
    },
    {
     "name": "stderr",
     "output_type": "stream",
     "text": [
      " 96%|█████████▌| 24/25 [25:18<01:03, 63.61s/it]"
     ]
    },
    {
     "name": "stdout",
     "output_type": "stream",
     "text": [
      "Test loss: 425.04521 | Test accuracy: 82.20%\n",
      " Epoch: 24\n",
      "---------\n",
      "Train loss: 0.67158 | Train accuracy: 87.71%\n"
     ]
    },
    {
     "name": "stderr",
     "output_type": "stream",
     "text": [
      "100%|██████████| 25/25 [26:20<00:00, 63.24s/it]"
     ]
    },
    {
     "name": "stdout",
     "output_type": "stream",
     "text": [
      "Test loss: 424.56607 | Test accuracy: 82.28%\n",
      "[INFO] Saving model to: models\\Model _CNN_4STEP.pth\n"
     ]
    },
    {
     "name": "stderr",
     "output_type": "stream",
     "text": [
      "\n"
     ]
    },
    {
     "name": "stdout",
     "output_type": "stream",
     "text": [
      "tamanho da memória ocupada :2291.11 MB\n",
      "X_train shape: (225000, 1000) float64\n",
      "X_Test shape: (75000, 1000) float64\n",
      "y_train shape: (225000,) float64\n",
      "y_test shape: (75000,) float64\n",
      "\n",
      "--------\n",
      "X_train device: cpu\n",
      "X_Test device: cpu\n",
      "y_train device: cpu\n",
      "y_test device: cpu\n",
      "Valor 0: 100000 ocorrência(s)- 0.33%\n",
      "Valor 1: 100000 ocorrência(s)- 0.33%\n",
      "Valor 2: 100000 ocorrência(s)- 0.33%\n",
      "Dataset :  (300000, 1001)\n",
      "X torch.Size([128, 1000]) y torch.Size([128])\n",
      "----------------\n",
      "\n",
      "Dataloaders: (<torch.utils.data.dataloader.DataLoader object at 0x0000021E410C7790>, <torch.utils.data.dataloader.DataLoader object at 0x0000021E410C6F10>)\n",
      "Length of train dataloader: 1758 batches of 128\n",
      "Length of test dataloader: 586 batches of 128\n",
      "Experiment Fourier:  1000 input size ,  3 Layers ,5 Blocks\n",
      "[INFO] Created SummaryWriter, saving to: runs\\2023-06-04\\No_Fourier_2_1000_inputsize_3_Layers_5_Blocks\\CNN_4STEP...\n",
      "Training on cpu\n"
     ]
    },
    {
     "name": "stderr",
     "output_type": "stream",
     "text": [
      "  0%|          | 0/25 [00:00<?, ?it/s]"
     ]
    },
    {
     "name": "stdout",
     "output_type": "stream",
     "text": [
      " Epoch: 0\n",
      "---------\n",
      "Train loss: 0.83644 | Train accuracy: 69.75%\n",
      "Test loss: 230.91029 | Test accuracy: 75.37%\n"
     ]
    },
    {
     "name": "stderr",
     "output_type": "stream",
     "text": [
      "  4%|▍         | 1/25 [00:39<15:56, 39.87s/it]"
     ]
    },
    {
     "name": "stdout",
     "output_type": "stream",
     "text": [
      " Epoch: 1\n",
      "---------\n",
      "Train loss: 0.76478 | Train accuracy: 77.74%\n",
      "Test loss: 225.62826 | Test accuracy: 77.22%\n"
     ]
    },
    {
     "name": "stderr",
     "output_type": "stream",
     "text": [
      "  8%|▊         | 2/25 [01:18<15:04, 39.32s/it]"
     ]
    },
    {
     "name": "stdout",
     "output_type": "stream",
     "text": [
      " Epoch: 2\n",
      "---------\n",
      "Train loss: 0.73190 | Train accuracy: 81.34%\n",
      "Test loss: 221.74231 | Test accuracy: 78.68%\n"
     ]
    },
    {
     "name": "stderr",
     "output_type": "stream",
     "text": [
      " 12%|█▏        | 3/25 [01:58<14:30, 39.55s/it]"
     ]
    },
    {
     "name": "stdout",
     "output_type": "stream",
     "text": [
      " Epoch: 3\n",
      "---------\n",
      "Train loss: 0.71148 | Train accuracy: 83.50%\n",
      "Test loss: 219.81985 | Test accuracy: 79.41%\n"
     ]
    },
    {
     "name": "stderr",
     "output_type": "stream",
     "text": [
      " 16%|█▌        | 4/25 [02:38<13:56, 39.84s/it]"
     ]
    },
    {
     "name": "stdout",
     "output_type": "stream",
     "text": [
      " Epoch: 4\n",
      "---------\n",
      "Train loss: 0.69710 | Train accuracy: 85.00%\n",
      "Test loss: 219.93448 | Test accuracy: 79.56%\n"
     ]
    },
    {
     "name": "stderr",
     "output_type": "stream",
     "text": [
      " 20%|██        | 5/25 [03:18<13:12, 39.63s/it]"
     ]
    },
    {
     "name": "stdout",
     "output_type": "stream",
     "text": [
      " Epoch: 5\n",
      "---------\n",
      "Train loss: 0.68624 | Train accuracy: 86.17%\n",
      "Test loss: 219.11026 | Test accuracy: 79.84%\n"
     ]
    },
    {
     "name": "stderr",
     "output_type": "stream",
     "text": [
      " 24%|██▍       | 6/25 [03:57<12:32, 39.60s/it]"
     ]
    },
    {
     "name": "stdout",
     "output_type": "stream",
     "text": [
      " Epoch: 6\n",
      "---------\n",
      "Train loss: 0.67768 | Train accuracy: 87.06%\n",
      "Test loss: 217.98270 | Test accuracy: 80.28%\n"
     ]
    },
    {
     "name": "stderr",
     "output_type": "stream",
     "text": [
      " 28%|██▊       | 7/25 [04:36<11:48, 39.35s/it]"
     ]
    },
    {
     "name": "stdout",
     "output_type": "stream",
     "text": [
      " Epoch: 7\n",
      "---------\n",
      "Train loss: 0.67124 | Train accuracy: 87.75%\n",
      "Test loss: 217.49256 | Test accuracy: 80.47%\n"
     ]
    },
    {
     "name": "stderr",
     "output_type": "stream",
     "text": [
      " 32%|███▏      | 8/25 [05:16<11:11, 39.49s/it]"
     ]
    },
    {
     "name": "stdout",
     "output_type": "stream",
     "text": [
      " Epoch: 8\n",
      "---------\n",
      "Train loss: 0.66426 | Train accuracy: 88.46%\n",
      "Test loss: 217.53236 | Test accuracy: 80.61%\n"
     ]
    },
    {
     "name": "stderr",
     "output_type": "stream",
     "text": [
      " 36%|███▌      | 9/25 [05:56<10:34, 39.67s/it]"
     ]
    },
    {
     "name": "stdout",
     "output_type": "stream",
     "text": [
      " Epoch: 9\n",
      "---------\n",
      "Train loss: 0.66028 | Train accuracy: 88.87%\n"
     ]
    },
    {
     "name": "stderr",
     "output_type": "stream",
     "text": [
      " 40%|████      | 10/25 [06:36<09:58, 39.88s/it]"
     ]
    },
    {
     "name": "stdout",
     "output_type": "stream",
     "text": [
      "Test loss: 216.93706 | Test accuracy: 80.79%\n",
      " Epoch: 10\n",
      "---------\n",
      "Train loss: 0.65594 | Train accuracy: 89.33%\n"
     ]
    },
    {
     "name": "stderr",
     "output_type": "stream",
     "text": [
      " 44%|████▍     | 11/25 [07:17<09:20, 40.05s/it]"
     ]
    },
    {
     "name": "stdout",
     "output_type": "stream",
     "text": [
      "Test loss: 216.36457 | Test accuracy: 80.96%\n",
      " Epoch: 11\n",
      "---------\n",
      "Train loss: 0.65242 | Train accuracy: 89.67%\n"
     ]
    },
    {
     "name": "stderr",
     "output_type": "stream",
     "text": [
      " 48%|████▊     | 12/25 [07:57<08:40, 40.05s/it]"
     ]
    },
    {
     "name": "stdout",
     "output_type": "stream",
     "text": [
      "Test loss: 216.73607 | Test accuracy: 80.83%\n",
      " Epoch: 12\n",
      "---------\n",
      "Train loss: 0.64817 | Train accuracy: 90.16%\n",
      "Test loss: 216.43791 | Test accuracy: 80.92%\n"
     ]
    },
    {
     "name": "stderr",
     "output_type": "stream",
     "text": [
      " 52%|█████▏    | 13/25 [08:37<08:01, 40.14s/it]"
     ]
    },
    {
     "name": "stdout",
     "output_type": "stream",
     "text": [
      " Epoch: 13\n",
      "---------\n",
      "Train loss: 0.64635 | Train accuracy: 90.31%\n",
      "Test loss: 216.57839 | Test accuracy: 80.84%\n"
     ]
    },
    {
     "name": "stderr",
     "output_type": "stream",
     "text": [
      " 56%|█████▌    | 14/25 [09:19<07:27, 40.64s/it]"
     ]
    },
    {
     "name": "stdout",
     "output_type": "stream",
     "text": [
      " Epoch: 14\n",
      "---------\n",
      "Train loss: 0.64368 | Train accuracy: 90.58%\n",
      "Test loss: 216.15729 | Test accuracy: 81.08%\n"
     ]
    },
    {
     "name": "stderr",
     "output_type": "stream",
     "text": [
      " 60%|██████    | 15/25 [10:00<06:47, 40.72s/it]"
     ]
    },
    {
     "name": "stdout",
     "output_type": "stream",
     "text": [
      " Epoch: 15\n",
      "---------\n",
      "Train loss: 0.64078 | Train accuracy: 90.87%\n",
      "Test loss: 216.32014 | Test accuracy: 81.13%\n"
     ]
    },
    {
     "name": "stderr",
     "output_type": "stream",
     "text": [
      " 64%|██████▍   | 16/25 [10:41<06:08, 41.00s/it]"
     ]
    },
    {
     "name": "stdout",
     "output_type": "stream",
     "text": [
      " Epoch: 16\n",
      "---------\n",
      "Train loss: 0.63780 | Train accuracy: 91.18%\n",
      "Test loss: 215.58872 | Test accuracy: 81.36%\n"
     ]
    },
    {
     "name": "stderr",
     "output_type": "stream",
     "text": [
      " 68%|██████▊   | 17/25 [11:23<05:28, 41.04s/it]"
     ]
    },
    {
     "name": "stdout",
     "output_type": "stream",
     "text": [
      " Epoch: 17\n",
      "---------\n",
      "Train loss: 0.63556 | Train accuracy: 91.43%\n",
      "Test loss: 216.31463 | Test accuracy: 81.13%\n"
     ]
    },
    {
     "name": "stderr",
     "output_type": "stream",
     "text": [
      " 72%|███████▏  | 18/25 [12:04<04:48, 41.27s/it]"
     ]
    },
    {
     "name": "stdout",
     "output_type": "stream",
     "text": [
      " Epoch: 18\n",
      "---------\n",
      "Train loss: 0.63287 | Train accuracy: 91.72%\n",
      "Test loss: 216.01419 | Test accuracy: 81.26%\n"
     ]
    },
    {
     "name": "stderr",
     "output_type": "stream",
     "text": [
      " 76%|███████▌  | 19/25 [12:46<04:08, 41.39s/it]"
     ]
    },
    {
     "name": "stdout",
     "output_type": "stream",
     "text": [
      " Epoch: 19\n",
      "---------\n",
      "Train loss: 0.63206 | Train accuracy: 91.79%\n",
      "Test loss: 215.90365 | Test accuracy: 81.28%\n"
     ]
    },
    {
     "name": "stderr",
     "output_type": "stream",
     "text": [
      " 80%|████████  | 20/25 [13:27<03:26, 41.33s/it]"
     ]
    },
    {
     "name": "stdout",
     "output_type": "stream",
     "text": [
      " Epoch: 20\n",
      "---------\n",
      "Train loss: 0.63038 | Train accuracy: 91.96%\n",
      "Test loss: 215.73437 | Test accuracy: 81.23%\n"
     ]
    },
    {
     "name": "stderr",
     "output_type": "stream",
     "text": [
      " 84%|████████▍ | 21/25 [14:09<02:45, 41.37s/it]"
     ]
    },
    {
     "name": "stdout",
     "output_type": "stream",
     "text": [
      " Epoch: 21\n",
      "---------\n",
      "Train loss: 0.62833 | Train accuracy: 92.16%\n",
      "Test loss: 215.63455 | Test accuracy: 81.34%\n"
     ]
    },
    {
     "name": "stderr",
     "output_type": "stream",
     "text": [
      " 88%|████████▊ | 22/25 [14:50<02:03, 41.30s/it]"
     ]
    },
    {
     "name": "stdout",
     "output_type": "stream",
     "text": [
      " Epoch: 22\n",
      "---------\n",
      "Train loss: 0.62719 | Train accuracy: 92.30%\n",
      "Test loss: 215.40986 | Test accuracy: 81.51%\n"
     ]
    },
    {
     "name": "stderr",
     "output_type": "stream",
     "text": [
      " 92%|█████████▏| 23/25 [15:31<01:22, 41.15s/it]"
     ]
    },
    {
     "name": "stdout",
     "output_type": "stream",
     "text": [
      " Epoch: 23\n",
      "---------\n",
      "Train loss: 0.62599 | Train accuracy: 92.40%\n"
     ]
    },
    {
     "name": "stderr",
     "output_type": "stream",
     "text": [
      " 96%|█████████▌| 24/25 [16:12<00:41, 41.24s/it]"
     ]
    },
    {
     "name": "stdout",
     "output_type": "stream",
     "text": [
      "Test loss: 215.68718 | Test accuracy: 81.46%\n",
      " Epoch: 24\n",
      "---------\n",
      "Train loss: 0.62425 | Train accuracy: 92.60%\n"
     ]
    },
    {
     "name": "stderr",
     "output_type": "stream",
     "text": [
      "100%|██████████| 25/25 [16:54<00:00, 40.57s/it]"
     ]
    },
    {
     "name": "stdout",
     "output_type": "stream",
     "text": [
      "Test loss: 215.45042 | Test accuracy: 81.52%\n",
      "[INFO] Saving model to: models\\Model _CNN_4STEP.pth\n"
     ]
    },
    {
     "name": "stderr",
     "output_type": "stream",
     "text": [
      "\n"
     ]
    },
    {
     "name": "stdout",
     "output_type": "stream",
     "text": [
      "tamanho da memória ocupada :2289.96 MB\n",
      "X_train shape: (112500, 2000) float64\n",
      "X_Test shape: (37500, 2000) float64\n",
      "y_train shape: (112500,) float64\n",
      "y_test shape: (37500,) float64\n",
      "\n",
      "--------\n",
      "X_train device: cpu\n",
      "X_Test device: cpu\n",
      "y_train device: cpu\n",
      "y_test device: cpu\n",
      "Valor 0: 50000 ocorrência(s)- 0.33%\n",
      "Valor 1: 50000 ocorrência(s)- 0.33%\n",
      "Valor 2: 50000 ocorrência(s)- 0.33%\n",
      "Dataset :  (150000, 2001)\n",
      "X torch.Size([128, 2000]) y torch.Size([128])\n",
      "----------------\n",
      "\n",
      "Dataloaders: (<torch.utils.data.dataloader.DataLoader object at 0x0000021E410F6B10>, <torch.utils.data.dataloader.DataLoader object at 0x0000021E410F4B50>)\n",
      "Length of train dataloader: 879 batches of 128\n",
      "Length of test dataloader: 293 batches of 128\n",
      "Experiment Fourier:  2000 input size ,  3 Layers ,5 Blocks\n",
      "[INFO] Created SummaryWriter, saving to: runs\\2023-06-04\\No_Fourier_3_2000_inputsize_3_Layers_5_Blocks\\CNN_4STEP...\n",
      "Training on cpu\n"
     ]
    },
    {
     "name": "stderr",
     "output_type": "stream",
     "text": [
      "  0%|          | 0/25 [00:00<?, ?it/s]"
     ]
    },
    {
     "name": "stdout",
     "output_type": "stream",
     "text": [
      " Epoch: 0\n",
      "---------\n",
      "Train loss: 0.83707 | Train accuracy: 69.82%\n",
      "Test loss: 116.14135 | Test accuracy: 74.74%\n"
     ]
    },
    {
     "name": "stderr",
     "output_type": "stream",
     "text": [
      "  4%|▍         | 1/25 [00:27<10:51, 27.13s/it]"
     ]
    },
    {
     "name": "stdout",
     "output_type": "stream",
     "text": [
      " Epoch: 1\n",
      "---------\n",
      "Train loss: 0.75705 | Train accuracy: 78.61%\n",
      "Test loss: 115.02026 | Test accuracy: 75.52%\n"
     ]
    },
    {
     "name": "stderr",
     "output_type": "stream",
     "text": [
      "  8%|▊         | 2/25 [00:54<10:24, 27.14s/it]"
     ]
    },
    {
     "name": "stdout",
     "output_type": "stream",
     "text": [
      " Epoch: 2\n",
      "---------\n",
      "Train loss: 0.71764 | Train accuracy: 82.97%\n",
      "Test loss: 114.74023 | Test accuracy: 76.19%\n"
     ]
    },
    {
     "name": "stderr",
     "output_type": "stream",
     "text": [
      " 12%|█▏        | 3/25 [01:21<09:55, 27.09s/it]"
     ]
    },
    {
     "name": "stdout",
     "output_type": "stream",
     "text": [
      " Epoch: 3\n",
      "---------\n",
      "Train loss: 0.69330 | Train accuracy: 85.50%\n",
      "Test loss: 114.53369 | Test accuracy: 76.38%\n"
     ]
    },
    {
     "name": "stderr",
     "output_type": "stream",
     "text": [
      " 16%|█▌        | 4/25 [01:49<09:35, 27.41s/it]"
     ]
    },
    {
     "name": "stdout",
     "output_type": "stream",
     "text": [
      " Epoch: 4\n",
      "---------\n",
      "Train loss: 0.67542 | Train accuracy: 87.42%\n",
      "Test loss: 114.53361 | Test accuracy: 76.65%\n"
     ]
    },
    {
     "name": "stderr",
     "output_type": "stream",
     "text": [
      " 20%|██        | 5/25 [02:16<09:07, 27.36s/it]"
     ]
    },
    {
     "name": "stdout",
     "output_type": "stream",
     "text": [
      " Epoch: 5\n",
      "---------\n",
      "Train loss: 0.66410 | Train accuracy: 88.54%\n",
      "Test loss: 113.90822 | Test accuracy: 76.93%\n"
     ]
    },
    {
     "name": "stderr",
     "output_type": "stream",
     "text": [
      " 24%|██▍       | 6/25 [02:45<08:47, 27.76s/it]"
     ]
    },
    {
     "name": "stdout",
     "output_type": "stream",
     "text": [
      " Epoch: 6\n",
      "---------\n",
      "Train loss: 0.65268 | Train accuracy: 89.75%\n",
      "Test loss: 114.52906 | Test accuracy: 76.63%\n"
     ]
    },
    {
     "name": "stderr",
     "output_type": "stream",
     "text": [
      " 28%|██▊       | 7/25 [03:13<08:21, 27.87s/it]"
     ]
    },
    {
     "name": "stdout",
     "output_type": "stream",
     "text": [
      " Epoch: 7\n",
      "---------\n",
      "Train loss: 0.64672 | Train accuracy: 90.33%\n"
     ]
    },
    {
     "name": "stderr",
     "output_type": "stream",
     "text": [
      " 32%|███▏      | 8/25 [03:41<07:58, 28.15s/it]"
     ]
    },
    {
     "name": "stdout",
     "output_type": "stream",
     "text": [
      "Test loss: 114.24894 | Test accuracy: 76.86%\n",
      " Epoch: 8\n",
      "---------\n",
      "Train loss: 0.64256 | Train accuracy: 90.75%\n",
      "Test loss: 113.98574 | Test accuracy: 77.02%\n"
     ]
    },
    {
     "name": "stderr",
     "output_type": "stream",
     "text": [
      " 36%|███▌      | 9/25 [04:12<07:42, 28.89s/it]"
     ]
    },
    {
     "name": "stdout",
     "output_type": "stream",
     "text": [
      " Epoch: 9\n",
      "---------\n",
      "Train loss: 0.63685 | Train accuracy: 91.34%\n",
      "Test loss: 114.23216 | Test accuracy: 76.91%\n"
     ]
    },
    {
     "name": "stderr",
     "output_type": "stream",
     "text": [
      " 40%|████      | 10/25 [04:40<07:10, 28.70s/it]"
     ]
    },
    {
     "name": "stdout",
     "output_type": "stream",
     "text": [
      " Epoch: 10\n",
      "---------\n",
      "Train loss: 0.63234 | Train accuracy: 91.79%\n",
      "Test loss: 114.23812 | Test accuracy: 76.86%\n"
     ]
    },
    {
     "name": "stderr",
     "output_type": "stream",
     "text": [
      " 44%|████▍     | 11/25 [05:08<06:39, 28.54s/it]"
     ]
    },
    {
     "name": "stdout",
     "output_type": "stream",
     "text": [
      " Epoch: 11\n",
      "---------\n",
      "Train loss: 0.62892 | Train accuracy: 92.15%\n",
      "Test loss: 113.76623 | Test accuracy: 77.35%\n"
     ]
    },
    {
     "name": "stderr",
     "output_type": "stream",
     "text": [
      " 48%|████▊     | 12/25 [05:37<06:12, 28.68s/it]"
     ]
    },
    {
     "name": "stdout",
     "output_type": "stream",
     "text": [
      " Epoch: 12\n",
      "---------\n",
      "Train loss: 0.62403 | Train accuracy: 92.64%\n",
      "Test loss: 114.22176 | Test accuracy: 77.03%\n"
     ]
    },
    {
     "name": "stderr",
     "output_type": "stream",
     "text": [
      " 52%|█████▏    | 13/25 [06:05<05:41, 28.47s/it]"
     ]
    },
    {
     "name": "stdout",
     "output_type": "stream",
     "text": [
      " Epoch: 13\n",
      "---------\n",
      "Train loss: 0.62107 | Train accuracy: 92.95%\n",
      "Test loss: 114.18406 | Test accuracy: 77.18%\n"
     ]
    },
    {
     "name": "stderr",
     "output_type": "stream",
     "text": [
      " 56%|█████▌    | 14/25 [06:36<05:21, 29.21s/it]"
     ]
    },
    {
     "name": "stdout",
     "output_type": "stream",
     "text": [
      " Epoch: 14\n",
      "---------\n",
      "Train loss: 0.61827 | Train accuracy: 93.22%\n",
      "Test loss: 114.07417 | Test accuracy: 77.14%\n"
     ]
    },
    {
     "name": "stderr",
     "output_type": "stream",
     "text": [
      " 60%|██████    | 15/25 [07:06<04:52, 29.27s/it]"
     ]
    },
    {
     "name": "stdout",
     "output_type": "stream",
     "text": [
      " Epoch: 15\n",
      "---------\n",
      "Train loss: 0.61679 | Train accuracy: 93.37%\n",
      "Test loss: 114.30198 | Test accuracy: 76.93%\n"
     ]
    },
    {
     "name": "stderr",
     "output_type": "stream",
     "text": [
      " 64%|██████▍   | 16/25 [07:34<04:20, 28.98s/it]"
     ]
    },
    {
     "name": "stdout",
     "output_type": "stream",
     "text": [
      " Epoch: 16\n",
      "---------\n",
      "Train loss: 0.61476 | Train accuracy: 93.58%\n"
     ]
    },
    {
     "name": "stderr",
     "output_type": "stream",
     "text": [
      " 68%|██████▊   | 17/25 [08:02<03:50, 28.75s/it]"
     ]
    },
    {
     "name": "stdout",
     "output_type": "stream",
     "text": [
      "Test loss: 113.74051 | Test accuracy: 77.28%\n",
      " Epoch: 17\n",
      "---------\n",
      "Train loss: 0.61120 | Train accuracy: 93.94%\n",
      "Test loss: 113.78301 | Test accuracy: 77.34%\n"
     ]
    },
    {
     "name": "stderr",
     "output_type": "stream",
     "text": [
      " 72%|███████▏  | 18/25 [08:31<03:20, 28.68s/it]"
     ]
    },
    {
     "name": "stdout",
     "output_type": "stream",
     "text": [
      " Epoch: 18\n",
      "---------\n",
      "Train loss: 0.61030 | Train accuracy: 94.03%\n",
      "Test loss: 113.90914 | Test accuracy: 77.25%\n"
     ]
    },
    {
     "name": "stderr",
     "output_type": "stream",
     "text": [
      " 76%|███████▌  | 19/25 [08:59<02:51, 28.58s/it]"
     ]
    },
    {
     "name": "stdout",
     "output_type": "stream",
     "text": [
      " Epoch: 19\n",
      "---------\n",
      "Train loss: 0.60875 | Train accuracy: 94.18%\n",
      "Test loss: 113.96858 | Test accuracy: 77.17%\n"
     ]
    },
    {
     "name": "stderr",
     "output_type": "stream",
     "text": [
      " 80%|████████  | 20/25 [09:27<02:22, 28.44s/it]"
     ]
    },
    {
     "name": "stdout",
     "output_type": "stream",
     "text": [
      " Epoch: 20\n",
      "---------\n",
      "Train loss: 0.60649 | Train accuracy: 94.46%\n",
      "Test loss: 113.99099 | Test accuracy: 77.32%\n"
     ]
    },
    {
     "name": "stderr",
     "output_type": "stream",
     "text": [
      " 84%|████████▍ | 21/25 [09:56<01:53, 28.50s/it]"
     ]
    },
    {
     "name": "stdout",
     "output_type": "stream",
     "text": [
      " Epoch: 21\n",
      "---------\n",
      "Train loss: 0.60568 | Train accuracy: 94.50%\n",
      "Test loss: 114.24940 | Test accuracy: 77.12%\n"
     ]
    },
    {
     "name": "stderr",
     "output_type": "stream",
     "text": [
      " 88%|████████▊ | 22/25 [10:24<01:25, 28.34s/it]"
     ]
    },
    {
     "name": "stdout",
     "output_type": "stream",
     "text": [
      " Epoch: 22\n",
      "---------\n",
      "Train loss: 0.60376 | Train accuracy: 94.71%\n"
     ]
    },
    {
     "name": "stderr",
     "output_type": "stream",
     "text": [
      " 92%|█████████▏| 23/25 [10:52<00:56, 28.37s/it]"
     ]
    },
    {
     "name": "stdout",
     "output_type": "stream",
     "text": [
      "Test loss: 113.88036 | Test accuracy: 77.35%\n",
      " Epoch: 23\n",
      "---------\n",
      "Train loss: 0.60211 | Train accuracy: 94.87%\n",
      "Test loss: 113.75758 | Test accuracy: 77.20%\n"
     ]
    },
    {
     "name": "stderr",
     "output_type": "stream",
     "text": [
      " 96%|█████████▌| 24/25 [11:21<00:28, 28.43s/it]"
     ]
    },
    {
     "name": "stdout",
     "output_type": "stream",
     "text": [
      " Epoch: 24\n",
      "---------\n",
      "Train loss: 0.60140 | Train accuracy: 94.95%\n",
      "Test loss: 113.61505 | Test accuracy: 77.32%\n"
     ]
    },
    {
     "name": "stderr",
     "output_type": "stream",
     "text": [
      "100%|██████████| 25/25 [11:49<00:00, 28.37s/it]\n"
     ]
    },
    {
     "name": "stdout",
     "output_type": "stream",
     "text": [
      "[INFO] Saving model to: models\\Model _CNN_4STEP.pth\n",
      "tamanho da memória ocupada :2289.39 MB\n",
      "X_train shape: (56250, 4000) float64\n",
      "X_Test shape: (18750, 4000) float64\n",
      "y_train shape: (56250,) float64\n",
      "y_test shape: (18750,) float64\n",
      "\n",
      "--------\n",
      "X_train device: cpu\n",
      "X_Test device: cpu\n",
      "y_train device: cpu\n",
      "y_test device: cpu\n",
      "Valor 0: 25000 ocorrência(s)- 0.33%\n",
      "Valor 1: 25000 ocorrência(s)- 0.33%\n",
      "Valor 2: 25000 ocorrência(s)- 0.33%\n",
      "Dataset :  (75000, 4001)\n",
      "X torch.Size([128, 4000]) y torch.Size([128])\n",
      "----------------\n",
      "\n",
      "Dataloaders: (<torch.utils.data.dataloader.DataLoader object at 0x0000021E41FB6ED0>, <torch.utils.data.dataloader.DataLoader object at 0x0000021E41FB6050>)\n",
      "Length of train dataloader: 440 batches of 128\n",
      "Length of test dataloader: 147 batches of 128\n",
      "Experiment Fourier:  4000 input size ,  3 Layers ,5 Blocks\n",
      "[INFO] Created SummaryWriter, saving to: runs\\2023-06-04\\No_Fourier_4_4000_inputsize_3_Layers_5_Blocks\\CNN_4STEP...\n",
      "Training on cpu\n"
     ]
    },
    {
     "name": "stderr",
     "output_type": "stream",
     "text": [
      "  0%|          | 0/25 [00:00<?, ?it/s]"
     ]
    },
    {
     "name": "stdout",
     "output_type": "stream",
     "text": [
      " Epoch: 0\n",
      "---------\n",
      "Train loss: 0.83225 | Train accuracy: 70.46%\n",
      "Test loss: 58.12699 | Test accuracy: 75.20%\n"
     ]
    },
    {
     "name": "stderr",
     "output_type": "stream",
     "text": [
      "  4%|▍         | 1/25 [00:21<08:43, 21.83s/it]"
     ]
    },
    {
     "name": "stdout",
     "output_type": "stream",
     "text": [
      " Epoch: 1\n",
      "---------\n",
      "Train loss: 0.72856 | Train accuracy: 81.98%\n",
      "Test loss: 58.36597 | Test accuracy: 74.84%\n"
     ]
    },
    {
     "name": "stderr",
     "output_type": "stream",
     "text": [
      "  8%|▊         | 2/25 [00:42<08:12, 21.43s/it]"
     ]
    },
    {
     "name": "stdout",
     "output_type": "stream",
     "text": [
      " Epoch: 2\n",
      "---------\n",
      "Train loss: 0.67198 | Train accuracy: 87.84%\n",
      "Test loss: 58.34375 | Test accuracy: 75.25%\n"
     ]
    },
    {
     "name": "stderr",
     "output_type": "stream",
     "text": [
      " 12%|█▏        | 3/25 [01:03<07:46, 21.21s/it]"
     ]
    },
    {
     "name": "stdout",
     "output_type": "stream",
     "text": [
      " Epoch: 3\n",
      "---------\n",
      "Train loss: 0.64234 | Train accuracy: 90.90%\n",
      "Test loss: 58.53228 | Test accuracy: 75.16%\n"
     ]
    },
    {
     "name": "stderr",
     "output_type": "stream",
     "text": [
      " 16%|█▌        | 4/25 [01:24<07:22, 21.08s/it]"
     ]
    },
    {
     "name": "stdout",
     "output_type": "stream",
     "text": [
      " Epoch: 4\n",
      "---------\n",
      "Train loss: 0.62754 | Train accuracy: 92.36%\n",
      "Test loss: 58.43951 | Test accuracy: 75.51%\n"
     ]
    },
    {
     "name": "stderr",
     "output_type": "stream",
     "text": [
      " 20%|██        | 5/25 [01:45<06:58, 20.94s/it]"
     ]
    },
    {
     "name": "stdout",
     "output_type": "stream",
     "text": [
      " Epoch: 5\n",
      "---------\n",
      "Train loss: 0.61732 | Train accuracy: 93.40%\n",
      "Test loss: 58.58749 | Test accuracy: 75.38%\n"
     ]
    },
    {
     "name": "stderr",
     "output_type": "stream",
     "text": [
      " 24%|██▍       | 6/25 [02:06<06:38, 20.98s/it]"
     ]
    },
    {
     "name": "stdout",
     "output_type": "stream",
     "text": [
      " Epoch: 6\n",
      "---------\n",
      "Train loss: 0.61342 | Train accuracy: 93.75%\n",
      "Test loss: 58.68985 | Test accuracy: 75.15%\n"
     ]
    },
    {
     "name": "stderr",
     "output_type": "stream",
     "text": [
      " 28%|██▊       | 7/25 [02:27<06:16, 20.94s/it]"
     ]
    },
    {
     "name": "stdout",
     "output_type": "stream",
     "text": [
      " Epoch: 7\n",
      "---------\n",
      "Train loss: 0.60873 | Train accuracy: 94.20%\n",
      "Test loss: 58.69983 | Test accuracy: 75.35%\n"
     ]
    },
    {
     "name": "stderr",
     "output_type": "stream",
     "text": [
      " 32%|███▏      | 8/25 [02:48<05:55, 20.91s/it]"
     ]
    },
    {
     "name": "stdout",
     "output_type": "stream",
     "text": [
      " Epoch: 8\n",
      "---------\n",
      "Train loss: 0.60364 | Train accuracy: 94.77%\n",
      "Test loss: 58.56425 | Test accuracy: 75.53%\n"
     ]
    },
    {
     "name": "stderr",
     "output_type": "stream",
     "text": [
      " 36%|███▌      | 9/25 [03:09<05:34, 20.88s/it]"
     ]
    },
    {
     "name": "stdout",
     "output_type": "stream",
     "text": [
      " Epoch: 9\n",
      "---------\n",
      "Train loss: 0.60069 | Train accuracy: 95.03%\n",
      "Test loss: 58.34895 | Test accuracy: 75.67%\n"
     ]
    },
    {
     "name": "stderr",
     "output_type": "stream",
     "text": [
      " 40%|████      | 10/25 [03:29<05:13, 20.89s/it]"
     ]
    },
    {
     "name": "stdout",
     "output_type": "stream",
     "text": [
      " Epoch: 10\n",
      "---------\n",
      "Train loss: 0.59801 | Train accuracy: 95.33%\n",
      "Test loss: 58.60842 | Test accuracy: 75.39%\n"
     ]
    },
    {
     "name": "stderr",
     "output_type": "stream",
     "text": [
      " 44%|████▍     | 11/25 [03:53<05:02, 21.61s/it]"
     ]
    },
    {
     "name": "stdout",
     "output_type": "stream",
     "text": [
      " Epoch: 11\n",
      "---------\n",
      "Train loss: 0.59755 | Train accuracy: 95.34%\n",
      "Test loss: 58.69508 | Test accuracy: 75.47%\n"
     ]
    },
    {
     "name": "stderr",
     "output_type": "stream",
     "text": [
      " 48%|████▊     | 12/25 [04:15<04:44, 21.88s/it]"
     ]
    },
    {
     "name": "stdout",
     "output_type": "stream",
     "text": [
      " Epoch: 12\n",
      "---------\n",
      "Train loss: 0.59522 | Train accuracy: 95.57%\n",
      "Test loss: 58.77181 | Test accuracy: 75.31%\n"
     ]
    },
    {
     "name": "stderr",
     "output_type": "stream",
     "text": [
      " 52%|█████▏    | 13/25 [04:38<04:25, 22.11s/it]"
     ]
    },
    {
     "name": "stdout",
     "output_type": "stream",
     "text": [
      " Epoch: 13\n",
      "---------\n",
      "Train loss: 0.59480 | Train accuracy: 95.61%\n",
      "Test loss: 58.66227 | Test accuracy: 75.29%\n"
     ]
    },
    {
     "name": "stderr",
     "output_type": "stream",
     "text": [
      " 56%|█████▌    | 14/25 [05:01<04:05, 22.29s/it]"
     ]
    },
    {
     "name": "stdout",
     "output_type": "stream",
     "text": [
      " Epoch: 14\n",
      "---------\n",
      "Train loss: 0.59221 | Train accuracy: 95.86%\n",
      "Test loss: 58.68488 | Test accuracy: 75.39%\n"
     ]
    },
    {
     "name": "stderr",
     "output_type": "stream",
     "text": [
      " 60%|██████    | 15/25 [05:23<03:43, 22.36s/it]"
     ]
    },
    {
     "name": "stdout",
     "output_type": "stream",
     "text": [
      " Epoch: 15\n",
      "---------\n",
      "Train loss: 0.58990 | Train accuracy: 96.14%\n",
      "Test loss: 58.79604 | Test accuracy: 75.27%\n"
     ]
    },
    {
     "name": "stderr",
     "output_type": "stream",
     "text": [
      " 64%|██████▍   | 16/25 [05:46<03:23, 22.58s/it]"
     ]
    },
    {
     "name": "stdout",
     "output_type": "stream",
     "text": [
      " Epoch: 16\n",
      "---------\n",
      "Train loss: 0.58830 | Train accuracy: 96.31%\n",
      "Test loss: 58.68721 | Test accuracy: 75.46%\n"
     ]
    },
    {
     "name": "stderr",
     "output_type": "stream",
     "text": [
      " 68%|██████▊   | 17/25 [06:09<03:01, 22.72s/it]"
     ]
    },
    {
     "name": "stdout",
     "output_type": "stream",
     "text": [
      " Epoch: 17\n",
      "---------\n",
      "Train loss: 0.58819 | Train accuracy: 96.29%\n",
      "Test loss: 58.83902 | Test accuracy: 75.24%\n"
     ]
    },
    {
     "name": "stderr",
     "output_type": "stream",
     "text": [
      " 72%|███████▏  | 18/25 [06:32<02:39, 22.78s/it]"
     ]
    },
    {
     "name": "stdout",
     "output_type": "stream",
     "text": [
      " Epoch: 18\n",
      "---------\n",
      "Train loss: 0.58693 | Train accuracy: 96.42%\n",
      "Test loss: 58.79940 | Test accuracy: 75.24%\n"
     ]
    },
    {
     "name": "stderr",
     "output_type": "stream",
     "text": [
      " 76%|███████▌  | 19/25 [06:55<02:17, 22.89s/it]"
     ]
    },
    {
     "name": "stdout",
     "output_type": "stream",
     "text": [
      " Epoch: 19\n",
      "---------\n",
      "Train loss: 0.58644 | Train accuracy: 96.46%\n",
      "Test loss: 58.56227 | Test accuracy: 75.69%\n"
     ]
    },
    {
     "name": "stderr",
     "output_type": "stream",
     "text": [
      " 80%|████████  | 20/25 [07:18<01:54, 22.84s/it]"
     ]
    },
    {
     "name": "stdout",
     "output_type": "stream",
     "text": [
      " Epoch: 20\n",
      "---------\n",
      "Train loss: 0.58642 | Train accuracy: 96.45%\n",
      "Test loss: 58.67209 | Test accuracy: 75.50%\n"
     ]
    },
    {
     "name": "stderr",
     "output_type": "stream",
     "text": [
      " 84%|████████▍ | 21/25 [07:41<01:31, 22.80s/it]"
     ]
    },
    {
     "name": "stdout",
     "output_type": "stream",
     "text": [
      " Epoch: 21\n",
      "---------\n",
      "Train loss: 0.58552 | Train accuracy: 96.57%\n",
      "Test loss: 58.96478 | Test accuracy: 75.11%\n"
     ]
    },
    {
     "name": "stderr",
     "output_type": "stream",
     "text": [
      " 88%|████████▊ | 22/25 [08:04<01:08, 22.82s/it]"
     ]
    },
    {
     "name": "stdout",
     "output_type": "stream",
     "text": [
      " Epoch: 22\n",
      "---------\n",
      "Train loss: 0.58369 | Train accuracy: 96.75%\n"
     ]
    },
    {
     "name": "stderr",
     "output_type": "stream",
     "text": [
      " 92%|█████████▏| 23/25 [08:26<00:45, 22.78s/it]"
     ]
    },
    {
     "name": "stdout",
     "output_type": "stream",
     "text": [
      "Test loss: 58.72719 | Test accuracy: 75.48%\n",
      " Epoch: 23\n",
      "---------\n",
      "Train loss: 0.58235 | Train accuracy: 96.88%\n",
      "Test loss: 58.82476 | Test accuracy: 75.30%\n"
     ]
    },
    {
     "name": "stderr",
     "output_type": "stream",
     "text": [
      " 96%|█████████▌| 24/25 [08:49<00:22, 22.78s/it]"
     ]
    },
    {
     "name": "stdout",
     "output_type": "stream",
     "text": [
      " Epoch: 24\n",
      "---------\n",
      "Train loss: 0.58148 | Train accuracy: 96.97%\n",
      "Test loss: 58.82968 | Test accuracy: 75.20%\n"
     ]
    },
    {
     "name": "stderr",
     "output_type": "stream",
     "text": [
      "100%|██████████| 25/25 [09:12<00:00, 22.10s/it]"
     ]
    },
    {
     "name": "stdout",
     "output_type": "stream",
     "text": [
      "[INFO] Saving model to: models\\Model _CNN_4STEP.pth\n"
     ]
    },
    {
     "name": "stderr",
     "output_type": "stream",
     "text": [
      "\n"
     ]
    }
   ],
   "source": [
    "input_size = [250, 500, 1000 ,2000,4000]\n",
    "\n",
    "for i in range(len(input_size)):\n",
    "\n",
    "    data = DATA_1M(seconds=30,columns=input_size[i], jump_time =2, n_jumps=1) ; data_fourier = data(Fourier=False, Normalizing= True)\n",
    "    \n",
    "    Torch = NeuralNetCNN(columns= data_fourier.shape[1] -1,conv_blocks =1,groupblocks=2)\n",
    "\n",
    "    data.Spliting(data= data_fourier, random_state= 30, test_size = 0.25, shuffle = True, inplace= False)\n",
    "\n",
    "    train_dataloader , test_dataloader = data.DataLoaders(batch_size=128, inplace=True)\n",
    "\n",
    "    experiment_name = f\"No_Fourier_{i}_{data_fourier.shape[1]-1}_inputsize_{len(list(Torch.Cnn.children()))}_Layers_{Torch.count_blocks(Torch.Cnn)}_Blocks\"\n",
    "    \n",
    "    model_name = 'CNN_4STEP'\n",
    "\n",
    "    print(f\"Experiment Fourier:  {data_fourier.shape[1]-1} input size ,  {len(list(Torch.Cnn.children()))} Layers ,{Torch.count_blocks(Torch.Cnn)} Blocks\")\n",
    "\n",
    "    \n",
    "    Torch.training_loop(model= Torch.Cnn,\n",
    "        data_loader_train= train_dataloader,\n",
    "        data_loader_test= test_dataloader,\n",
    "        optimizer= Torch.optimizer,\n",
    "        loss_fn= Torch.loss_fn,\n",
    "        device= Torch.device,\n",
    "        accuracy_fn= accuracy_fn,\n",
    "        writer= create_writer(experiment_name=experiment_name,\n",
    "                              model_name= model_name\n",
    "                              ),\n",
    "        epochs= 25)\n",
    "    ## Salvando o modelo\n",
    "    save_filepath = f\"Model _{model_name}.pth\"\n",
    "    save_model(model=Torch.Cnn,\n",
    "               target_dir=\"models\",\n",
    "               model_name=save_filepath)\n",
    "    "
   ]
  },
  {
   "cell_type": "code",
   "execution_count": 2,
   "metadata": {},
   "outputs": [
    {
     "name": "stdout",
     "output_type": "stream",
     "text": [
      "tamanho da memória ocupada :2297.97 MB\n",
      "X_train shape: (900000, 250) float64\n",
      "X_Test shape: (300000, 250) float64\n",
      "y_train shape: (900000,) float64\n",
      "y_test shape: (300000,) float64\n",
      "\n",
      "--------\n",
      "X_train device: cpu\n",
      "X_Test device: cpu\n",
      "y_train device: cpu\n",
      "y_test device: cpu\n",
      "Valor 0: 400000 ocorrência(s)- 0.33%\n",
      "Valor 1: 400000 ocorrência(s)- 0.33%\n",
      "Valor 2: 400000 ocorrência(s)- 0.33%\n",
      "Dataset :  (1200000, 251)\n",
      "X torch.Size([128, 250]) y torch.Size([128])\n",
      "----------------\n",
      "\n",
      "Dataloaders: (<torch.utils.data.dataloader.DataLoader object at 0x0000016B01AA8150>, <torch.utils.data.dataloader.DataLoader object at 0x0000016B019A2550>)\n",
      "Length of train dataloader: 7032 batches of 128\n",
      "Length of test dataloader: 2344 batches of 128\n",
      "Experiment Fourier:  250 input size ,  4 Layers ,8 Blocks\n",
      "[INFO] Created SummaryWriter, saving to: runs\\2023-06-04\\No_Fourier_0_250_inputsize_4_Layers_8_Blocks\\CNN_6STEP_No_Fourier_4_Layers_0...\n",
      "Training on cpu\n"
     ]
    },
    {
     "name": "stderr",
     "output_type": "stream",
     "text": [
      "  0%|          | 0/25 [00:00<?, ?it/s]"
     ]
    },
    {
     "name": "stdout",
     "output_type": "stream",
     "text": [
      " Epoch: 0\n",
      "---------\n",
      "Train loss: 0.82253 | Train accuracy: 71.74%\n",
      "Test loss: 914.54035 | Test accuracy: 76.22%\n"
     ]
    },
    {
     "name": "stderr",
     "output_type": "stream",
     "text": [
      "  4%|▍         | 1/25 [01:39<39:41, 99.22s/it]"
     ]
    },
    {
     "name": "stdout",
     "output_type": "stream",
     "text": [
      " Epoch: 1\n",
      "---------\n",
      "Train loss: 0.77415 | Train accuracy: 76.95%\n",
      "Test loss: 895.11541 | Test accuracy: 77.88%\n"
     ]
    },
    {
     "name": "stderr",
     "output_type": "stream",
     "text": [
      "  8%|▊         | 2/25 [03:16<37:34, 98.02s/it]"
     ]
    },
    {
     "name": "stdout",
     "output_type": "stream",
     "text": [
      " Epoch: 2\n",
      "---------\n",
      "Train loss: 0.76163 | Train accuracy: 78.24%\n",
      "Test loss: 888.89096 | Test accuracy: 78.57%\n"
     ]
    },
    {
     "name": "stderr",
     "output_type": "stream",
     "text": [
      " 12%|█▏        | 3/25 [04:54<35:53, 97.88s/it]"
     ]
    },
    {
     "name": "stdout",
     "output_type": "stream",
     "text": [
      " Epoch: 3\n",
      "---------\n",
      "Train loss: 0.75446 | Train accuracy: 79.00%\n",
      "Test loss: 883.14070 | Test accuracy: 78.99%\n"
     ]
    },
    {
     "name": "stderr",
     "output_type": "stream",
     "text": [
      " 16%|█▌        | 4/25 [06:31<34:11, 97.68s/it]"
     ]
    },
    {
     "name": "stdout",
     "output_type": "stream",
     "text": [
      " Epoch: 4\n",
      "---------\n",
      "Train loss: 0.74912 | Train accuracy: 79.58%\n",
      "Test loss: 878.26225 | Test accuracy: 79.51%\n"
     ]
    },
    {
     "name": "stderr",
     "output_type": "stream",
     "text": [
      " 20%|██        | 5/25 [08:10<32:43, 98.17s/it]"
     ]
    },
    {
     "name": "stdout",
     "output_type": "stream",
     "text": [
      " Epoch: 5\n",
      "---------\n",
      "Train loss: 0.74491 | Train accuracy: 80.00%\n",
      "Test loss: 878.00642 | Test accuracy: 79.48%\n"
     ]
    },
    {
     "name": "stderr",
     "output_type": "stream",
     "text": [
      " 24%|██▍       | 6/25 [09:48<31:04, 98.11s/it]"
     ]
    },
    {
     "name": "stdout",
     "output_type": "stream",
     "text": [
      " Epoch: 6\n",
      "---------\n",
      "Train loss: 0.74209 | Train accuracy: 80.33%\n",
      "Test loss: 875.52101 | Test accuracy: 79.72%\n"
     ]
    },
    {
     "name": "stderr",
     "output_type": "stream",
     "text": [
      " 28%|██▊       | 7/25 [11:25<29:21, 97.88s/it]"
     ]
    },
    {
     "name": "stdout",
     "output_type": "stream",
     "text": [
      " Epoch: 7\n",
      "---------\n",
      "Train loss: 0.73955 | Train accuracy: 80.59%\n",
      "Test loss: 875.71369 | Test accuracy: 79.69%\n"
     ]
    },
    {
     "name": "stderr",
     "output_type": "stream",
     "text": [
      " 32%|███▏      | 8/25 [13:04<27:47, 98.06s/it]"
     ]
    },
    {
     "name": "stdout",
     "output_type": "stream",
     "text": [
      " Epoch: 8\n",
      "---------\n",
      "Train loss: 0.73738 | Train accuracy: 80.82%\n",
      "Test loss: 873.01352 | Test accuracy: 79.91%\n"
     ]
    },
    {
     "name": "stderr",
     "output_type": "stream",
     "text": [
      " 36%|███▌      | 9/25 [14:42<26:07, 98.00s/it]"
     ]
    },
    {
     "name": "stdout",
     "output_type": "stream",
     "text": [
      " Epoch: 9\n",
      "---------\n",
      "Train loss: 0.73502 | Train accuracy: 81.08%\n",
      "Test loss: 871.19954 | Test accuracy: 80.07%\n"
     ]
    },
    {
     "name": "stderr",
     "output_type": "stream",
     "text": [
      " 40%|████      | 10/25 [16:19<24:24, 97.66s/it]"
     ]
    },
    {
     "name": "stdout",
     "output_type": "stream",
     "text": [
      " Epoch: 10\n",
      "---------\n",
      "Train loss: 0.73303 | Train accuracy: 81.27%\n",
      "Test loss: 872.31363 | Test accuracy: 79.95%\n"
     ]
    },
    {
     "name": "stderr",
     "output_type": "stream",
     "text": [
      " 44%|████▍     | 11/25 [18:00<23:05, 98.94s/it]"
     ]
    },
    {
     "name": "stdout",
     "output_type": "stream",
     "text": [
      " Epoch: 11\n",
      "---------\n",
      "Train loss: 0.73172 | Train accuracy: 81.42%\n",
      "Test loss: 870.50765 | Test accuracy: 80.16%\n"
     ]
    },
    {
     "name": "stderr",
     "output_type": "stream",
     "text": [
      " 48%|████▊     | 12/25 [19:41<21:33, 99.51s/it]"
     ]
    },
    {
     "name": "stdout",
     "output_type": "stream",
     "text": [
      " Epoch: 12\n",
      "---------\n",
      "Train loss: 0.73013 | Train accuracy: 81.60%\n",
      "Test loss: 870.17542 | Test accuracy: 80.21%\n"
     ]
    },
    {
     "name": "stderr",
     "output_type": "stream",
     "text": [
      " 52%|█████▏    | 13/25 [21:22<19:57, 99.81s/it]"
     ]
    },
    {
     "name": "stdout",
     "output_type": "stream",
     "text": [
      " Epoch: 13\n",
      "---------\n",
      "Train loss: 0.72903 | Train accuracy: 81.72%\n",
      "Test loss: 867.98725 | Test accuracy: 80.39%\n"
     ]
    },
    {
     "name": "stderr",
     "output_type": "stream",
     "text": [
      " 56%|█████▌    | 14/25 [23:01<18:17, 99.74s/it]"
     ]
    },
    {
     "name": "stdout",
     "output_type": "stream",
     "text": [
      " Epoch: 14\n",
      "---------\n",
      "Train loss: 0.72752 | Train accuracy: 81.88%\n",
      "Test loss: 869.76251 | Test accuracy: 80.23%\n"
     ]
    },
    {
     "name": "stderr",
     "output_type": "stream",
     "text": [
      " 60%|██████    | 15/25 [24:42<16:41, 100.10s/it]"
     ]
    },
    {
     "name": "stdout",
     "output_type": "stream",
     "text": [
      " Epoch: 15\n",
      "---------\n",
      "Train loss: 0.72684 | Train accuracy: 81.95%\n",
      "Test loss: 868.02571 | Test accuracy: 80.37%\n"
     ]
    },
    {
     "name": "stderr",
     "output_type": "stream",
     "text": [
      " 64%|██████▍   | 16/25 [26:22<15:00, 100.03s/it]"
     ]
    },
    {
     "name": "stdout",
     "output_type": "stream",
     "text": [
      " Epoch: 16\n",
      "---------\n",
      "Train loss: 0.72602 | Train accuracy: 82.01%\n",
      "Test loss: 866.66030 | Test accuracy: 80.47%\n"
     ]
    },
    {
     "name": "stderr",
     "output_type": "stream",
     "text": [
      " 68%|██████▊   | 17/25 [28:03<13:22, 100.31s/it]"
     ]
    },
    {
     "name": "stdout",
     "output_type": "stream",
     "text": [
      " Epoch: 17\n",
      "---------\n",
      "Train loss: 0.72500 | Train accuracy: 82.16%\n",
      "Test loss: 865.68665 | Test accuracy: 80.60%\n"
     ]
    },
    {
     "name": "stderr",
     "output_type": "stream",
     "text": [
      " 72%|███████▏  | 18/25 [29:42<11:39, 99.96s/it] "
     ]
    },
    {
     "name": "stdout",
     "output_type": "stream",
     "text": [
      " Epoch: 18\n",
      "---------\n",
      "Train loss: 0.72442 | Train accuracy: 82.21%\n",
      "Test loss: 864.77628 | Test accuracy: 80.71%\n"
     ]
    },
    {
     "name": "stderr",
     "output_type": "stream",
     "text": [
      " 76%|███████▌  | 19/25 [31:29<10:11, 101.98s/it]"
     ]
    },
    {
     "name": "stdout",
     "output_type": "stream",
     "text": [
      " Epoch: 19\n",
      "---------\n",
      "Train loss: 0.72360 | Train accuracy: 82.31%\n",
      "Test loss: 864.47268 | Test accuracy: 80.68%\n"
     ]
    },
    {
     "name": "stderr",
     "output_type": "stream",
     "text": [
      " 80%|████████  | 20/25 [33:10<08:28, 101.79s/it]"
     ]
    },
    {
     "name": "stdout",
     "output_type": "stream",
     "text": [
      " Epoch: 20\n",
      "---------\n",
      "Train loss: 0.72319 | Train accuracy: 82.33%\n",
      "Test loss: 867.71438 | Test accuracy: 80.45%\n"
     ]
    },
    {
     "name": "stderr",
     "output_type": "stream",
     "text": [
      " 84%|████████▍ | 21/25 [34:50<06:44, 101.02s/it]"
     ]
    },
    {
     "name": "stdout",
     "output_type": "stream",
     "text": [
      " Epoch: 21\n",
      "---------\n",
      "Train loss: 0.72211 | Train accuracy: 82.44%\n",
      "Test loss: 863.31117 | Test accuracy: 80.80%\n"
     ]
    },
    {
     "name": "stderr",
     "output_type": "stream",
     "text": [
      " 88%|████████▊ | 22/25 [36:29<05:01, 100.48s/it]"
     ]
    },
    {
     "name": "stdout",
     "output_type": "stream",
     "text": [
      " Epoch: 22\n",
      "---------\n",
      "Train loss: 0.72173 | Train accuracy: 82.50%\n",
      "Test loss: 864.26650 | Test accuracy: 80.78%\n"
     ]
    },
    {
     "name": "stderr",
     "output_type": "stream",
     "text": [
      " 92%|█████████▏| 23/25 [38:07<03:19, 99.78s/it] "
     ]
    },
    {
     "name": "stdout",
     "output_type": "stream",
     "text": [
      " Epoch: 23\n",
      "---------\n",
      "Train loss: 0.72101 | Train accuracy: 82.58%\n",
      "Test loss: 862.89346 | Test accuracy: 80.87%\n"
     ]
    },
    {
     "name": "stderr",
     "output_type": "stream",
     "text": [
      " 96%|█████████▌| 24/25 [39:45<01:39, 99.16s/it]"
     ]
    },
    {
     "name": "stdout",
     "output_type": "stream",
     "text": [
      " Epoch: 24\n",
      "---------\n",
      "Train loss: 0.72023 | Train accuracy: 82.67%\n",
      "Test loss: 865.62800 | Test accuracy: 80.64%\n"
     ]
    },
    {
     "name": "stderr",
     "output_type": "stream",
     "text": [
      "100%|██████████| 25/25 [41:24<00:00, 99.39s/it]\n"
     ]
    },
    {
     "name": "stdout",
     "output_type": "stream",
     "text": [
      "[INFO] Saving model to: models\\Model _CNN_6STEP_No_Fourier_4_Layers_0.pth\n",
      "tamanho da memória ocupada :2293.40 MB\n",
      "X_train shape: (450000, 500) float64\n",
      "X_Test shape: (150000, 500) float64\n",
      "y_train shape: (450000,) float64\n",
      "y_test shape: (150000,) float64\n",
      "\n",
      "--------\n",
      "X_train device: cpu\n",
      "X_Test device: cpu\n",
      "y_train device: cpu\n",
      "y_test device: cpu\n",
      "Valor 0: 200000 ocorrência(s)- 0.33%\n",
      "Valor 1: 200000 ocorrência(s)- 0.33%\n",
      "Valor 2: 200000 ocorrência(s)- 0.33%\n",
      "Dataset :  (600000, 501)\n",
      "X torch.Size([128, 500]) y torch.Size([128])\n",
      "----------------\n",
      "\n",
      "Dataloaders: (<torch.utils.data.dataloader.DataLoader object at 0x0000016B359CED50>, <torch.utils.data.dataloader.DataLoader object at 0x0000016B359A8B50>)\n",
      "Length of train dataloader: 3516 batches of 128\n",
      "Length of test dataloader: 1172 batches of 128\n",
      "Experiment Fourier:  500 input size ,  4 Layers ,8 Blocks\n",
      "[INFO] Created SummaryWriter, saving to: runs\\2023-06-04\\No_Fourier_1_500_inputsize_4_Layers_8_Blocks\\CNN_6STEP_No_Fourier_4_Layers_1...\n",
      "Training on cpu\n"
     ]
    },
    {
     "name": "stderr",
     "output_type": "stream",
     "text": [
      "  0%|          | 0/25 [00:00<?, ?it/s]"
     ]
    },
    {
     "name": "stdout",
     "output_type": "stream",
     "text": [
      " Epoch: 0\n",
      "---------\n",
      "Train loss: 0.83307 | Train accuracy: 70.44%\n",
      "Test loss: 457.04638 | Test accuracy: 76.43%\n"
     ]
    },
    {
     "name": "stderr",
     "output_type": "stream",
     "text": [
      "  4%|▍         | 1/25 [01:01<24:37, 61.55s/it]"
     ]
    },
    {
     "name": "stdout",
     "output_type": "stream",
     "text": [
      " Epoch: 1\n",
      "---------\n",
      "Train loss: 0.75940 | Train accuracy: 78.47%\n",
      "Test loss: 442.70822 | Test accuracy: 78.93%\n"
     ]
    },
    {
     "name": "stderr",
     "output_type": "stream",
     "text": [
      "  8%|▊         | 2/25 [02:04<23:54, 62.35s/it]"
     ]
    },
    {
     "name": "stdout",
     "output_type": "stream",
     "text": [
      " Epoch: 2\n",
      "---------\n",
      "Train loss: 0.73902 | Train accuracy: 80.66%\n",
      "Test loss: 437.85456 | Test accuracy: 79.81%\n"
     ]
    },
    {
     "name": "stderr",
     "output_type": "stream",
     "text": [
      " 12%|█▏        | 3/25 [03:06<22:49, 62.27s/it]"
     ]
    },
    {
     "name": "stdout",
     "output_type": "stream",
     "text": [
      " Epoch: 3\n",
      "---------\n",
      "Train loss: 0.72615 | Train accuracy: 81.97%\n",
      "Test loss: 433.84349 | Test accuracy: 80.43%\n"
     ]
    },
    {
     "name": "stderr",
     "output_type": "stream",
     "text": [
      " 16%|█▌        | 4/25 [04:13<22:29, 64.26s/it]"
     ]
    },
    {
     "name": "stdout",
     "output_type": "stream",
     "text": [
      " Epoch: 4\n",
      "---------\n",
      "Train loss: 0.71753 | Train accuracy: 82.87%\n",
      "Test loss: 432.33657 | Test accuracy: 80.81%\n"
     ]
    },
    {
     "name": "stderr",
     "output_type": "stream",
     "text": [
      " 20%|██        | 5/25 [05:21<21:51, 65.59s/it]"
     ]
    },
    {
     "name": "stdout",
     "output_type": "stream",
     "text": [
      " Epoch: 5\n",
      "---------\n",
      "Train loss: 0.71092 | Train accuracy: 83.60%\n",
      "Test loss: 429.99489 | Test accuracy: 81.20%\n"
     ]
    },
    {
     "name": "stderr",
     "output_type": "stream",
     "text": [
      " 24%|██▍       | 6/25 [06:30<21:05, 66.62s/it]"
     ]
    },
    {
     "name": "stdout",
     "output_type": "stream",
     "text": [
      " Epoch: 6\n",
      "---------\n",
      "Train loss: 0.70548 | Train accuracy: 84.14%\n",
      "Test loss: 429.50879 | Test accuracy: 81.21%\n"
     ]
    },
    {
     "name": "stderr",
     "output_type": "stream",
     "text": [
      " 28%|██▊       | 7/25 [07:38<20:08, 67.11s/it]"
     ]
    },
    {
     "name": "stdout",
     "output_type": "stream",
     "text": [
      " Epoch: 7\n",
      "---------\n",
      "Train loss: 0.70058 | Train accuracy: 84.67%\n",
      "Test loss: 428.11810 | Test accuracy: 81.55%\n"
     ]
    },
    {
     "name": "stderr",
     "output_type": "stream",
     "text": [
      " 32%|███▏      | 8/25 [08:47<19:08, 67.56s/it]"
     ]
    },
    {
     "name": "stdout",
     "output_type": "stream",
     "text": [
      " Epoch: 8\n",
      "---------\n",
      "Train loss: 0.69704 | Train accuracy: 85.05%\n",
      "Test loss: 427.59128 | Test accuracy: 81.59%\n"
     ]
    },
    {
     "name": "stderr",
     "output_type": "stream",
     "text": [
      " 36%|███▌      | 9/25 [09:55<18:03, 67.70s/it]"
     ]
    },
    {
     "name": "stdout",
     "output_type": "stream",
     "text": [
      " Epoch: 9\n",
      "---------\n",
      "Train loss: 0.69315 | Train accuracy: 85.47%\n",
      "Test loss: 426.56911 | Test accuracy: 81.80%\n"
     ]
    },
    {
     "name": "stderr",
     "output_type": "stream",
     "text": [
      " 40%|████      | 10/25 [10:59<16:40, 66.68s/it]"
     ]
    },
    {
     "name": "stdout",
     "output_type": "stream",
     "text": [
      " Epoch: 10\n",
      "---------\n",
      "Train loss: 0.69087 | Train accuracy: 85.72%\n",
      "Test loss: 425.94606 | Test accuracy: 82.01%\n"
     ]
    },
    {
     "name": "stderr",
     "output_type": "stream",
     "text": [
      " 44%|████▍     | 11/25 [12:01<15:13, 65.26s/it]"
     ]
    },
    {
     "name": "stdout",
     "output_type": "stream",
     "text": [
      " Epoch: 11\n",
      "---------\n",
      "Train loss: 0.68762 | Train accuracy: 86.05%\n",
      "Test loss: 425.00151 | Test accuracy: 82.13%\n"
     ]
    },
    {
     "name": "stderr",
     "output_type": "stream",
     "text": [
      " 48%|████▊     | 12/25 [13:02<13:52, 64.02s/it]"
     ]
    },
    {
     "name": "stdout",
     "output_type": "stream",
     "text": [
      " Epoch: 12\n",
      "---------\n",
      "Train loss: 0.68484 | Train accuracy: 86.32%\n",
      "Test loss: 424.89916 | Test accuracy: 82.18%\n"
     ]
    },
    {
     "name": "stderr",
     "output_type": "stream",
     "text": [
      " 52%|█████▏    | 13/25 [14:03<12:37, 63.10s/it]"
     ]
    },
    {
     "name": "stdout",
     "output_type": "stream",
     "text": [
      " Epoch: 13\n",
      "---------\n",
      "Train loss: 0.68233 | Train accuracy: 86.57%\n",
      "Test loss: 424.07376 | Test accuracy: 82.33%\n"
     ]
    },
    {
     "name": "stderr",
     "output_type": "stream",
     "text": [
      " 56%|█████▌    | 14/25 [15:07<11:36, 63.35s/it]"
     ]
    },
    {
     "name": "stdout",
     "output_type": "stream",
     "text": [
      " Epoch: 14\n",
      "---------\n",
      "Train loss: 0.68028 | Train accuracy: 86.79%\n",
      "Test loss: 423.33839 | Test accuracy: 82.40%\n"
     ]
    },
    {
     "name": "stderr",
     "output_type": "stream",
     "text": [
      " 60%|██████    | 15/25 [16:09<10:29, 62.93s/it]"
     ]
    },
    {
     "name": "stdout",
     "output_type": "stream",
     "text": [
      " Epoch: 15\n",
      "---------\n",
      "Train loss: 0.67839 | Train accuracy: 86.99%\n",
      "Test loss: 423.57739 | Test accuracy: 82.40%\n"
     ]
    },
    {
     "name": "stderr",
     "output_type": "stream",
     "text": [
      " 64%|██████▍   | 16/25 [17:10<09:21, 62.43s/it]"
     ]
    },
    {
     "name": "stdout",
     "output_type": "stream",
     "text": [
      " Epoch: 16\n",
      "---------\n",
      "Train loss: 0.67697 | Train accuracy: 87.17%\n",
      "Test loss: 423.19094 | Test accuracy: 82.53%\n"
     ]
    },
    {
     "name": "stderr",
     "output_type": "stream",
     "text": [
      " 68%|██████▊   | 17/25 [18:12<08:17, 62.18s/it]"
     ]
    },
    {
     "name": "stdout",
     "output_type": "stream",
     "text": [
      " Epoch: 17\n",
      "---------\n",
      "Train loss: 0.67586 | Train accuracy: 87.28%\n",
      "Test loss: 423.77525 | Test accuracy: 82.46%\n"
     ]
    },
    {
     "name": "stderr",
     "output_type": "stream",
     "text": [
      " 72%|███████▏  | 18/25 [19:15<07:15, 62.28s/it]"
     ]
    },
    {
     "name": "stdout",
     "output_type": "stream",
     "text": [
      " Epoch: 18\n",
      "---------\n",
      "Train loss: 0.67396 | Train accuracy: 87.47%\n",
      "Test loss: 423.11025 | Test accuracy: 82.50%\n"
     ]
    },
    {
     "name": "stderr",
     "output_type": "stream",
     "text": [
      " 76%|███████▌  | 19/25 [20:19<06:18, 63.03s/it]"
     ]
    },
    {
     "name": "stdout",
     "output_type": "stream",
     "text": [
      " Epoch: 19\n",
      "---------\n",
      "Train loss: 0.67206 | Train accuracy: 87.66%\n",
      "Test loss: 423.42482 | Test accuracy: 82.49%\n"
     ]
    },
    {
     "name": "stderr",
     "output_type": "stream",
     "text": [
      " 80%|████████  | 20/25 [21:22<05:15, 63.05s/it]"
     ]
    },
    {
     "name": "stdout",
     "output_type": "stream",
     "text": [
      " Epoch: 20\n",
      "---------\n",
      "Train loss: 0.67142 | Train accuracy: 87.73%\n",
      "Test loss: 423.56071 | Test accuracy: 82.42%\n"
     ]
    },
    {
     "name": "stderr",
     "output_type": "stream",
     "text": [
      " 84%|████████▍ | 21/25 [22:25<04:12, 63.05s/it]"
     ]
    },
    {
     "name": "stdout",
     "output_type": "stream",
     "text": [
      " Epoch: 21\n",
      "---------\n",
      "Train loss: 0.67051 | Train accuracy: 87.83%\n",
      "Test loss: 423.52179 | Test accuracy: 82.45%\n"
     ]
    },
    {
     "name": "stderr",
     "output_type": "stream",
     "text": [
      " 88%|████████▊ | 22/25 [23:29<03:09, 63.07s/it]"
     ]
    },
    {
     "name": "stdout",
     "output_type": "stream",
     "text": [
      " Epoch: 22\n",
      "---------\n",
      "Train loss: 0.66941 | Train accuracy: 87.94%\n",
      "Test loss: 422.72874 | Test accuracy: 82.55%\n"
     ]
    },
    {
     "name": "stderr",
     "output_type": "stream",
     "text": [
      " 92%|█████████▏| 23/25 [24:31<02:05, 62.93s/it]"
     ]
    },
    {
     "name": "stdout",
     "output_type": "stream",
     "text": [
      " Epoch: 23\n",
      "---------\n",
      "Train loss: 0.66830 | Train accuracy: 88.06%\n",
      "Test loss: 422.43145 | Test accuracy: 82.63%\n"
     ]
    },
    {
     "name": "stderr",
     "output_type": "stream",
     "text": [
      " 96%|█████████▌| 24/25 [25:36<01:03, 63.55s/it]"
     ]
    },
    {
     "name": "stdout",
     "output_type": "stream",
     "text": [
      " Epoch: 24\n",
      "---------\n",
      "Train loss: 0.66702 | Train accuracy: 88.17%\n",
      "Test loss: 422.87732 | Test accuracy: 82.56%\n"
     ]
    },
    {
     "name": "stderr",
     "output_type": "stream",
     "text": [
      "100%|██████████| 25/25 [26:39<00:00, 64.00s/it]\n"
     ]
    },
    {
     "name": "stdout",
     "output_type": "stream",
     "text": [
      "[INFO] Saving model to: models\\Model _CNN_6STEP_No_Fourier_4_Layers_1.pth\n",
      "tamanho da memória ocupada :2291.11 MB\n",
      "X_train shape: (225000, 1000) float64\n",
      "X_Test shape: (75000, 1000) float64\n",
      "y_train shape: (225000,) float64\n",
      "y_test shape: (75000,) float64\n",
      "\n",
      "--------\n",
      "X_train device: cpu\n",
      "X_Test device: cpu\n",
      "y_train device: cpu\n",
      "y_test device: cpu\n",
      "Valor 0: 100000 ocorrência(s)- 0.33%\n",
      "Valor 1: 100000 ocorrência(s)- 0.33%\n",
      "Valor 2: 100000 ocorrência(s)- 0.33%\n",
      "Dataset :  (300000, 1001)\n",
      "X torch.Size([128, 1000]) y torch.Size([128])\n",
      "----------------\n",
      "\n",
      "Dataloaders: (<torch.utils.data.dataloader.DataLoader object at 0x0000016B031C9890>, <torch.utils.data.dataloader.DataLoader object at 0x0000016B019A2550>)\n",
      "Length of train dataloader: 1758 batches of 128\n",
      "Length of test dataloader: 586 batches of 128\n",
      "Experiment Fourier:  1000 input size ,  4 Layers ,8 Blocks\n",
      "[INFO] Created SummaryWriter, saving to: runs\\2023-06-04\\No_Fourier_2_1000_inputsize_4_Layers_8_Blocks\\CNN_6STEP_No_Fourier_4_Layers_2...\n",
      "Training on cpu\n"
     ]
    },
    {
     "name": "stderr",
     "output_type": "stream",
     "text": [
      "  0%|          | 0/25 [00:00<?, ?it/s]"
     ]
    },
    {
     "name": "stdout",
     "output_type": "stream",
     "text": [
      " Epoch: 0\n",
      "---------\n",
      "Train loss: 0.84525 | Train accuracy: 68.61%\n",
      "Test loss: 235.37579 | Test accuracy: 73.69%\n"
     ]
    },
    {
     "name": "stderr",
     "output_type": "stream",
     "text": [
      "  4%|▍         | 1/25 [00:39<15:50, 39.61s/it]"
     ]
    },
    {
     "name": "stdout",
     "output_type": "stream",
     "text": [
      " Epoch: 1\n",
      "---------\n",
      "Train loss: 0.78619 | Train accuracy: 75.39%\n",
      "Test loss: 231.57111 | Test accuracy: 75.14%\n"
     ]
    },
    {
     "name": "stderr",
     "output_type": "stream",
     "text": [
      "  8%|▊         | 2/25 [01:18<15:06, 39.43s/it]"
     ]
    },
    {
     "name": "stdout",
     "output_type": "stream",
     "text": [
      " Epoch: 2\n",
      "---------\n",
      "Train loss: 0.76065 | Train accuracy: 78.24%\n",
      "Test loss: 227.85338 | Test accuracy: 76.48%\n"
     ]
    },
    {
     "name": "stderr",
     "output_type": "stream",
     "text": [
      " 12%|█▏        | 3/25 [01:58<14:32, 39.64s/it]"
     ]
    },
    {
     "name": "stdout",
     "output_type": "stream",
     "text": [
      " Epoch: 3\n",
      "---------\n",
      "Train loss: 0.74227 | Train accuracy: 80.24%\n",
      "Test loss: 227.09116 | Test accuracy: 76.70%\n"
     ]
    },
    {
     "name": "stderr",
     "output_type": "stream",
     "text": [
      " 16%|█▌        | 4/25 [02:38<13:52, 39.66s/it]"
     ]
    },
    {
     "name": "stdout",
     "output_type": "stream",
     "text": [
      " Epoch: 4\n",
      "---------\n",
      "Train loss: 0.72760 | Train accuracy: 81.86%\n",
      "Test loss: 225.90022 | Test accuracy: 77.15%\n"
     ]
    },
    {
     "name": "stderr",
     "output_type": "stream",
     "text": [
      " 20%|██        | 5/25 [03:18<13:18, 39.91s/it]"
     ]
    },
    {
     "name": "stdout",
     "output_type": "stream",
     "text": [
      " Epoch: 5\n",
      "---------\n",
      "Train loss: 0.71542 | Train accuracy: 83.12%\n",
      "Test loss: 225.06216 | Test accuracy: 77.63%\n"
     ]
    },
    {
     "name": "stderr",
     "output_type": "stream",
     "text": [
      " 24%|██▍       | 6/25 [03:57<12:32, 39.63s/it]"
     ]
    },
    {
     "name": "stdout",
     "output_type": "stream",
     "text": [
      " Epoch: 6\n",
      "---------\n",
      "Train loss: 0.70635 | Train accuracy: 84.12%\n",
      "Test loss: 224.91243 | Test accuracy: 77.74%\n"
     ]
    },
    {
     "name": "stderr",
     "output_type": "stream",
     "text": [
      " 28%|██▊       | 7/25 [04:38<11:57, 39.84s/it]"
     ]
    },
    {
     "name": "stdout",
     "output_type": "stream",
     "text": [
      " Epoch: 7\n",
      "---------\n",
      "Train loss: 0.69769 | Train accuracy: 84.99%\n",
      "Test loss: 223.64153 | Test accuracy: 78.16%\n"
     ]
    },
    {
     "name": "stderr",
     "output_type": "stream",
     "text": [
      " 32%|███▏      | 8/25 [05:20<11:28, 40.50s/it]"
     ]
    },
    {
     "name": "stdout",
     "output_type": "stream",
     "text": [
      " Epoch: 8\n",
      "---------\n",
      "Train loss: 0.69148 | Train accuracy: 85.68%\n",
      "Test loss: 224.49579 | Test accuracy: 78.02%\n"
     ]
    },
    {
     "name": "stderr",
     "output_type": "stream",
     "text": [
      " 36%|███▌      | 9/25 [06:01<10:52, 40.81s/it]"
     ]
    },
    {
     "name": "stdout",
     "output_type": "stream",
     "text": [
      " Epoch: 9\n",
      "---------\n",
      "Train loss: 0.68569 | Train accuracy: 86.27%\n",
      "Test loss: 223.90302 | Test accuracy: 78.14%\n"
     ]
    },
    {
     "name": "stderr",
     "output_type": "stream",
     "text": [
      " 40%|████      | 10/25 [06:42<10:13, 40.87s/it]"
     ]
    },
    {
     "name": "stdout",
     "output_type": "stream",
     "text": [
      " Epoch: 10\n",
      "---------\n",
      "Train loss: 0.68091 | Train accuracy: 86.75%\n",
      "Test loss: 222.25663 | Test accuracy: 78.65%\n"
     ]
    },
    {
     "name": "stderr",
     "output_type": "stream",
     "text": [
      " 44%|████▍     | 11/25 [07:24<09:35, 41.11s/it]"
     ]
    },
    {
     "name": "stdout",
     "output_type": "stream",
     "text": [
      " Epoch: 11\n",
      "---------\n",
      "Train loss: 0.67595 | Train accuracy: 87.29%\n",
      "Test loss: 223.00773 | Test accuracy: 78.56%\n"
     ]
    },
    {
     "name": "stderr",
     "output_type": "stream",
     "text": [
      " 48%|████▊     | 12/25 [08:05<08:56, 41.25s/it]"
     ]
    },
    {
     "name": "stdout",
     "output_type": "stream",
     "text": [
      " Epoch: 12\n",
      "---------\n",
      "Train loss: 0.67207 | Train accuracy: 87.69%\n",
      "Test loss: 222.36967 | Test accuracy: 78.84%\n"
     ]
    },
    {
     "name": "stderr",
     "output_type": "stream",
     "text": [
      " 52%|█████▏    | 13/25 [08:47<08:14, 41.24s/it]"
     ]
    },
    {
     "name": "stdout",
     "output_type": "stream",
     "text": [
      " Epoch: 13\n",
      "---------\n",
      "Train loss: 0.66781 | Train accuracy: 88.14%\n",
      "Test loss: 222.09219 | Test accuracy: 78.91%\n"
     ]
    },
    {
     "name": "stderr",
     "output_type": "stream",
     "text": [
      " 56%|█████▌    | 14/25 [09:28<07:33, 41.25s/it]"
     ]
    },
    {
     "name": "stdout",
     "output_type": "stream",
     "text": [
      " Epoch: 14\n",
      "---------\n",
      "Train loss: 0.66492 | Train accuracy: 88.43%\n",
      "Test loss: 222.52193 | Test accuracy: 78.87%\n"
     ]
    },
    {
     "name": "stderr",
     "output_type": "stream",
     "text": [
      " 60%|██████    | 15/25 [10:09<06:52, 41.26s/it]"
     ]
    },
    {
     "name": "stdout",
     "output_type": "stream",
     "text": [
      " Epoch: 15\n",
      "---------\n",
      "Train loss: 0.66251 | Train accuracy: 88.67%\n",
      "Test loss: 221.58266 | Test accuracy: 79.08%\n"
     ]
    },
    {
     "name": "stderr",
     "output_type": "stream",
     "text": [
      " 64%|██████▍   | 16/25 [10:52<06:14, 41.62s/it]"
     ]
    },
    {
     "name": "stdout",
     "output_type": "stream",
     "text": [
      " Epoch: 16\n",
      "---------\n",
      "Train loss: 0.65900 | Train accuracy: 89.06%\n",
      "Test loss: 221.33505 | Test accuracy: 79.24%\n"
     ]
    },
    {
     "name": "stderr",
     "output_type": "stream",
     "text": [
      " 68%|██████▊   | 17/25 [11:33<05:31, 41.44s/it]"
     ]
    },
    {
     "name": "stdout",
     "output_type": "stream",
     "text": [
      " Epoch: 17\n",
      "---------\n",
      "Train loss: 0.65685 | Train accuracy: 89.27%\n",
      "Test loss: 222.01228 | Test accuracy: 79.11%\n"
     ]
    },
    {
     "name": "stderr",
     "output_type": "stream",
     "text": [
      " 72%|███████▏  | 18/25 [12:14<04:50, 41.45s/it]"
     ]
    },
    {
     "name": "stdout",
     "output_type": "stream",
     "text": [
      " Epoch: 18\n",
      "---------\n",
      "Train loss: 0.65373 | Train accuracy: 89.58%\n",
      "Test loss: 222.36558 | Test accuracy: 78.98%\n"
     ]
    },
    {
     "name": "stderr",
     "output_type": "stream",
     "text": [
      " 76%|███████▌  | 19/25 [12:55<04:07, 41.32s/it]"
     ]
    },
    {
     "name": "stdout",
     "output_type": "stream",
     "text": [
      " Epoch: 19\n",
      "---------\n",
      "Train loss: 0.65146 | Train accuracy: 89.80%\n",
      "Test loss: 221.61187 | Test accuracy: 79.22%\n"
     ]
    },
    {
     "name": "stderr",
     "output_type": "stream",
     "text": [
      " 80%|████████  | 20/25 [13:36<03:26, 41.30s/it]"
     ]
    },
    {
     "name": "stdout",
     "output_type": "stream",
     "text": [
      " Epoch: 20\n",
      "---------\n",
      "Train loss: 0.64899 | Train accuracy: 90.08%\n",
      "Test loss: 221.69223 | Test accuracy: 79.25%\n"
     ]
    },
    {
     "name": "stderr",
     "output_type": "stream",
     "text": [
      " 84%|████████▍ | 21/25 [14:18<02:45, 41.38s/it]"
     ]
    },
    {
     "name": "stdout",
     "output_type": "stream",
     "text": [
      " Epoch: 21\n",
      "---------\n",
      "Train loss: 0.64833 | Train accuracy: 90.12%\n",
      "Test loss: 222.17656 | Test accuracy: 79.03%\n"
     ]
    },
    {
     "name": "stderr",
     "output_type": "stream",
     "text": [
      " 88%|████████▊ | 22/25 [14:59<02:03, 41.26s/it]"
     ]
    },
    {
     "name": "stdout",
     "output_type": "stream",
     "text": [
      " Epoch: 22\n",
      "---------\n",
      "Train loss: 0.64687 | Train accuracy: 90.29%\n",
      "Test loss: 221.63795 | Test accuracy: 79.19%\n"
     ]
    },
    {
     "name": "stderr",
     "output_type": "stream",
     "text": [
      " 92%|█████████▏| 23/25 [15:39<01:22, 41.06s/it]"
     ]
    },
    {
     "name": "stdout",
     "output_type": "stream",
     "text": [
      " Epoch: 23\n",
      "---------\n",
      "Train loss: 0.64505 | Train accuracy: 90.50%\n",
      "Test loss: 221.14368 | Test accuracy: 79.40%\n"
     ]
    },
    {
     "name": "stderr",
     "output_type": "stream",
     "text": [
      " 96%|█████████▌| 24/25 [16:20<00:41, 41.05s/it]"
     ]
    },
    {
     "name": "stdout",
     "output_type": "stream",
     "text": [
      " Epoch: 24\n",
      "---------\n",
      "Train loss: 0.64255 | Train accuracy: 90.71%\n",
      "Test loss: 220.50008 | Test accuracy: 79.61%\n"
     ]
    },
    {
     "name": "stderr",
     "output_type": "stream",
     "text": [
      "100%|██████████| 25/25 [17:02<00:00, 40.88s/it]\n"
     ]
    },
    {
     "name": "stdout",
     "output_type": "stream",
     "text": [
      "[INFO] Saving model to: models\\Model _CNN_6STEP_No_Fourier_4_Layers_2.pth\n",
      "tamanho da memória ocupada :2289.96 MB\n",
      "X_train shape: (112500, 2000) float64\n",
      "X_Test shape: (37500, 2000) float64\n",
      "y_train shape: (112500,) float64\n",
      "y_test shape: (37500,) float64\n",
      "\n",
      "--------\n",
      "X_train device: cpu\n",
      "X_Test device: cpu\n",
      "y_train device: cpu\n",
      "y_test device: cpu\n",
      "Valor 0: 50000 ocorrência(s)- 0.33%\n",
      "Valor 1: 50000 ocorrência(s)- 0.33%\n",
      "Valor 2: 50000 ocorrência(s)- 0.33%\n",
      "Dataset :  (150000, 2001)\n",
      "X torch.Size([128, 2000]) y torch.Size([128])\n",
      "----------------\n",
      "\n",
      "Dataloaders: (<torch.utils.data.dataloader.DataLoader object at 0x0000016B023CCAD0>, <torch.utils.data.dataloader.DataLoader object at 0x0000016B023CD250>)\n",
      "Length of train dataloader: 879 batches of 128\n",
      "Length of test dataloader: 293 batches of 128\n",
      "Experiment Fourier:  2000 input size ,  4 Layers ,8 Blocks\n",
      "[INFO] Created SummaryWriter, saving to: runs\\2023-06-04\\No_Fourier_3_2000_inputsize_4_Layers_8_Blocks\\CNN_6STEP_No_Fourier_4_Layers_3...\n",
      "Training on cpu\n"
     ]
    },
    {
     "name": "stderr",
     "output_type": "stream",
     "text": [
      "  0%|          | 0/25 [00:00<?, ?it/s]"
     ]
    },
    {
     "name": "stdout",
     "output_type": "stream",
     "text": [
      " Epoch: 0\n",
      "---------\n",
      "Train loss: 0.83475 | Train accuracy: 69.69%\n",
      "Test loss: 116.27855 | Test accuracy: 74.49%\n"
     ]
    },
    {
     "name": "stderr",
     "output_type": "stream",
     "text": [
      "  4%|▍         | 1/25 [00:31<12:32, 31.34s/it]"
     ]
    },
    {
     "name": "stdout",
     "output_type": "stream",
     "text": [
      " Epoch: 1\n",
      "---------\n",
      "Train loss: 0.76336 | Train accuracy: 77.88%\n",
      "Test loss: 115.51280 | Test accuracy: 75.36%\n"
     ]
    },
    {
     "name": "stderr",
     "output_type": "stream",
     "text": [
      "  8%|▊         | 2/25 [01:00<11:32, 30.10s/it]"
     ]
    },
    {
     "name": "stdout",
     "output_type": "stream",
     "text": [
      " Epoch: 2\n",
      "---------\n",
      "Train loss: 0.72760 | Train accuracy: 81.86%\n",
      "Test loss: 115.61341 | Test accuracy: 75.51%\n"
     ]
    },
    {
     "name": "stderr",
     "output_type": "stream",
     "text": [
      " 12%|█▏        | 3/25 [01:30<11:00, 30.03s/it]"
     ]
    },
    {
     "name": "stdout",
     "output_type": "stream",
     "text": [
      " Epoch: 3\n",
      "---------\n",
      "Train loss: 0.70473 | Train accuracy: 84.28%\n",
      "Test loss: 115.35888 | Test accuracy: 75.90%\n"
     ]
    },
    {
     "name": "stderr",
     "output_type": "stream",
     "text": [
      " 16%|█▌        | 4/25 [02:00<10:32, 30.13s/it]"
     ]
    },
    {
     "name": "stdout",
     "output_type": "stream",
     "text": [
      " Epoch: 4\n",
      "---------\n",
      "Train loss: 0.68869 | Train accuracy: 85.95%\n",
      "Test loss: 114.87015 | Test accuracy: 76.23%\n"
     ]
    },
    {
     "name": "stderr",
     "output_type": "stream",
     "text": [
      " 20%|██        | 5/25 [02:31<10:05, 30.29s/it]"
     ]
    },
    {
     "name": "stdout",
     "output_type": "stream",
     "text": [
      " Epoch: 5\n",
      "---------\n",
      "Train loss: 0.67739 | Train accuracy: 87.10%\n",
      "Test loss: 114.99904 | Test accuracy: 76.38%\n"
     ]
    },
    {
     "name": "stderr",
     "output_type": "stream",
     "text": [
      " 24%|██▍       | 6/25 [03:01<09:37, 30.38s/it]"
     ]
    },
    {
     "name": "stdout",
     "output_type": "stream",
     "text": [
      " Epoch: 6\n",
      "---------\n",
      "Train loss: 0.66803 | Train accuracy: 88.14%\n",
      "Test loss: 114.91647 | Test accuracy: 76.41%\n"
     ]
    },
    {
     "name": "stderr",
     "output_type": "stream",
     "text": [
      " 28%|██▊       | 7/25 [03:31<09:04, 30.27s/it]"
     ]
    },
    {
     "name": "stdout",
     "output_type": "stream",
     "text": [
      " Epoch: 7\n",
      "---------\n",
      "Train loss: 0.66128 | Train accuracy: 88.82%\n",
      "Test loss: 114.91812 | Test accuracy: 76.32%\n"
     ]
    },
    {
     "name": "stderr",
     "output_type": "stream",
     "text": [
      " 32%|███▏      | 8/25 [04:01<08:28, 29.93s/it]"
     ]
    },
    {
     "name": "stdout",
     "output_type": "stream",
     "text": [
      " Epoch: 8\n",
      "---------\n",
      "Train loss: 0.65368 | Train accuracy: 89.59%\n",
      "Test loss: 114.95526 | Test accuracy: 76.47%\n"
     ]
    },
    {
     "name": "stderr",
     "output_type": "stream",
     "text": [
      " 36%|███▌      | 9/25 [04:30<07:55, 29.70s/it]"
     ]
    },
    {
     "name": "stdout",
     "output_type": "stream",
     "text": [
      " Epoch: 9\n",
      "---------\n",
      "Train loss: 0.64849 | Train accuracy: 90.12%\n",
      "Test loss: 115.20647 | Test accuracy: 76.19%\n"
     ]
    },
    {
     "name": "stderr",
     "output_type": "stream",
     "text": [
      " 40%|████      | 10/25 [05:00<07:25, 29.69s/it]"
     ]
    },
    {
     "name": "stdout",
     "output_type": "stream",
     "text": [
      " Epoch: 10\n",
      "---------\n",
      "Train loss: 0.64374 | Train accuracy: 90.61%\n",
      "Test loss: 114.82758 | Test accuracy: 76.52%\n"
     ]
    },
    {
     "name": "stderr",
     "output_type": "stream",
     "text": [
      " 44%|████▍     | 11/25 [05:29<06:54, 29.62s/it]"
     ]
    },
    {
     "name": "stdout",
     "output_type": "stream",
     "text": [
      " Epoch: 11\n",
      "---------\n",
      "Train loss: 0.64090 | Train accuracy: 90.92%\n",
      "Test loss: 114.80346 | Test accuracy: 76.50%\n"
     ]
    },
    {
     "name": "stderr",
     "output_type": "stream",
     "text": [
      " 48%|████▊     | 12/25 [05:59<06:24, 29.61s/it]"
     ]
    },
    {
     "name": "stdout",
     "output_type": "stream",
     "text": [
      " Epoch: 12\n",
      "---------\n",
      "Train loss: 0.63861 | Train accuracy: 91.18%\n",
      "Test loss: 114.71343 | Test accuracy: 76.58%\n"
     ]
    },
    {
     "name": "stderr",
     "output_type": "stream",
     "text": [
      " 52%|█████▏    | 13/25 [06:28<05:54, 29.53s/it]"
     ]
    },
    {
     "name": "stdout",
     "output_type": "stream",
     "text": [
      " Epoch: 13\n",
      "---------\n",
      "Train loss: 0.63531 | Train accuracy: 91.47%\n",
      "Test loss: 114.52682 | Test accuracy: 76.85%\n"
     ]
    },
    {
     "name": "stderr",
     "output_type": "stream",
     "text": [
      " 56%|█████▌    | 14/25 [06:58<05:26, 29.69s/it]"
     ]
    },
    {
     "name": "stdout",
     "output_type": "stream",
     "text": [
      " Epoch: 14\n",
      "---------\n",
      "Train loss: 0.62975 | Train accuracy: 92.06%\n",
      "Test loss: 114.55394 | Test accuracy: 76.79%\n"
     ]
    },
    {
     "name": "stderr",
     "output_type": "stream",
     "text": [
      " 60%|██████    | 15/25 [07:28<04:57, 29.75s/it]"
     ]
    },
    {
     "name": "stdout",
     "output_type": "stream",
     "text": [
      " Epoch: 15\n",
      "---------\n",
      "Train loss: 0.62621 | Train accuracy: 92.44%\n",
      "Test loss: 114.42054 | Test accuracy: 76.75%\n"
     ]
    },
    {
     "name": "stderr",
     "output_type": "stream",
     "text": [
      " 64%|██████▍   | 16/25 [07:57<04:26, 29.63s/it]"
     ]
    },
    {
     "name": "stdout",
     "output_type": "stream",
     "text": [
      " Epoch: 16\n",
      "---------\n",
      "Train loss: 0.62579 | Train accuracy: 92.43%\n",
      "Test loss: 114.39533 | Test accuracy: 76.99%\n"
     ]
    },
    {
     "name": "stderr",
     "output_type": "stream",
     "text": [
      " 68%|██████▊   | 17/25 [08:27<03:57, 29.74s/it]"
     ]
    },
    {
     "name": "stdout",
     "output_type": "stream",
     "text": [
      " Epoch: 17\n",
      "---------\n",
      "Train loss: 0.62441 | Train accuracy: 92.60%\n",
      "Test loss: 114.47644 | Test accuracy: 76.85%\n"
     ]
    },
    {
     "name": "stderr",
     "output_type": "stream",
     "text": [
      " 72%|███████▏  | 18/25 [08:57<03:29, 29.88s/it]"
     ]
    },
    {
     "name": "stdout",
     "output_type": "stream",
     "text": [
      " Epoch: 18\n",
      "---------\n",
      "Train loss: 0.62225 | Train accuracy: 92.80%\n",
      "Test loss: 114.76160 | Test accuracy: 76.77%\n"
     ]
    },
    {
     "name": "stderr",
     "output_type": "stream",
     "text": [
      " 76%|███████▌  | 19/25 [09:27<02:59, 29.83s/it]"
     ]
    },
    {
     "name": "stdout",
     "output_type": "stream",
     "text": [
      " Epoch: 19\n",
      "---------\n",
      "Train loss: 0.61903 | Train accuracy: 93.14%\n",
      "Test loss: 114.41527 | Test accuracy: 76.89%\n"
     ]
    },
    {
     "name": "stderr",
     "output_type": "stream",
     "text": [
      " 80%|████████  | 20/25 [09:57<02:28, 29.69s/it]"
     ]
    },
    {
     "name": "stdout",
     "output_type": "stream",
     "text": [
      " Epoch: 20\n",
      "---------\n",
      "Train loss: 0.61732 | Train accuracy: 93.32%\n",
      "Test loss: 114.31741 | Test accuracy: 76.98%\n"
     ]
    },
    {
     "name": "stderr",
     "output_type": "stream",
     "text": [
      " 84%|████████▍ | 21/25 [10:27<01:59, 29.83s/it]"
     ]
    },
    {
     "name": "stdout",
     "output_type": "stream",
     "text": [
      " Epoch: 21\n",
      "---------\n",
      "Train loss: 0.61591 | Train accuracy: 93.47%\n",
      "Test loss: 114.24830 | Test accuracy: 77.07%\n"
     ]
    },
    {
     "name": "stderr",
     "output_type": "stream",
     "text": [
      " 88%|████████▊ | 22/25 [10:56<01:28, 29.64s/it]"
     ]
    },
    {
     "name": "stdout",
     "output_type": "stream",
     "text": [
      " Epoch: 22\n",
      "---------\n",
      "Train loss: 0.61567 | Train accuracy: 93.50%\n",
      "Test loss: 114.42242 | Test accuracy: 76.93%\n"
     ]
    },
    {
     "name": "stderr",
     "output_type": "stream",
     "text": [
      " 92%|█████████▏| 23/25 [11:25<00:59, 29.64s/it]"
     ]
    },
    {
     "name": "stdout",
     "output_type": "stream",
     "text": [
      " Epoch: 23\n",
      "---------\n",
      "Train loss: 0.61347 | Train accuracy: 93.73%\n",
      "Test loss: 114.15996 | Test accuracy: 77.13%\n"
     ]
    },
    {
     "name": "stderr",
     "output_type": "stream",
     "text": [
      " 96%|█████████▌| 24/25 [11:55<00:29, 29.58s/it]"
     ]
    },
    {
     "name": "stdout",
     "output_type": "stream",
     "text": [
      " Epoch: 24\n",
      "---------\n",
      "Train loss: 0.61188 | Train accuracy: 93.87%\n",
      "Test loss: 113.85398 | Test accuracy: 77.42%\n"
     ]
    },
    {
     "name": "stderr",
     "output_type": "stream",
     "text": [
      "100%|██████████| 25/25 [12:24<00:00, 29.79s/it]\n"
     ]
    },
    {
     "name": "stdout",
     "output_type": "stream",
     "text": [
      "[INFO] Saving model to: models\\Model _CNN_6STEP_No_Fourier_4_Layers_3.pth\n",
      "tamanho da memória ocupada :2289.39 MB\n",
      "X_train shape: (56250, 4000) float64\n",
      "X_Test shape: (18750, 4000) float64\n",
      "y_train shape: (56250,) float64\n",
      "y_test shape: (18750,) float64\n",
      "\n",
      "--------\n",
      "X_train device: cpu\n",
      "X_Test device: cpu\n",
      "y_train device: cpu\n",
      "y_test device: cpu\n",
      "Valor 0: 25000 ocorrência(s)- 0.33%\n",
      "Valor 1: 25000 ocorrência(s)- 0.33%\n",
      "Valor 2: 25000 ocorrência(s)- 0.33%\n",
      "Dataset :  (75000, 4001)\n",
      "X torch.Size([128, 4000]) y torch.Size([128])\n",
      "----------------\n",
      "\n",
      "Dataloaders: (<torch.utils.data.dataloader.DataLoader object at 0x0000016B03016050>, <torch.utils.data.dataloader.DataLoader object at 0x0000016B03014ED0>)\n",
      "Length of train dataloader: 440 batches of 128\n",
      "Length of test dataloader: 147 batches of 128\n",
      "Experiment Fourier:  4000 input size ,  4 Layers ,8 Blocks\n",
      "[INFO] Created SummaryWriter, saving to: runs\\2023-06-04\\No_Fourier_4_4000_inputsize_4_Layers_8_Blocks\\CNN_6STEP_No_Fourier_4_Layers_4...\n",
      "Training on cpu\n"
     ]
    },
    {
     "name": "stderr",
     "output_type": "stream",
     "text": [
      "  0%|          | 0/25 [00:00<?, ?it/s]"
     ]
    },
    {
     "name": "stdout",
     "output_type": "stream",
     "text": [
      " Epoch: 0\n",
      "---------\n",
      "Train loss: 0.83449 | Train accuracy: 69.77%\n",
      "Test loss: 58.59381 | Test accuracy: 74.72%\n"
     ]
    },
    {
     "name": "stderr",
     "output_type": "stream",
     "text": [
      "  4%|▍         | 1/25 [00:25<10:14, 25.59s/it]"
     ]
    },
    {
     "name": "stdout",
     "output_type": "stream",
     "text": [
      " Epoch: 1\n",
      "---------\n",
      "Train loss: 0.73836 | Train accuracy: 80.76%\n",
      "Test loss: 58.50766 | Test accuracy: 74.76%\n"
     ]
    },
    {
     "name": "stderr",
     "output_type": "stream",
     "text": [
      "  8%|▊         | 2/25 [00:50<09:32, 24.90s/it]"
     ]
    },
    {
     "name": "stdout",
     "output_type": "stream",
     "text": [
      " Epoch: 2\n",
      "---------\n",
      "Train loss: 0.69237 | Train accuracy: 85.61%\n",
      "Test loss: 58.84682 | Test accuracy: 74.77%\n"
     ]
    },
    {
     "name": "stderr",
     "output_type": "stream",
     "text": [
      " 12%|█▏        | 3/25 [01:14<09:01, 24.61s/it]"
     ]
    },
    {
     "name": "stdout",
     "output_type": "stream",
     "text": [
      " Epoch: 3\n",
      "---------\n",
      "Train loss: 0.66880 | Train accuracy: 88.07%\n",
      "Test loss: 58.89725 | Test accuracy: 74.77%\n"
     ]
    },
    {
     "name": "stderr",
     "output_type": "stream",
     "text": [
      " 16%|█▌        | 4/25 [01:38<08:33, 24.44s/it]"
     ]
    },
    {
     "name": "stdout",
     "output_type": "stream",
     "text": [
      " Epoch: 4\n",
      "---------\n",
      "Train loss: 0.65294 | Train accuracy: 89.67%\n",
      "Test loss: 59.00271 | Test accuracy: 74.63%\n"
     ]
    },
    {
     "name": "stderr",
     "output_type": "stream",
     "text": [
      " 20%|██        | 5/25 [02:02<08:04, 24.24s/it]"
     ]
    },
    {
     "name": "stdout",
     "output_type": "stream",
     "text": [
      " Epoch: 5\n",
      "---------\n",
      "Train loss: 0.64086 | Train accuracy: 90.93%\n",
      "Test loss: 58.88831 | Test accuracy: 74.87%\n"
     ]
    },
    {
     "name": "stderr",
     "output_type": "stream",
     "text": [
      " 24%|██▍       | 6/25 [02:26<07:40, 24.25s/it]"
     ]
    },
    {
     "name": "stdout",
     "output_type": "stream",
     "text": [
      " Epoch: 6\n",
      "---------\n",
      "Train loss: 0.63425 | Train accuracy: 91.57%\n",
      "Test loss: 59.19263 | Test accuracy: 74.45%\n"
     ]
    },
    {
     "name": "stderr",
     "output_type": "stream",
     "text": [
      " 28%|██▊       | 7/25 [02:51<07:19, 24.39s/it]"
     ]
    },
    {
     "name": "stdout",
     "output_type": "stream",
     "text": [
      " Epoch: 7\n",
      "---------\n",
      "Train loss: 0.62866 | Train accuracy: 92.17%\n",
      "Test loss: 59.19054 | Test accuracy: 74.59%\n"
     ]
    },
    {
     "name": "stderr",
     "output_type": "stream",
     "text": [
      " 32%|███▏      | 8/25 [03:15<06:54, 24.37s/it]"
     ]
    },
    {
     "name": "stdout",
     "output_type": "stream",
     "text": [
      " Epoch: 8\n",
      "---------\n",
      "Train loss: 0.62550 | Train accuracy: 92.48%\n",
      "Test loss: 58.80309 | Test accuracy: 75.03%\n"
     ]
    },
    {
     "name": "stderr",
     "output_type": "stream",
     "text": [
      " 36%|███▌      | 9/25 [03:40<06:30, 24.43s/it]"
     ]
    },
    {
     "name": "stdout",
     "output_type": "stream",
     "text": [
      " Epoch: 9\n",
      "---------\n",
      "Train loss: 0.62083 | Train accuracy: 92.95%\n",
      "Test loss: 59.01474 | Test accuracy: 74.80%\n"
     ]
    },
    {
     "name": "stderr",
     "output_type": "stream",
     "text": [
      " 40%|████      | 10/25 [04:04<06:06, 24.45s/it]"
     ]
    },
    {
     "name": "stdout",
     "output_type": "stream",
     "text": [
      " Epoch: 10\n",
      "---------\n",
      "Train loss: 0.61529 | Train accuracy: 93.58%\n",
      "Test loss: 58.75749 | Test accuracy: 75.16%\n"
     ]
    },
    {
     "name": "stderr",
     "output_type": "stream",
     "text": [
      " 44%|████▍     | 11/25 [04:28<05:41, 24.40s/it]"
     ]
    },
    {
     "name": "stdout",
     "output_type": "stream",
     "text": [
      " Epoch: 11\n",
      "---------\n",
      "Train loss: 0.61479 | Train accuracy: 93.57%\n",
      "Test loss: 58.86741 | Test accuracy: 74.86%\n"
     ]
    },
    {
     "name": "stderr",
     "output_type": "stream",
     "text": [
      " 48%|████▊     | 12/25 [04:55<05:23, 24.91s/it]"
     ]
    },
    {
     "name": "stdout",
     "output_type": "stream",
     "text": [
      " Epoch: 12\n",
      "---------\n",
      "Train loss: 0.61135 | Train accuracy: 93.94%\n",
      "Test loss: 58.80801 | Test accuracy: 75.05%\n"
     ]
    },
    {
     "name": "stderr",
     "output_type": "stream",
     "text": [
      " 52%|█████▏    | 13/25 [05:22<05:06, 25.57s/it]"
     ]
    },
    {
     "name": "stdout",
     "output_type": "stream",
     "text": [
      " Epoch: 13\n",
      "---------\n",
      "Train loss: 0.60828 | Train accuracy: 94.25%\n",
      "Test loss: 58.94920 | Test accuracy: 74.89%\n"
     ]
    },
    {
     "name": "stderr",
     "output_type": "stream",
     "text": [
      " 56%|█████▌    | 14/25 [05:49<04:47, 26.12s/it]"
     ]
    },
    {
     "name": "stdout",
     "output_type": "stream",
     "text": [
      " Epoch: 14\n",
      "---------\n",
      "Train loss: 0.60709 | Train accuracy: 94.36%\n",
      "Test loss: 58.90087 | Test accuracy: 74.92%\n"
     ]
    },
    {
     "name": "stderr",
     "output_type": "stream",
     "text": [
      " 60%|██████    | 15/25 [06:15<04:20, 26.00s/it]"
     ]
    },
    {
     "name": "stdout",
     "output_type": "stream",
     "text": [
      " Epoch: 15\n",
      "---------\n",
      "Train loss: 0.60448 | Train accuracy: 94.61%\n",
      "Test loss: 58.92189 | Test accuracy: 74.96%\n"
     ]
    },
    {
     "name": "stderr",
     "output_type": "stream",
     "text": [
      " 64%|██████▍   | 16/25 [06:41<03:54, 26.04s/it]"
     ]
    },
    {
     "name": "stdout",
     "output_type": "stream",
     "text": [
      " Epoch: 16\n",
      "---------\n",
      "Train loss: 0.60347 | Train accuracy: 94.73%\n",
      "Test loss: 59.06242 | Test accuracy: 74.89%\n"
     ]
    },
    {
     "name": "stderr",
     "output_type": "stream",
     "text": [
      " 68%|██████▊   | 17/25 [07:05<03:23, 25.50s/it]"
     ]
    },
    {
     "name": "stdout",
     "output_type": "stream",
     "text": [
      " Epoch: 17\n",
      "---------\n",
      "Train loss: 0.60395 | Train accuracy: 94.70%\n",
      "Test loss: 58.88819 | Test accuracy: 74.95%\n"
     ]
    },
    {
     "name": "stderr",
     "output_type": "stream",
     "text": [
      " 72%|███████▏  | 18/25 [07:30<02:56, 25.25s/it]"
     ]
    },
    {
     "name": "stdout",
     "output_type": "stream",
     "text": [
      " Epoch: 18\n",
      "---------\n",
      "Train loss: 0.60229 | Train accuracy: 94.84%\n",
      "Test loss: 59.04850 | Test accuracy: 74.94%\n"
     ]
    },
    {
     "name": "stderr",
     "output_type": "stream",
     "text": [
      " 76%|███████▌  | 19/25 [07:55<02:31, 25.18s/it]"
     ]
    },
    {
     "name": "stdout",
     "output_type": "stream",
     "text": [
      " Epoch: 19\n",
      "---------\n",
      "Train loss: 0.59967 | Train accuracy: 95.11%\n",
      "Test loss: 58.99916 | Test accuracy: 75.00%\n"
     ]
    },
    {
     "name": "stderr",
     "output_type": "stream",
     "text": [
      " 80%|████████  | 20/25 [08:20<02:05, 25.11s/it]"
     ]
    },
    {
     "name": "stdout",
     "output_type": "stream",
     "text": [
      " Epoch: 20\n",
      "---------\n",
      "Train loss: 0.59831 | Train accuracy: 95.26%\n",
      "Test loss: 59.13859 | Test accuracy: 74.90%\n"
     ]
    },
    {
     "name": "stderr",
     "output_type": "stream",
     "text": [
      " 84%|████████▍ | 21/25 [08:45<01:40, 25.04s/it]"
     ]
    },
    {
     "name": "stdout",
     "output_type": "stream",
     "text": [
      " Epoch: 21\n",
      "---------\n",
      "Train loss: 0.59811 | Train accuracy: 95.28%\n",
      "Test loss: 59.11548 | Test accuracy: 74.81%\n"
     ]
    },
    {
     "name": "stderr",
     "output_type": "stream",
     "text": [
      " 88%|████████▊ | 22/25 [09:09<01:14, 24.90s/it]"
     ]
    },
    {
     "name": "stdout",
     "output_type": "stream",
     "text": [
      " Epoch: 22\n",
      "---------\n",
      "Train loss: 0.59741 | Train accuracy: 95.37%\n",
      "Test loss: 59.13985 | Test accuracy: 74.94%\n"
     ]
    },
    {
     "name": "stderr",
     "output_type": "stream",
     "text": [
      " 92%|█████████▏| 23/25 [09:34<00:49, 24.79s/it]"
     ]
    },
    {
     "name": "stdout",
     "output_type": "stream",
     "text": [
      " Epoch: 23\n",
      "---------\n",
      "Train loss: 0.59441 | Train accuracy: 95.66%\n",
      "Test loss: 59.14930 | Test accuracy: 74.81%\n"
     ]
    },
    {
     "name": "stderr",
     "output_type": "stream",
     "text": [
      " 96%|█████████▌| 24/25 [09:58<00:24, 24.68s/it]"
     ]
    },
    {
     "name": "stdout",
     "output_type": "stream",
     "text": [
      " Epoch: 24\n",
      "---------\n",
      "Train loss: 0.59401 | Train accuracy: 95.66%\n",
      "Test loss: 59.11022 | Test accuracy: 74.76%\n"
     ]
    },
    {
     "name": "stderr",
     "output_type": "stream",
     "text": [
      "100%|██████████| 25/25 [10:23<00:00, 24.94s/it]"
     ]
    },
    {
     "name": "stdout",
     "output_type": "stream",
     "text": [
      "[INFO] Saving model to: models\\Model _CNN_6STEP_No_Fourier_4_Layers_4.pth\n"
     ]
    },
    {
     "name": "stderr",
     "output_type": "stream",
     "text": [
      "\n"
     ]
    }
   ],
   "source": [
    "input_size = [250, 500, 1000 ,2000,4000]\n",
    "\n",
    "for i in range(len(input_size)):\n",
    "\n",
    "    data = DATA_1M(seconds=30,columns=input_size[i], jump_time =2, n_jumps=1) ; data_fourier = data(Fourier=False, Normalizing= True)\n",
    "    \n",
    "    Torch = NeuralNetCNN(columns= data_fourier.shape[1] -1,conv_blocks =4,groupblocks=2)\n",
    "\n",
    "    data.Spliting(data= data_fourier, random_state= 30, test_size = 0.3 , shuffle = True, inplace= False)\n",
    "\n",
    "    train_dataloader , test_dataloader = data.DataLoaders(batch_size=128, inplace=True)\n",
    "\n",
    "    experiment_name = f\"No_Fourier_{i}_{data_fourier.shape[1]-1}_inputsize_{len(list(Torch.Cnn.children()))}_Layers_{Torch.count_blocks(Torch.Cnn)}_Blocks\"\n",
    "    \n",
    "    model_name = f\"CNN_7STEP_No_Fourier_6_Layers_{i}\"\n",
    "\n",
    "    print(f\"Experiment Fourier:  {data_fourier.shape[1]-1} input size ,  {len(list(Torch.Cnn.children()))} Layers ,{Torch.count_blocks(Torch.Cnn)} Blocks\")\n",
    "\n",
    "    \n",
    "    Torch.training_loop(model= Torch.Cnn,\n",
    "        data_loader_train= train_dataloader,\n",
    "        data_loader_test= test_dataloader,\n",
    "        optimizer= Torch.optimizer,\n",
    "        loss_fn= Torch.loss_fn,\n",
    "        device= Torch.device,\n",
    "        accuracy_fn= accuracy_fn,\n",
    "        writer= create_writer(experiment_name=experiment_name,\n",
    "                              model_name= model_name\n",
    "                              ),\n",
    "        epochs= 25)\n",
    "    ## Salvando o modelo\n",
    "    save_filepath = f\"Model _{model_name}.pth\"\n",
    "    save_model(model=Torch.Cnn,\n",
    "               target_dir=\"models\",\n",
    "               model_name=save_filepath)\n",
    "    "
   ]
  },
  {
   "cell_type": "code",
   "execution_count": 4,
   "metadata": {},
   "outputs": [
    {
     "name": "stdout",
     "output_type": "stream",
     "text": [
      "tamanho da memória ocupada :1073.46 MB\n",
      "X_train shape: (507501, 200) float64\n",
      "X_Test shape: (192501, 200) float64\n",
      "y_train shape: (507501,) float64\n",
      "y_test shape: (192501,) float64\n",
      "\n",
      "--------\n",
      "X_train device: cpu\n",
      "X_Test device: cpu\n",
      "y_train device: cpu\n",
      "y_test device: cpu\n",
      "Valor 0: 233334 ocorrência(s)- 0.33%\n",
      "Valor 1: 233334 ocorrência(s)- 0.33%\n",
      "Valor 2: 233334 ocorrência(s)- 0.33%\n",
      "Dataset :  (700002, 201)\n",
      "X torch.Size([64, 200]) y torch.Size([64])\n",
      "----------------\n",
      "\n",
      "Dataloaders: (<torch.utils.data.dataloader.DataLoader object at 0x000001B25CF3A850>, <torch.utils.data.dataloader.DataLoader object at 0x000001B1CC98F3D0>)\n",
      "Length of train dataloader: 7930 batches of 64\n",
      "Length of test dataloader: 3008 batches of 64\n",
      "Experiment Fourier:  200 input size ,  7 Layers ,17 Blocks\n",
      "[INFO] Created SummaryWriter, saving to: runs\\2023-06-04\\No_Fourier_0_200_inputsize_7_Layers_17_Blocks\\CNN_9STEP_Fourier_10_Layers_0...\n",
      "Training on cpu\n"
     ]
    },
    {
     "name": "stderr",
     "output_type": "stream",
     "text": [
      "  0%|          | 0/25 [00:00<?, ?it/s]"
     ]
    },
    {
     "name": "stdout",
     "output_type": "stream",
     "text": [
      " Epoch: 0\n",
      "---------\n",
      "Train loss: 1.09263 | Train accuracy: 37.07%\n",
      "Test loss: 1680.66330 | Test accuracy: 36.19%\n"
     ]
    },
    {
     "name": "stderr",
     "output_type": "stream",
     "text": [
      "  4%|▍         | 1/25 [03:04<1:13:36, 184.03s/it]"
     ]
    },
    {
     "name": "stdout",
     "output_type": "stream",
     "text": [
      " Epoch: 1\n",
      "---------\n",
      "Train loss: 1.06611 | Train accuracy: 42.36%\n",
      "Test loss: 1835.60422 | Test accuracy: 33.16%\n"
     ]
    },
    {
     "name": "stderr",
     "output_type": "stream",
     "text": [
      "  8%|▊         | 2/25 [06:08<1:10:41, 184.42s/it]"
     ]
    },
    {
     "name": "stdout",
     "output_type": "stream",
     "text": [
      " Epoch: 2\n",
      "---------\n",
      "Train loss: 1.02800 | Train accuracy: 48.08%\n",
      "Test loss: 1835.60422 | Test accuracy: 33.16%\n"
     ]
    },
    {
     "name": "stderr",
     "output_type": "stream",
     "text": [
      " 12%|█▏        | 3/25 [09:12<1:07:31, 184.16s/it]"
     ]
    },
    {
     "name": "stdout",
     "output_type": "stream",
     "text": [
      " Epoch: 3\n",
      "---------\n",
      "Train loss: 1.01873 | Train accuracy: 49.55%\n",
      "Test loss: 1835.60422 | Test accuracy: 33.16%\n"
     ]
    },
    {
     "name": "stderr",
     "output_type": "stream",
     "text": [
      " 16%|█▌        | 4/25 [12:18<1:04:41, 184.82s/it]"
     ]
    },
    {
     "name": "stdout",
     "output_type": "stream",
     "text": [
      " Epoch: 4\n",
      "---------\n"
     ]
    },
    {
     "name": "stderr",
     "output_type": "stream",
     "text": [
      " 16%|█▌        | 4/25 [15:04<1:19:08, 226.12s/it]\n"
     ]
    },
    {
     "ename": "KeyboardInterrupt",
     "evalue": "",
     "output_type": "error",
     "traceback": [
      "\u001b[1;31m---------------------------------------------------------------------------\u001b[0m",
      "\u001b[1;31mKeyboardInterrupt\u001b[0m                         Traceback (most recent call last)",
      "Cell \u001b[1;32mIn[4], line 20\u001b[0m\n\u001b[0;32m     15\u001b[0m model_name \u001b[39m=\u001b[39m \u001b[39mf\u001b[39m\u001b[39m\"\u001b[39m\u001b[39mCNN_9STEP_Fourier_10_Layers_\u001b[39m\u001b[39m{\u001b[39;00mi\u001b[39m}\u001b[39;00m\u001b[39m\"\u001b[39m\n\u001b[0;32m     17\u001b[0m \u001b[39mprint\u001b[39m(\u001b[39mf\u001b[39m\u001b[39m\"\u001b[39m\u001b[39mExperiment Fourier:  \u001b[39m\u001b[39m{\u001b[39;00mdata_fourier\u001b[39m.\u001b[39mshape[\u001b[39m1\u001b[39m]\u001b[39m-\u001b[39m\u001b[39m1\u001b[39m\u001b[39m}\u001b[39;00m\u001b[39m input size ,  \u001b[39m\u001b[39m{\u001b[39;00m\u001b[39mlen\u001b[39m(\u001b[39mlist\u001b[39m(Torch\u001b[39m.\u001b[39mCnn\u001b[39m.\u001b[39mchildren()))\u001b[39m}\u001b[39;00m\u001b[39m Layers ,\u001b[39m\u001b[39m{\u001b[39;00mTorch\u001b[39m.\u001b[39mcount_blocks(Torch\u001b[39m.\u001b[39mCnn)\u001b[39m}\u001b[39;00m\u001b[39m Blocks\u001b[39m\u001b[39m\"\u001b[39m)\n\u001b[1;32m---> 20\u001b[0m Torch\u001b[39m.\u001b[39;49mtraining_loop(model\u001b[39m=\u001b[39;49m Torch\u001b[39m.\u001b[39;49mCnn,\n\u001b[0;32m     21\u001b[0m     data_loader_train\u001b[39m=\u001b[39;49m train_dataloader,\n\u001b[0;32m     22\u001b[0m     data_loader_test\u001b[39m=\u001b[39;49m test_dataloader,\n\u001b[0;32m     23\u001b[0m     optimizer\u001b[39m=\u001b[39;49m Torch\u001b[39m.\u001b[39;49moptimizer,\n\u001b[0;32m     24\u001b[0m     loss_fn\u001b[39m=\u001b[39;49m Torch\u001b[39m.\u001b[39;49mloss_fn,\n\u001b[0;32m     25\u001b[0m     device\u001b[39m=\u001b[39;49m Torch\u001b[39m.\u001b[39;49mdevice,\n\u001b[0;32m     26\u001b[0m     accuracy_fn\u001b[39m=\u001b[39;49m accuracy_fn,\n\u001b[0;32m     27\u001b[0m     writer\u001b[39m=\u001b[39;49m create_writer(experiment_name\u001b[39m=\u001b[39;49mexperiment_name,\n\u001b[0;32m     28\u001b[0m                           model_name\u001b[39m=\u001b[39;49m model_name\n\u001b[0;32m     29\u001b[0m                           ),\n\u001b[0;32m     30\u001b[0m     epochs\u001b[39m=\u001b[39;49m \u001b[39m25\u001b[39;49m)\n\u001b[0;32m     31\u001b[0m \u001b[39m## Salvando o modelo\u001b[39;00m\n\u001b[0;32m     32\u001b[0m save_filepath \u001b[39m=\u001b[39m \u001b[39mf\u001b[39m\u001b[39m\"\u001b[39m\u001b[39mModel _\u001b[39m\u001b[39m{\u001b[39;00mmodel_name\u001b[39m}\u001b[39;00m\u001b[39m.pth\u001b[39m\u001b[39m\"\u001b[39m\n",
      "File \u001b[1;32mc:\\Users\\janathan.pena\\Documents\\GitHub\\Deep-learning-AICT\\Cnn-Pytorch\\CnnModel.py:141\u001b[0m, in \u001b[0;36mNeuralNetCNN.training_loop\u001b[1;34m(self, model, data_loader_train, data_loader_test, loss_fn, optimizer, accuracy_fn, device, epochs, writer, inplace)\u001b[0m\n\u001b[0;32m    138\u001b[0m inputs \u001b[39m=\u001b[39m inputs\u001b[39m.\u001b[39munsqueeze(\u001b[39m2\u001b[39m)\n\u001b[0;32m    140\u001b[0m \u001b[39m# fazendo as previsões\u001b[39;00m\n\u001b[1;32m--> 141\u001b[0m output \u001b[39m=\u001b[39m model(inputs\u001b[39m.\u001b[39;49mdouble())\n\u001b[0;32m    143\u001b[0m \u001b[39m# calculando a perda\u001b[39;00m\n\u001b[0;32m    144\u001b[0m loss \u001b[39m=\u001b[39m loss_fn(output, target\u001b[39m.\u001b[39mlong())\n",
      "File \u001b[1;32m~\\AppData\\Roaming\\Python\\Python311\\site-packages\\torch\\nn\\modules\\module.py:1501\u001b[0m, in \u001b[0;36mModule._call_impl\u001b[1;34m(self, *args, **kwargs)\u001b[0m\n\u001b[0;32m   1496\u001b[0m \u001b[39m# If we don't have any hooks, we want to skip the rest of the logic in\u001b[39;00m\n\u001b[0;32m   1497\u001b[0m \u001b[39m# this function, and just call forward.\u001b[39;00m\n\u001b[0;32m   1498\u001b[0m \u001b[39mif\u001b[39;00m \u001b[39mnot\u001b[39;00m (\u001b[39mself\u001b[39m\u001b[39m.\u001b[39m_backward_hooks \u001b[39mor\u001b[39;00m \u001b[39mself\u001b[39m\u001b[39m.\u001b[39m_backward_pre_hooks \u001b[39mor\u001b[39;00m \u001b[39mself\u001b[39m\u001b[39m.\u001b[39m_forward_hooks \u001b[39mor\u001b[39;00m \u001b[39mself\u001b[39m\u001b[39m.\u001b[39m_forward_pre_hooks\n\u001b[0;32m   1499\u001b[0m         \u001b[39mor\u001b[39;00m _global_backward_pre_hooks \u001b[39mor\u001b[39;00m _global_backward_hooks\n\u001b[0;32m   1500\u001b[0m         \u001b[39mor\u001b[39;00m _global_forward_hooks \u001b[39mor\u001b[39;00m _global_forward_pre_hooks):\n\u001b[1;32m-> 1501\u001b[0m     \u001b[39mreturn\u001b[39;00m forward_call(\u001b[39m*\u001b[39;49margs, \u001b[39m*\u001b[39;49m\u001b[39m*\u001b[39;49mkwargs)\n\u001b[0;32m   1502\u001b[0m \u001b[39m# Do not call functions when jit is used\u001b[39;00m\n\u001b[0;32m   1503\u001b[0m full_backward_hooks, non_full_backward_hooks \u001b[39m=\u001b[39m [], []\n",
      "File \u001b[1;32mc:\\Users\\janathan.pena\\Documents\\GitHub\\Deep-learning-AICT\\Cnn-Pytorch\\CnnModel.py:535\u001b[0m, in \u001b[0;36mClassifier.forward\u001b[1;34m(self, x)\u001b[0m\n\u001b[0;32m    534\u001b[0m \u001b[39mdef\u001b[39;00m \u001b[39mforward\u001b[39m(\u001b[39mself\u001b[39m, x):\n\u001b[1;32m--> 535\u001b[0m     out \u001b[39m=\u001b[39m \u001b[39mself\u001b[39;49m\u001b[39m.\u001b[39;49mconv(x)\n\u001b[0;32m    537\u001b[0m     out \u001b[39m=\u001b[39m out\u001b[39m.\u001b[39mview(out\u001b[39m.\u001b[39msize(\u001b[39m0\u001b[39m), \u001b[39m-\u001b[39m\u001b[39m1\u001b[39m)\n\u001b[0;32m    538\u001b[0m     out \u001b[39m=\u001b[39m \u001b[39mself\u001b[39m\u001b[39m.\u001b[39mclassifier(out)\n",
      "File \u001b[1;32m~\\AppData\\Roaming\\Python\\Python311\\site-packages\\torch\\nn\\modules\\module.py:1501\u001b[0m, in \u001b[0;36mModule._call_impl\u001b[1;34m(self, *args, **kwargs)\u001b[0m\n\u001b[0;32m   1496\u001b[0m \u001b[39m# If we don't have any hooks, we want to skip the rest of the logic in\u001b[39;00m\n\u001b[0;32m   1497\u001b[0m \u001b[39m# this function, and just call forward.\u001b[39;00m\n\u001b[0;32m   1498\u001b[0m \u001b[39mif\u001b[39;00m \u001b[39mnot\u001b[39;00m (\u001b[39mself\u001b[39m\u001b[39m.\u001b[39m_backward_hooks \u001b[39mor\u001b[39;00m \u001b[39mself\u001b[39m\u001b[39m.\u001b[39m_backward_pre_hooks \u001b[39mor\u001b[39;00m \u001b[39mself\u001b[39m\u001b[39m.\u001b[39m_forward_hooks \u001b[39mor\u001b[39;00m \u001b[39mself\u001b[39m\u001b[39m.\u001b[39m_forward_pre_hooks\n\u001b[0;32m   1499\u001b[0m         \u001b[39mor\u001b[39;00m _global_backward_pre_hooks \u001b[39mor\u001b[39;00m _global_backward_hooks\n\u001b[0;32m   1500\u001b[0m         \u001b[39mor\u001b[39;00m _global_forward_hooks \u001b[39mor\u001b[39;00m _global_forward_pre_hooks):\n\u001b[1;32m-> 1501\u001b[0m     \u001b[39mreturn\u001b[39;00m forward_call(\u001b[39m*\u001b[39;49margs, \u001b[39m*\u001b[39;49m\u001b[39m*\u001b[39;49mkwargs)\n\u001b[0;32m   1502\u001b[0m \u001b[39m# Do not call functions when jit is used\u001b[39;00m\n\u001b[0;32m   1503\u001b[0m full_backward_hooks, non_full_backward_hooks \u001b[39m=\u001b[39m [], []\n",
      "File \u001b[1;32m~\\AppData\\Roaming\\Python\\Python311\\site-packages\\torch\\nn\\modules\\container.py:217\u001b[0m, in \u001b[0;36mSequential.forward\u001b[1;34m(self, input)\u001b[0m\n\u001b[0;32m    215\u001b[0m \u001b[39mdef\u001b[39;00m \u001b[39mforward\u001b[39m(\u001b[39mself\u001b[39m, \u001b[39minput\u001b[39m):\n\u001b[0;32m    216\u001b[0m     \u001b[39mfor\u001b[39;00m module \u001b[39min\u001b[39;00m \u001b[39mself\u001b[39m:\n\u001b[1;32m--> 217\u001b[0m         \u001b[39minput\u001b[39m \u001b[39m=\u001b[39m module(\u001b[39minput\u001b[39;49m)\n\u001b[0;32m    218\u001b[0m     \u001b[39mreturn\u001b[39;00m \u001b[39minput\u001b[39m\n",
      "File \u001b[1;32m~\\AppData\\Roaming\\Python\\Python311\\site-packages\\torch\\nn\\modules\\module.py:1501\u001b[0m, in \u001b[0;36mModule._call_impl\u001b[1;34m(self, *args, **kwargs)\u001b[0m\n\u001b[0;32m   1496\u001b[0m \u001b[39m# If we don't have any hooks, we want to skip the rest of the logic in\u001b[39;00m\n\u001b[0;32m   1497\u001b[0m \u001b[39m# this function, and just call forward.\u001b[39;00m\n\u001b[0;32m   1498\u001b[0m \u001b[39mif\u001b[39;00m \u001b[39mnot\u001b[39;00m (\u001b[39mself\u001b[39m\u001b[39m.\u001b[39m_backward_hooks \u001b[39mor\u001b[39;00m \u001b[39mself\u001b[39m\u001b[39m.\u001b[39m_backward_pre_hooks \u001b[39mor\u001b[39;00m \u001b[39mself\u001b[39m\u001b[39m.\u001b[39m_forward_hooks \u001b[39mor\u001b[39;00m \u001b[39mself\u001b[39m\u001b[39m.\u001b[39m_forward_pre_hooks\n\u001b[0;32m   1499\u001b[0m         \u001b[39mor\u001b[39;00m _global_backward_pre_hooks \u001b[39mor\u001b[39;00m _global_backward_hooks\n\u001b[0;32m   1500\u001b[0m         \u001b[39mor\u001b[39;00m _global_forward_hooks \u001b[39mor\u001b[39;00m _global_forward_pre_hooks):\n\u001b[1;32m-> 1501\u001b[0m     \u001b[39mreturn\u001b[39;00m forward_call(\u001b[39m*\u001b[39;49margs, \u001b[39m*\u001b[39;49m\u001b[39m*\u001b[39;49mkwargs)\n\u001b[0;32m   1502\u001b[0m \u001b[39m# Do not call functions when jit is used\u001b[39;00m\n\u001b[0;32m   1503\u001b[0m full_backward_hooks, non_full_backward_hooks \u001b[39m=\u001b[39m [], []\n",
      "File \u001b[1;32mc:\\Users\\janathan.pena\\Documents\\GitHub\\Deep-learning-AICT\\Cnn-Pytorch\\CnnModel.py:422\u001b[0m, in \u001b[0;36mConvBlock.forward\u001b[1;34m(self, x)\u001b[0m\n\u001b[0;32m    420\u001b[0m x \u001b[39m=\u001b[39m \u001b[39mself\u001b[39m\u001b[39m.\u001b[39mconv1(x)\n\u001b[0;32m    421\u001b[0m \u001b[39mif\u001b[39;00m \u001b[39mhasattr\u001b[39m(\u001b[39mself\u001b[39m, \u001b[39m'\u001b[39m\u001b[39mconv2\u001b[39m\u001b[39m'\u001b[39m):\n\u001b[1;32m--> 422\u001b[0m     x \u001b[39m=\u001b[39m \u001b[39mself\u001b[39;49m\u001b[39m.\u001b[39;49mconv2(x)\n\u001b[0;32m    423\u001b[0m \u001b[39mif\u001b[39;00m \u001b[39mhasattr\u001b[39m(\u001b[39mself\u001b[39m, \u001b[39m'\u001b[39m\u001b[39mconv3\u001b[39m\u001b[39m'\u001b[39m):\n\u001b[0;32m    424\u001b[0m     x \u001b[39m=\u001b[39m \u001b[39mself\u001b[39m\u001b[39m.\u001b[39mconv3(x)\n",
      "File \u001b[1;32m~\\AppData\\Roaming\\Python\\Python311\\site-packages\\torch\\nn\\modules\\module.py:1501\u001b[0m, in \u001b[0;36mModule._call_impl\u001b[1;34m(self, *args, **kwargs)\u001b[0m\n\u001b[0;32m   1496\u001b[0m \u001b[39m# If we don't have any hooks, we want to skip the rest of the logic in\u001b[39;00m\n\u001b[0;32m   1497\u001b[0m \u001b[39m# this function, and just call forward.\u001b[39;00m\n\u001b[0;32m   1498\u001b[0m \u001b[39mif\u001b[39;00m \u001b[39mnot\u001b[39;00m (\u001b[39mself\u001b[39m\u001b[39m.\u001b[39m_backward_hooks \u001b[39mor\u001b[39;00m \u001b[39mself\u001b[39m\u001b[39m.\u001b[39m_backward_pre_hooks \u001b[39mor\u001b[39;00m \u001b[39mself\u001b[39m\u001b[39m.\u001b[39m_forward_hooks \u001b[39mor\u001b[39;00m \u001b[39mself\u001b[39m\u001b[39m.\u001b[39m_forward_pre_hooks\n\u001b[0;32m   1499\u001b[0m         \u001b[39mor\u001b[39;00m _global_backward_pre_hooks \u001b[39mor\u001b[39;00m _global_backward_hooks\n\u001b[0;32m   1500\u001b[0m         \u001b[39mor\u001b[39;00m _global_forward_hooks \u001b[39mor\u001b[39;00m _global_forward_pre_hooks):\n\u001b[1;32m-> 1501\u001b[0m     \u001b[39mreturn\u001b[39;00m forward_call(\u001b[39m*\u001b[39;49margs, \u001b[39m*\u001b[39;49m\u001b[39m*\u001b[39;49mkwargs)\n\u001b[0;32m   1502\u001b[0m \u001b[39m# Do not call functions when jit is used\u001b[39;00m\n\u001b[0;32m   1503\u001b[0m full_backward_hooks, non_full_backward_hooks \u001b[39m=\u001b[39m [], []\n",
      "File \u001b[1;32m~\\AppData\\Roaming\\Python\\Python311\\site-packages\\torch\\nn\\modules\\container.py:217\u001b[0m, in \u001b[0;36mSequential.forward\u001b[1;34m(self, input)\u001b[0m\n\u001b[0;32m    215\u001b[0m \u001b[39mdef\u001b[39;00m \u001b[39mforward\u001b[39m(\u001b[39mself\u001b[39m, \u001b[39minput\u001b[39m):\n\u001b[0;32m    216\u001b[0m     \u001b[39mfor\u001b[39;00m module \u001b[39min\u001b[39;00m \u001b[39mself\u001b[39m:\n\u001b[1;32m--> 217\u001b[0m         \u001b[39minput\u001b[39m \u001b[39m=\u001b[39m module(\u001b[39minput\u001b[39;49m)\n\u001b[0;32m    218\u001b[0m     \u001b[39mreturn\u001b[39;00m \u001b[39minput\u001b[39m\n",
      "File \u001b[1;32m~\\AppData\\Roaming\\Python\\Python311\\site-packages\\torch\\nn\\modules\\module.py:1501\u001b[0m, in \u001b[0;36mModule._call_impl\u001b[1;34m(self, *args, **kwargs)\u001b[0m\n\u001b[0;32m   1496\u001b[0m \u001b[39m# If we don't have any hooks, we want to skip the rest of the logic in\u001b[39;00m\n\u001b[0;32m   1497\u001b[0m \u001b[39m# this function, and just call forward.\u001b[39;00m\n\u001b[0;32m   1498\u001b[0m \u001b[39mif\u001b[39;00m \u001b[39mnot\u001b[39;00m (\u001b[39mself\u001b[39m\u001b[39m.\u001b[39m_backward_hooks \u001b[39mor\u001b[39;00m \u001b[39mself\u001b[39m\u001b[39m.\u001b[39m_backward_pre_hooks \u001b[39mor\u001b[39;00m \u001b[39mself\u001b[39m\u001b[39m.\u001b[39m_forward_hooks \u001b[39mor\u001b[39;00m \u001b[39mself\u001b[39m\u001b[39m.\u001b[39m_forward_pre_hooks\n\u001b[0;32m   1499\u001b[0m         \u001b[39mor\u001b[39;00m _global_backward_pre_hooks \u001b[39mor\u001b[39;00m _global_backward_hooks\n\u001b[0;32m   1500\u001b[0m         \u001b[39mor\u001b[39;00m _global_forward_hooks \u001b[39mor\u001b[39;00m _global_forward_pre_hooks):\n\u001b[1;32m-> 1501\u001b[0m     \u001b[39mreturn\u001b[39;00m forward_call(\u001b[39m*\u001b[39;49margs, \u001b[39m*\u001b[39;49m\u001b[39m*\u001b[39;49mkwargs)\n\u001b[0;32m   1502\u001b[0m \u001b[39m# Do not call functions when jit is used\u001b[39;00m\n\u001b[0;32m   1503\u001b[0m full_backward_hooks, non_full_backward_hooks \u001b[39m=\u001b[39m [], []\n",
      "File \u001b[1;32m~\\AppData\\Roaming\\Python\\Python311\\site-packages\\torch\\nn\\modules\\batchnorm.py:171\u001b[0m, in \u001b[0;36m_BatchNorm.forward\u001b[1;34m(self, input)\u001b[0m\n\u001b[0;32m    164\u001b[0m     bn_training \u001b[39m=\u001b[39m (\u001b[39mself\u001b[39m\u001b[39m.\u001b[39mrunning_mean \u001b[39mis\u001b[39;00m \u001b[39mNone\u001b[39;00m) \u001b[39mand\u001b[39;00m (\u001b[39mself\u001b[39m\u001b[39m.\u001b[39mrunning_var \u001b[39mis\u001b[39;00m \u001b[39mNone\u001b[39;00m)\n\u001b[0;32m    166\u001b[0m \u001b[39m\u001b[39m\u001b[39mr\u001b[39m\u001b[39m\"\"\"\u001b[39;00m\n\u001b[0;32m    167\u001b[0m \u001b[39mBuffers are only updated if they are to be tracked and we are in training mode. Thus they only need to be\u001b[39;00m\n\u001b[0;32m    168\u001b[0m \u001b[39mpassed when the update should occur (i.e. in training mode when they are tracked), or when buffer stats are\u001b[39;00m\n\u001b[0;32m    169\u001b[0m \u001b[39mused for normalization (i.e. in eval mode when buffers are not None).\u001b[39;00m\n\u001b[0;32m    170\u001b[0m \u001b[39m\"\"\"\u001b[39;00m\n\u001b[1;32m--> 171\u001b[0m \u001b[39mreturn\u001b[39;00m F\u001b[39m.\u001b[39;49mbatch_norm(\n\u001b[0;32m    172\u001b[0m     \u001b[39minput\u001b[39;49m,\n\u001b[0;32m    173\u001b[0m     \u001b[39m# If buffers are not to be tracked, ensure that they won't be updated\u001b[39;49;00m\n\u001b[0;32m    174\u001b[0m     \u001b[39mself\u001b[39;49m\u001b[39m.\u001b[39;49mrunning_mean\n\u001b[0;32m    175\u001b[0m     \u001b[39mif\u001b[39;49;00m \u001b[39mnot\u001b[39;49;00m \u001b[39mself\u001b[39;49m\u001b[39m.\u001b[39;49mtraining \u001b[39mor\u001b[39;49;00m \u001b[39mself\u001b[39;49m\u001b[39m.\u001b[39;49mtrack_running_stats\n\u001b[0;32m    176\u001b[0m     \u001b[39melse\u001b[39;49;00m \u001b[39mNone\u001b[39;49;00m,\n\u001b[0;32m    177\u001b[0m     \u001b[39mself\u001b[39;49m\u001b[39m.\u001b[39;49mrunning_var \u001b[39mif\u001b[39;49;00m \u001b[39mnot\u001b[39;49;00m \u001b[39mself\u001b[39;49m\u001b[39m.\u001b[39;49mtraining \u001b[39mor\u001b[39;49;00m \u001b[39mself\u001b[39;49m\u001b[39m.\u001b[39;49mtrack_running_stats \u001b[39melse\u001b[39;49;00m \u001b[39mNone\u001b[39;49;00m,\n\u001b[0;32m    178\u001b[0m     \u001b[39mself\u001b[39;49m\u001b[39m.\u001b[39;49mweight,\n\u001b[0;32m    179\u001b[0m     \u001b[39mself\u001b[39;49m\u001b[39m.\u001b[39;49mbias,\n\u001b[0;32m    180\u001b[0m     bn_training,\n\u001b[0;32m    181\u001b[0m     exponential_average_factor,\n\u001b[0;32m    182\u001b[0m     \u001b[39mself\u001b[39;49m\u001b[39m.\u001b[39;49meps,\n\u001b[0;32m    183\u001b[0m )\n",
      "File \u001b[1;32m~\\AppData\\Roaming\\Python\\Python311\\site-packages\\torch\\nn\\functional.py:2450\u001b[0m, in \u001b[0;36mbatch_norm\u001b[1;34m(input, running_mean, running_var, weight, bias, training, momentum, eps)\u001b[0m\n\u001b[0;32m   2447\u001b[0m \u001b[39mif\u001b[39;00m training:\n\u001b[0;32m   2448\u001b[0m     _verify_batch_size(\u001b[39minput\u001b[39m\u001b[39m.\u001b[39msize())\n\u001b[1;32m-> 2450\u001b[0m \u001b[39mreturn\u001b[39;00m torch\u001b[39m.\u001b[39;49mbatch_norm(\n\u001b[0;32m   2451\u001b[0m     \u001b[39minput\u001b[39;49m, weight, bias, running_mean, running_var, training, momentum, eps, torch\u001b[39m.\u001b[39;49mbackends\u001b[39m.\u001b[39;49mcudnn\u001b[39m.\u001b[39;49menabled\n\u001b[0;32m   2452\u001b[0m )\n",
      "\u001b[1;31mKeyboardInterrupt\u001b[0m: "
     ]
    }
   ],
   "source": [
    "input_size = [200, 250, 300, 400,500 ]\n",
    "\n",
    "for i in range(len(input_size)):\n",
    "\n",
    "    data = DATA_1M(seconds=14,columns=input_size[i], jump_time =2, n_jumps=1) ; data_fourier = data(Fourier=True, Normalizing= True)\n",
    "    \n",
    "    Torch = NeuralNetCNN(columns= data_fourier.shape[1] -1,conv_blocks =5 ,groupblocks=2)\n",
    "\n",
    "    data.Spliting(data= data_fourier, random_state= 22, test_size = 0.275, shuffle = True, inplace= False)\n",
    "\n",
    "    train_dataloader , test_dataloader = data.DataLoaders(batch_size=256, inplace=True)\n",
    "\n",
    "    experiment_name = f\"No_Fourier_{i}_{data_fourier.shape[1]-1}_inputsize_{len(list(Torch.Cnn.children()))}_Layers_{Torch.count_blocks(Torch.Cnn)}_Blocks\"\n",
    "    \n",
    "    model_name = f\"CNN_9STEP_Fourier_10_Layers_{i}\"\n",
    "\n",
    "    print(f\"Experiment Fourier:  {data_fourier.shape[1]-1} input size ,  {len(list(Torch.Cnn.children()))} Layers ,{Torch.count_blocks(Torch.Cnn)} Blocks\")\n",
    "\n",
    "    \n",
    "    Torch.training_loop(model= Torch.Cnn,\n",
    "        data_loader_train= train_dataloader,\n",
    "        data_loader_test= test_dataloader,\n",
    "        optimizer= Torch.optimizer,\n",
    "        loss_fn= Torch.loss_fn,\n",
    "        device= Torch.device,\n",
    "        accuracy_fn= accuracy_fn,\n",
    "        writer= create_writer(experiment_name=experiment_name,\n",
    "                              model_name= model_name\n",
    "                              ),\n",
    "        epochs= 25)\n",
    "    ## Salvando o modelo\n",
    "    save_filepath = f\"Model _{model_name}.pth\"\n",
    "    save_model(model=Torch.Cnn,\n",
    "               target_dir=\"models\",\n",
    "               model_name=save_filepath)\n",
    "    "
   ]
  },
  {
   "cell_type": "code",
   "execution_count": null,
   "metadata": {},
   "outputs": [],
   "source": []
  }
 ],
 "metadata": {
  "kernelspec": {
   "display_name": "venv",
   "language": "python",
   "name": "python3"
  },
  "language_info": {
   "codemirror_mode": {
    "name": "ipython",
    "version": 3
   },
   "file_extension": ".py",
   "mimetype": "text/x-python",
   "name": "python",
   "nbconvert_exporter": "python",
   "pygments_lexer": "ipython3",
   "version": "3.11.3"
  },
  "orig_nbformat": 4
 },
 "nbformat": 4,
 "nbformat_minor": 2
}
